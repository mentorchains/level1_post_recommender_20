{
 "cells": [
  {
   "cell_type": "markdown",
   "metadata": {
    "heading_collapsed": true
   },
   "source": [
    "# Loading the data"
   ]
  },
  {
   "cell_type": "code",
   "execution_count": 3,
   "metadata": {
    "hidden": true
   },
   "outputs": [
    {
     "data": {
      "text/html": [
       "<div>\n",
       "<style scoped>\n",
       "    .dataframe tbody tr th:only-of-type {\n",
       "        vertical-align: middle;\n",
       "    }\n",
       "\n",
       "    .dataframe tbody tr th {\n",
       "        vertical-align: top;\n",
       "    }\n",
       "\n",
       "    .dataframe thead th {\n",
       "        text-align: right;\n",
       "    }\n",
       "</style>\n",
       "<table border=\"1\" class=\"dataframe\">\n",
       "  <thead>\n",
       "    <tr style=\"text-align: right;\">\n",
       "      <th></th>\n",
       "      <th>Unnamed: 0</th>\n",
       "      <th>Link</th>\n",
       "      <th>Title</th>\n",
       "      <th>Category</th>\n",
       "      <th>Post Author</th>\n",
       "      <th>Leading Comment</th>\n",
       "      <th>Publish Time</th>\n",
       "      <th>Reply Authors</th>\n",
       "      <th>Reply Comments</th>\n",
       "      <th>Reply Times</th>\n",
       "    </tr>\n",
       "  </thead>\n",
       "  <tbody>\n",
       "    <tr>\n",
       "      <th>0</th>\n",
       "      <td>0</td>\n",
       "      <td>http://sellercentral.amazon.com/forums/t/2-box...</td>\n",
       "      <td>2 boxes of books</td>\n",
       "      <td>Fulfillment By Amazon</td>\n",
       "      <td>Earth_Light_Books</td>\n",
       "      <td>I need to know how to start</td>\n",
       "      <td>2020-05-26 17:33:26+00:00</td>\n",
       "      <td>&lt;function get_reply_authors at 0x00000119FBB60...</td>\n",
       "      <td>['\\nI need to know how to start\\n', ' \\nAmazon...</td>\n",
       "      <td>[Timestamp('2020-05-26 17:48:57+0000', tz='UTC...</td>\n",
       "    </tr>\n",
       "    <tr>\n",
       "      <th>1</th>\n",
       "      <td>1</td>\n",
       "      <td>http://sellercentral.amazon.com/forums/t/fba-s...</td>\n",
       "      <td>FBA Shipment Delivered Delayed Check in</td>\n",
       "      <td>Fulfillment By Amazon</td>\n",
       "      <td>HOUSE_OF_LORDS_RODEO</td>\n",
       "      <td>Hi are there any other seller experiencing del...</td>\n",
       "      <td>2020-05-26 15:28:17+00:00</td>\n",
       "      <td>&lt;function get_reply_authors at 0x00000119FBB60...</td>\n",
       "      <td>['\\nHi are there any other seller experiencing...</td>\n",
       "      <td>[Timestamp('2020-05-26 16:03:50+0000', tz='UTC')]</td>\n",
       "    </tr>\n",
       "    <tr>\n",
       "      <th>2</th>\n",
       "      <td>2</td>\n",
       "      <td>http://sellercentral.amazon.com/forums/t/fba-r...</td>\n",
       "      <td>FBA removal/disposal fees</td>\n",
       "      <td>Fulfillment By Amazon</td>\n",
       "      <td>Texastoys</td>\n",
       "      <td>Hi all\\nSo back when the new removaldisposal f...</td>\n",
       "      <td>2020-05-26 05:43:46+00:00</td>\n",
       "      <td>&lt;function get_reply_authors at 0x00000119FBB60...</td>\n",
       "      <td>['\\nHi all\\nSo back when the new removaldispos...</td>\n",
       "      <td>[]</td>\n",
       "    </tr>\n",
       "    <tr>\n",
       "      <th>3</th>\n",
       "      <td>3</td>\n",
       "      <td>http://sellercentral.amazon.com/forums/t/am-i-...</td>\n",
       "      <td>Am i able to send in FBA inventory now?</td>\n",
       "      <td>Fulfillment By Amazon</td>\n",
       "      <td>Assuranceproducts</td>\n",
       "      <td>Im using inventorylab to upload my inventory t...</td>\n",
       "      <td>2020-05-25 16:53:40+00:00</td>\n",
       "      <td>&lt;function get_reply_authors at 0x00000119FBB60...</td>\n",
       "      <td>['\\nIm using inventorylab to upload my invento...</td>\n",
       "      <td>[Timestamp('2020-05-25 17:14:44+0000', tz='UTC...</td>\n",
       "    </tr>\n",
       "    <tr>\n",
       "      <th>4</th>\n",
       "      <td>4</td>\n",
       "      <td>http://sellercentral.amazon.com/forums/t/stran...</td>\n",
       "      <td>Stranded Inventory</td>\n",
       "      <td>Fulfillment By Amazon</td>\n",
       "      <td>BillsBuys</td>\n",
       "      <td>I recently listed 100 books for sale on Amazon...</td>\n",
       "      <td>2020-05-24 02:14:21+00:00</td>\n",
       "      <td>&lt;function get_reply_authors at 0x00000119FBB60...</td>\n",
       "      <td>['\\nI recently listed 100 books for sale on Am...</td>\n",
       "      <td>[Timestamp('2020-05-25 01:42:41+0000', tz='UTC...</td>\n",
       "    </tr>\n",
       "  </tbody>\n",
       "</table>\n",
       "</div>"
      ],
      "text/plain": [
       "   Unnamed: 0                                               Link  \\\n",
       "0           0  http://sellercentral.amazon.com/forums/t/2-box...   \n",
       "1           1  http://sellercentral.amazon.com/forums/t/fba-s...   \n",
       "2           2  http://sellercentral.amazon.com/forums/t/fba-r...   \n",
       "3           3  http://sellercentral.amazon.com/forums/t/am-i-...   \n",
       "4           4  http://sellercentral.amazon.com/forums/t/stran...   \n",
       "\n",
       "                                     Title               Category  \\\n",
       "0                         2 boxes of books  Fulfillment By Amazon   \n",
       "1  FBA Shipment Delivered Delayed Check in  Fulfillment By Amazon   \n",
       "2                FBA removal/disposal fees  Fulfillment By Amazon   \n",
       "3  Am i able to send in FBA inventory now?  Fulfillment By Amazon   \n",
       "4                       Stranded Inventory  Fulfillment By Amazon   \n",
       "\n",
       "            Post Author                                    Leading Comment  \\\n",
       "0     Earth_Light_Books                        I need to know how to start   \n",
       "1  HOUSE_OF_LORDS_RODEO  Hi are there any other seller experiencing del...   \n",
       "2             Texastoys  Hi all\\nSo back when the new removaldisposal f...   \n",
       "3     Assuranceproducts  Im using inventorylab to upload my inventory t...   \n",
       "4             BillsBuys  I recently listed 100 books for sale on Amazon...   \n",
       "\n",
       "                Publish Time  \\\n",
       "0  2020-05-26 17:33:26+00:00   \n",
       "1  2020-05-26 15:28:17+00:00   \n",
       "2  2020-05-26 05:43:46+00:00   \n",
       "3  2020-05-25 16:53:40+00:00   \n",
       "4  2020-05-24 02:14:21+00:00   \n",
       "\n",
       "                                       Reply Authors  \\\n",
       "0  <function get_reply_authors at 0x00000119FBB60...   \n",
       "1  <function get_reply_authors at 0x00000119FBB60...   \n",
       "2  <function get_reply_authors at 0x00000119FBB60...   \n",
       "3  <function get_reply_authors at 0x00000119FBB60...   \n",
       "4  <function get_reply_authors at 0x00000119FBB60...   \n",
       "\n",
       "                                      Reply Comments  \\\n",
       "0  ['\\nI need to know how to start\\n', ' \\nAmazon...   \n",
       "1  ['\\nHi are there any other seller experiencing...   \n",
       "2  ['\\nHi all\\nSo back when the new removaldispos...   \n",
       "3  ['\\nIm using inventorylab to upload my invento...   \n",
       "4  ['\\nI recently listed 100 books for sale on Am...   \n",
       "\n",
       "                                         Reply Times  \n",
       "0  [Timestamp('2020-05-26 17:48:57+0000', tz='UTC...  \n",
       "1  [Timestamp('2020-05-26 16:03:50+0000', tz='UTC')]  \n",
       "2                                                 []  \n",
       "3  [Timestamp('2020-05-25 17:14:44+0000', tz='UTC...  \n",
       "4  [Timestamp('2020-05-25 01:42:41+0000', tz='UTC...  "
      ]
     },
     "execution_count": 3,
     "metadata": {},
     "output_type": "execute_result"
    }
   ],
   "source": [
    "import pandas as pd\n",
    "\n",
    "data = pd.read_csv('minClean_amazon.csv')\n",
    "data.head()"
   ]
  },
  {
   "cell_type": "code",
   "execution_count": 4,
   "metadata": {
    "hidden": true
   },
   "outputs": [
    {
     "data": {
      "text/plain": [
       "'Hi all\\nSo back when the new removaldisposal fees were announced I assumed it was a typo that it costs the same to have Amazon “dispose” aka sell to liquidators while charging us or recall the item but now it says it in the help files Has anyone tried a disposal and gotten charged the same as a return Just seems crazy to me that they would do that'"
      ]
     },
     "execution_count": 4,
     "metadata": {},
     "output_type": "execute_result"
    }
   ],
   "source": [
    "data['Leading Comment'][2]"
   ]
  },
  {
   "cell_type": "code",
   "execution_count": 5,
   "metadata": {
    "hidden": true
   },
   "outputs": [
    {
     "data": {
      "text/plain": [
       "Index(['Unnamed: 0', 'Link', 'Title', 'Category', 'Post Author',\n",
       "       'Leading Comment', 'Publish Time', 'Reply Authors', 'Reply Comments',\n",
       "       'Reply Times'],\n",
       "      dtype='object')"
      ]
     },
     "execution_count": 5,
     "metadata": {},
     "output_type": "execute_result"
    }
   ],
   "source": [
    "data.columns"
   ]
  },
  {
   "cell_type": "code",
   "execution_count": 6,
   "metadata": {
    "hidden": true
   },
   "outputs": [
    {
     "data": {
      "text/html": [
       "<div>\n",
       "<style scoped>\n",
       "    .dataframe tbody tr th:only-of-type {\n",
       "        vertical-align: middle;\n",
       "    }\n",
       "\n",
       "    .dataframe tbody tr th {\n",
       "        vertical-align: top;\n",
       "    }\n",
       "\n",
       "    .dataframe thead th {\n",
       "        text-align: right;\n",
       "    }\n",
       "</style>\n",
       "<table border=\"1\" class=\"dataframe\">\n",
       "  <thead>\n",
       "    <tr style=\"text-align: right;\">\n",
       "      <th></th>\n",
       "      <th>Unnamed: 0</th>\n",
       "      <th>Link</th>\n",
       "      <th>Publish Time</th>\n",
       "      <th>Reply Times</th>\n",
       "      <th>Reply Authors</th>\n",
       "    </tr>\n",
       "  </thead>\n",
       "  <tbody>\n",
       "    <tr>\n",
       "      <th>0</th>\n",
       "      <td>0</td>\n",
       "      <td>http://sellercentral.amazon.com/forums/t/2-box...</td>\n",
       "      <td>2020-05-26 17:33:26+00:00</td>\n",
       "      <td>[Timestamp('2020-05-26 17:48:57+0000', tz='UTC...</td>\n",
       "      <td>&lt;function get_reply_authors at 0x00000119FBB60...</td>\n",
       "    </tr>\n",
       "    <tr>\n",
       "      <th>1</th>\n",
       "      <td>1</td>\n",
       "      <td>http://sellercentral.amazon.com/forums/t/fba-s...</td>\n",
       "      <td>2020-05-26 15:28:17+00:00</td>\n",
       "      <td>[Timestamp('2020-05-26 16:03:50+0000', tz='UTC')]</td>\n",
       "      <td>&lt;function get_reply_authors at 0x00000119FBB60...</td>\n",
       "    </tr>\n",
       "    <tr>\n",
       "      <th>2</th>\n",
       "      <td>2</td>\n",
       "      <td>http://sellercentral.amazon.com/forums/t/fba-r...</td>\n",
       "      <td>2020-05-26 05:43:46+00:00</td>\n",
       "      <td>[]</td>\n",
       "      <td>&lt;function get_reply_authors at 0x00000119FBB60...</td>\n",
       "    </tr>\n",
       "    <tr>\n",
       "      <th>3</th>\n",
       "      <td>3</td>\n",
       "      <td>http://sellercentral.amazon.com/forums/t/am-i-...</td>\n",
       "      <td>2020-05-25 16:53:40+00:00</td>\n",
       "      <td>[Timestamp('2020-05-25 17:14:44+0000', tz='UTC...</td>\n",
       "      <td>&lt;function get_reply_authors at 0x00000119FBB60...</td>\n",
       "    </tr>\n",
       "    <tr>\n",
       "      <th>4</th>\n",
       "      <td>4</td>\n",
       "      <td>http://sellercentral.amazon.com/forums/t/stran...</td>\n",
       "      <td>2020-05-24 02:14:21+00:00</td>\n",
       "      <td>[Timestamp('2020-05-25 01:42:41+0000', tz='UTC...</td>\n",
       "      <td>&lt;function get_reply_authors at 0x00000119FBB60...</td>\n",
       "    </tr>\n",
       "    <tr>\n",
       "      <th>...</th>\n",
       "      <td>...</td>\n",
       "      <td>...</td>\n",
       "      <td>...</td>\n",
       "      <td>...</td>\n",
       "      <td>...</td>\n",
       "    </tr>\n",
       "    <tr>\n",
       "      <th>7877</th>\n",
       "      <td>7884</td>\n",
       "      <td>http://sellercentral.amazon.com/forums/t/amazo...</td>\n",
       "      <td>2016-02-24 16:00:39+00:00</td>\n",
       "      <td>[Timestamp('2016-02-24 16:04:39+0000', tz='UTC...</td>\n",
       "      <td>&lt;function get_reply_authors at 0x00000119FBB60...</td>\n",
       "    </tr>\n",
       "    <tr>\n",
       "      <th>7878</th>\n",
       "      <td>7885</td>\n",
       "      <td>http://sellercentral.amazon.com/forums/t/just-...</td>\n",
       "      <td>2016-02-08 02:55:01+00:00</td>\n",
       "      <td>[Timestamp('2016-02-08 03:08:13+0000', tz='UTC...</td>\n",
       "      <td>&lt;function get_reply_authors at 0x00000119FBB60...</td>\n",
       "    </tr>\n",
       "    <tr>\n",
       "      <th>7879</th>\n",
       "      <td>7886</td>\n",
       "      <td>http://sellercentral.amazon.com/forums/t/amazo...</td>\n",
       "      <td>2015-12-07 03:47:09+00:00</td>\n",
       "      <td>[Timestamp('2016-01-11 15:24:01+0000', tz='UTC...</td>\n",
       "      <td>&lt;function get_reply_authors at 0x00000119FBB60...</td>\n",
       "    </tr>\n",
       "    <tr>\n",
       "      <th>7880</th>\n",
       "      <td>7887</td>\n",
       "      <td>http://sellercentral.amazon.com/forums/t/custo...</td>\n",
       "      <td>2015-12-30 20:15:50+00:00</td>\n",
       "      <td>[Timestamp('2016-01-03 21:29:26+0000', tz='UTC...</td>\n",
       "      <td>&lt;function get_reply_authors at 0x00000119FBB60...</td>\n",
       "    </tr>\n",
       "    <tr>\n",
       "      <th>7881</th>\n",
       "      <td>7888</td>\n",
       "      <td>http://sellercentral.amazon.com/forums/t/amazo...</td>\n",
       "      <td>2015-12-31 18:30:54+00:00</td>\n",
       "      <td>[Timestamp('2018-02-23 17:20:48+0000', tz='UTC')]</td>\n",
       "      <td>&lt;function get_reply_authors at 0x00000119FBB60...</td>\n",
       "    </tr>\n",
       "  </tbody>\n",
       "</table>\n",
       "<p>7882 rows × 5 columns</p>\n",
       "</div>"
      ],
      "text/plain": [
       "      Unnamed: 0                                               Link  \\\n",
       "0              0  http://sellercentral.amazon.com/forums/t/2-box...   \n",
       "1              1  http://sellercentral.amazon.com/forums/t/fba-s...   \n",
       "2              2  http://sellercentral.amazon.com/forums/t/fba-r...   \n",
       "3              3  http://sellercentral.amazon.com/forums/t/am-i-...   \n",
       "4              4  http://sellercentral.amazon.com/forums/t/stran...   \n",
       "...          ...                                                ...   \n",
       "7877        7884  http://sellercentral.amazon.com/forums/t/amazo...   \n",
       "7878        7885  http://sellercentral.amazon.com/forums/t/just-...   \n",
       "7879        7886  http://sellercentral.amazon.com/forums/t/amazo...   \n",
       "7880        7887  http://sellercentral.amazon.com/forums/t/custo...   \n",
       "7881        7888  http://sellercentral.amazon.com/forums/t/amazo...   \n",
       "\n",
       "                   Publish Time  \\\n",
       "0     2020-05-26 17:33:26+00:00   \n",
       "1     2020-05-26 15:28:17+00:00   \n",
       "2     2020-05-26 05:43:46+00:00   \n",
       "3     2020-05-25 16:53:40+00:00   \n",
       "4     2020-05-24 02:14:21+00:00   \n",
       "...                         ...   \n",
       "7877  2016-02-24 16:00:39+00:00   \n",
       "7878  2016-02-08 02:55:01+00:00   \n",
       "7879  2015-12-07 03:47:09+00:00   \n",
       "7880  2015-12-30 20:15:50+00:00   \n",
       "7881  2015-12-31 18:30:54+00:00   \n",
       "\n",
       "                                            Reply Times  \\\n",
       "0     [Timestamp('2020-05-26 17:48:57+0000', tz='UTC...   \n",
       "1     [Timestamp('2020-05-26 16:03:50+0000', tz='UTC')]   \n",
       "2                                                    []   \n",
       "3     [Timestamp('2020-05-25 17:14:44+0000', tz='UTC...   \n",
       "4     [Timestamp('2020-05-25 01:42:41+0000', tz='UTC...   \n",
       "...                                                 ...   \n",
       "7877  [Timestamp('2016-02-24 16:04:39+0000', tz='UTC...   \n",
       "7878  [Timestamp('2016-02-08 03:08:13+0000', tz='UTC...   \n",
       "7879  [Timestamp('2016-01-11 15:24:01+0000', tz='UTC...   \n",
       "7880  [Timestamp('2016-01-03 21:29:26+0000', tz='UTC...   \n",
       "7881  [Timestamp('2018-02-23 17:20:48+0000', tz='UTC')]   \n",
       "\n",
       "                                          Reply Authors  \n",
       "0     <function get_reply_authors at 0x00000119FBB60...  \n",
       "1     <function get_reply_authors at 0x00000119FBB60...  \n",
       "2     <function get_reply_authors at 0x00000119FBB60...  \n",
       "3     <function get_reply_authors at 0x00000119FBB60...  \n",
       "4     <function get_reply_authors at 0x00000119FBB60...  \n",
       "...                                                 ...  \n",
       "7877  <function get_reply_authors at 0x00000119FBB60...  \n",
       "7878  <function get_reply_authors at 0x00000119FBB60...  \n",
       "7879  <function get_reply_authors at 0x00000119FBB60...  \n",
       "7880  <function get_reply_authors at 0x00000119FBB60...  \n",
       "7881  <function get_reply_authors at 0x00000119FBB60...  \n",
       "\n",
       "[7882 rows x 5 columns]"
      ]
     },
     "execution_count": 6,
     "metadata": {},
     "output_type": "execute_result"
    }
   ],
   "source": [
    "data[['Unnamed: 0', 'Link', 'Publish Time', 'Reply Times', 'Reply Authors']]"
   ]
  },
  {
   "cell_type": "code",
   "execution_count": 7,
   "metadata": {
    "hidden": true
   },
   "outputs": [],
   "source": [
    "data.drop(columns= ['Unnamed: 0', 'Link', 'Publish Time', 'Reply Times', 'Reply Authors'], inplace=True)"
   ]
  },
  {
   "cell_type": "code",
   "execution_count": 8,
   "metadata": {
    "hidden": true
   },
   "outputs": [
    {
     "data": {
      "text/html": [
       "<div>\n",
       "<style scoped>\n",
       "    .dataframe tbody tr th:only-of-type {\n",
       "        vertical-align: middle;\n",
       "    }\n",
       "\n",
       "    .dataframe tbody tr th {\n",
       "        vertical-align: top;\n",
       "    }\n",
       "\n",
       "    .dataframe thead th {\n",
       "        text-align: right;\n",
       "    }\n",
       "</style>\n",
       "<table border=\"1\" class=\"dataframe\">\n",
       "  <thead>\n",
       "    <tr style=\"text-align: right;\">\n",
       "      <th></th>\n",
       "      <th>Title</th>\n",
       "      <th>Category</th>\n",
       "      <th>Post Author</th>\n",
       "      <th>Leading Comment</th>\n",
       "      <th>Reply Comments</th>\n",
       "    </tr>\n",
       "  </thead>\n",
       "  <tbody>\n",
       "    <tr>\n",
       "      <th>0</th>\n",
       "      <td>2 boxes of books</td>\n",
       "      <td>Fulfillment By Amazon</td>\n",
       "      <td>Earth_Light_Books</td>\n",
       "      <td>I need to know how to start</td>\n",
       "      <td>['\\nI need to know how to start\\n', ' \\nAmazon...</td>\n",
       "    </tr>\n",
       "    <tr>\n",
       "      <th>1</th>\n",
       "      <td>FBA Shipment Delivered Delayed Check in</td>\n",
       "      <td>Fulfillment By Amazon</td>\n",
       "      <td>HOUSE_OF_LORDS_RODEO</td>\n",
       "      <td>Hi are there any other seller experiencing del...</td>\n",
       "      <td>['\\nHi are there any other seller experiencing...</td>\n",
       "    </tr>\n",
       "    <tr>\n",
       "      <th>2</th>\n",
       "      <td>FBA removal/disposal fees</td>\n",
       "      <td>Fulfillment By Amazon</td>\n",
       "      <td>Texastoys</td>\n",
       "      <td>Hi all\\nSo back when the new removaldisposal f...</td>\n",
       "      <td>['\\nHi all\\nSo back when the new removaldispos...</td>\n",
       "    </tr>\n",
       "    <tr>\n",
       "      <th>3</th>\n",
       "      <td>Am i able to send in FBA inventory now?</td>\n",
       "      <td>Fulfillment By Amazon</td>\n",
       "      <td>Assuranceproducts</td>\n",
       "      <td>Im using inventorylab to upload my inventory t...</td>\n",
       "      <td>['\\nIm using inventorylab to upload my invento...</td>\n",
       "    </tr>\n",
       "    <tr>\n",
       "      <th>4</th>\n",
       "      <td>Stranded Inventory</td>\n",
       "      <td>Fulfillment By Amazon</td>\n",
       "      <td>BillsBuys</td>\n",
       "      <td>I recently listed 100 books for sale on Amazon...</td>\n",
       "      <td>['\\nI recently listed 100 books for sale on Am...</td>\n",
       "    </tr>\n",
       "  </tbody>\n",
       "</table>\n",
       "</div>"
      ],
      "text/plain": [
       "                                     Title               Category  \\\n",
       "0                         2 boxes of books  Fulfillment By Amazon   \n",
       "1  FBA Shipment Delivered Delayed Check in  Fulfillment By Amazon   \n",
       "2                FBA removal/disposal fees  Fulfillment By Amazon   \n",
       "3  Am i able to send in FBA inventory now?  Fulfillment By Amazon   \n",
       "4                       Stranded Inventory  Fulfillment By Amazon   \n",
       "\n",
       "            Post Author                                    Leading Comment  \\\n",
       "0     Earth_Light_Books                        I need to know how to start   \n",
       "1  HOUSE_OF_LORDS_RODEO  Hi are there any other seller experiencing del...   \n",
       "2             Texastoys  Hi all\\nSo back when the new removaldisposal f...   \n",
       "3     Assuranceproducts  Im using inventorylab to upload my inventory t...   \n",
       "4             BillsBuys  I recently listed 100 books for sale on Amazon...   \n",
       "\n",
       "                                      Reply Comments  \n",
       "0  ['\\nI need to know how to start\\n', ' \\nAmazon...  \n",
       "1  ['\\nHi are there any other seller experiencing...  \n",
       "2  ['\\nHi all\\nSo back when the new removaldispos...  \n",
       "3  ['\\nIm using inventorylab to upload my invento...  \n",
       "4  ['\\nI recently listed 100 books for sale on Am...  "
      ]
     },
     "execution_count": 8,
     "metadata": {},
     "output_type": "execute_result"
    }
   ],
   "source": [
    "data.head()"
   ]
  },
  {
   "cell_type": "code",
   "execution_count": 9,
   "metadata": {
    "hidden": true
   },
   "outputs": [
    {
     "data": {
      "text/plain": [
       "'Im using inventorylab to upload my inventory to amazon I was selling books when i started and other random things in toy category I just want to know a real answer can i send in products now or what this is driving me crazy I have noticed the buy boxes switch to favor more prime now so thats why im wondering did i miss something'"
      ]
     },
     "execution_count": 9,
     "metadata": {},
     "output_type": "execute_result"
    }
   ],
   "source": [
    "data['Leading Comment'][3]"
   ]
  },
  {
   "cell_type": "code",
   "execution_count": 10,
   "metadata": {
    "hidden": true
   },
   "outputs": [
    {
     "data": {
      "text/plain": [
       "0                          I need to know how to start\n",
       "1    Hi are there any other seller experiencing del...\n",
       "2    Hi all\\nSo back when the new removaldisposal f...\n",
       "Name: Leading Comment, dtype: object"
      ]
     },
     "execution_count": 10,
     "metadata": {},
     "output_type": "execute_result"
    }
   ],
   "source": [
    "data['Leading Comment'][:3]"
   ]
  },
  {
   "cell_type": "code",
   "execution_count": 11,
   "metadata": {
    "hidden": true
   },
   "outputs": [
    {
     "data": {
      "text/plain": [
       "\"['\\\\nI need to know how to start\\\\n', ' \\\\nAmazon is not the platform for a new seller with a random box of books\\\\nHave you completed seller university\\\\n', ' \\\\nThank you for responding to me  No have not been through any training  Would Abesbooks be better to work with\\\\nI didn’t realize that it would be so complicated\\\\nAgain thank you\\\\nCheri\\\\n', ' \\\\nAmazon is more aimed at real businesses intending to build an ongoing presence While it’s possible for an individual to sell a few random items it’s not often the best place\\\\nBefore deciding where to sell your books the first step would be to find if they are even worth trying to sell Amazon is a good place to use for this and you can do it from a buyer account\\\\nSimply search each book by its ISBN or if no ISBN titleauthor and see what it is selling for While it’s possible that you can get more on another platform if a book is selling for 5 on Amazon it’s unlikely that you’ll be able to get enough anywhere to make it really worth your time listing by the time you count packaging you might end up paying to dispose of your books\\\\nUnless a significant number of your books list for more than 10 and that’s still really low you would probably be better off donating them I find that around 95 of books are simply not worth listing with fiction it’s even worse\\\\nI’ve never worked with Abebooks but have had good luck on the bay with books that for one reason or another cannot be sold on Amazon\\\\n', ' \\\\nStarting to sell books may not be worthwhile currently Hard to know if you will grade properly or overgrade Hard to know if you will get or have access to more sellable inventory\\\\nAbe is fairly easy to navigate and price check also\\\\nMany booksellers sell on both platforms since Amazon bought Abe\\\\nSome books I have sold on Ebay for cheap else donate\\\\n', '']\""
      ]
     },
     "execution_count": 11,
     "metadata": {},
     "output_type": "execute_result"
    }
   ],
   "source": [
    "data['Reply Comments'][0]"
   ]
  },
  {
   "cell_type": "markdown",
   "metadata": {
    "heading_collapsed": true
   },
   "source": [
    "# Strategy 1\n",
    "\n",
    "- Lower case all the words\n",
    "- Replaced by space these [/(){}\\[\\]\\'\\“\\”\\’\\|@,;]\n",
    "- Removed these [^0-9a-z #+_]"
   ]
  },
  {
   "cell_type": "markdown",
   "metadata": {
    "hidden": true
   },
   "source": [
    "## Explore the data"
   ]
  },
  {
   "cell_type": "code",
   "execution_count": 12,
   "metadata": {
    "hidden": true
   },
   "outputs": [],
   "source": [
    "import logging\n",
    "import pandas as pd\n",
    "import numpy as np\n",
    "from numpy import random\n",
    "import gensim\n",
    "import nltk\n",
    "from sklearn.model_selection import train_test_split\n",
    "from sklearn.feature_extraction.text import CountVectorizer, TfidfVectorizer\n",
    "from sklearn.metrics import accuracy_score, confusion_matrix\n",
    "import matplotlib.pyplot as plt\n",
    "from nltk.corpus import stopwords\n",
    "import re\n",
    "from bs4 import BeautifulSoup\n",
    "%matplotlib inline"
   ]
  },
  {
   "cell_type": "code",
   "execution_count": 34,
   "metadata": {
    "hidden": true
   },
   "outputs": [],
   "source": [
    "df = data.copy()"
   ]
  },
  {
   "cell_type": "code",
   "execution_count": 25,
   "metadata": {
    "hidden": true
   },
   "outputs": [
    {
     "name": "stdout",
     "output_type": "stream",
     "text": [
      "<class 'pandas.core.frame.DataFrame'>\n",
      "RangeIndex: 7882 entries, 0 to 7881\n",
      "Data columns (total 6 columns):\n",
      "Title              7882 non-null object\n",
      "Category           7882 non-null object\n",
      "Post Author        7882 non-null object\n",
      "Leading Comment    7882 non-null object\n",
      "Reply Comments     7882 non-null object\n",
      "post               7882 non-null object\n",
      "dtypes: object(6)\n",
      "memory usage: 369.6+ KB\n"
     ]
    }
   ],
   "source": [
    "df.info()"
   ]
  },
  {
   "cell_type": "code",
   "execution_count": 35,
   "metadata": {
    "hidden": true
   },
   "outputs": [],
   "source": [
    "df['post'] = df['Post Author'] + ' ' + df['Title'] + ' ' + df['Leading Comment'] + ' ' + df['Reply Comments']"
   ]
  },
  {
   "cell_type": "code",
   "execution_count": 21,
   "metadata": {
    "hidden": true
   },
   "outputs": [
    {
     "data": {
      "text/plain": [
       "0    Earth_Light_Books 2 boxes of books I need to k...\n",
       "1    HOUSE_OF_LORDS_RODEO FBA Shipment Delivered De...\n",
       "2    Texastoys FBA removal/disposal fees Hi all\\nSo...\n",
       "3    Assuranceproducts Am i able to send in FBA inv...\n",
       "4    BillsBuys Stranded Inventory I recently listed...\n",
       "Name: post, dtype: object"
      ]
     },
     "execution_count": 21,
     "metadata": {},
     "output_type": "execute_result"
    }
   ],
   "source": [
    "df['post'].head()"
   ]
  },
  {
   "cell_type": "code",
   "execution_count": 22,
   "metadata": {
    "hidden": true
   },
   "outputs": [
    {
     "data": {
      "text/plain": [
       "\"HOUSE_OF_LORDS_RODEO FBA Shipment Delivered Delayed Check in Hi are there any other seller experiencing delay in Checking in of Shipped FBA Inventory We’ve sent it last May 21st and we’ve sent to four different fulfillment center The three were already received However the last one which was the biggest shipment has not yet been received Is it because of the location of the Fulfillment Center I am just worried that we already amped up our ad spending because the other shipments were already received but this last shipment haven’t been checked in so it’s greatly affecting our sales Thanks for any input ['\\\\nHi are there any other seller experiencing delay in Checking in of Shipped FBA Inventory We’ve sent it last May 21st and we’ve sent to four different fulfillment center The three were already received However the last one which was the biggest shipment has not yet been received Is it because of the location of the Fulfillment Center I am just worried that we already amped up our ad spending because the other shipments were already received but this last shipment haven’t been checked in so it’s greatly affecting our sales Thanks for any input\\\\n', ' \\\\nEDIT Wrong date We’ve sent ALL SHIPMENT LAST MAY 08 Thank you\\\\n', '']\""
      ]
     },
     "execution_count": 22,
     "metadata": {},
     "output_type": "execute_result"
    }
   ],
   "source": [
    "df['post'][1]"
   ]
  },
  {
   "cell_type": "code",
   "execution_count": 23,
   "metadata": {
    "hidden": true
   },
   "outputs": [
    {
     "name": "stdout",
     "output_type": "stream",
     "text": [
      "4986021\n"
     ]
    }
   ],
   "source": [
    "print(df['post'].apply(lambda x: len(x.split(' '))).sum())"
   ]
  },
  {
   "cell_type": "code",
   "execution_count": 26,
   "metadata": {
    "hidden": true
   },
   "outputs": [
    {
     "data": {
      "text/plain": [
       "array(['Fulfillment By Amazon', 'Selling on Amazon',\n",
       "       'Amazon Marketplace Web Service (MWS)',\n",
       "       'Amazon Sponsored Products', 'Account Health', 'Global Selling',\n",
       "       'Amazon Pay', 'Groups',\n",
       "       'Health,Safety,Sustainability,Security & Compliance',\n",
       "       'Login With Amazon', 'Amazon Custom'], dtype=object)"
      ]
     },
     "execution_count": 26,
     "metadata": {},
     "output_type": "execute_result"
    }
   ],
   "source": [
    "df['Category'].unique()"
   ]
  },
  {
   "cell_type": "code",
   "execution_count": 27,
   "metadata": {
    "hidden": true
   },
   "outputs": [
    {
     "data": {
      "image/png": "[encoded data removed]",
      "text/plain": [
       "<Figure size 720x288 with 1 Axes>"
      ]
     },
     "metadata": {
      "needs_background": "light"
     },
     "output_type": "display_data"
    }
   ],
   "source": [
    "my_categories = ['Fulfillment By Amazon', 'Selling on Amazon',\n",
    "       'Amazon Marketplace Web Service (MWS)',\n",
    "       'Amazon Sponsored Products', 'Account Health', 'Global Selling',\n",
    "       'Amazon Pay', 'Groups',\n",
    "       'Health,Safety,Sustainability,Security & Compliance',\n",
    "       'Login With Amazon', 'Amazon Custom']\n",
    "plt.figure(figsize=(10,4))\n",
    "df.Category.value_counts().plot(kind='bar');"
   ]
  },
  {
   "cell_type": "markdown",
   "metadata": {
    "hidden": true
   },
   "source": [
    "**NB:** We have imbalanced data. Deal with it later on."
   ]
  },
  {
   "cell_type": "code",
   "execution_count": 36,
   "metadata": {
    "hidden": true
   },
   "outputs": [
    {
     "name": "stdout",
     "output_type": "stream",
     "text": [
      "Book_Corral First FBA shipment since pandemic Now that we’re living under “pandemic” rules can I ship anything to FBA fulfillment\n",
      "Will I be alerted while making an FBA shipment\n",
      "I don’t want to ship stuff in and have Amazon tell me they can’t take this or that right now and have to deal with returning items or whatever\n",
      "Can I just start an FBA shipment and the system will take care of everything ['\\nNow that we’re living under “pandemic” rules can I ship anything to FBA fulfillment\\nWill I be alerted while making an FBA shipment\\nI don’t want to ship stuff in and have Amazon tell me they can’t take this or that right now and have to deal with returning items or whatever\\nCan I just start an FBA shipment and the system will take care of everything\\n', ' \\nYes Already many threads on this topic Just search around FBA is open for business but quantities severely limited and shipping times very slow May be better to stick with fbm for a while\\n', ' \\nAmazon will either let you make the shipment or not make it You’ll figure it out pretty early in the process\\nHowever what the WON’T tell you is how long it may take for your shipment to be received I don’t think enough people have shipped in nonessential items yet to have a good idea of how fast receiving is happening but I suspect that the delays are longer than normal On top of that we’re still looking at FBA orders taking extended times to ship so customers are buying more FBM FBM even getting the BB over FBA in some cases\\nPersonally I’m not shipping any books in right now for these reasons as well as the fact that I don’t want to go to the UPS store to drop off a box Not that it’s a major issue with all the library booksales cancelled I don’t have that many books to list anyway\\nIf you decide to ship stuff in let us know how it goes\\n', ' \\nTry creating a shipment If it allows you create it you should be ok although you’ll likely be subject to quantity limits  But as picksbynisha noted check other Forum threads  There are scattered anecdotal reports of shipments being lost not properly accounted for etc\\n', ' \\nI’ve sent three shipments to FTW1 in the last month\\nFirst one was a pallet delivered with LTL shipping and from shipment to receiving was six days\\nSecond one was a few boxes via UPS shipment to receiving was one day\\nThird one was a few more boxes via UPS shipped five days ago delivered three days ago still not checkedin or receiving\\nIn the last year my 18 shipments via FedEx and UPS to FTW have ranged from 2 to 19 days from shipment to receiving typical transit time is 12 days with an average of 6 days So overall things at that particular warehouse for me have been moving at normal to aboveaverage speed\\n', ' \\nBy “quantities limited” I assume you mean FBA is only allowing me to send a limited quantity of some items If this is so how will I know if I’m over limit I typically only sell one of each item\\nI guess I’m wondering if there items I was able to list on Amazon which are not allowed to be sent on to FBA Can I go ahead and make a shipment and ship it and be confidant it will be accepted\\nI have limited storage and would rather wait a while for FBA to receive my shipment than hold on to it Since it sellers faster as FBA I’ll start selling more sooner that way\\n', ' \\nI have a good bit for me of FBM and it’s not selling well I had been doing well with FBA but my inventory is running out I know from experience that as soon as I can ship and get listed my present FBM as FBA it will start selling\\nI’m guessing Amazon is dealing with a lot of new hires maybe lowering their hiring standards as well as dealing with employee descent which is affecting FBA intake performance\\n', ' \\nYes receiving may be very slow right now My 200pcs was delivered on Monday 518 and Amazon has yet to start receiving my inventory on 523\\nSounds like it depends on where you’re sending it though\\n', '']\n",
      "Category: Fulfillment By Amazon\n"
     ]
    }
   ],
   "source": [
    "def print_plot(index):\n",
    "    example = df[df.index == index][['post', 'Category']].values[0]\n",
    "    if len(example) > 0:\n",
    "        print(example[0])\n",
    "        print('Category:', example[1])\n",
    "print_plot(10)"
   ]
  },
  {
   "cell_type": "code",
   "execution_count": 37,
   "metadata": {
    "hidden": true
   },
   "outputs": [
    {
     "name": "stdout",
     "output_type": "stream",
     "text": [
      "ThisIsPapaya Adding Product for FBA but NOT for listing on Amazon I want to set up my products on Amazon so that I can start setting up my shipment to the amazon warehouse for fulfillment on my website orders My understanding is that in order to do this I need to “add a product”\n",
      "However I will not be listing these products on Amazon for sale So how to “add a product” without having it available for sale on amazon but still exist so that I can set up a shipment to the fulfillment center with that product ['\\nI want to set up my products on Amazon so that I can start setting up my shipment to the amazon warehouse for fulfillment on my website orders My understanding is that in order to do this I need to “add a product”\\nHowever I will not be listing these products on Amazon for sale So how to “add a product” without having it available for sale on amazon but still exist so that I can set up a shipment to the fulfillment center with that product\\n', ' \\nI don’t think amazon is set up to work that way I’m still trying to figure out why you would want to do this even if you could What advantages do you think you would gain in doing so\\n', ' \\nBefore I give my answer to your question I would like to add that I think you would benefit from listing your product on Amazon It’s unlikely to have an effect on your existing website sales but it could definitely add a whole new revenue source to your business\\nAmazon offers ‘Multichannel fulfilment’ which allows you to essentially copy orders from your website or any other marketplace and have them fulfilled from an Amazon warehouse\\nHowever if you just need the fulfilment facilities then there are other companies which do this that are much less expensive than Amazon Amazon charges higher fees for FBA if the product was not sold on their site But if you’re selling on Amazon and your website then FBA is the way to go and is what I do since I live in the UK but most of my orders are in the USA so it’s not economically to ship every order internationally\\nHope this helps a bit\\n', ' \\nyou can also look into other fulfillment places then you don’t have to deal with any product issues you may or may not have with amazon\\nWe use one for another marketplace and they work really well\\n', ' \\nYou can create the product  listing as FBA send it in to the Fulfillment Center then while it’s in transit switch to FBM You’ll always need to switch to FBA to send in more stuff but it will mean that you have an active listing stock on hand and no display on the Amazon site\\nTo the other posters the OP may have found that Amazon’s commission is too large for him to sell it on their marketplace\\n', ' \\nIf you do not want to sell FBA there are so many other perhaps better and less expensive fulfillment houses Use them\\n', ' \\n\\n\\n', '\\n ThisIsPapaya', '\\n\\nSo how to “add a product” without having it available for sale on amazon\\n\\n\\nYou can’t\\n', ' \\nThanks for the insights everyone My comments to all the questionscomments are below PS the products I’ll be selling is under my own brand\\n\\n\\nI would consider NOT selling on Amazon and only selling on my website in the scenario where my customer acquisition costs is less than the 15 amazon charges me If I can acquire customers through Instagram targeted Adsinfluencers for a cost of lets say 10 of my selling price then I prefer use my inventory for sales outside of Amazon which are more profitable\\n\\n\\nThat being said in case I can’t reach high volumes through my other avenues of advertising or my customer acquisition cost is higher than 15 I’ll then want to turn on the amazon listing as well This is why I’d like to use FBA and not another fulfillment center  so I can easily toggle on Amazon sales if necessary\\n\\n\\nYeStorePosters thanks for the MultiFulfillment Comment Sounds like this is the avenue to utilizing FBA without listing a product on Amazon I will do some research on this any further insight from you on this matter can be helpful At the same time I will start looking into other fulfillment providers  putting cost aside for a moment how much better or worse are they than FBA\\n', '']\n",
      "Category: Fulfillment By Amazon\n"
     ]
    }
   ],
   "source": [
    "print_plot(30)"
   ]
  },
  {
   "cell_type": "markdown",
   "metadata": {
    "hidden": true
   },
   "source": [
    "## Text Pre-processing"
   ]
  },
  {
   "cell_type": "code",
   "execution_count": 67,
   "metadata": {
    "hidden": true
   },
   "outputs": [],
   "source": [
    "test_df = df.copy()"
   ]
  },
  {
   "cell_type": "code",
   "execution_count": 68,
   "metadata": {
    "hidden": true
   },
   "outputs": [
    {
     "name": "stdout",
     "output_type": "stream",
     "text": [
      "Book_Corral First FBA shipment since pandemic Now that we’re living under “pandemic” rules can I ship anything to FBA fulfillment\n",
      "Will I be alerted while making an FBA shipment\n",
      "I don’t want to ship stuff in and have Amazon tell me they can’t take this or that right now and have to deal with returning items or whatever\n",
      "Can I just start an FBA shipment and the system will take care of everything ['\\nNow that we’re living under “pandemic” rules can I ship anything to FBA fulfillment\\nWill I be alerted while making an FBA shipment\\nI don’t want to ship stuff in and have Amazon tell me they can’t take this or that right now and have to deal with returning items or whatever\\nCan I just start an FBA shipment and the system will take care of everything\\n', ' \\nYes Already many threads on this topic Just search around FBA is open for business but quantities severely limited and shipping times very slow May be better to stick with fbm for a while\\n', ' \\nAmazon will either let you make the shipment or not make it You’ll figure it out pretty early in the process\\nHowever what the WON’T tell you is how long it may take for your shipment to be received I don’t think enough people have shipped in nonessential items yet to have a good idea of how fast receiving is happening but I suspect that the delays are longer than normal On top of that we’re still looking at FBA orders taking extended times to ship so customers are buying more FBM FBM even getting the BB over FBA in some cases\\nPersonally I’m not shipping any books in right now for these reasons as well as the fact that I don’t want to go to the UPS store to drop off a box Not that it’s a major issue with all the library booksales cancelled I don’t have that many books to list anyway\\nIf you decide to ship stuff in let us know how it goes\\n', ' \\nTry creating a shipment If it allows you create it you should be ok although you’ll likely be subject to quantity limits  But as picksbynisha noted check other Forum threads  There are scattered anecdotal reports of shipments being lost not properly accounted for etc\\n', ' \\nI’ve sent three shipments to FTW1 in the last month\\nFirst one was a pallet delivered with LTL shipping and from shipment to receiving was six days\\nSecond one was a few boxes via UPS shipment to receiving was one day\\nThird one was a few more boxes via UPS shipped five days ago delivered three days ago still not checkedin or receiving\\nIn the last year my 18 shipments via FedEx and UPS to FTW have ranged from 2 to 19 days from shipment to receiving typical transit time is 12 days with an average of 6 days So overall things at that particular warehouse for me have been moving at normal to aboveaverage speed\\n', ' \\nBy “quantities limited” I assume you mean FBA is only allowing me to send a limited quantity of some items If this is so how will I know if I’m over limit I typically only sell one of each item\\nI guess I’m wondering if there items I was able to list on Amazon which are not allowed to be sent on to FBA Can I go ahead and make a shipment and ship it and be confidant it will be accepted\\nI have limited storage and would rather wait a while for FBA to receive my shipment than hold on to it Since it sellers faster as FBA I’ll start selling more sooner that way\\n', ' \\nI have a good bit for me of FBM and it’s not selling well I had been doing well with FBA but my inventory is running out I know from experience that as soon as I can ship and get listed my present FBM as FBA it will start selling\\nI’m guessing Amazon is dealing with a lot of new hires maybe lowering their hiring standards as well as dealing with employee descent which is affecting FBA intake performance\\n', ' \\nYes receiving may be very slow right now My 200pcs was delivered on Monday 518 and Amazon has yet to start receiving my inventory on 523\\nSounds like it depends on where you’re sending it though\\n', '']\n",
      "Category: Fulfillment By Amazon\n"
     ]
    }
   ],
   "source": [
    "print_plot(10)"
   ]
  },
  {
   "cell_type": "code",
   "execution_count": 84,
   "metadata": {
    "hidden": true
   },
   "outputs": [],
   "source": [
    "REPLACE_BY_SPACE_RE = re.compile('[/(){}\\[\\]\\'\\“\\”\\’\\|@,;]')\n",
    "BAD_SYMBOLS_RE = re.compile('[^0-9a-z #+_]')\n",
    "#STOPWORDS = set(stopwords.words('english'))\n",
    "\n",
    "def clean_text(text):\n",
    "    \"\"\"\n",
    "        text: a string\n",
    "        \n",
    "        return: modified initial string\n",
    "    \"\"\"\n",
    "    text = BeautifulSoup(text, \"lxml\").text # HTML decoding\n",
    "    text = text.lower() # lowercase text\n",
    "    text = REPLACE_BY_SPACE_RE.sub(' ', text) # replace REPLACE_BY_SPACE_RE symbols by space in text\n",
    "    #text = BAD_SYMBOLS_RE.sub('', text) # delete symbols which are in BAD_SYMBOLS_RE from text\n",
    "    #text = ''.join(word for word in text if word not in punct)  # remove punctuation\n",
    "    #text = ' '.join(word for word in text.split() if word not in STOPWORDS) # delete stopwors from text\n",
    "    return text\n",
    "    \n",
    "test_df['post'] = test_df['post'].apply(clean_text)"
   ]
  },
  {
   "cell_type": "code",
   "execution_count": 85,
   "metadata": {
    "hidden": true,
    "scrolled": true
   },
   "outputs": [
    {
     "name": "stdout",
     "output_type": "stream",
     "text": [
      "book_corral first fba shipment since pandemic now that we re living under  pandemic  rules can i ship anything to fba fulfillment\n",
      "will i be alerted while making an fba shipment\n",
      "i don t want to ship stuff in and have amazon tell me they can t take this or that right now and have to deal with returning items or whatever\n",
      "can i just start an fba shipment and the system will take care of everything   \\nnow that we re living under  pandemic  rules can i ship anything to fba fulfillment\\nwill i be alerted while making an fba shipment\\ni don t want to ship stuff in and have amazon tell me they can t take this or that right now and have to deal with returning items or whatever\\ncan i just start an fba shipment and the system will take care of everything\\n     \\nyes already many threads on this topic just search around fba is open for business but quantities severely limited and shipping times very slow may be better to stick with fbm for a while\\n     \\namazon will either let you make the shipment or not make it you ll figure it out pretty early in the process\\nhowever what the won t tell you is how long it may take for your shipment to be received i don t think enough people have shipped in nonessential items yet to have a good idea of how fast receiving is happening but i suspect that the delays are longer than normal on top of that we re still looking at fba orders taking extended times to ship so customers are buying more fbm fbm even getting the bb over fba in some cases\\npersonally i m not shipping any books in right now for these reasons as well as the fact that i don t want to go to the ups store to drop off a box not that it s a major issue with all the library booksales cancelled i don t have that many books to list anyway\\nif you decide to ship stuff in let us know how it goes\\n     \\ntry creating a shipment if it allows you create it you should be ok although you ll likely be subject to quantity limits  but as picksbynisha noted check other forum threads  there are scattered anecdotal reports of shipments being lost not properly accounted for etc\\n     \\ni ve sent three shipments to ftw1 in the last month\\nfirst one was a pallet delivered with ltl shipping and from shipment to receiving was six days\\nsecond one was a few boxes via ups shipment to receiving was one day\\nthird one was a few more boxes via ups shipped five days ago delivered three days ago still not checkedin or receiving\\nin the last year my 18 shipments via fedex and ups to ftw have ranged from 2 to 19 days from shipment to receiving typical transit time is 12 days with an average of 6 days so overall things at that particular warehouse for me have been moving at normal to aboveaverage speed\\n     \\nby  quantities limited  i assume you mean fba is only allowing me to send a limited quantity of some items if this is so how will i know if i m over limit i typically only sell one of each item\\ni guess i m wondering if there items i was able to list on amazon which are not allowed to be sent on to fba can i go ahead and make a shipment and ship it and be confidant it will be accepted\\ni have limited storage and would rather wait a while for fba to receive my shipment than hold on to it since it sellers faster as fba i ll start selling more sooner that way\\n     \\ni have a good bit for me of fbm and it s not selling well i had been doing well with fba but my inventory is running out i know from experience that as soon as i can ship and get listed my present fbm as fba it will start selling\\ni m guessing amazon is dealing with a lot of new hires maybe lowering their hiring standards as well as dealing with employee descent which is affecting fba intake performance\\n     \\nyes receiving may be very slow right now my 200pcs was delivered on monday 518 and amazon has yet to start receiving my inventory on 523\\nsounds like it depends on where you re sending it though\\n      \n",
      "Category: Fulfillment By Amazon\n"
     ]
    }
   ],
   "source": [
    "def test_print_plot(index):\n",
    "    example = test_df[test_df.index == index][['post', 'Category']].values[0]\n",
    "    if len(example) > 0:\n",
    "        print(example[0])\n",
    "        print('Category:', example[1])\n",
    "test_print_plot(10)"
   ]
  },
  {
   "cell_type": "code",
   "execution_count": 89,
   "metadata": {
    "hidden": true
   },
   "outputs": [
    {
     "data": {
      "text/plain": [
       "5303539"
      ]
     },
     "execution_count": 89,
     "metadata": {},
     "output_type": "execute_result"
    }
   ],
   "source": [
    "test_df['post'].apply(lambda x: len(x.split(' '))).sum()"
   ]
  },
  {
   "cell_type": "code",
   "execution_count": 91,
   "metadata": {
    "hidden": true
   },
   "outputs": [
    {
     "data": {
      "text/plain": [
       "317518"
      ]
     },
     "execution_count": 91,
     "metadata": {},
     "output_type": "execute_result"
    }
   ],
   "source": [
    "5303539 - 4986021"
   ]
  },
  {
   "cell_type": "markdown",
   "metadata": {
    "hidden": true
   },
   "source": [
    "I lost 317518 info."
   ]
  },
  {
   "cell_type": "markdown",
   "metadata": {
    "hidden": true
   },
   "source": [
    "## Modeling the data"
   ]
  },
  {
   "cell_type": "code",
   "execution_count": 113,
   "metadata": {
    "hidden": true
   },
   "outputs": [],
   "source": [
    "X = test_df.post\n",
    "y = test_df.Category\n",
    "X_train, X_test, y_train, y_test = train_test_split(X, y, test_size=0.3, random_state = 42)"
   ]
  },
  {
   "cell_type": "code",
   "execution_count": 114,
   "metadata": {
    "hidden": true,
    "scrolled": true
   },
   "outputs": [
    {
     "data": {
      "text/plain": [
       "3885    plankton_games issue with fba orders damaged i...\n",
       "7710    funnyshirts amazon automatically generating re...\n",
       "7445    point_bob_books photos added to offer section ...\n",
       "4301    riellesells seller account at risk of deactiva...\n",
       "605     best_us_book_deals newbie and book restriction...\n",
       "Name: post, dtype: object"
      ]
     },
     "execution_count": 114,
     "metadata": {},
     "output_type": "execute_result"
    }
   ],
   "source": [
    "X_train.head()"
   ]
  },
  {
   "cell_type": "code",
   "execution_count": 115,
   "metadata": {
    "hidden": true,
    "scrolled": false
   },
   "outputs": [
    {
     "data": {
      "text/plain": [
       "3885    Fulfillment By Amazon\n",
       "7710            Amazon Custom\n",
       "7445        Selling on Amazon\n",
       "4301           Account Health\n",
       "605         Selling on Amazon\n",
       "Name: Category, dtype: object"
      ]
     },
     "execution_count": 115,
     "metadata": {},
     "output_type": "execute_result"
    }
   ],
   "source": [
    "y_train.head()"
   ]
  },
  {
   "cell_type": "markdown",
   "metadata": {
    "hidden": true
   },
   "source": [
    "### Naive Bayes Classifier for Multinomial Models"
   ]
  },
  {
   "cell_type": "markdown",
   "metadata": {
    "hidden": true
   },
   "source": [
    "#### CountVectorizer + TF-IDFTransformer + MultinomialNB"
   ]
  },
  {
   "cell_type": "code",
   "execution_count": 134,
   "metadata": {
    "hidden": true
   },
   "outputs": [
    {
     "name": "stdout",
     "output_type": "stream",
     "text": [
      "accuracy 0.46596194503171245\n",
      "                                                    precision    recall  f1-score   support\n",
      "\n",
      "                             Fulfillment By Amazon       0.77      0.95      0.85       439\n",
      "                                 Selling on Amazon       0.00      0.00      0.00        78\n",
      "              Amazon Marketplace Web Service (MWS)       0.00      0.00      0.00        95\n",
      "                         Amazon Sponsored Products       0.00      0.00      0.00       164\n",
      "                                    Account Health       0.00      0.00      0.00        99\n",
      "                                    Global Selling       0.89      0.24      0.38       447\n",
      "                                        Amazon Pay       0.00      0.00      0.00       201\n",
      "                                            Groups       0.00      0.00      0.00       137\n",
      "Health,Safety,Sustainability,Security & Compliance       0.00      0.00      0.00        13\n",
      "                                 Login With Amazon       0.00      0.00      0.00        56\n",
      "                                     Amazon Custom       0.34      0.90      0.49       636\n",
      "\n",
      "                                          accuracy                           0.47      2365\n",
      "                                         macro avg       0.18      0.19      0.16      2365\n",
      "                                      weighted avg       0.40      0.47      0.36      2365\n",
      "\n"
     ]
    },
    {
     "name": "stderr",
     "output_type": "stream",
     "text": [
      "/opt/anaconda3/envs/deep-learning/lib/python3.6/site-packages/sklearn/metrics/classification.py:1437: UndefinedMetricWarning: Precision and F-score are ill-defined and being set to 0.0 in labels with no predicted samples.\n",
      "  'precision', 'predicted', average, warn_for)\n"
     ]
    }
   ],
   "source": [
    "from sklearn.naive_bayes import MultinomialNB\n",
    "from sklearn.pipeline import Pipeline\n",
    "from sklearn.feature_extraction.text import TfidfTransformer\n",
    "\n",
    "nb = Pipeline([('vect', CountVectorizer()),\n",
    "               ('tfidf', TfidfTransformer()),\n",
    "               ('clf', MultinomialNB()),\n",
    "              ])\n",
    "nb.fit(X_train, y_train)\n",
    "\n",
    "\n",
    "from sklearn.metrics import classification_report\n",
    "y_pred = nb.predict(X_test)\n",
    "\n",
    "print('accuracy %s' % accuracy_score(y_pred, y_test))\n",
    "res1311 = accuracy_score(y_pred, y_test)\n",
    "print(classification_report(y_test, y_pred,target_names=my_categories))"
   ]
  },
  {
   "cell_type": "markdown",
   "metadata": {
    "hidden": true
   },
   "source": [
    "### Linear Support Vector Machine"
   ]
  },
  {
   "cell_type": "markdown",
   "metadata": {
    "hidden": true
   },
   "source": [
    "#### CountVectorizer + TF-IDFTransformer + SGDClassifier"
   ]
  },
  {
   "cell_type": "code",
   "execution_count": 135,
   "metadata": {
    "hidden": true
   },
   "outputs": [
    {
     "name": "stdout",
     "output_type": "stream",
     "text": [
      "accuracy 0.735306553911205\n",
      "                                                    precision    recall  f1-score   support\n",
      "\n",
      "                             Fulfillment By Amazon       0.77      0.95      0.85       439\n",
      "                                 Selling on Amazon       0.78      0.49      0.60        78\n",
      "              Amazon Marketplace Web Service (MWS)       0.77      0.64      0.70        95\n",
      "                         Amazon Sponsored Products       0.74      0.68      0.71       164\n",
      "                                    Account Health       0.89      0.86      0.87        99\n",
      "                                    Global Selling       0.70      0.87      0.77       447\n",
      "                                        Amazon Pay       0.78      0.29      0.43       201\n",
      "                                            Groups       0.84      0.74      0.79       137\n",
      "Health,Safety,Sustainability,Security & Compliance       0.00      0.00      0.00        13\n",
      "                                 Login With Amazon       0.79      0.80      0.80        56\n",
      "                                     Amazon Custom       0.68      0.68      0.68       636\n",
      "\n",
      "                                          accuracy                           0.74      2365\n",
      "                                         macro avg       0.70      0.64      0.65      2365\n",
      "                                      weighted avg       0.74      0.74      0.72      2365\n",
      "\n"
     ]
    },
    {
     "name": "stderr",
     "output_type": "stream",
     "text": [
      "/opt/anaconda3/envs/deep-learning/lib/python3.6/site-packages/sklearn/metrics/classification.py:1437: UndefinedMetricWarning: Precision and F-score are ill-defined and being set to 0.0 in labels with no predicted samples.\n",
      "  'precision', 'predicted', average, warn_for)\n"
     ]
    }
   ],
   "source": [
    "from sklearn.linear_model import SGDClassifier\n",
    "\n",
    "sgd = Pipeline([('vect', CountVectorizer()),\n",
    "                ('tfidf', TfidfTransformer()),\n",
    "                ('clf', SGDClassifier(loss='hinge', penalty='l2',alpha=1e-3, random_state=42, max_iter=5, tol=None)),\n",
    "               ])\n",
    "sgd.fit(X_train, y_train)\n",
    "\n",
    "y_pred = sgd.predict(X_test)\n",
    "\n",
    "print('accuracy %s' % accuracy_score(y_pred, y_test))\n",
    "res1321 = accuracy_score(y_pred, y_test)\n",
    "print(classification_report(y_test, y_pred,target_names=my_categories))"
   ]
  },
  {
   "cell_type": "markdown",
   "metadata": {
    "hidden": true
   },
   "source": [
    "### Logistic Regression"
   ]
  },
  {
   "cell_type": "markdown",
   "metadata": {
    "hidden": true
   },
   "source": [
    "#### CountVectorizer + TF-IDFTransformer + Logistic Regression"
   ]
  },
  {
   "cell_type": "code",
   "execution_count": 137,
   "metadata": {
    "hidden": true
   },
   "outputs": [
    {
     "name": "stderr",
     "output_type": "stream",
     "text": [
      "/opt/anaconda3/envs/deep-learning/lib/python3.6/site-packages/sklearn/linear_model/logistic.py:432: FutureWarning: Default solver will be changed to 'lbfgs' in 0.22. Specify a solver to silence this warning.\n",
      "  FutureWarning)\n",
      "/opt/anaconda3/envs/deep-learning/lib/python3.6/site-packages/sklearn/linear_model/logistic.py:469: FutureWarning: Default multi_class will be changed to 'auto' in 0.22. Specify the multi_class option to silence this warning.\n",
      "  \"this warning.\", FutureWarning)\n"
     ]
    },
    {
     "name": "stdout",
     "output_type": "stream",
     "text": [
      "accuracy 0.7276955602536997\n",
      "                                                    precision    recall  f1-score   support\n",
      "\n",
      "                             Fulfillment By Amazon       0.86      0.92      0.89       439\n",
      "                                 Selling on Amazon       0.72      0.49      0.58        78\n",
      "              Amazon Marketplace Web Service (MWS)       0.80      0.74      0.77        95\n",
      "                         Amazon Sponsored Products       0.70      0.70      0.70       164\n",
      "                                    Account Health       0.90      0.76      0.82        99\n",
      "                                    Global Selling       0.72      0.77      0.74       447\n",
      "                                        Amazon Pay       0.62      0.42      0.50       201\n",
      "                                            Groups       0.85      0.73      0.79       137\n",
      "Health,Safety,Sustainability,Security & Compliance       0.40      0.15      0.22        13\n",
      "                                 Login With Amazon       0.80      0.71      0.75        56\n",
      "                                     Amazon Custom       0.62      0.71      0.66       636\n",
      "\n",
      "                                          accuracy                           0.73      2365\n",
      "                                         macro avg       0.73      0.64      0.68      2365\n",
      "                                      weighted avg       0.73      0.73      0.72      2365\n",
      "\n"
     ]
    }
   ],
   "source": [
    "from sklearn.linear_model import LogisticRegression\n",
    "\n",
    "logreg = Pipeline([('vect', CountVectorizer()),\n",
    "                ('tfidf', TfidfTransformer()),\n",
    "                ('clf', LogisticRegression(n_jobs=1, C=1e5)),\n",
    "               ])\n",
    "logreg.fit(X_train, y_train)\n",
    "\n",
    "y_pred = logreg.predict (X_test)\n",
    "\n",
    "print('accuracy %s' % accuracy_score(y_pred, y_test))\n",
    "res1331 = accuracy_score(y_pred, y_test)\n",
    "print(classification_report(y_test, y_pred,target_names=my_categories))"
   ]
  },
  {
   "cell_type": "markdown",
   "metadata": {
    "hidden": true
   },
   "source": [
    "### Decision Tree"
   ]
  },
  {
   "cell_type": "markdown",
   "metadata": {
    "hidden": true
   },
   "source": [
    "#### CountVectorizer + TF-IDFTransformer + DecisionTreeClassifier"
   ]
  },
  {
   "cell_type": "code",
   "execution_count": 141,
   "metadata": {
    "hidden": true
   },
   "outputs": [
    {
     "name": "stdout",
     "output_type": "stream",
     "text": [
      "accuracy 0.5754756871035941\n",
      "                                                    precision    recall  f1-score   support\n",
      "\n",
      "                             Fulfillment By Amazon       0.76      0.74      0.75       439\n",
      "                                 Selling on Amazon       0.39      0.31      0.34        78\n",
      "              Amazon Marketplace Web Service (MWS)       0.59      0.53      0.56        95\n",
      "                         Amazon Sponsored Products       0.52      0.51      0.51       164\n",
      "                                    Account Health       0.68      0.63      0.65        99\n",
      "                                    Global Selling       0.60      0.63      0.61       447\n",
      "                                        Amazon Pay       0.39      0.35      0.37       201\n",
      "                                            Groups       0.66      0.62      0.64       137\n",
      "Health,Safety,Sustainability,Security & Compliance       0.13      0.15      0.14        13\n",
      "                                 Login With Amazon       0.77      0.64      0.70        56\n",
      "                                     Amazon Custom       0.49      0.53      0.51       636\n",
      "\n",
      "                                          accuracy                           0.58      2365\n",
      "                                         macro avg       0.54      0.51      0.53      2365\n",
      "                                      weighted avg       0.58      0.58      0.58      2365\n",
      "\n"
     ]
    }
   ],
   "source": [
    "from sklearn.tree import DecisionTreeClassifier\n",
    "\n",
    "dtree = Pipeline([('vect', CountVectorizer()),\n",
    "                ('tfidf', TfidfTransformer()),\n",
    "                ('clf', DecisionTreeClassifier(random_state=0)),\n",
    "               ])\n",
    "dtree.fit(X_train, y_train)\n",
    "\n",
    "y_pred = dtree.predict (X_test)\n",
    "\n",
    "print('accuracy %s' % accuracy_score(y_pred, y_test))\n",
    "res1341 = accuracy_score(y_pred, y_test)\n",
    "print(classification_report(y_test, y_pred,target_names=my_categories))"
   ]
  },
  {
   "cell_type": "markdown",
   "metadata": {
    "hidden": true
   },
   "source": [
    "## Results"
   ]
  },
  {
   "cell_type": "markdown",
   "metadata": {
    "hidden": true
   },
   "source": [
    "### Results of the previously trained models"
   ]
  },
  {
   "cell_type": "code",
   "execution_count": 144,
   "metadata": {
    "hidden": true
   },
   "outputs": [
    {
     "data": {
      "text/html": [
       "<div>\n",
       "<style scoped>\n",
       "    .dataframe tbody tr th:only-of-type {\n",
       "        vertical-align: middle;\n",
       "    }\n",
       "\n",
       "    .dataframe tbody tr th {\n",
       "        vertical-align: top;\n",
       "    }\n",
       "\n",
       "    .dataframe thead th {\n",
       "        text-align: right;\n",
       "    }\n",
       "</style>\n",
       "<table border=\"1\" class=\"dataframe\">\n",
       "  <thead>\n",
       "    <tr style=\"text-align: right;\">\n",
       "      <th></th>\n",
       "      <th>Model</th>\n",
       "      <th>Accuracy</th>\n",
       "    </tr>\n",
       "  </thead>\n",
       "  <tbody>\n",
       "    <tr>\n",
       "      <th>0</th>\n",
       "      <td>Naive Bayes MultinomialNB</td>\n",
       "      <td>0.465962</td>\n",
       "    </tr>\n",
       "    <tr>\n",
       "      <th>3</th>\n",
       "      <td>Decision Tree</td>\n",
       "      <td>0.575476</td>\n",
       "    </tr>\n",
       "    <tr>\n",
       "      <th>2</th>\n",
       "      <td>Logistic Regression</td>\n",
       "      <td>0.727696</td>\n",
       "    </tr>\n",
       "    <tr>\n",
       "      <th>1</th>\n",
       "      <td>Linear SVM</td>\n",
       "      <td>0.735307</td>\n",
       "    </tr>\n",
       "  </tbody>\n",
       "</table>\n",
       "</div>"
      ],
      "text/plain": [
       "                       Model  Accuracy\n",
       "0  Naive Bayes MultinomialNB  0.465962\n",
       "3              Decision Tree  0.575476\n",
       "2        Logistic Regression  0.727696\n",
       "1                 Linear SVM  0.735307"
      ]
     },
     "execution_count": 144,
     "metadata": {},
     "output_type": "execute_result"
    }
   ],
   "source": [
    "import pandas as pd\n",
    "\n",
    "results = pd.DataFrame({'Model': ['Naive Bayes MultinomialNB', 'Linear SVM', 'Logistic Regression', 'Decision Tree'],\n",
    "                         'Accuracy': [res1311, res1321, res1331, res1341]})\n",
    "results.set_index('Model')\n",
    "results.sort_values(by='Accuracy')"
   ]
  },
  {
   "cell_type": "markdown",
   "metadata": {
    "hidden": true
   },
   "source": [
    "### Cross Validation with linear SVM"
   ]
  },
  {
   "cell_type": "code",
   "execution_count": 145,
   "metadata": {
    "hidden": true
   },
   "outputs": [],
   "source": [
    "from sklearn.linear_model import SGDClassifier\n",
    "from sklearn.model_selection import cross_val_score\n",
    "import numpy as np\n",
    "\n",
    "sgd = Pipeline([('vect', CountVectorizer()),\n",
    "                ('tfidf', TfidfTransformer()),\n",
    "                ('clf', SGDClassifier(loss='hinge', penalty='l2',alpha=1e-3, random_state=42, max_iter=5, tol=None)),\n",
    "               ])\n",
    "cv_res_sgd = cross_val_score(sgd, X_train, y_train, cv=10)\n",
    "mean_cv_res_sgd = np.mean(cv_res_sgd)"
   ]
  },
  {
   "cell_type": "code",
   "execution_count": 146,
   "metadata": {
    "hidden": true
   },
   "outputs": [
    {
     "name": "stdout",
     "output_type": "stream",
     "text": [
      "0.7373282973519802\n"
     ]
    }
   ],
   "source": [
    "print(mean_cv_res_sgd)"
   ]
  },
  {
   "cell_type": "markdown",
   "metadata": {
    "heading_collapsed": true
   },
   "source": [
    "# Strategy 2\n",
    "\n",
    "- Remove stop words (+ what was done in Strategy 1)"
   ]
  },
  {
   "cell_type": "code",
   "execution_count": 147,
   "metadata": {
    "hidden": true
   },
   "outputs": [],
   "source": [
    "test_df2 = test_df.copy()"
   ]
  },
  {
   "cell_type": "code",
   "execution_count": 148,
   "metadata": {
    "hidden": true
   },
   "outputs": [],
   "source": [
    "REPLACE_BY_SPACE_RE = re.compile('[/(){}\\[\\]\\'\\“\\”\\’\\|@,;]')\n",
    "BAD_SYMBOLS_RE = re.compile('[^0-9a-z #+_]')\n",
    "STOPWORDS = set(stopwords.words('english'))\n",
    "\n",
    "def clean_text(text):\n",
    "    \"\"\"\n",
    "        text: a string\n",
    "        \n",
    "        return: modified initial string\n",
    "    \"\"\"\n",
    "    text = BeautifulSoup(text, \"lxml\").text # HTML decoding\n",
    "    text = text.lower() # lowercase text\n",
    "    text = REPLACE_BY_SPACE_RE.sub(' ', text) # replace REPLACE_BY_SPACE_RE symbols by space in text\n",
    "    #text = BAD_SYMBOLS_RE.sub('', text) # delete symbols which are in BAD_SYMBOLS_RE from text\n",
    "    #text = ''.join(word for word in text if word not in punct)  # remove punctuation\n",
    "    text = ' '.join(word for word in text.split() if word not in STOPWORDS) # delete stopwors from text\n",
    "    return text\n",
    "    \n",
    "test_df2['post'] = test_df2['post'].apply(clean_text)"
   ]
  },
  {
   "cell_type": "code",
   "execution_count": 149,
   "metadata": {
    "hidden": true,
    "scrolled": true
   },
   "outputs": [
    {
     "name": "stdout",
     "output_type": "stream",
     "text": [
      "book_corral first fba shipment since pandemic living pandemic rules ship anything fba fulfillment alerted making fba shipment want ship stuff amazon tell take right deal returning items whatever start fba shipment system take care everything \\nnow living pandemic rules ship anything fba fulfillment\\nwill alerted making fba shipment\\ni want ship stuff amazon tell take right deal returning items whatever\\ncan start fba shipment system take care everything\\n \\nyes already many threads topic search around fba open business quantities severely limited shipping times slow may better stick fbm while\\n \\namazon either let make shipment make figure pretty early process\\nhowever tell long may take shipment received think enough people shipped nonessential items yet good idea fast receiving happening suspect delays longer normal top still looking fba orders taking extended times ship customers buying fbm fbm even getting bb fba cases\\npersonally shipping books right reasons well fact want go ups store drop box major issue library booksales cancelled many books list anyway\\nif decide ship stuff let us know goes\\n \\ntry creating shipment allows create ok although likely subject quantity limits picksbynisha noted check forum threads scattered anecdotal reports shipments lost properly accounted etc\\n \\ni sent three shipments ftw1 last month\\nfirst one pallet delivered ltl shipping shipment receiving six days\\nsecond one boxes via ups shipment receiving one day\\nthird one boxes via ups shipped five days ago delivered three days ago still checkedin receiving\\nin last year 18 shipments via fedex ups ftw ranged 2 19 days shipment receiving typical transit time 12 days average 6 days overall things particular warehouse moving normal aboveaverage speed\\n \\nby quantities limited assume mean fba allowing send limited quantity items know limit typically sell one item\\ni guess wondering items able list amazon allowed sent fba go ahead make shipment ship confidant accepted\\ni limited storage would rather wait fba receive shipment hold since sellers faster fba start selling sooner way\\n \\ni good bit fbm selling well well fba inventory running know experience soon ship get listed present fbm fba start selling\\ni guessing amazon dealing lot new hires maybe lowering hiring standards well dealing employee descent affecting fba intake performance\\n \\nyes receiving may slow right 200pcs delivered monday 518 amazon yet start receiving inventory 523\\nsounds like depends sending though\\n\n",
      "Category: Fulfillment By Amazon\n"
     ]
    }
   ],
   "source": [
    "def test_print_plot(index):\n",
    "    example = test_df2[test_df2.index == index][['post', 'Category']].values[0]\n",
    "    if len(example) > 0:\n",
    "        print(example[0])\n",
    "        print('Category:', example[1])\n",
    "test_print_plot(10)"
   ]
  },
  {
   "cell_type": "markdown",
   "metadata": {
    "hidden": true
   },
   "source": [
    "## Modeling the data"
   ]
  },
  {
   "cell_type": "code",
   "execution_count": 150,
   "metadata": {
    "hidden": true
   },
   "outputs": [],
   "source": [
    "X = test_df2.post\n",
    "y = test_df2.Category\n",
    "X_train, X_test, y_train, y_test = train_test_split(X, y, test_size=0.3, random_state = 42)"
   ]
  },
  {
   "cell_type": "code",
   "execution_count": 151,
   "metadata": {
    "hidden": true,
    "scrolled": true
   },
   "outputs": [
    {
     "data": {
      "text/plain": [
       "3885    plankton_games issue fba orders damaged shippi...\n",
       "7710    funnyshirts amazon automatically generating re...\n",
       "7445    point_bob_books photos added offer section gen...\n",
       "4301    riellesells seller account risk deactivation h...\n",
       "605     best_us_book_deals newbie book restrictions se...\n",
       "Name: post, dtype: object"
      ]
     },
     "execution_count": 151,
     "metadata": {},
     "output_type": "execute_result"
    }
   ],
   "source": [
    "X_train.head()"
   ]
  },
  {
   "cell_type": "code",
   "execution_count": 152,
   "metadata": {
    "hidden": true,
    "scrolled": false
   },
   "outputs": [
    {
     "data": {
      "text/plain": [
       "3885    Fulfillment By Amazon\n",
       "7710            Amazon Custom\n",
       "7445        Selling on Amazon\n",
       "4301           Account Health\n",
       "605         Selling on Amazon\n",
       "Name: Category, dtype: object"
      ]
     },
     "execution_count": 152,
     "metadata": {},
     "output_type": "execute_result"
    }
   ],
   "source": [
    "y_train.head()"
   ]
  },
  {
   "cell_type": "markdown",
   "metadata": {
    "hidden": true
   },
   "source": [
    "### Naive Bayes Classifier for Multinomial Models"
   ]
  },
  {
   "cell_type": "markdown",
   "metadata": {
    "hidden": true
   },
   "source": [
    "#### CountVectorizer + TF-IDFTransformer + MultinomialNB"
   ]
  },
  {
   "cell_type": "code",
   "execution_count": 153,
   "metadata": {
    "hidden": true
   },
   "outputs": [
    {
     "name": "stdout",
     "output_type": "stream",
     "text": [
      "accuracy 0.4904862579281184\n",
      "                                                    precision    recall  f1-score   support\n",
      "\n",
      "                             Fulfillment By Amazon       0.73      0.96      0.83       439\n",
      "                                 Selling on Amazon       0.00      0.00      0.00        78\n",
      "              Amazon Marketplace Web Service (MWS)       0.00      0.00      0.00        95\n",
      "                         Amazon Sponsored Products       0.00      0.00      0.00       164\n",
      "                                    Account Health       0.00      0.00      0.00        99\n",
      "                                    Global Selling       0.87      0.42      0.56       447\n",
      "                                        Amazon Pay       0.00      0.00      0.00       201\n",
      "                                            Groups       1.00      0.01      0.01       137\n",
      "Health,Safety,Sustainability,Security & Compliance       0.00      0.00      0.00        13\n",
      "                                 Login With Amazon       0.00      0.00      0.00        56\n",
      "                                     Amazon Custom       0.35      0.87      0.50       636\n",
      "\n",
      "                                          accuracy                           0.49      2365\n",
      "                                         macro avg       0.27      0.20      0.17      2365\n",
      "                                      weighted avg       0.45      0.49      0.40      2365\n",
      "\n"
     ]
    },
    {
     "name": "stderr",
     "output_type": "stream",
     "text": [
      "/opt/anaconda3/envs/deep-learning/lib/python3.6/site-packages/sklearn/metrics/classification.py:1437: UndefinedMetricWarning: Precision and F-score are ill-defined and being set to 0.0 in labels with no predicted samples.\n",
      "  'precision', 'predicted', average, warn_for)\n"
     ]
    }
   ],
   "source": [
    "from sklearn.naive_bayes import MultinomialNB\n",
    "from sklearn.pipeline import Pipeline\n",
    "from sklearn.feature_extraction.text import TfidfTransformer\n",
    "\n",
    "nb = Pipeline([('vect', CountVectorizer()),\n",
    "               ('tfidf', TfidfTransformer()),\n",
    "               ('clf', MultinomialNB()),\n",
    "              ])\n",
    "nb.fit(X_train, y_train)\n",
    "\n",
    "\n",
    "from sklearn.metrics import classification_report\n",
    "y_pred = nb.predict(X_test)\n",
    "\n",
    "print('accuracy %s' % accuracy_score(y_pred, y_test))\n",
    "res2311 = accuracy_score(y_pred, y_test)\n",
    "print(classification_report(y_test, y_pred,target_names=my_categories))"
   ]
  },
  {
   "cell_type": "markdown",
   "metadata": {
    "hidden": true
   },
   "source": [
    "### Linear Support Vector Machine"
   ]
  },
  {
   "cell_type": "markdown",
   "metadata": {
    "hidden": true
   },
   "source": [
    "#### CountVectorizer + TF-IDFTransformer + SGDClassifier"
   ]
  },
  {
   "cell_type": "code",
   "execution_count": 154,
   "metadata": {
    "hidden": true
   },
   "outputs": [
    {
     "name": "stdout",
     "output_type": "stream",
     "text": [
      "accuracy 0.7441860465116279\n",
      "                                                    precision    recall  f1-score   support\n",
      "\n",
      "                             Fulfillment By Amazon       0.78      0.96      0.86       439\n",
      "                                 Selling on Amazon       0.78      0.50      0.61        78\n",
      "              Amazon Marketplace Web Service (MWS)       0.78      0.66      0.72        95\n",
      "                         Amazon Sponsored Products       0.72      0.70      0.71       164\n",
      "                                    Account Health       0.89      0.86      0.87        99\n",
      "                                    Global Selling       0.71      0.86      0.78       447\n",
      "                                        Amazon Pay       0.75      0.30      0.43       201\n",
      "                                            Groups       0.85      0.77      0.81       137\n",
      "Health,Safety,Sustainability,Security & Compliance       0.00      0.00      0.00        13\n",
      "                                 Login With Amazon       0.81      0.79      0.80        56\n",
      "                                     Amazon Custom       0.69      0.69      0.69       636\n",
      "\n",
      "                                          accuracy                           0.74      2365\n",
      "                                         macro avg       0.71      0.65      0.66      2365\n",
      "                                      weighted avg       0.74      0.74      0.73      2365\n",
      "\n"
     ]
    },
    {
     "name": "stderr",
     "output_type": "stream",
     "text": [
      "/opt/anaconda3/envs/deep-learning/lib/python3.6/site-packages/sklearn/metrics/classification.py:1437: UndefinedMetricWarning: Precision and F-score are ill-defined and being set to 0.0 in labels with no predicted samples.\n",
      "  'precision', 'predicted', average, warn_for)\n"
     ]
    }
   ],
   "source": [
    "from sklearn.linear_model import SGDClassifier\n",
    "\n",
    "sgd = Pipeline([('vect', CountVectorizer()),\n",
    "                ('tfidf', TfidfTransformer()),\n",
    "                ('clf', SGDClassifier(loss='hinge', penalty='l2',alpha=1e-3, random_state=42, max_iter=5, tol=None)),\n",
    "               ])\n",
    "sgd.fit(X_train, y_train)\n",
    "\n",
    "y_pred = sgd.predict(X_test)\n",
    "\n",
    "print('accuracy %s' % accuracy_score(y_pred, y_test))\n",
    "res2321 = accuracy_score(y_pred, y_test)\n",
    "print(classification_report(y_test, y_pred,target_names=my_categories))"
   ]
  },
  {
   "cell_type": "markdown",
   "metadata": {
    "hidden": true
   },
   "source": [
    "### Logistic Regression"
   ]
  },
  {
   "cell_type": "markdown",
   "metadata": {
    "hidden": true
   },
   "source": [
    "#### CountVectorizer + TF-IDFTransformer + Logistic Regression"
   ]
  },
  {
   "cell_type": "code",
   "execution_count": 155,
   "metadata": {
    "hidden": true
   },
   "outputs": [
    {
     "name": "stderr",
     "output_type": "stream",
     "text": [
      "/opt/anaconda3/envs/deep-learning/lib/python3.6/site-packages/sklearn/linear_model/logistic.py:432: FutureWarning: Default solver will be changed to 'lbfgs' in 0.22. Specify a solver to silence this warning.\n",
      "  FutureWarning)\n",
      "/opt/anaconda3/envs/deep-learning/lib/python3.6/site-packages/sklearn/linear_model/logistic.py:469: FutureWarning: Default multi_class will be changed to 'auto' in 0.22. Specify the multi_class option to silence this warning.\n",
      "  \"this warning.\", FutureWarning)\n"
     ]
    },
    {
     "name": "stdout",
     "output_type": "stream",
     "text": [
      "accuracy 0.7281183932346723\n",
      "                                                    precision    recall  f1-score   support\n",
      "\n",
      "                             Fulfillment By Amazon       0.88      0.93      0.90       439\n",
      "                                 Selling on Amazon       0.73      0.46      0.57        78\n",
      "              Amazon Marketplace Web Service (MWS)       0.76      0.74      0.75        95\n",
      "                         Amazon Sponsored Products       0.68      0.67      0.68       164\n",
      "                                    Account Health       0.90      0.71      0.79        99\n",
      "                                    Global Selling       0.73      0.77      0.75       447\n",
      "                                        Amazon Pay       0.60      0.44      0.51       201\n",
      "                                            Groups       0.87      0.72      0.78       137\n",
      "Health,Safety,Sustainability,Security & Compliance       0.67      0.15      0.25        13\n",
      "                                 Login With Amazon       0.82      0.71      0.76        56\n",
      "                                     Amazon Custom       0.62      0.72      0.67       636\n",
      "\n",
      "                                          accuracy                           0.73      2365\n",
      "                                         macro avg       0.75      0.64      0.67      2365\n",
      "                                      weighted avg       0.73      0.73      0.72      2365\n",
      "\n"
     ]
    }
   ],
   "source": [
    "from sklearn.linear_model import LogisticRegression\n",
    "\n",
    "logreg = Pipeline([('vect', CountVectorizer()),\n",
    "                ('tfidf', TfidfTransformer()),\n",
    "                ('clf', LogisticRegression(n_jobs=1, C=1e5)),\n",
    "               ])\n",
    "logreg.fit(X_train, y_train)\n",
    "\n",
    "y_pred = logreg.predict (X_test)\n",
    "\n",
    "print('accuracy %s' % accuracy_score(y_pred, y_test))\n",
    "res2331 = accuracy_score(y_pred, y_test)\n",
    "print(classification_report(y_test, y_pred,target_names=my_categories))"
   ]
  },
  {
   "cell_type": "markdown",
   "metadata": {
    "heading_collapsed": true,
    "hidden": true
   },
   "source": [
    "### Decision Tree"
   ]
  },
  {
   "cell_type": "markdown",
   "metadata": {
    "heading_collapsed": true,
    "hidden": true
   },
   "source": [
    "#### CountVectorizer + TF-IDFTransformer + DecisionTreeClassifier"
   ]
  },
  {
   "cell_type": "code",
   "execution_count": 156,
   "metadata": {
    "hidden": true,
    "scrolled": true
   },
   "outputs": [
    {
     "name": "stdout",
     "output_type": "stream",
     "text": [
      "accuracy 0.5826638477801268\n",
      "                                                    precision    recall  f1-score   support\n",
      "\n",
      "                             Fulfillment By Amazon       0.80      0.77      0.78       439\n",
      "                                 Selling on Amazon       0.35      0.38      0.37        78\n",
      "              Amazon Marketplace Web Service (MWS)       0.61      0.54      0.57        95\n",
      "                         Amazon Sponsored Products       0.52      0.51      0.51       164\n",
      "                                    Account Health       0.76      0.72      0.74        99\n",
      "                                    Global Selling       0.60      0.60      0.60       447\n",
      "                                        Amazon Pay       0.35      0.33      0.34       201\n",
      "                                            Groups       0.71      0.69      0.70       137\n",
      "Health,Safety,Sustainability,Security & Compliance       0.05      0.08      0.06        13\n",
      "                                 Login With Amazon       0.70      0.66      0.68        56\n",
      "                                     Amazon Custom       0.50      0.54      0.52       636\n",
      "\n",
      "                                          accuracy                           0.58      2365\n",
      "                                         macro avg       0.54      0.53      0.53      2365\n",
      "                                      weighted avg       0.59      0.58      0.59      2365\n",
      "\n"
     ]
    }
   ],
   "source": [
    "from sklearn.tree import DecisionTreeClassifier\n",
    "\n",
    "dtree = Pipeline([('vect', CountVectorizer()),\n",
    "                ('tfidf', TfidfTransformer()),\n",
    "                ('clf', DecisionTreeClassifier(random_state=0)),\n",
    "               ])\n",
    "dtree.fit(X_train, y_train)\n",
    "\n",
    "y_pred = dtree.predict (X_test)\n",
    "\n",
    "print('accuracy %s' % accuracy_score(y_pred, y_test))\n",
    "res2341 = accuracy_score(y_pred, y_test)\n",
    "print(classification_report(y_test, y_pred,target_names=my_categories))"
   ]
  },
  {
   "cell_type": "code",
   "execution_count": 251,
   "metadata": {
    "hidden": true
   },
   "outputs": [
    {
     "data": {
      "image/png": "[encoded data removed]",
      "text/plain": [
       "<Figure size 720x720 with 2 Axes>"
      ]
     },
     "metadata": {
      "needs_background": "light"
     },
     "output_type": "display_data"
    }
   ],
   "source": [
    "from sklearn.metrics import confusion_matrix\n",
    "import seaborn as sns\n",
    "\n",
    "conf_mat = confusion_matrix(y_test, y_pred)\n",
    "fig, ax = plt.subplots(figsize=(10,10))\n",
    "sns.heatmap(conf_mat, annot=True, fmt='d',\n",
    "            xticklabels=my_categories, yticklabels=my_categories)\n",
    "plt.ylabel('Actual')\n",
    "plt.xlabel('Predicted')\n",
    "plt.show()"
   ]
  },
  {
   "cell_type": "markdown",
   "metadata": {
    "heading_collapsed": true,
    "hidden": true
   },
   "source": [
    "## Results"
   ]
  },
  {
   "cell_type": "markdown",
   "metadata": {
    "hidden": true
   },
   "source": [
    "### Results of the previously trained models"
   ]
  },
  {
   "cell_type": "code",
   "execution_count": 157,
   "metadata": {
    "hidden": true
   },
   "outputs": [
    {
     "data": {
      "text/html": [
       "<div>\n",
       "<style scoped>\n",
       "    .dataframe tbody tr th:only-of-type {\n",
       "        vertical-align: middle;\n",
       "    }\n",
       "\n",
       "    .dataframe tbody tr th {\n",
       "        vertical-align: top;\n",
       "    }\n",
       "\n",
       "    .dataframe thead th {\n",
       "        text-align: right;\n",
       "    }\n",
       "</style>\n",
       "<table border=\"1\" class=\"dataframe\">\n",
       "  <thead>\n",
       "    <tr style=\"text-align: right;\">\n",
       "      <th></th>\n",
       "      <th>Model</th>\n",
       "      <th>Accuracy</th>\n",
       "    </tr>\n",
       "  </thead>\n",
       "  <tbody>\n",
       "    <tr>\n",
       "      <th>0</th>\n",
       "      <td>Naive Bayes MultinomialNB</td>\n",
       "      <td>0.490486</td>\n",
       "    </tr>\n",
       "    <tr>\n",
       "      <th>3</th>\n",
       "      <td>Decision Tree</td>\n",
       "      <td>0.582664</td>\n",
       "    </tr>\n",
       "    <tr>\n",
       "      <th>2</th>\n",
       "      <td>Logistic Regression</td>\n",
       "      <td>0.728118</td>\n",
       "    </tr>\n",
       "    <tr>\n",
       "      <th>1</th>\n",
       "      <td>Linear SVM</td>\n",
       "      <td>0.744186</td>\n",
       "    </tr>\n",
       "  </tbody>\n",
       "</table>\n",
       "</div>"
      ],
      "text/plain": [
       "                       Model  Accuracy\n",
       "0  Naive Bayes MultinomialNB  0.490486\n",
       "3              Decision Tree  0.582664\n",
       "2        Logistic Regression  0.728118\n",
       "1                 Linear SVM  0.744186"
      ]
     },
     "execution_count": 157,
     "metadata": {},
     "output_type": "execute_result"
    }
   ],
   "source": [
    "import pandas as pd\n",
    "\n",
    "results = pd.DataFrame({'Model': ['Naive Bayes MultinomialNB', 'Linear SVM', 'Logistic Regression', 'Decision Tree'],\n",
    "                         'Accuracy': [res2311, res2321, res2331, res2341]})\n",
    "results.set_index('Model')\n",
    "results.sort_values(by='Accuracy')"
   ]
  },
  {
   "cell_type": "markdown",
   "metadata": {
    "hidden": true
   },
   "source": [
    "### Cross Validation with linear SVM"
   ]
  },
  {
   "cell_type": "code",
   "execution_count": 158,
   "metadata": {
    "hidden": true
   },
   "outputs": [],
   "source": [
    "from sklearn.linear_model import SGDClassifier\n",
    "from sklearn.model_selection import cross_val_score\n",
    "import numpy as np\n",
    "\n",
    "sgd = Pipeline([('vect', CountVectorizer()),\n",
    "                ('tfidf', TfidfTransformer()),\n",
    "                ('clf', SGDClassifier(loss='hinge', penalty='l2',alpha=1e-3, random_state=42, max_iter=5, tol=None)),\n",
    "               ])\n",
    "cv_res_sgd2 = cross_val_score(sgd, X_train, y_train, cv=10)\n",
    "mean_cv_res_sgd2 = np.mean(cv_res_sgd2)"
   ]
  },
  {
   "cell_type": "code",
   "execution_count": 159,
   "metadata": {
    "hidden": true
   },
   "outputs": [
    {
     "name": "stdout",
     "output_type": "stream",
     "text": [
      "0.7389693155220105\n"
     ]
    }
   ],
   "source": [
    "print(mean_cv_res_sgd2)"
   ]
  },
  {
   "cell_type": "markdown",
   "metadata": {
    "heading_collapsed": true
   },
   "source": [
    "# Strategy 3\n",
    "\n",
    "-  text.replace(r'\\n', ' ') (+ what was done in Strategy 2)"
   ]
  },
  {
   "cell_type": "code",
   "execution_count": 177,
   "metadata": {
    "hidden": true
   },
   "outputs": [],
   "source": [
    "test_df3 = test_df2.copy()"
   ]
  },
  {
   "cell_type": "code",
   "execution_count": 178,
   "metadata": {
    "hidden": true
   },
   "outputs": [],
   "source": [
    "REPLACE_BY_SPACE_RE = re.compile('[/(){}\\[\\]\\'\\“\\”\\’\\|@,;]')\n",
    "BAD_SYMBOLS_RE = re.compile('[^0-9a-z #+_]')\n",
    "STOPWORDS = set(stopwords.words('english'))\n",
    "\n",
    "def clean_text(text):\n",
    "    \"\"\"\n",
    "        text: a string\n",
    "        \n",
    "        return: modified initial string\n",
    "    \"\"\"\n",
    "    text = BeautifulSoup(text, \"lxml\").text # HTML decoding\n",
    "    text = text.lower() # lowercase text\n",
    "    text = REPLACE_BY_SPACE_RE.sub(' ', text) # replace REPLACE_BY_SPACE_RE symbols by space in text\n",
    "    text = text.replace(r'\\n', ' ')\n",
    "    #text = BAD_SYMBOLS_RE.sub('', text) # delete symbols which are in BAD_SYMBOLS_RE from text\n",
    "    #text = ''.join(word for word in text if word not in punct)  # remove punctuation\n",
    "    text = ' '.join(word for word in text.split() if word not in STOPWORDS) # delete stopwors from text\n",
    "    return text\n",
    "    \n",
    "test_df3['post'] = test_df3['post'].apply(clean_text)"
   ]
  },
  {
   "cell_type": "code",
   "execution_count": 179,
   "metadata": {
    "hidden": true,
    "scrolled": true
   },
   "outputs": [
    {
     "name": "stdout",
     "output_type": "stream",
     "text": [
      "book_corral first fba shipment since pandemic living pandemic rules ship anything fba fulfillment alerted making fba shipment want ship stuff amazon tell take right deal returning items whatever start fba shipment system take care everything living pandemic rules ship anything fba fulfillment alerted making fba shipment want ship stuff amazon tell take right deal returning items whatever start fba shipment system take care everything yes already many threads topic search around fba open business quantities severely limited shipping times slow may better stick fbm amazon either let make shipment make figure pretty early process however tell long may take shipment received think enough people shipped nonessential items yet good idea fast receiving happening suspect delays longer normal top still looking fba orders taking extended times ship customers buying fbm fbm even getting bb fba cases personally shipping books right reasons well fact want go ups store drop box major issue library booksales cancelled many books list anyway decide ship stuff let us know goes try creating shipment allows create ok although likely subject quantity limits picksbynisha noted check forum threads scattered anecdotal reports shipments lost properly accounted etc sent three shipments ftw1 last month first one pallet delivered ltl shipping shipment receiving six days second one boxes via ups shipment receiving one day third one boxes via ups shipped five days ago delivered three days ago still checkedin receiving last year 18 shipments via fedex ups ftw ranged 2 19 days shipment receiving typical transit time 12 days average 6 days overall things particular warehouse moving normal aboveaverage speed quantities limited assume mean fba allowing send limited quantity items know limit typically sell one item guess wondering items able list amazon allowed sent fba go ahead make shipment ship confidant accepted limited storage would rather wait fba receive shipment hold since sellers faster fba start selling sooner way good bit fbm selling well well fba inventory running know experience soon ship get listed present fbm fba start selling guessing amazon dealing lot new hires maybe lowering hiring standards well dealing employee descent affecting fba intake performance yes receiving may slow right 200pcs delivered monday 518 amazon yet start receiving inventory 523 sounds like depends sending though\n",
      "Category: Fulfillment By Amazon\n"
     ]
    }
   ],
   "source": [
    "def test_print_plot(index):\n",
    "    example = test_df3[test_df3.index == index][['post', 'Category']].values[0]\n",
    "    if len(example) > 0:\n",
    "        print(example[0])\n",
    "        print('Category:', example[1])\n",
    "test_print_plot(10)"
   ]
  },
  {
   "cell_type": "markdown",
   "metadata": {
    "heading_collapsed": true,
    "hidden": true
   },
   "source": [
    "### Cross Validation with linear SVM"
   ]
  },
  {
   "cell_type": "code",
   "execution_count": 180,
   "metadata": {
    "hidden": true
   },
   "outputs": [],
   "source": [
    "X = test_df3.post\n",
    "y = test_df3.Category\n",
    "X_train, X_test, y_train, y_test = train_test_split(X, y, test_size=0.3, random_state = 42)"
   ]
  },
  {
   "cell_type": "code",
   "execution_count": 249,
   "metadata": {
    "hidden": true
   },
   "outputs": [],
   "source": [
    "from sklearn.linear_model import SGDClassifier\n",
    "from sklearn.model_selection import cross_val_score\n",
    "import numpy as np\n",
    "\n",
    "sgd = Pipeline([('vect', CountVectorizer()),\n",
    "                ('tfidf', TfidfTransformer()),\n",
    "                ('clf', SGDClassifier(loss='hinge', penalty='l2',alpha=1e-3, random_state=42, max_iter=5, tol=None)),\n",
    "               ])\n",
    "cv_res_sgd3 = cross_val_score(sgd, X_train, y_train, cv=10)\n",
    "mean_cv_res_sgd3 = np.mean(cv_res_sgd3)"
   ]
  },
  {
   "cell_type": "code",
   "execution_count": 250,
   "metadata": {
    "hidden": true
   },
   "outputs": [
    {
     "name": "stdout",
     "output_type": "stream",
     "text": [
      "0.7418685879209101\n"
     ]
    }
   ],
   "source": [
    "print(mean_cv_res_sgd3)"
   ]
  },
  {
   "cell_type": "markdown",
   "metadata": {
    "hidden": true
   },
   "source": [
    "The accuracy improved by ~0.01 compared to before by replacing \\n with space."
   ]
  },
  {
   "cell_type": "markdown",
   "metadata": {
    "heading_collapsed": true,
    "hidden": true
   },
   "source": [
    "### Random Forest"
   ]
  },
  {
   "cell_type": "code",
   "execution_count": 269,
   "metadata": {
    "hidden": true
   },
   "outputs": [],
   "source": [
    "from sklearn.ensemble import RandomForestClassifier\n",
    "from sklearn.model_selection import cross_val_score\n",
    "import numpy as np\n",
    "\n",
    "rf = Pipeline([('vect', CountVectorizer()),\n",
    "                ('tfidf', TfidfTransformer()),\n",
    "                ('clf', RandomForestClassifier(n_estimators=500, max_depth=500, random_state=0)),\n",
    "               ])\n",
    "\n",
    "cv_res_rf = cross_val_score(rf, X_train, y_train, cv=10)\n",
    "mean_cv_res_rf = np.mean(cv_res_rf)"
   ]
  },
  {
   "cell_type": "code",
   "execution_count": 260,
   "metadata": {
    "hidden": true
   },
   "outputs": [
    {
     "name": "stdout",
     "output_type": "stream",
     "text": [
      "0.4819534394722039\n"
     ]
    }
   ],
   "source": [
    "print(mean_cv_res_rf)#max_depth = 10, n_estimators=300"
   ]
  },
  {
   "cell_type": "code",
   "execution_count": 262,
   "metadata": {
    "hidden": true
   },
   "outputs": [
    {
     "name": "stdout",
     "output_type": "stream",
     "text": [
      "0.679733161577614\n"
     ]
    }
   ],
   "source": [
    "print(mean_cv_res_rf)# max_depth = 100, n_estimators=300"
   ]
  },
  {
   "cell_type": "code",
   "execution_count": 264,
   "metadata": {
    "hidden": true
   },
   "outputs": [
    {
     "name": "stdout",
     "output_type": "stream",
     "text": [
      "0.6837375625515002\n"
     ]
    }
   ],
   "source": [
    "print(mean_cv_res_rf)# max_depth = 500, n_estimators=300"
   ]
  },
  {
   "cell_type": "code",
   "execution_count": 266,
   "metadata": {
    "hidden": true
   },
   "outputs": [
    {
     "name": "stdout",
     "output_type": "stream",
     "text": [
      "0.6862702788461644\n"
     ]
    }
   ],
   "source": [
    "##### BEST #####\n",
    "print(mean_cv_res_rf)# max_depth = 500, n_estimators=400 \n",
    "##### BEST #####"
   ]
  },
  {
   "cell_type": "code",
   "execution_count": 268,
   "metadata": {
    "hidden": true
   },
   "outputs": [
    {
     "name": "stdout",
     "output_type": "stream",
     "text": [
      "0.6862702788461644\n"
     ]
    }
   ],
   "source": [
    "print(mean_cv_res_rf)# max_depth = 1000, n_estimators=400"
   ]
  },
  {
   "cell_type": "code",
   "execution_count": 270,
   "metadata": {
    "hidden": true
   },
   "outputs": [
    {
     "name": "stdout",
     "output_type": "stream",
     "text": [
      "0.6860729824560556\n"
     ]
    }
   ],
   "source": [
    "print(mean_cv_res_rf)# max_depth = 500, n_estimators=500"
   ]
  },
  {
   "cell_type": "code",
   "execution_count": 275,
   "metadata": {
    "hidden": true
   },
   "outputs": [],
   "source": [
    "from sklearn.ensemble import RandomForestClassifier\n",
    "from sklearn.model_selection import cross_val_score\n",
    "import numpy as np\n",
    "\n",
    "rf = Pipeline([('vect', TfidfVectorizer()),\n",
    "                ('tfidf', TfidfTransformer()),\n",
    "                ('clf', RandomForestClassifier(n_estimators=200, max_depth=100, random_state=0)),\n",
    "               ])\n",
    "\n",
    "cv_res_rf_tfidf = cross_val_score(rf, X_train, y_train, cv=10)\n",
    "mean_cv_res_rf_tfidf = np.mean(cv_res_rf_tfidf)"
   ]
  },
  {
   "cell_type": "code",
   "execution_count": 272,
   "metadata": {
    "hidden": true
   },
   "outputs": [
    {
     "data": {
      "text/plain": [
       "0.6897103851566124"
      ]
     },
     "execution_count": 272,
     "metadata": {},
     "output_type": "execute_result"
    }
   ],
   "source": [
    "mean_cv_res_rf_tfidf# max_depth = 500, n_estimators=500"
   ]
  },
  {
   "cell_type": "code",
   "execution_count": 276,
   "metadata": {
    "hidden": true
   },
   "outputs": [
    {
     "data": {
      "text/plain": [
       "0.6817362730564369"
      ]
     },
     "execution_count": 276,
     "metadata": {},
     "output_type": "execute_result"
    }
   ],
   "source": [
    "mean_cv_res_rf_tfidf # n_estimators=200, max_depth=100"
   ]
  },
  {
   "cell_type": "markdown",
   "metadata": {
    "hidden": true
   },
   "source": [
    "Using TF-IDF as a vectorizer and transformer is slighly better than using CountVectorizer as a Vectorizer."
   ]
  },
  {
   "cell_type": "code",
   "execution_count": 281,
   "metadata": {
    "hidden": true
   },
   "outputs": [],
   "source": [
    "from sklearn.linear_model import SGDClassifier\n",
    "from sklearn.model_selection import cross_val_score\n",
    "import numpy as np\n",
    "\n",
    "sgd = Pipeline([('vect', TfidfVectorizer()),\n",
    "                ('tfidf', TfidfTransformer()),\n",
    "                ('clf', SGDClassifier(loss='hinge', penalty='l2',alpha=1e-3, random_state=42, max_iter=100, tol=None)),\n",
    "               ])\n",
    "cv_res_sgd_tfidf = cross_val_score(sgd, X_train, y_train, cv=10)\n",
    "mean_cv_res_sgd_tfidf = np.mean(cv_res_sgd_tfidf)"
   ]
  },
  {
   "cell_type": "code",
   "execution_count": 280,
   "metadata": {
    "hidden": true
   },
   "outputs": [
    {
     "data": {
      "text/plain": [
       "0.7371562662790911"
      ]
     },
     "execution_count": 280,
     "metadata": {},
     "output_type": "execute_result"
    }
   ],
   "source": [
    "mean_cv_res_sgd_tfidf #10 in max_iter"
   ]
  },
  {
   "cell_type": "code",
   "execution_count": 282,
   "metadata": {
    "hidden": true
   },
   "outputs": [
    {
     "data": {
      "text/plain": [
       "0.7364230632814868"
      ]
     },
     "execution_count": 282,
     "metadata": {},
     "output_type": "execute_result"
    }
   ],
   "source": [
    "mean_cv_res_sgd_tfidf# 100 in max_iter"
   ]
  },
  {
   "cell_type": "markdown",
   "metadata": {
    "hidden": true
   },
   "source": [
    "**NB**: Iterating more makes SVM drop in accuracy"
   ]
  },
  {
   "cell_type": "markdown",
   "metadata": {
    "heading_collapsed": true,
    "hidden": true
   },
   "source": [
    "### XGBoost"
   ]
  },
  {
   "cell_type": "code",
   "execution_count": 283,
   "metadata": {
    "hidden": true
   },
   "outputs": [
    {
     "name": "stdout",
     "output_type": "stream",
     "text": [
      "Collecting xgboost\n",
      "\u001b[?25l  Downloading https://files.pythonhosted.org/packages/be/87/aa2f2e55ea6ea2098ae191894488430162fe04b0fa89ac06dc923228a8d8/xgboost-1.1.1-py3-none-macosx_10_13_x86_64.macosx_10_14_x86_64.macosx_10_15_x86_64.whl (1.1MB)\n",
      "\u001b[K     |████████████████████████████████| 1.1MB 276kB/s eta 0:00:01\n",
      "\u001b[?25hRequirement already satisfied: scipy in /opt/anaconda3/envs/deep-learning/lib/python3.6/site-packages (from xgboost) (1.3.2)\n",
      "Requirement already satisfied: numpy in /opt/anaconda3/envs/deep-learning/lib/python3.6/site-packages (from xgboost) (1.17.3)\n",
      "Installing collected packages: xgboost\n",
      "Successfully installed xgboost-1.1.1\n"
     ]
    }
   ],
   "source": [
    "!pip install xgboost"
   ]
  },
  {
   "cell_type": "code",
   "execution_count": 287,
   "metadata": {
    "hidden": true
   },
   "outputs": [],
   "source": [
    "import xgboost as xgb\n",
    "\n",
    "xgb = Pipeline(steps=[('vect', TfidfVectorizer()),\n",
    "                      ('tfidf', TfidfTransformer()),\n",
    "                      ('xgboost', xgb.XGBClassifier(objective='multi:softmax'))])\n",
    "\n",
    "cv_res_xgb_tfidf = cross_val_score(xgb, X_train, y_train, cv=10)\n",
    "mean_cv_res_xgb_tfidf = np.mean(cv_res_xgb_tfidf)"
   ]
  },
  {
   "cell_type": "code",
   "execution_count": 288,
   "metadata": {
    "hidden": true
   },
   "outputs": [
    {
     "data": {
      "text/plain": [
       "0.740596360201003"
      ]
     },
     "execution_count": 288,
     "metadata": {},
     "output_type": "execute_result"
    }
   ],
   "source": [
    "mean_cv_res_xgb_tfidf"
   ]
  },
  {
   "cell_type": "code",
   "execution_count": 309,
   "metadata": {
    "hidden": true
   },
   "outputs": [],
   "source": [
    "xgb.fit(X_train, y_train)\n",
    "\n",
    "y_pred = xgb.predict(X_test)"
   ]
  },
  {
   "cell_type": "code",
   "execution_count": 310,
   "metadata": {
    "hidden": true
   },
   "outputs": [
    {
     "name": "stdout",
     "output_type": "stream",
     "text": [
      "accuracy 0.7517970401691332\n",
      "                                                    precision    recall  f1-score   support\n",
      "\n",
      "                             Fulfillment By Amazon       0.90      0.90      0.90       439\n",
      "                                 Selling on Amazon       0.74      0.51      0.61        78\n",
      "              Amazon Marketplace Web Service (MWS)       0.78      0.68      0.73        95\n",
      "                         Amazon Sponsored Products       0.74      0.68      0.71       164\n",
      "                                    Account Health       0.91      0.79      0.84        99\n",
      "                                    Global Selling       0.75      0.80      0.78       447\n",
      "                                        Amazon Pay       0.66      0.42      0.51       201\n",
      "                                            Groups       0.92      0.72      0.81       137\n",
      "Health,Safety,Sustainability,Security & Compliance       0.00      0.00      0.00        13\n",
      "                                 Login With Amazon       0.85      0.73      0.79        56\n",
      "                                     Amazon Custom       0.61      0.76      0.68       636\n",
      "\n",
      "                                          accuracy                           0.74      2365\n",
      "                                         macro avg       0.72      0.64      0.67      2365\n",
      "                                      weighted avg       0.75      0.74      0.74      2365\n",
      "\n"
     ]
    },
    {
     "name": "stderr",
     "output_type": "stream",
     "text": [
      "/opt/anaconda3/envs/deep-learning/lib/python3.6/site-packages/sklearn/metrics/classification.py:1437: UndefinedMetricWarning: Precision and F-score are ill-defined and being set to 0.0 in labels with no predicted samples.\n",
      "  'precision', 'predicted', average, warn_for)\n"
     ]
    }
   ],
   "source": [
    "print('accuracy %s' % accuracy_score(predicted_LGBM, y_test))\n",
    "res_xgb = accuracy_score(y_pred, y_test)\n",
    "print(classification_report(y_test, y_pred,target_names=my_categories))"
   ]
  },
  {
   "cell_type": "code",
   "execution_count": 311,
   "metadata": {
    "hidden": true
   },
   "outputs": [
    {
     "data": {
      "image/png": "[encoded data removed]",
      "text/plain": [
       "<Figure size 720x720 with 2 Axes>"
      ]
     },
     "metadata": {
      "needs_background": "light"
     },
     "output_type": "display_data"
    }
   ],
   "source": [
    "conf_mat = confusion_matrix(y_test, y_pred)\n",
    "fig, ax = plt.subplots(figsize=(10,10))\n",
    "sns.heatmap(conf_mat, annot=True, fmt='d',\n",
    "            xticklabels=my_categories, yticklabels=my_categories)\n",
    "plt.ylabel('Actual')\n",
    "plt.xlabel('Predicted')\n",
    "plt.show()"
   ]
  },
  {
   "cell_type": "markdown",
   "metadata": {
    "hidden": true
   },
   "source": [
    "We can see that:\n",
    "- Some posts (23 posts) from `Amazon Custom` got misclassified as `Fulfillment By Amazon`.\n",
    "- 68 posts from `Amazon Custom` got misclassified as `Global Selling`."
   ]
  },
  {
   "cell_type": "markdown",
   "metadata": {
    "heading_collapsed": true,
    "hidden": true
   },
   "source": [
    "### Light GBM"
   ]
  },
  {
   "cell_type": "markdown",
   "metadata": {
    "hidden": true
   },
   "source": [
    "About Light GBM: https://www.analyticsvidhya.com/blog/2018/06/comprehensive-guide-for-ensemble-models/"
   ]
  },
  {
   "cell_type": "code",
   "execution_count": 293,
   "metadata": {
    "hidden": true
   },
   "outputs": [
    {
     "name": "stdout",
     "output_type": "stream",
     "text": [
      "Collecting lightgbm\n",
      "\u001b[?25l  Downloading https://files.pythonhosted.org/packages/21/d1/7773d81964183f6892f71cf43b92f90d0bb8c954c05651d5071a2b480420/lightgbm-2.3.1-py2.py3-none-macosx_10_9_x86_64.macosx_10_10_x86_64.macosx_10_11_x86_64.macosx_10_12_x86_64.macosx_10_13_x86_64.macosx_10_14_x86_64.macosx_10_15_x86_64.whl (679kB)\n",
      "\u001b[K     |████████████████████████████████| 686kB 290kB/s eta 0:00:01\n",
      "\u001b[?25hRequirement already satisfied: scipy in /opt/anaconda3/envs/deep-learning/lib/python3.6/site-packages (from lightgbm) (1.3.2)\n",
      "Requirement already satisfied: scikit-learn in /opt/anaconda3/envs/deep-learning/lib/python3.6/site-packages (from lightgbm) (0.21.3)\n",
      "Requirement already satisfied: numpy in /opt/anaconda3/envs/deep-learning/lib/python3.6/site-packages (from lightgbm) (1.17.3)\n",
      "Requirement already satisfied: joblib>=0.11 in /opt/anaconda3/envs/deep-learning/lib/python3.6/site-packages (from scikit-learn->lightgbm) (0.14.0)\n",
      "Installing collected packages: lightgbm\n",
      "Successfully installed lightgbm-2.3.1\n"
     ]
    }
   ],
   "source": [
    "!pip install lightgbm"
   ]
  },
  {
   "cell_type": "code",
   "execution_count": 300,
   "metadata": {
    "hidden": true
   },
   "outputs": [],
   "source": [
    "import lightgbm as lgbm\n",
    "\n",
    "tfidf_vec = TfidfVectorizer(dtype=np.float32, sublinear_tf=True, use_idf=True, smooth_idf=True)\n",
    "X_data_tfidf = tfidf_vec.fit_transform(test_df3['post'])\n",
    "X_train_tfidf = tfidf_vec.transform(X_train)\n",
    "X_test_tfidf = tfidf_vec.transform(X_test)\n",
    "\n",
    "clf_LGBM = lgbm.LGBMClassifier(objective='multiclass', verbose=-1, learning_rate=0.5, max_depth=20, num_leaves=50, n_estimators=120, max_bin=2000,)\n",
    "clf_LGBM.fit(X_train_tfidf, y_train, verbose=-1)\n",
    "predicted_LGBM = clf_LGBM.predict(X_test_tfidf)"
   ]
  },
  {
   "cell_type": "code",
   "execution_count": 302,
   "metadata": {
    "hidden": true
   },
   "outputs": [],
   "source": [
    "cv_res_lgbm_tfidf = cross_val_score(clf_LGBM, X_train_tfidf, y_train, cv=10)\n",
    "mean_cv_res_lgbm_tfidf = np.mean(cv_res_lgbm_tfidf)"
   ]
  },
  {
   "cell_type": "code",
   "execution_count": 308,
   "metadata": {
    "hidden": true
   },
   "outputs": [
    {
     "data": {
      "text/plain": [
       "0.7036528977483523"
      ]
     },
     "execution_count": 308,
     "metadata": {},
     "output_type": "execute_result"
    }
   ],
   "source": [
    "mean_cv_res_lgbm_tfidf"
   ]
  },
  {
   "cell_type": "code",
   "execution_count": 307,
   "metadata": {
    "hidden": true
   },
   "outputs": [
    {
     "name": "stdout",
     "output_type": "stream",
     "text": [
      "accuracy 0.7517970401691332\n",
      "                                                    precision    recall  f1-score   support\n",
      "\n",
      "                             Fulfillment By Amazon       0.89      0.92      0.90       439\n",
      "                                 Selling on Amazon       0.73      0.47      0.57        78\n",
      "              Amazon Marketplace Web Service (MWS)       0.80      0.72      0.76        95\n",
      "                         Amazon Sponsored Products       0.74      0.69      0.72       164\n",
      "                                    Account Health       0.88      0.78      0.82        99\n",
      "                                    Global Selling       0.76      0.80      0.78       447\n",
      "                                        Amazon Pay       0.68      0.44      0.54       201\n",
      "                                            Groups       0.92      0.71      0.80       137\n",
      "Health,Safety,Sustainability,Security & Compliance       0.25      0.08      0.12        13\n",
      "                                 Login With Amazon       0.93      0.77      0.84        56\n",
      "                                     Amazon Custom       0.63      0.77      0.69       636\n",
      "\n",
      "                                          accuracy                           0.75      2365\n",
      "                                         macro avg       0.75      0.65      0.69      2365\n",
      "                                      weighted avg       0.76      0.75      0.75      2365\n",
      "\n"
     ]
    }
   ],
   "source": [
    "print('accuracy %s' % accuracy_score(predicted_LGBM, y_test))\n",
    "res_lgbm = accuracy_score(predicted_LGBM, y_test)\n",
    "print(classification_report(y_test, predicted_LGBM,target_names=my_categories))"
   ]
  },
  {
   "cell_type": "markdown",
   "metadata": {
    "hidden": true
   },
   "source": [
    "- The classes that have low accuracy are:\n",
    "    - Selling on Amazon\n",
    "    - Amazon Pay\n",
    "    - Health,Safety,Sustainability,Security & Compliance\n",
    "    - Amazon Custom \n",
    "- For these last 3 categories I tgink it's normal that the accuracy is so low. But for the `Selling on Amazon` I believe more invistigation on this category should be done. "
   ]
  },
  {
   "cell_type": "code",
   "execution_count": 304,
   "metadata": {
    "hidden": true
   },
   "outputs": [
    {
     "data": {
      "image/png": "[encoded data removed]",
      "text/plain": [
       "<Figure size 720x720 with 2 Axes>"
      ]
     },
     "metadata": {
      "needs_background": "light"
     },
     "output_type": "display_data"
    }
   ],
   "source": [
    "conf_mat = confusion_matrix(y_test, predicted_LGBM)\n",
    "fig, ax = plt.subplots(figsize=(10,10))\n",
    "sns.heatmap(conf_mat, annot=True, fmt='d',\n",
    "            xticklabels=my_categories, yticklabels=my_categories)\n",
    "plt.ylabel('Actual')\n",
    "plt.xlabel('Predicted')\n",
    "plt.show()"
   ]
  },
  {
   "cell_type": "markdown",
   "metadata": {
    "heading_collapsed": true
   },
   "source": [
    "# Other: Investigating Abbreviations"
   ]
  },
  {
   "cell_type": "code",
   "execution_count": 220,
   "metadata": {
    "hidden": true
   },
   "outputs": [],
   "source": [
    "data = pd.read_csv('minClean_amazon.csv')"
   ]
  },
  {
   "cell_type": "code",
   "execution_count": 218,
   "metadata": {
    "hidden": true
   },
   "outputs": [],
   "source": [
    "STOPWORDS = set(stopwords.words('english'))\n",
    "STOPWORDSv2 = [word.upper() for word in STOPWORDS]"
   ]
  },
  {
   "cell_type": "code",
   "execution_count": 219,
   "metadata": {
    "hidden": true
   },
   "outputs": [
    {
     "data": {
      "text/plain": [
       "[\"SHE'S\",\n",
       " 'WASN',\n",
       " 'IN',\n",
       " 'I',\n",
       " 'AGAINST',\n",
       " 'OUR',\n",
       " 'O',\n",
       " \"HADN'T\",\n",
       " 'AT',\n",
       " 'HERE',\n",
       " 'YOURSELF',\n",
       " 'SUCH',\n",
       " 'OWN',\n",
       " 'MY',\n",
       " 'COULDN',\n",
       " 'WHOM',\n",
       " 'HE',\n",
       " 'WILL',\n",
       " \"SHAN'T\",\n",
       " 'NOT',\n",
       " 'SAME',\n",
       " 'NO',\n",
       " 'RE',\n",
       " 'BEFORE',\n",
       " 'SHOULD',\n",
       " 'HASN',\n",
       " \"WEREN'T\",\n",
       " 'FEW',\n",
       " 'VE',\n",
       " 'AN',\n",
       " \"ISN'T\",\n",
       " \"WON'T\",\n",
       " 'DID',\n",
       " 'IT',\n",
       " \"AREN'T\",\n",
       " 'HAS',\n",
       " 'ABOVE',\n",
       " 'SHOULDN',\n",
       " 'ARE',\n",
       " 'FURTHER',\n",
       " 'BUT',\n",
       " 'UNDER',\n",
       " 'HIMSELF',\n",
       " \"NEEDN'T\",\n",
       " 'THERE',\n",
       " 'WHY',\n",
       " 'TO',\n",
       " \"MIGHTN'T\",\n",
       " 'WHEN',\n",
       " 'OF',\n",
       " \"DIDN'T\",\n",
       " 'HERSELF',\n",
       " 'THEIR',\n",
       " \"SHOULD'VE\",\n",
       " 'T',\n",
       " 'D',\n",
       " 'THEY',\n",
       " 'WHICH',\n",
       " 'BEEN',\n",
       " 'THE',\n",
       " 'THEN',\n",
       " \"WASN'T\",\n",
       " 'SHE',\n",
       " 'ON',\n",
       " 'TOO',\n",
       " 'VERY',\n",
       " 'BEING',\n",
       " 'HAVEN',\n",
       " 'LL',\n",
       " 'DON',\n",
       " 'DOWN',\n",
       " 'BECAUSE',\n",
       " 'ITSELF',\n",
       " 'AIN',\n",
       " 'ME',\n",
       " 'WOULDN',\n",
       " 'MYSELF',\n",
       " 'AGAIN',\n",
       " 'SHAN',\n",
       " \"HASN'T\",\n",
       " \"YOU'D\",\n",
       " 'IF',\n",
       " 'OUT',\n",
       " 'HOW',\n",
       " 'JUST',\n",
       " 'AREN',\n",
       " 'DOING',\n",
       " 'AS',\n",
       " \"MUSTN'T\",\n",
       " 'THESE',\n",
       " 'CAN',\n",
       " 'HERS',\n",
       " 'THEM',\n",
       " 'ALL',\n",
       " \"COULDN'T\",\n",
       " 'HAD',\n",
       " 'THAN',\n",
       " 'OTHER',\n",
       " 'MIGHTN',\n",
       " 'BETWEEN',\n",
       " 'WE',\n",
       " 'THAT',\n",
       " 'DURING',\n",
       " 'BE',\n",
       " 'DOES',\n",
       " \"HAVEN'T\",\n",
       " 'ISN',\n",
       " 'IS',\n",
       " 'AM',\n",
       " 'HAVE',\n",
       " 'INTO',\n",
       " 'HIS',\n",
       " 'HIM',\n",
       " \"WOULDN'T\",\n",
       " 'ITS',\n",
       " 'EACH',\n",
       " 'MA',\n",
       " 'WEREN',\n",
       " 'MOST',\n",
       " 'AFTER',\n",
       " 'AND',\n",
       " 'UP',\n",
       " 'OFF',\n",
       " 'DOESN',\n",
       " 'SO',\n",
       " 'THEMSELVES',\n",
       " 'OR',\n",
       " 'WHILE',\n",
       " 'HAVING',\n",
       " 'BOTH',\n",
       " \"YOU'RE\",\n",
       " 'BY',\n",
       " 'NOR',\n",
       " 'WERE',\n",
       " \"YOU'VE\",\n",
       " 'Y',\n",
       " 'YOU',\n",
       " 'THEIRS',\n",
       " 'ONCE',\n",
       " 'WITH',\n",
       " 'NEEDN',\n",
       " 'BELOW',\n",
       " 'WHO',\n",
       " 'DO',\n",
       " 'HER',\n",
       " 'ABOUT',\n",
       " 'YOUR',\n",
       " 'MUSTN',\n",
       " 'M',\n",
       " 'SOME',\n",
       " 'OURS',\n",
       " 'FROM',\n",
       " 'OURSELVES',\n",
       " 'MORE',\n",
       " 'A',\n",
       " 'THROUGH',\n",
       " 'S',\n",
       " \"DON'T\",\n",
       " 'DIDN',\n",
       " 'NOW',\n",
       " \"SHOULDN'T\",\n",
       " 'THOSE',\n",
       " 'OVER',\n",
       " 'WON',\n",
       " \"IT'S\",\n",
       " 'WHERE',\n",
       " \"DOESN'T\",\n",
       " 'HADN',\n",
       " 'ANY',\n",
       " \"THAT'LL\",\n",
       " 'ONLY',\n",
       " 'WAS',\n",
       " 'YOURS',\n",
       " 'YOURSELVES',\n",
       " \"YOU'LL\",\n",
       " 'WHAT',\n",
       " 'THIS',\n",
       " 'FOR',\n",
       " 'UNTIL']"
      ]
     },
     "execution_count": 219,
     "metadata": {},
     "output_type": "execute_result"
    }
   ],
   "source": [
    "STOPWORDSv2"
   ]
  },
  {
   "cell_type": "code",
   "execution_count": 221,
   "metadata": {
    "hidden": true
   },
   "outputs": [],
   "source": [
    "def clean_data(text):\n",
    "    \"\"\"\n",
    "        text: a string\n",
    "        \n",
    "        return: modified initial string\n",
    "    \"\"\"\n",
    "    text = BeautifulSoup(text, \"lxml\").text # HTML decoding\n",
    "    text = ' '.join(word for word in text.split() if word not in STOPWORDSv2) # delete stopwors from text\n",
    "    return text\n",
    "    \n",
    "data['Leading Comment'] = data['Leading Comment'].apply(clean_data)"
   ]
  },
  {
   "cell_type": "code",
   "execution_count": 222,
   "metadata": {
    "hidden": true
   },
   "outputs": [
    {
     "data": {
      "text/plain": [
       "0                            need to know how to start\n",
       "1    Hi are there any other seller experiencing del...\n",
       "2    Hi all So back when the new removaldisposal fe...\n",
       "3    Im using inventorylab to upload my inventory t...\n",
       "4    recently listed 100 books for sale on Amazon 2...\n",
       "Name: Leading Comment, dtype: object"
      ]
     },
     "execution_count": 222,
     "metadata": {},
     "output_type": "execute_result"
    }
   ],
   "source": [
    "data['Leading Comment'].head()"
   ]
  },
  {
   "cell_type": "code",
   "execution_count": 223,
   "metadata": {
    "hidden": true
   },
   "outputs": [],
   "source": [
    "upcase_words = {}\n",
    "regex = r\"([A-Z]{3})\"\n",
    "\n",
    "for i, row in zip(range(500), data['Leading Comment'][:500]):\n",
    "    row = data['Leading Comment'].str.findall(regex)[i]\n",
    "    if len(row) != 0:\n",
    "        upcase_words[i] = row"
   ]
  },
  {
   "cell_type": "code",
   "execution_count": 224,
   "metadata": {
    "hidden": true
   },
   "outputs": [],
   "source": [
    "df_upword = pd.DataFrame(upcase_words.items(), columns=['Original Index', 'Upper Case Words'])"
   ]
  },
  {
   "cell_type": "code",
   "execution_count": 225,
   "metadata": {
    "hidden": true,
    "scrolled": true
   },
   "outputs": [
    {
     "data": {
      "text/html": [
       "<div>\n",
       "<style scoped>\n",
       "    .dataframe tbody tr th:only-of-type {\n",
       "        vertical-align: middle;\n",
       "    }\n",
       "\n",
       "    .dataframe tbody tr th {\n",
       "        vertical-align: top;\n",
       "    }\n",
       "\n",
       "    .dataframe thead th {\n",
       "        text-align: right;\n",
       "    }\n",
       "</style>\n",
       "<table border=\"1\" class=\"dataframe\">\n",
       "  <thead>\n",
       "    <tr style=\"text-align: right;\">\n",
       "      <th></th>\n",
       "      <th>Original Index</th>\n",
       "      <th>Upper Case Words</th>\n",
       "    </tr>\n",
       "  </thead>\n",
       "  <tbody>\n",
       "    <tr>\n",
       "      <th>0</th>\n",
       "      <td>1</td>\n",
       "      <td>[FBA]</td>\n",
       "    </tr>\n",
       "    <tr>\n",
       "      <th>1</th>\n",
       "      <td>6</td>\n",
       "      <td>[MDW]</td>\n",
       "    </tr>\n",
       "    <tr>\n",
       "      <th>2</th>\n",
       "      <td>8</td>\n",
       "      <td>[FBA, FBM, FBA, FBM, FBA]</td>\n",
       "    </tr>\n",
       "    <tr>\n",
       "      <th>3</th>\n",
       "      <td>9</td>\n",
       "      <td>[FNS, FBA]</td>\n",
       "    </tr>\n",
       "    <tr>\n",
       "      <th>4</th>\n",
       "      <td>10</td>\n",
       "      <td>[FBA, FBA, FBA]</td>\n",
       "    </tr>\n",
       "  </tbody>\n",
       "</table>\n",
       "</div>"
      ],
      "text/plain": [
       "   Original Index           Upper Case Words\n",
       "0               1                      [FBA]\n",
       "1               6                      [MDW]\n",
       "2               8  [FBA, FBM, FBA, FBM, FBA]\n",
       "3               9                 [FNS, FBA]\n",
       "4              10            [FBA, FBA, FBA]"
      ]
     },
     "execution_count": 225,
     "metadata": {},
     "output_type": "execute_result"
    }
   ],
   "source": [
    "df_upword.head()"
   ]
  },
  {
   "cell_type": "code",
   "execution_count": 226,
   "metadata": {
    "hidden": true
   },
   "outputs": [],
   "source": [
    "df_upword['Number of UpCase Words'] =  df_upword['Upper Case Words'].apply(lambda x: len(x))"
   ]
  },
  {
   "cell_type": "code",
   "execution_count": 227,
   "metadata": {
    "hidden": true,
    "scrolled": true
   },
   "outputs": [
    {
     "data": {
      "text/html": [
       "<div>\n",
       "<style scoped>\n",
       "    .dataframe tbody tr th:only-of-type {\n",
       "        vertical-align: middle;\n",
       "    }\n",
       "\n",
       "    .dataframe tbody tr th {\n",
       "        vertical-align: top;\n",
       "    }\n",
       "\n",
       "    .dataframe thead th {\n",
       "        text-align: right;\n",
       "    }\n",
       "</style>\n",
       "<table border=\"1\" class=\"dataframe\">\n",
       "  <thead>\n",
       "    <tr style=\"text-align: right;\">\n",
       "      <th></th>\n",
       "      <th>Original Index</th>\n",
       "      <th>Upper Case Words</th>\n",
       "      <th>Number of UpCase Words</th>\n",
       "    </tr>\n",
       "  </thead>\n",
       "  <tbody>\n",
       "    <tr>\n",
       "      <th>0</th>\n",
       "      <td>1</td>\n",
       "      <td>[FBA]</td>\n",
       "      <td>1</td>\n",
       "    </tr>\n",
       "    <tr>\n",
       "      <th>1</th>\n",
       "      <td>6</td>\n",
       "      <td>[MDW]</td>\n",
       "      <td>1</td>\n",
       "    </tr>\n",
       "    <tr>\n",
       "      <th>2</th>\n",
       "      <td>8</td>\n",
       "      <td>[FBA, FBM, FBA, FBM, FBA]</td>\n",
       "      <td>5</td>\n",
       "    </tr>\n",
       "    <tr>\n",
       "      <th>3</th>\n",
       "      <td>9</td>\n",
       "      <td>[FNS, FBA]</td>\n",
       "      <td>2</td>\n",
       "    </tr>\n",
       "    <tr>\n",
       "      <th>4</th>\n",
       "      <td>10</td>\n",
       "      <td>[FBA, FBA, FBA]</td>\n",
       "      <td>3</td>\n",
       "    </tr>\n",
       "  </tbody>\n",
       "</table>\n",
       "</div>"
      ],
      "text/plain": [
       "   Original Index           Upper Case Words  Number of UpCase Words\n",
       "0               1                      [FBA]                       1\n",
       "1               6                      [MDW]                       1\n",
       "2               8  [FBA, FBM, FBA, FBM, FBA]                       5\n",
       "3               9                 [FNS, FBA]                       2\n",
       "4              10            [FBA, FBA, FBA]                       3"
      ]
     },
     "execution_count": 227,
     "metadata": {},
     "output_type": "execute_result"
    }
   ],
   "source": [
    "df_upword.head()"
   ]
  },
  {
   "cell_type": "code",
   "execution_count": 228,
   "metadata": {
    "hidden": true
   },
   "outputs": [
    {
     "data": {
      "text/plain": [
       "61"
      ]
     },
     "execution_count": 228,
     "metadata": {},
     "output_type": "execute_result"
    }
   ],
   "source": [
    "df_upword['Number of UpCase Words'].values.max()"
   ]
  },
  {
   "cell_type": "code",
   "execution_count": 230,
   "metadata": {
    "hidden": true,
    "scrolled": true
   },
   "outputs": [
    {
     "data": {
      "text/plain": [
       "130    61\n",
       "Name: Number of UpCase Words, dtype: int64"
      ]
     },
     "execution_count": 230,
     "metadata": {},
     "output_type": "execute_result"
    }
   ],
   "source": [
    "df_upword['Number of UpCase Words'][df_upword['Number of UpCase Words'].values == 61]"
   ]
  },
  {
   "cell_type": "code",
   "execution_count": 231,
   "metadata": {
    "hidden": true
   },
   "outputs": [
    {
     "data": {
      "text/plain": [
       "61"
      ]
     },
     "execution_count": 231,
     "metadata": {},
     "output_type": "execute_result"
    }
   ],
   "source": [
    "df_upword['Number of UpCase Words'][130]"
   ]
  },
  {
   "cell_type": "code",
   "execution_count": 232,
   "metadata": {
    "hidden": true
   },
   "outputs": [
    {
     "data": {
      "text/plain": [
       "['FBA',\n",
       " 'OHI',\n",
       " 'FBA',\n",
       " 'FBA',\n",
       " 'ORI',\n",
       " 'GIN',\n",
       " 'CAS',\n",
       " 'URL',\n",
       " 'FBA',\n",
       " 'FBA',\n",
       " 'FBA',\n",
       " 'URL',\n",
       " 'FBA',\n",
       " 'FBA',\n",
       " 'FBA',\n",
       " 'URL',\n",
       " 'ASA',\n",
       " 'CAS',\n",
       " 'URL',\n",
       " 'ASA',\n",
       " 'FBA',\n",
       " 'FBA',\n",
       " 'FBA',\n",
       " 'FBA',\n",
       " 'FBA',\n",
       " 'URL',\n",
       " 'FBA',\n",
       " 'URL',\n",
       " 'URL',\n",
       " 'FBA',\n",
       " 'URL',\n",
       " 'FBA',\n",
       " 'FBA',\n",
       " 'FNS',\n",
       " 'FBA',\n",
       " 'CAS',\n",
       " 'URL',\n",
       " 'WAY',\n",
       " 'GET',\n",
       " 'HEL',\n",
       " 'FBA',\n",
       " 'FBR',\n",
       " 'URL',\n",
       " 'URL',\n",
       " 'FBA',\n",
       " 'ORI',\n",
       " 'GIN',\n",
       " 'CAS',\n",
       " 'URL',\n",
       " 'URL',\n",
       " 'CAS',\n",
       " 'TEL',\n",
       " 'WAI',\n",
       " 'TIN',\n",
       " 'CHE',\n",
       " 'CKE',\n",
       " 'FBA',\n",
       " 'FBA',\n",
       " 'FBA',\n",
       " 'FBA',\n",
       " 'DDB']"
      ]
     },
     "execution_count": 232,
     "metadata": {},
     "output_type": "execute_result"
    }
   ],
   "source": [
    "df_upword['Upper Case Words'][130]"
   ]
  },
  {
   "cell_type": "code",
   "execution_count": 239,
   "metadata": {
    "hidden": true
   },
   "outputs": [],
   "source": [
    "abb = {}\n",
    "for word in df_upword['Upper Case Words'][130]:\n",
    "    if word in abb.keys():\n",
    "        abb[word] += 1\n",
    "    else:\n",
    "        abb[word] = 1"
   ]
  },
  {
   "cell_type": "code",
   "execution_count": 240,
   "metadata": {
    "hidden": true
   },
   "outputs": [
    {
     "data": {
      "text/plain": [
       "{'FBA': 25,\n",
       " 'OHI': 1,\n",
       " 'ORI': 2,\n",
       " 'GIN': 2,\n",
       " 'CAS': 5,\n",
       " 'URL': 13,\n",
       " 'ASA': 2,\n",
       " 'FNS': 1,\n",
       " 'WAY': 1,\n",
       " 'GET': 1,\n",
       " 'HEL': 1,\n",
       " 'FBR': 1,\n",
       " 'TEL': 1,\n",
       " 'WAI': 1,\n",
       " 'TIN': 1,\n",
       " 'CHE': 1,\n",
       " 'CKE': 1,\n",
       " 'DDB': 1}"
      ]
     },
     "execution_count": 240,
     "metadata": {},
     "output_type": "execute_result"
    }
   ],
   "source": [
    "abb"
   ]
  },
  {
   "cell_type": "markdown",
   "metadata": {
    "hidden": true
   },
   "source": [
    "The ones that looks legilible to me are: **FBA** , OHI, CAS, **URL**, ASA, **FNS**, WAY, GET, HEL, **FBR**, TEL, CHE, **CKE**, **DDB**"
   ]
  },
  {
   "cell_type": "code",
   "execution_count": null,
   "metadata": {
    "hidden": true
   },
   "outputs": [],
   "source": []
  }
 ],
 "metadata": {
  "kernelspec": {
   "display_name": "Python 3",
   "language": "python",
   "name": "python3"
  },
  "language_info": {
   "codemirror_mode": {
    "name": "ipython",
    "version": 3
   },
   "file_extension": ".py",
   "mimetype": "text/x-python",
   "name": "python",
   "nbconvert_exporter": "python",
   "pygments_lexer": "ipython3",
   "version": "3.8.0"
  },
  "toc": {
   "base_numbering": 1,
   "nav_menu": {},
   "number_sections": true,
   "sideBar": true,
   "skip_h1_title": false,
   "title_cell": "Table of Contents",
   "title_sidebar": "Contents",
   "toc_cell": false,
   "toc_position": {
    "height": "566.364px",
    "left": "21px",
    "top": "110.284px",
    "width": "261.804px"
   },
   "toc_section_display": true,
   "toc_window_display": false
  }
 },
 "nbformat": 4,
 "nbformat_minor": 2
}
