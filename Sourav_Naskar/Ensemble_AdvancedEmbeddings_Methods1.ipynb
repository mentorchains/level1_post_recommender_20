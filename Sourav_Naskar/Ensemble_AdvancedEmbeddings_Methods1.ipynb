{
 "cells": [
  {
   "cell_type": "markdown",
   "metadata": {},
   "source": [
    "# Getting the data"
   ]
  },
  {
   "cell_type": "code",
   "execution_count": 1,
   "metadata": {
    "scrolled": true
   },
   "outputs": [
    {
     "data": {
      "text/html": [
       "<div>\n",
       "<style scoped>\n",
       "    .dataframe tbody tr th:only-of-type {\n",
       "        vertical-align: middle;\n",
       "    }\n",
       "\n",
       "    .dataframe tbody tr th {\n",
       "        vertical-align: top;\n",
       "    }\n",
       "\n",
       "    .dataframe thead th {\n",
       "        text-align: right;\n",
       "    }\n",
       "</style>\n",
       "<table border=\"1\" class=\"dataframe\">\n",
       "  <thead>\n",
       "    <tr style=\"text-align: right;\">\n",
       "      <th></th>\n",
       "      <th>Unnamed: 0</th>\n",
       "      <th>Topic Title</th>\n",
       "      <th>Category</th>\n",
       "      <th>Tags</th>\n",
       "      <th>Leading Comment</th>\n",
       "      <th>Other Comments</th>\n",
       "      <th>Likes</th>\n",
       "      <th>Views</th>\n",
       "    </tr>\n",
       "  </thead>\n",
       "  <tbody>\n",
       "    <tr>\n",
       "      <th>0</th>\n",
       "      <td>0</td>\n",
       "      <td>[How to] Format code in posts</td>\n",
       "      <td>Getting Started</td>\n",
       "      <td>[]</td>\n",
       "      <td>Codecademy Discuss posts are parsed with Markd...</td>\n",
       "      <td>[]</td>\n",
       "      <td>21</td>\n",
       "      <td>13.9k</td>\n",
       "    </tr>\n",
       "    <tr>\n",
       "      <th>1</th>\n",
       "      <td>1</td>\n",
       "      <td>Guide: A list of how-to’s for giving and recei...</td>\n",
       "      <td>Getting Started</td>\n",
       "      <td>[]</td>\n",
       "      <td>Technical guides will teach you how to use the...</td>\n",
       "      <td>[]</td>\n",
       "      <td>0</td>\n",
       "      <td>0</td>\n",
       "    </tr>\n",
       "    <tr>\n",
       "      <th>2</th>\n",
       "      <td>2</td>\n",
       "      <td>Guide: Learn about our community forums</td>\n",
       "      <td>Getting Started</td>\n",
       "      <td>[]</td>\n",
       "      <td>Take a moment and read through each of these b...</td>\n",
       "      <td>[]</td>\n",
       "      <td>0</td>\n",
       "      <td>0</td>\n",
       "    </tr>\n",
       "    <tr>\n",
       "      <th>3</th>\n",
       "      <td>3</td>\n",
       "      <td>[How-to] Create a topic that everyone will read</td>\n",
       "      <td>Getting Started</td>\n",
       "      <td>[]</td>\n",
       "      <td>A great topic is one that provides potential h...</td>\n",
       "      <td>[]</td>\n",
       "      <td>0</td>\n",
       "      <td>0</td>\n",
       "    </tr>\n",
       "    <tr>\n",
       "      <th>4</th>\n",
       "      <td>4</td>\n",
       "      <td>[Learn More] How the forum is organized</td>\n",
       "      <td>Getting Started</td>\n",
       "      <td>[]</td>\n",
       "      <td>With Codecademy Community forums, conversation...</td>\n",
       "      <td>[]</td>\n",
       "      <td>0</td>\n",
       "      <td>0</td>\n",
       "    </tr>\n",
       "  </tbody>\n",
       "</table>\n",
       "</div>"
      ],
      "text/plain": [
       "   Unnamed: 0                                        Topic Title  \\\n",
       "0           0                      [How to] Format code in posts   \n",
       "1           1  Guide: A list of how-to’s for giving and recei...   \n",
       "2           2            Guide: Learn about our community forums   \n",
       "3           3    [How-to] Create a topic that everyone will read   \n",
       "4           4            [Learn More] How the forum is organized   \n",
       "\n",
       "          Category Tags                                    Leading Comment  \\\n",
       "0  Getting Started   []  Codecademy Discuss posts are parsed with Markd...   \n",
       "1  Getting Started   []  Technical guides will teach you how to use the...   \n",
       "2  Getting Started   []  Take a moment and read through each of these b...   \n",
       "3  Getting Started   []  A great topic is one that provides potential h...   \n",
       "4  Getting Started   []  With Codecademy Community forums, conversation...   \n",
       "\n",
       "  Other Comments Likes  Views  \n",
       "0             []    21  13.9k  \n",
       "1             []     0      0  \n",
       "2             []     0      0  \n",
       "3             []     0      0  \n",
       "4             []     0      0  "
      ]
     },
     "execution_count": 1,
     "metadata": {},
     "output_type": "execute_result"
    }
   ],
   "source": [
    "import pandas as pd\n",
    "\n",
    "data = pd.read_csv('Codeacademy_Webscrapper_20210107154307.csv')\n",
    "data.head()"
   ]
  },
  {
   "cell_type": "markdown",
   "metadata": {},
   "source": [
    "# Explore the data"
   ]
  },
  {
   "cell_type": "code",
   "execution_count": 2,
   "metadata": {},
   "outputs": [],
   "source": [
    "import logging\n",
    "import pandas as pd\n",
    "import numpy as np\n",
    "from numpy import random\n",
    "import gensim\n",
    "import nltk\n",
    "from sklearn.model_selection import train_test_split\n",
    "from sklearn.feature_extraction.text import CountVectorizer, TfidfVectorizer\n",
    "from sklearn.metrics import accuracy_score, confusion_matrix\n",
    "import matplotlib.pyplot as plt\n",
    "from nltk.corpus import stopwords\n",
    "import re\n",
    "from bs4 import BeautifulSoup\n",
    "%matplotlib inline"
   ]
  },
  {
   "cell_type": "code",
   "execution_count": 3,
   "metadata": {},
   "outputs": [],
   "source": [
    "df = data.copy()"
   ]
  },
  {
   "cell_type": "code",
   "execution_count": 4,
   "metadata": {},
   "outputs": [],
   "source": [
    "df['text'] = df['Topic Title'] + ' ' + df['Tags'] + ' ' + df['Leading Comment']"
   ]
  },
  {
   "cell_type": "code",
   "execution_count": 5,
   "metadata": {},
   "outputs": [
    {
     "data": {
      "text/plain": [
       "array(['Getting Started', 'Get Help', 'Community', 'Projects', 'FAQ'],\n",
       "      dtype=object)"
      ]
     },
     "execution_count": 5,
     "metadata": {},
     "output_type": "execute_result"
    }
   ],
   "source": [
    "df['Category'].unique()"
   ]
  },
  {
   "cell_type": "code",
   "execution_count": 6,
   "metadata": {},
   "outputs": [
    {
     "data": {
      "text/plain": [
       "array(['Get Help', 'Community', 'Projects', 'FAQ'], dtype=object)"
      ]
     },
     "execution_count": 6,
     "metadata": {},
     "output_type": "execute_result"
    }
   ],
   "source": [
    "df.drop(df.loc[df['Category']=='Getting Started'].index, inplace=True)\n",
    "df['Category'].unique()"
   ]
  },
  {
   "cell_type": "code",
   "execution_count": 7,
   "metadata": {},
   "outputs": [
    {
     "data": {
      "text/plain": [
       "Text(0, 0.5, 'no of posts')"
      ]
     },
     "execution_count": 7,
     "metadata": {},
     "output_type": "execute_result"
    },
    {
     "data": {
      "image/png": "[encoded data removed]",
      "text/plain": [
       "<Figure size 720x288 with 1 Axes>"
      ]
     },
     "metadata": {
      "needs_background": "light"
     },
     "output_type": "display_data"
    }
   ],
   "source": [
    "my_categories = ['Get Help',\n",
    "       'Community', 'Projects', 'FAQ']\n",
    "plt.figure(figsize=(10,4))\n",
    "df.Category.value_counts().plot(kind='bar');\n",
    "# Add title and axis names\n",
    "plt.title('Category wise no of posts')\n",
    "plt.xlabel('Category name')\n",
    "plt.ylabel('no of posts')"
   ]
  },
  {
   "cell_type": "code",
   "execution_count": 8,
   "metadata": {},
   "outputs": [],
   "source": [
    "REPLACE_BY_SPACE_RE = re.compile('[/(){}\\[\\]\\'\\“\\”\\’\\|@,;]')\n",
    "BAD_SYMBOLS_RE = re.compile('[^0-9a-z #+_]')\n",
    "STOPWORDS = set(stopwords.words('english'))\n",
    "DIGITS_RE=re.compile('\\w*\\d\\w*')\n",
    "\n",
    "def clean_text(text):\n",
    "    \"\"\"\n",
    "        text: a string\n",
    "        \n",
    "        return: modified initial string\n",
    "    \"\"\"\n",
    "    text = BeautifulSoup(text, \"lxml\").text # HTML decoding\n",
    "    text = text.lower() # lowercase text\n",
    "    text = REPLACE_BY_SPACE_RE.sub(' ', text) # replace REPLACE_BY_SPACE_RE symbols by space in text\n",
    "    text = text.replace(r'\\n', ' ')\n",
    "    text = BAD_SYMBOLS_RE.sub('', text) # delete symbols which are in BAD_SYMBOLS_RE from text\n",
    "    #text = ''.join(word for word in text if word not in punct)  # remove punctuation\n",
    "    text = ' '.join(word for word in text.split() if word not in STOPWORDS) # delete stopwors from text\n",
    "    text = DIGITS_RE.sub('', text)\n",
    "    return text"
   ]
  },
  {
   "cell_type": "code",
   "execution_count": 9,
   "metadata": {},
   "outputs": [],
   "source": [
    "df['text']=df['text'].apply(clean_text)"
   ]
  },
  {
   "cell_type": "code",
   "execution_count": 10,
   "metadata": {
    "scrolled": true
   },
   "outputs": [],
   "source": [
    "df_x = df['text']\n",
    "df_y = df['Category']"
   ]
  },
  {
   "cell_type": "markdown",
   "metadata": {},
   "source": [
    "# Building the Machine Learning model & pipeline"
   ]
  },
  {
   "cell_type": "markdown",
   "metadata": {},
   "source": [
    "### Converting to Doc2Vec"
   ]
  },
  {
   "cell_type": "code",
   "execution_count": 11,
   "metadata": {},
   "outputs": [],
   "source": [
    "from gensim.models.doc2vec import TaggedDocument, Doc2Vec\n",
    "from sklearn.base import BaseEstimator\n",
    "from sklearn import utils as skl_utils\n",
    "from tqdm import tqdm\n",
    "\n",
    "import multiprocessing\n",
    "import numpy as np\n",
    "\n",
    "class Doc2VecTransformer(BaseEstimator):\n",
    "\n",
    "    def __init__(self, vector_size=100, learning_rate=0.02, epochs=20):\n",
    "        self.learning_rate = learning_rate\n",
    "        self.epochs = epochs\n",
    "        self._model = None\n",
    "        self.vector_size = vector_size\n",
    "        self.workers = multiprocessing.cpu_count() - 1\n",
    "\n",
    "    def fit(self, df_x, df_y=None):\n",
    "        tagged_x = [TaggedDocument(clean_text(row).split(), [index]) for index, row in enumerate(df_x)]\n",
    "        model = Doc2Vec(documents=tagged_x, vector_size=self.vector_size, workers=self.workers)\n",
    "\n",
    "        for epoch in range(self.epochs):\n",
    "            model.train(skl_utils.shuffle([x for x in tqdm(tagged_x)]), total_examples=len(tagged_x), epochs=1)\n",
    "            model.alpha -= self.learning_rate\n",
    "            model.min_alpha = model.alpha\n",
    "\n",
    "        self._model = model\n",
    "        return self\n",
    "\n",
    "    def transform(self, df_x):\n",
    "        return np.asmatrix(np.array([self._model.infer_vector(clean_text(row).split())\n",
    "                                     for index, row in enumerate(df_x)]))"
   ]
  },
  {
   "cell_type": "code",
   "execution_count": 12,
   "metadata": {},
   "outputs": [
    {
     "name": "stderr",
     "output_type": "stream",
     "text": [
      "100%|██████████████████████████████████████████████████████████████████████████████████████| 5438/5438 [00:00<?, ?it/s]\n",
      "100%|██████████████████████████████████████████████████████████████████████████| 5438/5438 [00:00<00:00, 506464.42it/s]\n",
      "100%|██████████████████████████████████████████████████████████████████████████| 5438/5438 [00:00<00:00, 704644.11it/s]\n",
      "100%|██████████████████████████████████████████████████████████████████████████████████████| 5438/5438 [00:00<?, ?it/s]\n",
      "100%|██████████████████████████████████████████████████████████████████████████| 5438/5438 [00:00<00:00, 404343.72it/s]\n",
      "100%|██████████████████████████████████████████████████████████████████████████| 5438/5438 [00:00<00:00, 818246.64it/s]\n",
      "100%|██████████████████████████████████████████████████████████████████████████| 5438/5438 [00:00<00:00, 407806.64it/s]\n",
      "100%|██████████████████████████████████████████████████████████████████████████████████████| 5438/5438 [00:00<?, ?it/s]\n",
      "100%|██████████████████████████████████████████████████████████████████████████████████████| 5438/5438 [00:00<?, ?it/s]\n",
      "100%|██████████████████████████████████████████████████████████████████████████| 5438/5438 [00:00<00:00, 553930.08it/s]\n",
      "100%|██████████████████████████████████████████████████████████████████████████| 5438/5438 [00:00<00:00, 913843.71it/s]\n",
      "100%|██████████████████████████████████████████████████████████████████████████| 5438/5438 [00:00<00:00, 679657.47it/s]\n",
      "100%|██████████████████████████████████████████████████████████████████████████████████████| 5438/5438 [00:00<?, ?it/s]\n",
      "100%|██████████████████████████████████████████████████████████████████████████████████████| 5438/5438 [00:00<?, ?it/s]\n",
      "100%|██████████████████████████████████████████████████████████████████████████████████████| 5438/5438 [00:00<?, ?it/s]\n",
      "100%|██████████████████████████████████████████████████████████████████████████████████████| 5438/5438 [00:00<?, ?it/s]\n",
      "100%|██████████████████████████████████████████████████████████████████████████| 5438/5438 [00:00<00:00, 679860.06it/s]\n",
      "100%|██████████████████████████████████████████████████████████████████████████| 5438/5438 [00:00<00:00, 678424.31it/s]\n",
      "100%|██████████████████████████████████████████████████████████████████████████████████████| 5438/5438 [00:00<?, ?it/s]\n",
      "100%|██████████████████████████████████████████████████████████████████████████████████████| 5438/5438 [00:00<?, ?it/s]\n"
     ]
    },
    {
     "data": {
      "text/plain": [
       "matrix([[-4.72816965e-03, -2.84944917e-03,  3.56974849e-03, ...,\n",
       "          4.69671469e-03,  8.02068796e-04,  4.34946315e-03],\n",
       "        [ 3.72387259e-03,  3.80354119e-03, -3.06721614e-03, ...,\n",
       "          6.07398397e-04,  3.73286987e-03, -9.43814637e-04],\n",
       "        [-2.93252796e-01, -5.37579060e-01, -4.02580202e-01, ...,\n",
       "         -6.84932107e-04,  7.69210905e-02,  6.74205542e-01],\n",
       "        ...,\n",
       "        [ 1.15434546e-03, -6.71076239e-04, -1.30216870e-03, ...,\n",
       "          4.75814939e-03, -2.12510535e-03, -1.59308780e-03],\n",
       "        [-4.55362024e-03, -1.49201199e-01, -8.41621906e-02, ...,\n",
       "         -6.00798335e-03,  1.11271329e-02,  8.63768905e-02],\n",
       "        [-6.24870174e-02, -7.74535015e-02, -8.15281644e-02, ...,\n",
       "          2.55655497e-02,  6.39082305e-03,  1.21168174e-01]],\n",
       "       dtype=float32)"
      ]
     },
     "execution_count": 12,
     "metadata": {},
     "output_type": "execute_result"
    }
   ],
   "source": [
    "doc2vec_trf = Doc2VecTransformer()\n",
    "doc2vec_features = doc2vec_trf.fit(df_x).transform(df_x)\n",
    "doc2vec_features"
   ]
  },
  {
   "cell_type": "markdown",
   "metadata": {},
   "source": [
    "# Pipeline with Doc2Vec & LogisticRegression"
   ]
  },
  {
   "cell_type": "code",
   "execution_count": 13,
   "metadata": {},
   "outputs": [
    {
     "name": "stderr",
     "output_type": "stream",
     "text": [
      "100%|██████████████████████████████████████████████████████████████████████████████████████| 4350/4350 [00:00<?, ?it/s]\n",
      "100%|██████████████████████████████████████████████████████████████████████████| 4350/4350 [00:00<00:00, 543724.59it/s]\n",
      "100%|█████████████████████████████████████████████████████████████████████████| 4350/4350 [00:00<00:00, 1113056.52it/s]\n",
      "100%|██████████████████████████████████████████████████████████████████████████| 4350/4350 [00:00<00:00, 543627.39it/s]\n",
      "100%|██████████████████████████████████████████████████████████████████████████████████████| 4350/4350 [00:00<?, ?it/s]\n",
      "100%|██████████████████████████████████████████████████████████████████████████████████████| 4350/4350 [00:00<?, ?it/s]\n",
      "100%|██████████████████████████████████████████████████████████████████████████| 4350/4350 [00:00<00:00, 278463.74it/s]\n",
      "100%|██████████████████████████████████████████████████████████████████████████████████████| 4350/4350 [00:00<?, ?it/s]\n",
      "100%|██████████████████████████████████████████████████████████████████████████| 4350/4350 [00:00<00:00, 543838.04it/s]\n",
      "100%|██████████████████████████████████████████████████████████████████████████████████████| 4350/4350 [00:00<?, ?it/s]\n",
      "100%|██████████████████████████████████████████████████████████████████████████████████████| 4350/4350 [00:00<?, ?it/s]\n",
      "100%|██████████████████████████████████████████████████████████████████████████| 4350/4350 [00:00<00:00, 539767.54it/s]\n",
      "100%|██████████████████████████████████████████████████████████████████████████████████████| 4350/4350 [00:00<?, ?it/s]\n",
      "100%|██████████████████████████████████████████████████████████████████████████████████████| 4350/4350 [00:00<?, ?it/s]\n",
      "100%|██████████████████████████████████████████████████████████████████████████████████████| 4350/4350 [00:00<?, ?it/s]\n",
      "100%|██████████████████████████████████████████████████████████████████████████████████████| 4350/4350 [00:00<?, ?it/s]\n",
      "100%|██████████████████████████████████████████████████████████████████████████████████████| 4350/4350 [00:00<?, ?it/s]\n",
      "100%|██████████████████████████████████████████████████████████████████████████████████████| 4350/4350 [00:00<?, ?it/s]\n",
      "100%|██████████████████████████████████████████████████████████████████████████████████████| 4350/4350 [00:00<?, ?it/s]\n",
      "100%|██████████████████████████████████████████████████████████████████████████████████████| 4350/4350 [00:00<?, ?it/s]\n",
      "c:\\users\\hp\\appdata\\local\\programs\\python\\python38\\lib\\site-packages\\sklearn\\linear_model\\_sag.py:329: ConvergenceWarning: The max_iter was reached which means the coef_ did not converge\n",
      "  warnings.warn(\"The max_iter was reached which means \"\n",
      "100%|██████████████████████████████████████████████████████████████████████████| 4350/4350 [00:00<00:00, 543368.35it/s]\n",
      "100%|██████████████████████████████████████████████████████████████████████████████████████| 4350/4350 [00:00<?, ?it/s]\n",
      "100%|██████████████████████████████████████████████████████████████████████████| 4350/4350 [00:00<00:00, 543740.80it/s]\n",
      "100%|██████████████████████████████████████████████████████████████████████████| 4350/4350 [00:00<00:00, 543757.00it/s]\n",
      "100%|██████████████████████████████████████████████████████████████████████████| 4350/4350 [00:00<00:00, 266376.94it/s]\n",
      "100%|██████████████████████████████████████████████████████████████████████████████████████| 4350/4350 [00:00<?, ?it/s]\n",
      "100%|██████████████████████████████████████████████████████████████████████████████████████| 4350/4350 [00:00<?, ?it/s]\n",
      "100%|██████████████████████████████████████████████████████████████████████████████████████| 4350/4350 [00:00<?, ?it/s]\n",
      "100%|██████████████████████████████████████████████████████████████████████████| 4350/4350 [00:00<00:00, 543838.04it/s]\n",
      "100%|██████████████████████████████████████████████████████████████████████████████████████| 4350/4350 [00:00<?, ?it/s]\n",
      "100%|██████████████████████████████████████████████████████████████████████████████████████| 4350/4350 [00:00<?, ?it/s]\n",
      "100%|██████████████████████████████████████████████████████████████████████████████████████| 4350/4350 [00:00<?, ?it/s]\n",
      "100%|██████████████████████████████████████████████████████████████████████████████████████| 4350/4350 [00:00<?, ?it/s]\n",
      "100%|██████████████████████████████████████████████████████████████████████████| 4350/4350 [00:00<00:00, 278480.74it/s]\n",
      "100%|██████████████████████████████████████████████████████████████████████████████████████| 4350/4350 [00:00<?, ?it/s]\n",
      "100%|██████████████████████████████████████████████████████████████████████████████████████| 4350/4350 [00:00<?, ?it/s]\n",
      "100%|██████████████████████████████████████████████████████████████████████████| 4350/4350 [00:00<00:00, 269899.74it/s]\n",
      "100%|██████████████████████████████████████████████████████████████████████████████████████| 4350/4350 [00:00<?, ?it/s]\n",
      "100%|██████████████████████████████████████████████████████████████████████████████████████| 4350/4350 [00:00<?, ?it/s]\n",
      "100%|██████████████████████████████████████████████████████████████████████████████████████| 4350/4350 [00:00<?, ?it/s]\n",
      "c:\\users\\hp\\appdata\\local\\programs\\python\\python38\\lib\\site-packages\\sklearn\\linear_model\\_sag.py:329: ConvergenceWarning: The max_iter was reached which means the coef_ did not converge\n",
      "  warnings.warn(\"The max_iter was reached which means \"\n",
      "100%|██████████████████████████████████████████████████████████████████████████████████████| 4350/4350 [00:00<?, ?it/s]\n",
      "100%|█████████████████████████████████████████████████████████████████████████| 4350/4350 [00:00<00:00, 2135692.66it/s]\n",
      "100%|██████████████████████████████████████████████████████████████████████████████████████| 4350/4350 [00:00<?, ?it/s]\n",
      "100%|██████████████████████████████████████████████████████████████████████████████████████| 4350/4350 [00:00<?, ?it/s]\n",
      "100%|██████████████████████████████████████████████████████████████████████████████████████| 4350/4350 [00:00<?, ?it/s]\n",
      "100%|██████████████████████████████████████████████████████████████████████████| 4350/4350 [00:00<00:00, 278446.74it/s]\n",
      "100%|██████████████████████████████████████████████████████████████████████████████████████| 4350/4350 [00:00<?, ?it/s]\n",
      "100%|█████████████████████████████████████████████████████████████████████████| 4350/4350 [00:00<00:00, 2123265.73it/s]\n",
      "100%|██████████████████████████████████████████████████████████████████████████████████████| 4350/4350 [00:00<?, ?it/s]\n",
      "100%|██████████████████████████████████████████████████████████████████████████████████████| 4350/4350 [00:00<?, ?it/s]\n",
      "100%|██████████████████████████████████████████████████████████████████████████████████████| 4350/4350 [00:00<?, ?it/s]\n",
      "100%|██████████████████████████████████████████████████████████████████████████████████████| 4350/4350 [00:00<?, ?it/s]\n",
      "100%|█████████████████████████████████████████████████████████████████████████| 4350/4350 [00:00<00:00, 2134193.75it/s]\n",
      "100%|██████████████████████████████████████████████████████████████████████████████████████| 4350/4350 [00:00<?, ?it/s]\n",
      "100%|██████████████████████████████████████████████████████████████████████████████████████| 4350/4350 [00:00<?, ?it/s]\n",
      "100%|██████████████████████████████████████████████████████████████████████████████████████| 4350/4350 [00:00<?, ?it/s]\n",
      "100%|██████████████████████████████████████████████████████████████████████████████████████| 4350/4350 [00:00<?, ?it/s]\n",
      "100%|██████████████████████████████████████████████████████████████████████████████████████| 4350/4350 [00:00<?, ?it/s]\n",
      "100%|██████████████████████████████████████████████████████████████████████████████████████| 4350/4350 [00:00<?, ?it/s]\n",
      "100%|██████████████████████████████████████████████████████████████████████████████████████| 4350/4350 [00:00<?, ?it/s]\n",
      "c:\\users\\hp\\appdata\\local\\programs\\python\\python38\\lib\\site-packages\\sklearn\\linear_model\\_sag.py:329: ConvergenceWarning: The max_iter was reached which means the coef_ did not converge\n",
      "  warnings.warn(\"The max_iter was reached which means \"\n",
      "100%|██████████████████████████████████████████████████████████████████████████████████████| 4351/4351 [00:00<?, ?it/s]\n",
      "100%|██████████████████████████████████████████████████████████████████████████████████████| 4351/4351 [00:00<?, ?it/s]\n",
      "100%|██████████████████████████████████████████████████████████████████████████| 4351/4351 [00:00<00:00, 543719.96it/s]\n",
      "100%|██████████████████████████████████████████████████████████████████████████████████████| 4351/4351 [00:00<?, ?it/s]\n",
      "100%|██████████████████████████████████████████████████████████████████████████████████████| 4351/4351 [00:00<?, ?it/s]\n",
      "100%|██████████████████████████████████████████████████████████████████████████████████████| 4351/4351 [00:00<?, ?it/s]\n",
      "100%|██████████████████████████████████████████████████████████████████████████████████████| 4351/4351 [00:00<?, ?it/s]\n",
      "100%|██████████████████████████████████████████████████████████████████████████| 4351/4351 [00:00<00:00, 291277.62it/s]\n",
      "100%|██████████████████████████████████████████████████████████████████████████████████████| 4351/4351 [00:00<?, ?it/s]\n",
      "100%|██████████████████████████████████████████████████████████████████████████████████████| 4351/4351 [00:00<?, ?it/s]\n",
      "100%|██████████████████████████████████████████████████████████████████████████████████████| 4351/4351 [00:00<?, ?it/s]\n",
      "100%|██████████████████████████████████████████████████████████████████████████████████████| 4351/4351 [00:00<?, ?it/s]\n",
      "100%|██████████████████████████████████████████████████████████████████████████████████████| 4351/4351 [00:00<?, ?it/s]\n",
      "100%|██████████████████████████████████████████████████████████████████████████| 4351/4351 [00:00<00:00, 542378.72it/s]\n",
      "100%|██████████████████████████████████████████████████████████████████████████████████████| 4351/4351 [00:00<?, ?it/s]\n",
      "100%|██████████████████████████████████████████████████████████████████████████| 4351/4351 [00:00<00:00, 543736.16it/s]\n",
      "100%|██████████████████████████████████████████████████████████████████████████| 4351/4351 [00:00<00:00, 385561.92it/s]\n",
      "100%|██████████████████████████████████████████████████████████████████████████| 4351/4351 [00:00<00:00, 278532.00it/s]\n",
      "100%|██████████████████████████████████████████████████████████████████████████████████████| 4351/4351 [00:00<?, ?it/s]\n",
      "100%|██████████████████████████████████████████████████████████████████████████████████████| 4351/4351 [00:00<?, ?it/s]\n",
      "c:\\users\\hp\\appdata\\local\\programs\\python\\python38\\lib\\site-packages\\sklearn\\linear_model\\_sag.py:329: ConvergenceWarning: The max_iter was reached which means the coef_ did not converge\n",
      "  warnings.warn(\"The max_iter was reached which means \"\n",
      "100%|██████████████████████████████████████████████████████████████████████████████████████| 4351/4351 [00:00<?, ?it/s]\n",
      "100%|██████████████████████████████████████████████████████████████████████████████████████| 4351/4351 [00:00<?, ?it/s]\n",
      "100%|██████████████████████████████████████████████████████████████████████████████████████| 4351/4351 [00:00<?, ?it/s]\n",
      "100%|██████████████████████████████████████████████████████████████████████████████████████| 4351/4351 [00:00<?, ?it/s]\n",
      "100%|██████████████████████████████████████████████████████████████████████████| 4351/4351 [00:00<00:00, 539333.18it/s]\n",
      "100%|██████████████████████████████████████████████████████████████████████████████████████| 4351/4351 [00:00<?, ?it/s]\n",
      "100%|██████████████████████████████████████████████████████████████████████████████████████| 4351/4351 [00:00<?, ?it/s]\n",
      "100%|██████████████████████████████████████████████████████████████████████████| 4351/4351 [00:00<00:00, 543882.00it/s]\n",
      "100%|██████████████████████████████████████████████████████████████████████████████████████| 4351/4351 [00:00<?, ?it/s]\n",
      "100%|██████████████████████████████████████████████████████████████████████████████████████| 4351/4351 [00:00<?, ?it/s]\n",
      "100%|██████████████████████████████████████████████████████████████████████████| 4351/4351 [00:00<00:00, 543833.38it/s]\n",
      "100%|██████████████████████████████████████████████████████████████████████████████████████| 4351/4351 [00:00<?, ?it/s]\n",
      "100%|██████████████████████████████████████████████████████████████████████████████████████| 4351/4351 [00:00<?, ?it/s]\n",
      "100%|█████████████████████████████████████████████████████████████████████████| 4351/4351 [00:00<00:00, 2130696.64it/s]\n",
      "100%|██████████████████████████████████████████████████████████████████████████████████████| 4351/4351 [00:00<?, ?it/s]\n",
      "100%|██████████████████████████████████████████████████████████████████████████████████████| 4351/4351 [00:00<?, ?it/s]\n",
      "100%|██████████████████████████████████████████████████████████████████████████████████████| 4351/4351 [00:00<?, ?it/s]\n",
      "100%|██████████████████████████████████████████████████████████████████████████| 4351/4351 [00:00<00:00, 543768.56it/s]\n",
      "100%|██████████████████████████████████████████████████████████████████████████| 4351/4351 [00:00<00:00, 543817.17it/s]\n",
      "100%|██████████████████████████████████████████████████████████████████████████| 4351/4351 [00:00<00:00, 543849.59it/s]\n",
      "c:\\users\\hp\\appdata\\local\\programs\\python\\python38\\lib\\site-packages\\sklearn\\linear_model\\_sag.py:329: ConvergenceWarning: The max_iter was reached which means the coef_ did not converge\n",
      "  warnings.warn(\"The max_iter was reached which means \"\n"
     ]
    },
    {
     "name": "stdout",
     "output_type": "stream",
     "text": [
      "Accuracy for Logistic Regression:  0.39444910438876557\n"
     ]
    }
   ],
   "source": [
    "from sklearn.pipeline import Pipeline\n",
    "from sklearn.linear_model import LogisticRegression\n",
    "from sklearn.model_selection import cross_val_score\n",
    "\n",
    "pl_log_reg = Pipeline(steps=[('doc2vec',Doc2VecTransformer()),\n",
    "                             ('log_reg', LogisticRegression(multi_class='multinomial', solver='saga', max_iter=100))])\n",
    "scores = cross_val_score(pl_log_reg, df_x, df_y, cv=5,scoring='accuracy')\n",
    "print('Accuracy for Logistic Regression: ', scores.mean())"
   ]
  },
  {
   "cell_type": "markdown",
   "metadata": {},
   "source": [
    "# Pipeline with Doc2Vec & RandomForest"
   ]
  },
  {
   "cell_type": "code",
   "execution_count": 14,
   "metadata": {},
   "outputs": [
    {
     "name": "stderr",
     "output_type": "stream",
     "text": [
      "100%|██████████████████████████████████████████████████████████████████████████████████████| 4350/4350 [00:00<?, ?it/s]\n",
      "100%|██████████████████████████████████████████████████████████████████████████████████████| 4350/4350 [00:00<?, ?it/s]\n",
      "100%|██████████████████████████████████████████████████████████████████████████| 4350/4350 [00:00<00:00, 543708.39it/s]\n",
      "100%|██████████████████████████████████████████████████████████████████████████| 4350/4350 [00:00<00:00, 569611.39it/s]\n",
      "100%|██████████████████████████████████████████████████████████████████████████████████████| 4350/4350 [00:00<?, ?it/s]\n",
      "100%|██████████████████████████████████████████████████████████████████████████████████████| 4350/4350 [00:00<?, ?it/s]\n",
      "100%|██████████████████████████████████████████████████████████████████████████████████████| 4350/4350 [00:00<?, ?it/s]\n",
      "100%|██████████████████████████████████████████████████████████████████████████████████████| 4350/4350 [00:00<?, ?it/s]\n",
      "100%|██████████████████████████████████████████████████████████████████████████████████████| 4350/4350 [00:00<?, ?it/s]\n",
      "100%|██████████████████████████████████████████████████████████████████████████████████████| 4350/4350 [00:00<?, ?it/s]\n",
      "100%|██████████████████████████████████████████████████████████████████████████████████████| 4350/4350 [00:00<?, ?it/s]\n",
      "100%|██████████████████████████████████████████████████████████████████████████████████████| 4350/4350 [00:00<?, ?it/s]\n",
      "100%|██████████████████████████████████████████████████████████████████████████████████████| 4350/4350 [00:00<?, ?it/s]\n",
      "100%|██████████████████████████████████████████████████████████████████████████████████████| 4350/4350 [00:00<?, ?it/s]\n",
      "100%|██████████████████████████████████████████████████████████████████████████████████████| 4350/4350 [00:00<?, ?it/s]\n",
      "100%|██████████████████████████████████████████████████████████████████████████████████████| 4350/4350 [00:00<?, ?it/s]\n",
      "100%|██████████████████████████████████████████████████████████████████████████████████████| 4350/4350 [00:00<?, ?it/s]\n",
      "100%|██████████████████████████████████████████████████████████████████████████████████████| 4350/4350 [00:00<?, ?it/s]\n",
      "100%|██████████████████████████████████████████████████████████████████████████████████████| 4350/4350 [00:00<?, ?it/s]\n",
      "100%|██████████████████████████████████████████████████████████████████████████████████████| 4350/4350 [00:00<?, ?it/s]\n",
      "100%|██████████████████████████████████████████████████████████████████████████████████████| 4350/4350 [00:00<?, ?it/s]\n",
      "100%|██████████████████████████████████████████████████████████████████████████████████████| 4350/4350 [00:00<?, ?it/s]\n",
      "100%|██████████████████████████████████████████████████████████████████████████████████████| 4350/4350 [00:00<?, ?it/s]\n",
      "100%|█████████████████████████████████████████████████████████████████████████| 4350/4350 [00:00<00:00, 4092692.33it/s]\n",
      "100%|██████████████████████████████████████████████████████████████████████████████████████| 4350/4350 [00:00<?, ?it/s]\n",
      "100%|██████████████████████████████████████████████████████████████████████████████████████| 4350/4350 [00:00<?, ?it/s]\n",
      "100%|██████████████████████████████████████████████████████████████████████████████████████| 4350/4350 [00:00<?, ?it/s]\n",
      "100%|██████████████████████████████████████████████████████████████████████████████████████| 4350/4350 [00:00<?, ?it/s]\n",
      "100%|██████████████████████████████████████████████████████████████████████████████████████| 4350/4350 [00:00<?, ?it/s]\n",
      "100%|██████████████████████████████████████████████████████████████████████████████████████| 4350/4350 [00:00<?, ?it/s]\n",
      "100%|██████████████████████████████████████████████████████████████████████████████████████| 4350/4350 [00:00<?, ?it/s]\n",
      "100%|██████████████████████████████████████████████████████████████████████████████████████| 4350/4350 [00:00<?, ?it/s]\n",
      "100%|██████████████████████████████████████████████████████████████████████████████████████| 4350/4350 [00:00<?, ?it/s]\n",
      "100%|██████████████████████████████████████████████████████████████████████████████████████| 4350/4350 [00:00<?, ?it/s]\n",
      "100%|██████████████████████████████████████████████████████████████████████████████████████| 4350/4350 [00:00<?, ?it/s]\n",
      "100%|██████████████████████████████████████████████████████████████████████████████████████| 4350/4350 [00:00<?, ?it/s]\n",
      "100%|██████████████████████████████████████████████████████████████████████████████████████| 4350/4350 [00:00<?, ?it/s]\n",
      "100%|█████████████████████████████████████████████████████████████████████████| 4350/4350 [00:00<00:00, 1464538.64it/s]\n",
      "100%|██████████████████████████████████████████████████████████████████████████████████████| 4350/4350 [00:00<?, ?it/s]\n",
      "100%|██████████████████████████████████████████████████████████████████████████████████████| 4350/4350 [00:00<?, ?it/s]\n",
      "100%|██████████████████████████████████████████████████████████████████████████████████████| 4350/4350 [00:00<?, ?it/s]\n",
      "100%|██████████████████████████████████████████████████████████████████████████████████████| 4350/4350 [00:00<?, ?it/s]\n",
      "100%|██████████████████████████████████████████████████████████████████████████████████████| 4350/4350 [00:00<?, ?it/s]\n",
      "100%|██████████████████████████████████████████████████████████████████████████████████████| 4350/4350 [00:00<?, ?it/s]\n",
      "100%|██████████████████████████████████████████████████████████████████████████████████████| 4350/4350 [00:00<?, ?it/s]\n",
      "100%|██████████████████████████████████████████████████████████████████████████████████████| 4350/4350 [00:00<?, ?it/s]\n",
      "100%|██████████████████████████████████████████████████████████████████████████████████████| 4350/4350 [00:00<?, ?it/s]\n",
      "100%|██████████████████████████████████████████████████████████████████████████████████████| 4350/4350 [00:00<?, ?it/s]\n",
      "100%|██████████████████████████████████████████████████████████████████████████████████████| 4350/4350 [00:00<?, ?it/s]\n",
      "100%|██████████████████████████████████████████████████████████████████████████| 4350/4350 [00:00<00:00, 543740.80it/s]\n",
      "100%|██████████████████████████████████████████████████████████████████████████| 4350/4350 [00:00<00:00, 278433.99it/s]\n",
      "100%|██████████████████████████████████████████████████████████████████████████████████████| 4350/4350 [00:00<?, ?it/s]\n",
      "100%|██████████████████████████████████████████████████████████████████████████████████████| 4350/4350 [00:00<?, ?it/s]\n",
      "100%|██████████████████████████████████████████████████████████████████████████████████████| 4350/4350 [00:00<?, ?it/s]\n",
      "100%|██████████████████████████████████████████████████████████████████████████████████████| 4350/4350 [00:00<?, ?it/s]\n",
      "100%|██████████████████████████████████████████████████████████████████████████| 4350/4350 [00:00<00:00, 540087.10it/s]\n",
      "100%|██████████████████████████████████████████████████████████████████████████| 4350/4350 [00:00<00:00, 543659.79it/s]\n",
      "100%|██████████████████████████████████████████████████████████████████████████████████████| 4350/4350 [00:00<?, ?it/s]\n",
      "100%|██████████████████████████████████████████████████████████████████████████████████████| 4350/4350 [00:00<?, ?it/s]\n",
      "100%|██████████████████████████████████████████████████████████████████████████████████████| 4350/4350 [00:00<?, ?it/s]\n",
      "100%|██████████████████████████████████████████████████████████████████████████████████████| 4351/4351 [00:00<?, ?it/s]\n",
      "100%|██████████████████████████████████████████████████████████████████████████████████████| 4351/4351 [00:00<?, ?it/s]\n",
      "100%|██████████████████████████████████████████████████████████████████████████████████████| 4351/4351 [00:00<?, ?it/s]\n",
      "100%|██████████████████████████████████████████████████████████████████████████████████████| 4351/4351 [00:00<?, ?it/s]\n",
      "100%|██████████████████████████████████████████████████████████████████████████████████████| 4351/4351 [00:00<?, ?it/s]\n",
      "100%|██████████████████████████████████████████████████████████████████████████████████████| 4351/4351 [00:00<?, ?it/s]\n",
      "100%|██████████████████████████████████████████████████████████████████████████████████████| 4351/4351 [00:00<?, ?it/s]\n",
      "100%|██████████████████████████████████████████████████████████████████████████████████████| 4351/4351 [00:00<?, ?it/s]\n",
      "100%|██████████████████████████████████████████████████████████████████████████████████████| 4351/4351 [00:00<?, ?it/s]\n",
      "100%|██████████████████████████████████████████████████████████████████████████| 4351/4351 [00:00<00:00, 543914.42it/s]\n",
      "100%|██████████████████████████████████████████████████████████████████████████████████████| 4351/4351 [00:00<?, ?it/s]\n",
      "100%|██████████████████████████████████████████████████████████████████████████████████████| 4351/4351 [00:00<?, ?it/s]\n",
      "100%|██████████████████████████████████████████████████████████████████████████| 4351/4351 [00:00<00:00, 278515.00it/s]\n",
      "100%|██████████████████████████████████████████████████████████████████████████████████████| 4351/4351 [00:00<?, ?it/s]\n",
      "100%|██████████████████████████████████████████████████████████████████████████████████████| 4351/4351 [00:00<?, ?it/s]\n",
      "100%|██████████████████████████████████████████████████████████████████████████| 4351/4351 [00:00<00:00, 532860.80it/s]\n",
      "100%|█████████████████████████████████████████████████████████████████████████| 4351/4351 [00:00<00:00, 2131941.20it/s]\n",
      "100%|██████████████████████████████████████████████████████████████████████████| 4351/4351 [00:00<00:00, 278510.75it/s]\n",
      "100%|██████████████████████████████████████████████████████████████████████████████████████| 4351/4351 [00:00<?, ?it/s]\n",
      "100%|██████████████████████████████████████████████████████████████████████████████████████| 4351/4351 [00:00<?, ?it/s]\n",
      "100%|██████████████████████████████████████████████████████████████████████████████████████| 4351/4351 [00:00<?, ?it/s]\n",
      "100%|██████████████████████████████████████████████████████████████████████████████████████| 4351/4351 [00:00<?, ?it/s]\n",
      "100%|██████████████████████████████████████████████████████████████████████████████████████| 4351/4351 [00:00<?, ?it/s]\n",
      "100%|██████████████████████████████████████████████████████████████████████████████████████| 4351/4351 [00:00<?, ?it/s]\n",
      "100%|██████████████████████████████████████████████████████████████████████████████████████| 4351/4351 [00:00<?, ?it/s]\n",
      "100%|██████████████████████████████████████████████████████████████████████████| 4351/4351 [00:00<00:00, 543817.17it/s]\n",
      "100%|██████████████████████████████████████████████████████████████████████████| 4351/4351 [00:00<00:00, 539126.05it/s]\n",
      "100%|██████████████████████████████████████████████████████████████████████████████████████| 4351/4351 [00:00<?, ?it/s]\n",
      "100%|██████████████████████████████████████████████████████████████████████████| 4351/4351 [00:00<00:00, 543865.79it/s]\n",
      "100%|██████████████████████████████████████████████████████████████████████████| 4351/4351 [00:00<00:00, 543914.42it/s]\n",
      "100%|██████████████████████████████████████████████████████████████████████████████████████| 4351/4351 [00:00<?, ?it/s]\n",
      "100%|██████████████████████████████████████████████████████████████████████████████████████| 4351/4351 [00:00<?, ?it/s]\n",
      "100%|█████████████████████████████████████████████████████████████████████████| 4351/4351 [00:00<00:00, 3766649.47it/s]\n",
      "100%|██████████████████████████████████████████████████████████████████████████████████████| 4351/4351 [00:00<?, ?it/s]\n",
      "100%|██████████████████████████████████████████████████████████████████████████████████████| 4351/4351 [00:00<?, ?it/s]\n",
      "100%|██████████████████████████████████████████████████████████████████████████| 4351/4351 [00:00<00:00, 540307.22it/s]\n",
      "100%|██████████████████████████████████████████████████████████████████████████████████████| 4351/4351 [00:00<?, ?it/s]\n",
      "100%|██████████████████████████████████████████████████████████████████████████████████████| 4351/4351 [00:00<?, ?it/s]\n",
      "100%|██████████████████████████████████████████████████████████████████████████████████████| 4351/4351 [00:00<?, ?it/s]\n",
      "100%|██████████████████████████████████████████████████████████████████████████| 4351/4351 [00:00<00:00, 278544.75it/s]\n"
     ]
    },
    {
     "name": "stdout",
     "output_type": "stream",
     "text": [
      "Accuracy for RandomForest :  0.37734320038963143\n"
     ]
    }
   ],
   "source": [
    "from sklearn.ensemble import RandomForestClassifier\n",
    "\n",
    "pl_random_forest = Pipeline(steps=[('doc2vec',Doc2VecTransformer()),\n",
    "                                   ('random_forest', RandomForestClassifier())])\n",
    "scores = cross_val_score(pl_random_forest, df_x, df_y, cv=5,scoring='accuracy')\n",
    "print('Accuracy for RandomForest : ', scores.mean())"
   ]
  },
  {
   "cell_type": "markdown",
   "metadata": {},
   "source": [
    "# Pipeline with Doc2Vec & XGBoost"
   ]
  },
  {
   "cell_type": "code",
   "execution_count": 15,
   "metadata": {},
   "outputs": [
    {
     "name": "stderr",
     "output_type": "stream",
     "text": [
      "100%|██████████████████████████████████████████████████████████████████████████████████████| 4350/4350 [00:00<?, ?it/s]\n",
      "100%|██████████████████████████████████████████████████████████████████████████████████████| 4350/4350 [00:00<?, ?it/s]\n",
      "100%|██████████████████████████████████████████████████████████████████████████████████████| 4350/4350 [00:00<?, ?it/s]\n",
      "100%|██████████████████████████████████████████████████████████████████████████████████████| 4350/4350 [00:00<?, ?it/s]\n",
      "100%|██████████████████████████████████████████████████████████████████████████████████████| 4350/4350 [00:00<?, ?it/s]\n",
      "100%|██████████████████████████████████████████████████████████████████████████████████████| 4350/4350 [00:00<?, ?it/s]\n",
      "100%|██████████████████████████████████████████████████████████████████████████| 4350/4350 [00:00<00:00, 543724.59it/s]\n",
      "100%|██████████████████████████████████████████████████████████████████████████████████████| 4350/4350 [00:00<?, ?it/s]\n",
      "100%|██████████████████████████████████████████████████████████████████████████| 4350/4350 [00:00<00:00, 543789.41it/s]\n",
      "100%|██████████████████████████████████████████████████████████████████████████████████████| 4350/4350 [00:00<?, ?it/s]\n",
      "100%|██████████████████████████████████████████████████████████████████████████████████████| 4350/4350 [00:00<?, ?it/s]\n",
      "100%|██████████████████████████████████████████████████████████████████████████████████████| 4350/4350 [00:00<?, ?it/s]\n",
      "100%|██████████████████████████████████████████████████████████████████████████████████████| 4350/4350 [00:00<?, ?it/s]\n",
      "100%|██████████████████████████████████████████████████████████████████████████| 4350/4350 [00:00<00:00, 543757.00it/s]\n",
      "100%|██████████████████████████████████████████████████████████████████████████████████████| 4350/4350 [00:00<?, ?it/s]\n",
      "100%|██████████████████████████████████████████████████████████████████████████████████████| 4350/4350 [00:00<?, ?it/s]\n",
      "100%|██████████████████████████████████████████████████████████████████████████████████████| 4350/4350 [00:00<?, ?it/s]\n",
      "100%|██████████████████████████████████████████████████████████████████████████████████████| 4350/4350 [00:00<?, ?it/s]\n",
      "100%|██████████████████████████████████████████████████████████████████████████████████████| 4350/4350 [00:00<?, ?it/s]\n",
      "100%|██████████████████████████████████████████████████████████████████████████████████████| 4350/4350 [00:00<?, ?it/s]\n",
      "c:\\users\\hp\\appdata\\local\\programs\\python\\python38\\lib\\site-packages\\xgboost\\sklearn.py:892: UserWarning: The use of label encoder in XGBClassifier is deprecated and will be removed in a future release. To remove this warning, do the following: 1) Pass option use_label_encoder=False when constructing XGBClassifier object; and 2) Encode your labels (y) as integers starting with 0, i.e. 0, 1, 2, ..., [num_class - 1].\n",
      "  warnings.warn(label_encoder_deprecation_msg, UserWarning)\n"
     ]
    },
    {
     "name": "stdout",
     "output_type": "stream",
     "text": [
      "[14:45:45] WARNING: C:/Users/Administrator/workspace/xgboost-win64_release_1.3.0/src/learner.cc:1061: Starting in XGBoost 1.3.0, the default evaluation metric used with the objective 'multi:softprob' was changed from 'merror' to 'mlogloss'. Explicitly set eval_metric if you'd like to restore the old behavior.\n"
     ]
    },
    {
     "name": "stderr",
     "output_type": "stream",
     "text": [
      "100%|██████████████████████████████████████████████████████████████████████████| 4350/4350 [00:00<00:00, 278506.24it/s]\n",
      "100%|██████████████████████████████████████████████████████████████████████████| 4350/4350 [00:00<00:00, 543805.62it/s]\n",
      "100%|██████████████████████████████████████████████████████████████████████████████████████| 4350/4350 [00:00<?, ?it/s]\n",
      "100%|██████████████████████████████████████████████████████████████████████████████████████| 4350/4350 [00:00<?, ?it/s]\n",
      "100%|██████████████████████████████████████████████████████████████████████████| 4350/4350 [00:00<00:00, 539368.62it/s]\n",
      "100%|██████████████████████████████████████████████████████████████████████████████████████| 4350/4350 [00:00<?, ?it/s]\n",
      "100%|██████████████████████████████████████████████████████████████████████████| 4350/4350 [00:00<00:00, 543659.79it/s]\n",
      "100%|██████████████████████████████████████████████████████████████████████████████████████| 4350/4350 [00:00<?, ?it/s]\n",
      "100%|██████████████████████████████████████████████████████████████████████████████████████| 4350/4350 [00:00<?, ?it/s]\n",
      "100%|██████████████████████████████████████████████████████████████████████████████████████| 4350/4350 [00:00<?, ?it/s]\n",
      "100%|██████████████████████████████████████████████████████████████████████████████████████| 4350/4350 [00:00<?, ?it/s]\n",
      "100%|██████████████████████████████████████████████████████████████████████████████████████| 4350/4350 [00:00<?, ?it/s]\n",
      "100%|██████████████████████████████████████████████████████████████████████████████████████| 4350/4350 [00:00<?, ?it/s]\n",
      "100%|██████████████████████████████████████████████████████████████████████████| 4350/4350 [00:00<00:00, 543854.25it/s]\n",
      "100%|██████████████████████████████████████████████████████████████████████████| 4350/4350 [00:00<00:00, 543724.59it/s]\n",
      "100%|██████████████████████████████████████████████████████████████████████████████████████| 4350/4350 [00:00<?, ?it/s]\n",
      "100%|██████████████████████████████████████████████████████████████████████████████████████| 4350/4350 [00:00<?, ?it/s]\n",
      "100%|██████████████████████████████████████████████████████████████████████████| 4350/4350 [00:00<00:00, 278450.99it/s]\n",
      "100%|██████████████████████████████████████████████████████████████████████████████████████| 4350/4350 [00:00<?, ?it/s]\n",
      "100%|██████████████████████████████████████████████████████████████████████████| 4350/4350 [00:00<00:00, 543854.25it/s]\n"
     ]
    },
    {
     "name": "stdout",
     "output_type": "stream",
     "text": [
      "[14:46:25] WARNING: C:/Users/Administrator/workspace/xgboost-win64_release_1.3.0/src/learner.cc:1061: Starting in XGBoost 1.3.0, the default evaluation metric used with the objective 'multi:softprob' was changed from 'merror' to 'mlogloss'. Explicitly set eval_metric if you'd like to restore the old behavior.\n"
     ]
    },
    {
     "name": "stderr",
     "output_type": "stream",
     "text": [
      "100%|██████████████████████████████████████████████████████████████████████████| 4350/4350 [00:00<00:00, 543773.21it/s]\n",
      "100%|██████████████████████████████████████████████████████████████████████████████████████| 4350/4350 [00:00<?, ?it/s]\n",
      "100%|██████████████████████████████████████████████████████████████████████████████████████| 4350/4350 [00:00<?, ?it/s]\n",
      "100%|██████████████████████████████████████████████████████████████████████████| 4350/4350 [00:00<00:00, 503122.17it/s]\n",
      "100%|██████████████████████████████████████████████████████████████████████████| 4350/4350 [00:00<00:00, 589392.12it/s]\n",
      "100%|██████████████████████████████████████████████████████████████████████████| 4350/4350 [00:00<00:00, 543805.62it/s]\n",
      "100%|██████████████████████████████████████████████████████████████████████████| 4350/4350 [00:00<00:00, 543675.99it/s]\n",
      "100%|██████████████████████████████████████████████████████████████████████████████████████| 4350/4350 [00:00<?, ?it/s]\n",
      "100%|██████████████████████████████████████████████████████████████████████████████████████| 4350/4350 [00:00<?, ?it/s]\n",
      "100%|██████████████████████████████████████████████████████████████████████████████████████| 4350/4350 [00:00<?, ?it/s]\n",
      "100%|██████████████████████████████████████████████████████████████████████████| 4350/4350 [00:00<00:00, 543773.21it/s]\n",
      "100%|██████████████████████████████████████████████████████████████████████████████████████| 4350/4350 [00:00<?, ?it/s]\n",
      "100%|██████████████████████████████████████████████████████████████████████████████████████| 4350/4350 [00:00<?, ?it/s]\n",
      "100%|██████████████████████████████████████████████████████████████████████████| 4350/4350 [00:00<00:00, 543627.39it/s]\n",
      "100%|██████████████████████████████████████████████████████████████████████████| 4350/4350 [00:00<00:00, 543854.25it/s]\n",
      "100%|██████████████████████████████████████████████████████████████████████████████████████| 4350/4350 [00:00<?, ?it/s]\n",
      "100%|██████████████████████████████████████████████████████████████████████████████████████| 4350/4350 [00:00<?, ?it/s]\n",
      "100%|██████████████████████████████████████████████████████████████████████████| 4350/4350 [00:00<00:00, 540375.03it/s]\n",
      "100%|██████████████████████████████████████████████████████████████████████████| 4350/4350 [00:00<00:00, 278484.99it/s]\n",
      "100%|██████████████████████████████████████████████████████████████████████████████████████| 4350/4350 [00:00<?, ?it/s]\n"
     ]
    },
    {
     "name": "stdout",
     "output_type": "stream",
     "text": [
      "[14:47:06] WARNING: C:/Users/Administrator/workspace/xgboost-win64_release_1.3.0/src/learner.cc:1061: Starting in XGBoost 1.3.0, the default evaluation metric used with the objective 'multi:softprob' was changed from 'merror' to 'mlogloss'. Explicitly set eval_metric if you'd like to restore the old behavior.\n"
     ]
    },
    {
     "name": "stderr",
     "output_type": "stream",
     "text": [
      "100%|█████████████████████████████████████████████████████████████████████████| 4351/4351 [00:00<00:00, 1948891.15it/s]\n",
      "100%|██████████████████████████████████████████████████████████████████████████████████████| 4351/4351 [00:00<?, ?it/s]\n",
      "100%|██████████████████████████████████████████████████████████████████████████████████████| 4351/4351 [00:00<?, ?it/s]\n",
      "100%|██████████████████████████████████████████████████████████████████████████████████████| 4351/4351 [00:00<?, ?it/s]\n",
      "100%|██████████████████████████████████████████████████████████████████████████████████████| 4351/4351 [00:00<?, ?it/s]\n",
      "100%|██████████████████████████████████████████████████████████████████████████| 4351/4351 [00:00<00:00, 260720.85it/s]\n",
      "100%|██████████████████████████████████████████████████████████████████████████| 4351/4351 [00:00<00:00, 543995.49it/s]\n",
      "100%|██████████████████████████████████████████████████████████████████████████| 4351/4351 [00:00<00:00, 543898.21it/s]\n",
      "100%|██████████████████████████████████████████████████████████████████████████| 4351/4351 [00:00<00:00, 539875.65it/s]\n",
      "100%|██████████████████████████████████████████████████████████████████████████████████████| 4351/4351 [00:00<?, ?it/s]\n",
      "100%|██████████████████████████████████████████████████████████████████████████████████████| 4351/4351 [00:00<?, ?it/s]\n",
      "100%|██████████████████████████████████████████████████████████████████████████████████████| 4351/4351 [00:00<?, ?it/s]\n",
      "100%|██████████████████████████████████████████████████████████████████████████████████████| 4351/4351 [00:00<?, ?it/s]\n",
      "100%|██████████████████████████████████████████████████████████████████████████| 4351/4351 [00:00<00:00, 543946.85it/s]\n",
      "100%|██████████████████████████████████████████████████████████████████████████| 4351/4351 [00:00<00:00, 543930.63it/s]\n",
      "100%|██████████████████████████████████████████████████████████████████████████████████████| 4351/4351 [00:00<?, ?it/s]\n",
      "100%|█████████████████████████████████████████████████████████████████████████| 4351/4351 [00:00<00:00, 4254935.11it/s]\n",
      "100%|██████████████████████████████████████████████████████████████████████████| 4351/4351 [00:00<00:00, 278523.50it/s]\n",
      "100%|██████████████████████████████████████████████████████████████████████████| 4351/4351 [00:00<00:00, 543898.21it/s]\n",
      "100%|██████████████████████████████████████████████████████████████████████████████████████| 4351/4351 [00:00<?, ?it/s]\n"
     ]
    },
    {
     "name": "stdout",
     "output_type": "stream",
     "text": [
      "[14:47:47] WARNING: C:/Users/Administrator/workspace/xgboost-win64_release_1.3.0/src/learner.cc:1061: Starting in XGBoost 1.3.0, the default evaluation metric used with the objective 'multi:softprob' was changed from 'merror' to 'mlogloss'. Explicitly set eval_metric if you'd like to restore the old behavior.\n"
     ]
    },
    {
     "name": "stderr",
     "output_type": "stream",
     "text": [
      "100%|██████████████████████████████████████████████████████████████████████████████████████| 4351/4351 [00:00<?, ?it/s]\n",
      "100%|██████████████████████████████████████████████████████████████████████████████████████| 4351/4351 [00:00<?, ?it/s]\n",
      "100%|██████████████████████████████████████████████████████████████████████████| 4351/4351 [00:00<00:00, 272578.70it/s]\n",
      "100%|██████████████████████████████████████████████████████████████████████████| 4351/4351 [00:00<00:00, 539859.68it/s]\n",
      "100%|██████████████████████████████████████████████████████████████████████████████████████| 4351/4351 [00:00<?, ?it/s]\n",
      "100%|██████████████████████████████████████████████████████████████████████████████████████| 4351/4351 [00:00<?, ?it/s]\n",
      "100%|██████████████████████████████████████████████████████████████████████████████████████| 4351/4351 [00:00<?, ?it/s]\n",
      "100%|██████████████████████████████████████████████████████████████████████████████████████| 4351/4351 [00:00<?, ?it/s]\n",
      "100%|█████████████████████████████████████████████████████████████████████████| 4351/4351 [00:00<00:00, 1936072.22it/s]\n",
      "100%|██████████████████████████████████████████████████████████████████████████████████████| 4351/4351 [00:00<?, ?it/s]\n",
      "100%|██████████████████████████████████████████████████████████████████████████████████████| 4351/4351 [00:00<?, ?it/s]\n",
      "100%|██████████████████████████████████████████████████████████████████████████████████████| 4351/4351 [00:00<?, ?it/s]\n",
      "100%|██████████████████████████████████████████████████████████████████████████████████████| 4351/4351 [00:00<?, ?it/s]\n",
      "100%|██████████████████████████████████████████████████████████████████████████████████████| 4351/4351 [00:00<?, ?it/s]\n",
      "100%|██████████████████████████████████████████████████████████████████████████████████████| 4351/4351 [00:00<?, ?it/s]\n",
      "100%|██████████████████████████████████████████████████████████████████████████████████████| 4351/4351 [00:00<?, ?it/s]\n",
      "100%|██████████████████████████████████████████████████████████████████████████████████████| 4351/4351 [00:00<?, ?it/s]\n",
      "100%|██████████████████████████████████████████████████████████████████████████████████████| 4351/4351 [00:00<?, ?it/s]\n",
      "100%|██████████████████████████████████████████████████████████████████████████████████████| 4351/4351 [00:00<?, ?it/s]\n",
      "100%|██████████████████████████████████████████████████████████████████████████████████████| 4351/4351 [00:00<?, ?it/s]\n"
     ]
    },
    {
     "name": "stdout",
     "output_type": "stream",
     "text": [
      "[14:48:34] WARNING: C:/Users/Administrator/workspace/xgboost-win64_release_1.3.0/src/learner.cc:1061: Starting in XGBoost 1.3.0, the default evaluation metric used with the objective 'multi:softprob' was changed from 'merror' to 'mlogloss'. Explicitly set eval_metric if you'd like to restore the old behavior.\n",
      "Accuracy for XGBoost Classifier :  0.36631480329022137\n"
     ]
    }
   ],
   "source": [
    "import xgboost as xgb\n",
    "\n",
    "pl_xgb = Pipeline(steps=[('doc2vec',Doc2VecTransformer()),\n",
    "                         ('xgboost', xgb.XGBClassifier(objective='multi:softmax'))])\n",
    "scores = cross_val_score(pl_xgb, df_x, df_y, cv=5)\n",
    "print('Accuracy for XGBoost Classifier : ', scores.mean())"
   ]
  },
  {
   "cell_type": "markdown",
   "metadata": {},
   "source": [
    "# Converting to Tf-Idf"
   ]
  },
  {
   "cell_type": "code",
   "execution_count": 16,
   "metadata": {},
   "outputs": [],
   "source": [
    "from sklearn.feature_extraction.text import TfidfVectorizer\n",
    "\n",
    "class Text2TfIdfTransformer(BaseEstimator):\n",
    "\n",
    "    def __init__(self):\n",
    "        self._model = TfidfVectorizer()\n",
    "        pass\n",
    "\n",
    "    def fit(self, df_x, df_y=None):\n",
    "        df_x = df_x.apply(lambda x : clean_text(x))\n",
    "        self._model.fit(df_x)\n",
    "        return self\n",
    "\n",
    "    def transform(self, df_x):\n",
    "        return self._model.transform(df_x)"
   ]
  },
  {
   "cell_type": "code",
   "execution_count": 17,
   "metadata": {},
   "outputs": [],
   "source": [
    "tfidf_transformer = Text2TfIdfTransformer()\n",
    "tfidf_vectors = tfidf_transformer.fit(df_x).transform(df_x)"
   ]
  },
  {
   "cell_type": "code",
   "execution_count": 18,
   "metadata": {},
   "outputs": [
    {
     "data": {
      "text/plain": [
       "(5438, 41637)"
      ]
     },
     "execution_count": 18,
     "metadata": {},
     "output_type": "execute_result"
    }
   ],
   "source": [
    "tfidf_vectors.shape"
   ]
  },
  {
   "cell_type": "code",
   "execution_count": 19,
   "metadata": {},
   "outputs": [
    {
     "name": "stdout",
     "output_type": "stream",
     "text": [
      "  (0, 38929)\t0.18068562186039805\n",
      "  (0, 37293)\t0.17581592712357982\n",
      "  (0, 35360)\t0.16781350268998504\n",
      "  (0, 35354)\t0.20409551595352485\n",
      "  (0, 35211)\t0.0856295661048488\n",
      "  (0, 34746)\t0.16213569219616275\n",
      "  (0, 34604)\t0.10204775797676242\n",
      "  (0, 31852)\t0.09127331894209549\n",
      "  (0, 29985)\t0.0974566296595979\n",
      "  (0, 29077)\t0.24472890337198072\n",
      "  (0, 29024)\t0.06861691736331577\n",
      "  (0, 27638)\t0.11526358542830918\n",
      "  (0, 27550)\t0.11669093544611675\n",
      "  (0, 27515)\t0.07752514450838847\n",
      "  (0, 26781)\t0.11151280751724778\n",
      "  (0, 26204)\t0.31953191050460855\n",
      "  (0, 25327)\t0.1324506084015562\n",
      "  (0, 25109)\t0.05572976978054955\n",
      "  (0, 23910)\t0.1125535443890543\n",
      "  (0, 22071)\t0.09708771411312736\n",
      "  (0, 21975)\t0.07772966869188806\n",
      "  (0, 20669)\t0.11770328078503309\n",
      "  (0, 20424)\t0.16781350268998504\n",
      "  (0, 20402)\t0.07952186171500425\n",
      "  (0, 19912)\t0.2538976977190078\n",
      "  :\t:\n",
      "  (5437, 22759)\t0.12054224637975437\n",
      "  (5437, 22457)\t0.16607465309808864\n",
      "  (5437, 20476)\t0.16607465309808864\n",
      "  (5437, 19766)\t0.11218977083449157\n",
      "  (5437, 19595)\t0.0724150020055853\n",
      "  (5437, 17969)\t0.08673773417007709\n",
      "  (5437, 17823)\t0.1380343038872247\n",
      "  (5437, 17593)\t0.11825658479551664\n",
      "  (5437, 17592)\t0.25022407472171626\n",
      "  (5437, 13541)\t0.09086474931460793\n",
      "  (5437, 12825)\t0.059008477347801694\n",
      "  (5437, 12647)\t0.1326710787031068\n",
      "  (5437, 12195)\t0.08713867198477256\n",
      "  (5437, 11265)\t0.1326710787031068\n",
      "  (5437, 8152)\t0.0708286659447921\n",
      "  (5437, 6806)\t0.09573948655677797\n",
      "  (5437, 6028)\t0.07872443458571932\n",
      "  (5437, 5918)\t0.10297983826112371\n",
      "  (5437, 5740)\t0.2884434792595513\n",
      "  (5437, 4765)\t0.15315238657172203\n",
      "  (5437, 3719)\t0.09595501369519902\n",
      "  (5437, 1993)\t0.111181801584685\n",
      "  (5437, 254)\t0.16607465309808864\n",
      "  (5437, 252)\t0.12314781287452899\n",
      "  (5437, 26)\t0.10329852789902665\n"
     ]
    }
   ],
   "source": [
    "print(tfidf_vectors)"
   ]
  },
  {
   "cell_type": "markdown",
   "metadata": {},
   "source": [
    "# Pipeline with Tf-Idf & LogisticRegression"
   ]
  },
  {
   "cell_type": "code",
   "execution_count": 20,
   "metadata": {},
   "outputs": [
    {
     "name": "stdout",
     "output_type": "stream",
     "text": [
      "Accuracy for Tf-Idf & Logistic Regression:  0.806902260674279\n"
     ]
    }
   ],
   "source": [
    "pl_log_reg_tf_idf = Pipeline(steps=[('tfidf',Text2TfIdfTransformer()),\n",
    "                                    ('log_reg', LogisticRegression(multi_class='multinomial', solver='saga', max_iter=100))])\n",
    "scores = cross_val_score(pl_log_reg_tf_idf, df_x, df_y, cv=5,scoring='accuracy')\n",
    "print('Accuracy for Tf-Idf & Logistic Regression: ', scores.mean())"
   ]
  },
  {
   "cell_type": "markdown",
   "metadata": {},
   "source": [
    "# Pipeline with Tf-Idf & RandomForest"
   ]
  },
  {
   "cell_type": "code",
   "execution_count": 21,
   "metadata": {},
   "outputs": [
    {
     "name": "stdout",
     "output_type": "stream",
     "text": [
      "Accuracy for Tf-Idf & RandomForest :  0.8153633854645814\n"
     ]
    }
   ],
   "source": [
    "pl_random_forest_tf_idf = Pipeline(steps=[('tfidf',Text2TfIdfTransformer()),\n",
    "                                          ('random_forest', RandomForestClassifier())])\n",
    "scores = cross_val_score(pl_random_forest_tf_idf, df_x, df_y, cv=5,scoring='accuracy')\n",
    "print('Accuracy for Tf-Idf & RandomForest : ', scores.mean())"
   ]
  },
  {
   "cell_type": "markdown",
   "metadata": {},
   "source": [
    "# Pipeline with Tf-Idf & XGBoost"
   ]
  },
  {
   "cell_type": "code",
   "execution_count": 22,
   "metadata": {},
   "outputs": [
    {
     "name": "stderr",
     "output_type": "stream",
     "text": [
      "c:\\users\\hp\\appdata\\local\\programs\\python\\python38\\lib\\site-packages\\xgboost\\sklearn.py:892: UserWarning: The use of label encoder in XGBClassifier is deprecated and will be removed in a future release. To remove this warning, do the following: 1) Pass option use_label_encoder=False when constructing XGBClassifier object; and 2) Encode your labels (y) as integers starting with 0, i.e. 0, 1, 2, ..., [num_class - 1].\n",
      "  warnings.warn(label_encoder_deprecation_msg, UserWarning)\n"
     ]
    },
    {
     "name": "stdout",
     "output_type": "stream",
     "text": [
      "[14:49:50] WARNING: C:/Users/Administrator/workspace/xgboost-win64_release_1.3.0/src/learner.cc:1061: Starting in XGBoost 1.3.0, the default evaluation metric used with the objective 'multi:softprob' was changed from 'merror' to 'mlogloss'. Explicitly set eval_metric if you'd like to restore the old behavior.\n",
      "[14:50:09] WARNING: C:/Users/Administrator/workspace/xgboost-win64_release_1.3.0/src/learner.cc:1061: Starting in XGBoost 1.3.0, the default evaluation metric used with the objective 'multi:softprob' was changed from 'merror' to 'mlogloss'. Explicitly set eval_metric if you'd like to restore the old behavior.\n",
      "[14:50:28] WARNING: C:/Users/Administrator/workspace/xgboost-win64_release_1.3.0/src/learner.cc:1061: Starting in XGBoost 1.3.0, the default evaluation metric used with the objective 'multi:softprob' was changed from 'merror' to 'mlogloss'. Explicitly set eval_metric if you'd like to restore the old behavior.\n",
      "[14:50:47] WARNING: C:/Users/Administrator/workspace/xgboost-win64_release_1.3.0/src/learner.cc:1061: Starting in XGBoost 1.3.0, the default evaluation metric used with the objective 'multi:softprob' was changed from 'merror' to 'mlogloss'. Explicitly set eval_metric if you'd like to restore the old behavior.\n",
      "[14:51:06] WARNING: C:/Users/Administrator/workspace/xgboost-win64_release_1.3.0/src/learner.cc:1061: Starting in XGBoost 1.3.0, the default evaluation metric used with the objective 'multi:softprob' was changed from 'merror' to 'mlogloss'. Explicitly set eval_metric if you'd like to restore the old behavior.\n",
      "Accuracy for Tf-Idf & XGBoost Classifier :  0.8554411426484118\n"
     ]
    }
   ],
   "source": [
    "pl_xgb_tf_idf = Pipeline(steps=[('tfidf',Text2TfIdfTransformer()),\n",
    "                         ('xgboost', xgb.XGBClassifier(objective='multi:softmax'))])\n",
    "scores = cross_val_score(pl_xgb_tf_idf, df_x, df_y, cv=5)\n",
    "print('Accuracy for Tf-Idf & XGBoost Classifier : ', scores.mean())"
   ]
  },
  {
   "cell_type": "markdown",
   "metadata": {},
   "source": [
    "### Best accuracy: 85.54% by pipeline with Tf-Idf & XGBoost"
   ]
  },
  {
   "cell_type": "code",
   "execution_count": null,
   "metadata": {},
   "outputs": [],
   "source": []
  }
 ],
 "metadata": {
  "kernelspec": {
   "display_name": "Python 3",
   "language": "python",
   "name": "python3"
  },
  "language_info": {
   "codemirror_mode": {
    "name": "ipython",
    "version": 3
   },
   "file_extension": ".py",
   "mimetype": "text/x-python",
   "name": "python",
   "nbconvert_exporter": "python",
   "pygments_lexer": "ipython3",
   "version": "3.8.5"
  }
 },
 "nbformat": 4,
 "nbformat_minor": 4
}
