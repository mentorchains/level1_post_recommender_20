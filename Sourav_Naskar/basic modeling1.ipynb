{
 "cells": [
  {
   "cell_type": "markdown",
   "metadata": {},
   "source": [
    "# Loading the data"
   ]
  },
  {
   "cell_type": "code",
   "execution_count": 57,
   "metadata": {},
   "outputs": [
    {
     "data": {
      "text/html": [
       "<div>\n",
       "<style scoped>\n",
       "    .dataframe tbody tr th:only-of-type {\n",
       "        vertical-align: middle;\n",
       "    }\n",
       "\n",
       "    .dataframe tbody tr th {\n",
       "        vertical-align: top;\n",
       "    }\n",
       "\n",
       "    .dataframe thead th {\n",
       "        text-align: right;\n",
       "    }\n",
       "</style>\n",
       "<table border=\"1\" class=\"dataframe\">\n",
       "  <thead>\n",
       "    <tr style=\"text-align: right;\">\n",
       "      <th></th>\n",
       "      <th>Unnamed: 0</th>\n",
       "      <th>Topic Title</th>\n",
       "      <th>Category</th>\n",
       "      <th>Tags</th>\n",
       "      <th>Leading Comment</th>\n",
       "      <th>Other Comments</th>\n",
       "      <th>Likes</th>\n",
       "      <th>Views</th>\n",
       "    </tr>\n",
       "  </thead>\n",
       "  <tbody>\n",
       "    <tr>\n",
       "      <th>0</th>\n",
       "      <td>0</td>\n",
       "      <td>[How to] Format code in posts</td>\n",
       "      <td>Getting Started</td>\n",
       "      <td>[]</td>\n",
       "      <td>Codecademy Discuss posts are parsed with Markd...</td>\n",
       "      <td>[]</td>\n",
       "      <td>21</td>\n",
       "      <td>13.9k</td>\n",
       "    </tr>\n",
       "    <tr>\n",
       "      <th>1</th>\n",
       "      <td>1</td>\n",
       "      <td>Guide: A list of how-to’s for giving and recei...</td>\n",
       "      <td>Getting Started</td>\n",
       "      <td>[]</td>\n",
       "      <td>Technical guides will teach you how to use the...</td>\n",
       "      <td>[]</td>\n",
       "      <td>0</td>\n",
       "      <td>0</td>\n",
       "    </tr>\n",
       "    <tr>\n",
       "      <th>2</th>\n",
       "      <td>2</td>\n",
       "      <td>Guide: Learn about our community forums</td>\n",
       "      <td>Getting Started</td>\n",
       "      <td>[]</td>\n",
       "      <td>Take a moment and read through each of these b...</td>\n",
       "      <td>[]</td>\n",
       "      <td>0</td>\n",
       "      <td>0</td>\n",
       "    </tr>\n",
       "    <tr>\n",
       "      <th>3</th>\n",
       "      <td>3</td>\n",
       "      <td>[How-to] Create a topic that everyone will read</td>\n",
       "      <td>Getting Started</td>\n",
       "      <td>[]</td>\n",
       "      <td>A great topic is one that provides potential h...</td>\n",
       "      <td>[]</td>\n",
       "      <td>0</td>\n",
       "      <td>0</td>\n",
       "    </tr>\n",
       "    <tr>\n",
       "      <th>4</th>\n",
       "      <td>4</td>\n",
       "      <td>[Learn More] How the forum is organized</td>\n",
       "      <td>Getting Started</td>\n",
       "      <td>[]</td>\n",
       "      <td>With Codecademy Community forums, conversation...</td>\n",
       "      <td>[]</td>\n",
       "      <td>0</td>\n",
       "      <td>0</td>\n",
       "    </tr>\n",
       "  </tbody>\n",
       "</table>\n",
       "</div>"
      ],
      "text/plain": [
       "   Unnamed: 0                                        Topic Title  \\\n",
       "0           0                      [How to] Format code in posts   \n",
       "1           1  Guide: A list of how-to’s for giving and recei...   \n",
       "2           2            Guide: Learn about our community forums   \n",
       "3           3    [How-to] Create a topic that everyone will read   \n",
       "4           4            [Learn More] How the forum is organized   \n",
       "\n",
       "          Category Tags                                    Leading Comment  \\\n",
       "0  Getting Started   []  Codecademy Discuss posts are parsed with Markd...   \n",
       "1  Getting Started   []  Technical guides will teach you how to use the...   \n",
       "2  Getting Started   []  Take a moment and read through each of these b...   \n",
       "3  Getting Started   []  A great topic is one that provides potential h...   \n",
       "4  Getting Started   []  With Codecademy Community forums, conversation...   \n",
       "\n",
       "  Other Comments Likes  Views  \n",
       "0             []    21  13.9k  \n",
       "1             []     0      0  \n",
       "2             []     0      0  \n",
       "3             []     0      0  \n",
       "4             []     0      0  "
      ]
     },
     "execution_count": 57,
     "metadata": {},
     "output_type": "execute_result"
    }
   ],
   "source": [
    "import pandas as pd\n",
    "\n",
    "data = pd.read_csv('Codeacademy_Webscrapper_20210107154307.csv')\n",
    "data.head()"
   ]
  },
  {
   "cell_type": "code",
   "execution_count": 58,
   "metadata": {},
   "outputs": [
    {
     "data": {
      "text/plain": [
       "Index(['Unnamed: 0', 'Topic Title', 'Category', 'Tags', 'Leading Comment',\n",
       "       'Other Comments', 'Likes', 'Views'],\n",
       "      dtype='object')"
      ]
     },
     "execution_count": 58,
     "metadata": {},
     "output_type": "execute_result"
    }
   ],
   "source": [
    "data.columns"
   ]
  },
  {
   "cell_type": "code",
   "execution_count": 59,
   "metadata": {},
   "outputs": [
    {
     "data": {
      "text/html": [
       "<div>\n",
       "<style scoped>\n",
       "    .dataframe tbody tr th:only-of-type {\n",
       "        vertical-align: middle;\n",
       "    }\n",
       "\n",
       "    .dataframe tbody tr th {\n",
       "        vertical-align: top;\n",
       "    }\n",
       "\n",
       "    .dataframe thead th {\n",
       "        text-align: right;\n",
       "    }\n",
       "</style>\n",
       "<table border=\"1\" class=\"dataframe\">\n",
       "  <thead>\n",
       "    <tr style=\"text-align: right;\">\n",
       "      <th></th>\n",
       "      <th>Topic Title</th>\n",
       "      <th>Category</th>\n",
       "      <th>Tags</th>\n",
       "      <th>Leading Comment</th>\n",
       "      <th>Other Comments</th>\n",
       "    </tr>\n",
       "  </thead>\n",
       "  <tbody>\n",
       "    <tr>\n",
       "      <th>0</th>\n",
       "      <td>[How to] Format code in posts</td>\n",
       "      <td>Getting Started</td>\n",
       "      <td>[]</td>\n",
       "      <td>Codecademy Discuss posts are parsed with Markd...</td>\n",
       "      <td>[]</td>\n",
       "    </tr>\n",
       "    <tr>\n",
       "      <th>1</th>\n",
       "      <td>Guide: A list of how-to’s for giving and recei...</td>\n",
       "      <td>Getting Started</td>\n",
       "      <td>[]</td>\n",
       "      <td>Technical guides will teach you how to use the...</td>\n",
       "      <td>[]</td>\n",
       "    </tr>\n",
       "    <tr>\n",
       "      <th>2</th>\n",
       "      <td>Guide: Learn about our community forums</td>\n",
       "      <td>Getting Started</td>\n",
       "      <td>[]</td>\n",
       "      <td>Take a moment and read through each of these b...</td>\n",
       "      <td>[]</td>\n",
       "    </tr>\n",
       "    <tr>\n",
       "      <th>3</th>\n",
       "      <td>[How-to] Create a topic that everyone will read</td>\n",
       "      <td>Getting Started</td>\n",
       "      <td>[]</td>\n",
       "      <td>A great topic is one that provides potential h...</td>\n",
       "      <td>[]</td>\n",
       "    </tr>\n",
       "    <tr>\n",
       "      <th>4</th>\n",
       "      <td>[Learn More] How the forum is organized</td>\n",
       "      <td>Getting Started</td>\n",
       "      <td>[]</td>\n",
       "      <td>With Codecademy Community forums, conversation...</td>\n",
       "      <td>[]</td>\n",
       "    </tr>\n",
       "    <tr>\n",
       "      <th>...</th>\n",
       "      <td>...</td>\n",
       "      <td>...</td>\n",
       "      <td>...</td>\n",
       "      <td>...</td>\n",
       "      <td>...</td>\n",
       "    </tr>\n",
       "    <tr>\n",
       "      <th>5459</th>\n",
       "      <td>Why does it ask me not to use compute_bill?</td>\n",
       "      <td>FAQ</td>\n",
       "      <td>['Python FAQ']</td>\n",
       "      <td>Question\\nWhy does it ask me not to use comput...</td>\n",
       "      <td>['Question\\nWhy does it ask me not to use comp...</td>\n",
       "    </tr>\n",
       "    <tr>\n",
       "      <th>5460</th>\n",
       "      <td>FAQ: Learn Python - Battleship - A Real Win</td>\n",
       "      <td>FAQ</td>\n",
       "      <td>['Python FAQ']</td>\n",
       "      <td>\\nCommunity FAQs on Codecademy Python Exercise...</td>\n",
       "      <td>['\\nCommunity FAQs on Codecademy Python Exerci...</td>\n",
       "    </tr>\n",
       "    <tr>\n",
       "      <th>5461</th>\n",
       "      <td>How should I indent the code to create my_tria...</td>\n",
       "      <td>FAQ</td>\n",
       "      <td>['Python FAQ']</td>\n",
       "      <td>Question\\nHow should I indent the code to crea...</td>\n",
       "      <td>[]</td>\n",
       "    </tr>\n",
       "    <tr>\n",
       "      <th>5462</th>\n",
       "      <td>FAQ: Learn Python - Battleship - Not Again!</td>\n",
       "      <td>FAQ</td>\n",
       "      <td>['Python FAQ']</td>\n",
       "      <td>\\nCommunity FAQs on Codecademy Python Exercise...</td>\n",
       "      <td>['\\nCommunity FAQs on Codecademy Python Exerci...</td>\n",
       "    </tr>\n",
       "    <tr>\n",
       "      <th>5463</th>\n",
       "      <td>Why is my Triangle class not accepted?</td>\n",
       "      <td>FAQ</td>\n",
       "      <td>['Python FAQ']</td>\n",
       "      <td>Question\\nWhy is my Triangle class not accepte...</td>\n",
       "      <td>['Question\\nWhy is my Triangle class not accep...</td>\n",
       "    </tr>\n",
       "  </tbody>\n",
       "</table>\n",
       "<p>5464 rows × 5 columns</p>\n",
       "</div>"
      ],
      "text/plain": [
       "                                            Topic Title         Category  \\\n",
       "0                         [How to] Format code in posts  Getting Started   \n",
       "1     Guide: A list of how-to’s for giving and recei...  Getting Started   \n",
       "2               Guide: Learn about our community forums  Getting Started   \n",
       "3       [How-to] Create a topic that everyone will read  Getting Started   \n",
       "4               [Learn More] How the forum is organized  Getting Started   \n",
       "...                                                 ...              ...   \n",
       "5459        Why does it ask me not to use compute_bill?              FAQ   \n",
       "5460        FAQ: Learn Python - Battleship - A Real Win              FAQ   \n",
       "5461  How should I indent the code to create my_tria...              FAQ   \n",
       "5462        FAQ: Learn Python - Battleship - Not Again!              FAQ   \n",
       "5463             Why is my Triangle class not accepted?              FAQ   \n",
       "\n",
       "                Tags                                    Leading Comment  \\\n",
       "0                 []  Codecademy Discuss posts are parsed with Markd...   \n",
       "1                 []  Technical guides will teach you how to use the...   \n",
       "2                 []  Take a moment and read through each of these b...   \n",
       "3                 []  A great topic is one that provides potential h...   \n",
       "4                 []  With Codecademy Community forums, conversation...   \n",
       "...              ...                                                ...   \n",
       "5459  ['Python FAQ']  Question\\nWhy does it ask me not to use comput...   \n",
       "5460  ['Python FAQ']  \\nCommunity FAQs on Codecademy Python Exercise...   \n",
       "5461  ['Python FAQ']  Question\\nHow should I indent the code to crea...   \n",
       "5462  ['Python FAQ']  \\nCommunity FAQs on Codecademy Python Exercise...   \n",
       "5463  ['Python FAQ']  Question\\nWhy is my Triangle class not accepte...   \n",
       "\n",
       "                                         Other Comments  \n",
       "0                                                    []  \n",
       "1                                                    []  \n",
       "2                                                    []  \n",
       "3                                                    []  \n",
       "4                                                    []  \n",
       "...                                                 ...  \n",
       "5459  ['Question\\nWhy does it ask me not to use comp...  \n",
       "5460  ['\\nCommunity FAQs on Codecademy Python Exerci...  \n",
       "5461                                                 []  \n",
       "5462  ['\\nCommunity FAQs on Codecademy Python Exerci...  \n",
       "5463  ['Question\\nWhy is my Triangle class not accep...  \n",
       "\n",
       "[5464 rows x 5 columns]"
      ]
     },
     "execution_count": 59,
     "metadata": {},
     "output_type": "execute_result"
    }
   ],
   "source": [
    "data.drop(columns= ['Unnamed: 0', 'Likes', 'Views'], inplace=True)\n",
    "data"
   ]
  },
  {
   "cell_type": "code",
   "execution_count": 137,
   "metadata": {
    "scrolled": true
   },
   "outputs": [
    {
     "data": {
      "text/html": [
       "<div>\n",
       "<style scoped>\n",
       "    .dataframe tbody tr th:only-of-type {\n",
       "        vertical-align: middle;\n",
       "    }\n",
       "\n",
       "    .dataframe tbody tr th {\n",
       "        vertical-align: top;\n",
       "    }\n",
       "\n",
       "    .dataframe thead th {\n",
       "        text-align: right;\n",
       "    }\n",
       "</style>\n",
       "<table border=\"1\" class=\"dataframe\">\n",
       "  <thead>\n",
       "    <tr style=\"text-align: right;\">\n",
       "      <th></th>\n",
       "      <th>Unnamed: 0</th>\n",
       "      <th>Topic Title</th>\n",
       "      <th>Category</th>\n",
       "      <th>Tags</th>\n",
       "      <th>Leading Comment</th>\n",
       "      <th>Other Comments</th>\n",
       "      <th>Likes</th>\n",
       "      <th>Views</th>\n",
       "    </tr>\n",
       "  </thead>\n",
       "  <tbody>\n",
       "    <tr>\n",
       "      <th>26</th>\n",
       "      <td>26</td>\n",
       "      <td>About the Get Help category</td>\n",
       "      <td>Get Help</td>\n",
       "      <td>[]</td>\n",
       "      <td>Ask questions, get help with an exercise, and ...</td>\n",
       "      <td>[]</td>\n",
       "      <td>2</td>\n",
       "      <td>2.0k</td>\n",
       "    </tr>\n",
       "    <tr>\n",
       "      <th>27</th>\n",
       "      <td>27</td>\n",
       "      <td>Aren’t strings immutable?</td>\n",
       "      <td>Get Help</td>\n",
       "      <td>['Python']</td>\n",
       "      <td>Would anyone be able to tell me why the given ...</td>\n",
       "      <td>['Would anyone be able to tell me why the give...</td>\n",
       "      <td>20</td>\n",
       "      <td>1.8k</td>\n",
       "    </tr>\n",
       "    <tr>\n",
       "      <th>28</th>\n",
       "      <td>28</td>\n",
       "      <td>Ravenous Part 1 BusinessList Styling</td>\n",
       "      <td>Get Help</td>\n",
       "      <td>['React.js']</td>\n",
       "      <td>Hey guys, After completed Rav part 1 all is se...</td>\n",
       "      <td>['Hey guys,\\nAfter I completed Rav part 1 all ...</td>\n",
       "      <td>1</td>\n",
       "      <td>228</td>\n",
       "    </tr>\n",
       "    <tr>\n",
       "      <th>29</th>\n",
       "      <td>29</td>\n",
       "      <td>Tea Cozy project</td>\n",
       "      <td>Get Help</td>\n",
       "      <td>[]</td>\n",
       "      <td>just started the tea cozy project and realized...</td>\n",
       "      <td>['I just started the tea cozy project and real...</td>\n",
       "      <td>0</td>\n",
       "      <td>16</td>\n",
       "    </tr>\n",
       "    <tr>\n",
       "      <th>30</th>\n",
       "      <td>30</td>\n",
       "      <td>Chore Door innerHTML error</td>\n",
       "      <td>Get Help</td>\n",
       "      <td>['JavaScript']</td>\n",
       "      <td>Hey! Heres the link to the exercise I’m workin...</td>\n",
       "      <td>['Hey! Heres the link to the exercise I’m work...</td>\n",
       "      <td>5</td>\n",
       "      <td>191</td>\n",
       "    </tr>\n",
       "    <tr>\n",
       "      <th>...</th>\n",
       "      <td>...</td>\n",
       "      <td>...</td>\n",
       "      <td>...</td>\n",
       "      <td>...</td>\n",
       "      <td>...</td>\n",
       "      <td>...</td>\n",
       "      <td>...</td>\n",
       "      <td>...</td>\n",
       "    </tr>\n",
       "    <tr>\n",
       "      <th>5459</th>\n",
       "      <td>5459</td>\n",
       "      <td>Why does it ask me not to use compute_bill?</td>\n",
       "      <td>FAQ</td>\n",
       "      <td>['Python FAQ']</td>\n",
       "      <td>Question Why does it ask me not to use compute...</td>\n",
       "      <td>['Question\\nWhy does it ask me not to use comp...</td>\n",
       "      <td>15</td>\n",
       "      <td>8.7k</td>\n",
       "    </tr>\n",
       "    <tr>\n",
       "      <th>5460</th>\n",
       "      <td>5460</td>\n",
       "      <td>FAQ: Learn Python - Battleship - A Real Win</td>\n",
       "      <td>FAQ</td>\n",
       "      <td>['Python FAQ']</td>\n",
       "      <td>Community FAQs on Codecademy Python Exercises....</td>\n",
       "      <td>['\\nCommunity FAQs on Codecademy Python Exerci...</td>\n",
       "      <td>0</td>\n",
       "      <td>1.2k</td>\n",
       "    </tr>\n",
       "    <tr>\n",
       "      <th>5461</th>\n",
       "      <td>5461</td>\n",
       "      <td>How should I indent the code to create my_tria...</td>\n",
       "      <td>FAQ</td>\n",
       "      <td>['Python FAQ']</td>\n",
       "      <td>Question How should indent the code to create ...</td>\n",
       "      <td>[]</td>\n",
       "      <td>0</td>\n",
       "      <td>0</td>\n",
       "    </tr>\n",
       "    <tr>\n",
       "      <th>5462</th>\n",
       "      <td>5462</td>\n",
       "      <td>FAQ: Learn Python - Battleship - Not Again!</td>\n",
       "      <td>FAQ</td>\n",
       "      <td>['Python FAQ']</td>\n",
       "      <td>Community FAQs on Codecademy Python Exercises....</td>\n",
       "      <td>['\\nCommunity FAQs on Codecademy Python Exerci...</td>\n",
       "      <td>12</td>\n",
       "      <td>1.4k</td>\n",
       "    </tr>\n",
       "    <tr>\n",
       "      <th>5463</th>\n",
       "      <td>5463</td>\n",
       "      <td>Why is my Triangle class not accepted?</td>\n",
       "      <td>FAQ</td>\n",
       "      <td>['Python FAQ']</td>\n",
       "      <td>Question Why is my Triangle class not accepted...</td>\n",
       "      <td>['Question\\nWhy is my Triangle class not accep...</td>\n",
       "      <td>5</td>\n",
       "      <td>3.7k</td>\n",
       "    </tr>\n",
       "  </tbody>\n",
       "</table>\n",
       "<p>5438 rows × 8 columns</p>\n",
       "</div>"
      ],
      "text/plain": [
       "      Unnamed: 0                                        Topic Title  Category  \\\n",
       "26            26                        About the Get Help category  Get Help   \n",
       "27            27                          Aren’t strings immutable?  Get Help   \n",
       "28            28               Ravenous Part 1 BusinessList Styling  Get Help   \n",
       "29            29                                   Tea Cozy project  Get Help   \n",
       "30            30                         Chore Door innerHTML error  Get Help   \n",
       "...          ...                                                ...       ...   \n",
       "5459        5459        Why does it ask me not to use compute_bill?       FAQ   \n",
       "5460        5460        FAQ: Learn Python - Battleship - A Real Win       FAQ   \n",
       "5461        5461  How should I indent the code to create my_tria...       FAQ   \n",
       "5462        5462        FAQ: Learn Python - Battleship - Not Again!       FAQ   \n",
       "5463        5463             Why is my Triangle class not accepted?       FAQ   \n",
       "\n",
       "                Tags                                    Leading Comment  \\\n",
       "26                []  Ask questions, get help with an exercise, and ...   \n",
       "27        ['Python']  Would anyone be able to tell me why the given ...   \n",
       "28      ['React.js']  Hey guys, After completed Rav part 1 all is se...   \n",
       "29                []  just started the tea cozy project and realized...   \n",
       "30    ['JavaScript']  Hey! Heres the link to the exercise I’m workin...   \n",
       "...              ...                                                ...   \n",
       "5459  ['Python FAQ']  Question Why does it ask me not to use compute...   \n",
       "5460  ['Python FAQ']  Community FAQs on Codecademy Python Exercises....   \n",
       "5461  ['Python FAQ']  Question How should indent the code to create ...   \n",
       "5462  ['Python FAQ']  Community FAQs on Codecademy Python Exercises....   \n",
       "5463  ['Python FAQ']  Question Why is my Triangle class not accepted...   \n",
       "\n",
       "                                         Other Comments Likes Views  \n",
       "26                                                   []     2  2.0k  \n",
       "27    ['Would anyone be able to tell me why the give...    20  1.8k  \n",
       "28    ['Hey guys,\\nAfter I completed Rav part 1 all ...     1   228  \n",
       "29    ['I just started the tea cozy project and real...     0    16  \n",
       "30    ['Hey! Heres the link to the exercise I’m work...     5   191  \n",
       "...                                                 ...   ...   ...  \n",
       "5459  ['Question\\nWhy does it ask me not to use comp...    15  8.7k  \n",
       "5460  ['\\nCommunity FAQs on Codecademy Python Exerci...     0  1.2k  \n",
       "5461                                                 []     0     0  \n",
       "5462  ['\\nCommunity FAQs on Codecademy Python Exerci...    12  1.4k  \n",
       "5463  ['Question\\nWhy is my Triangle class not accep...     5  3.7k  \n",
       "\n",
       "[5438 rows x 8 columns]"
      ]
     },
     "execution_count": 137,
     "metadata": {},
     "output_type": "execute_result"
    }
   ],
   "source": [
    "data.drop(data.loc[df['Category']==Getting Started'].index, inplace=True)\n",
    "data"
   ]
  },
  {
   "cell_type": "markdown",
   "metadata": {},
   "source": [
    "# Strategy 1"
   ]
  },
  {
   "cell_type": "markdown",
   "metadata": {},
   "source": [
    "* Lower case all the words\n",
    "\n",
    "* Replaced by space these [/(){}[]\\'\\“\\”\\’|@,;]\n",
    "\n",
    "* Removed these [^0-9a-z #+_]\n"
   ]
  },
  {
   "cell_type": "markdown",
   "metadata": {},
   "source": [
    "# Explore the data"
   ]
  },
  {
   "cell_type": "code",
   "execution_count": 138,
   "metadata": {},
   "outputs": [],
   "source": [
    "import logging\n",
    "import pandas as pd\n",
    "import numpy as np\n",
    "from numpy import random\n",
    "import gensim\n",
    "import nltk\n",
    "from sklearn.model_selection import train_test_split\n",
    "from sklearn.feature_extraction.text import CountVectorizer, TfidfVectorizer\n",
    "from sklearn.metrics import accuracy_score, confusion_matrix\n",
    "import matplotlib.pyplot as plt\n",
    "from nltk.corpus import stopwords\n",
    "import re\n",
    "from bs4 import BeautifulSoup\n",
    "%matplotlib inline"
   ]
  },
  {
   "cell_type": "code",
   "execution_count": 139,
   "metadata": {},
   "outputs": [],
   "source": [
    "df = data.copy()"
   ]
  },
  {
   "cell_type": "code",
   "execution_count": 140,
   "metadata": {},
   "outputs": [
    {
     "name": "stdout",
     "output_type": "stream",
     "text": [
      "<class 'pandas.core.frame.DataFrame'>\n",
      "Int64Index: 5438 entries, 26 to 5463\n",
      "Data columns (total 8 columns):\n",
      " #   Column           Non-Null Count  Dtype \n",
      "---  ------           --------------  ----- \n",
      " 0   Unnamed: 0       5438 non-null   int64 \n",
      " 1   Topic Title      5438 non-null   object\n",
      " 2   Category         5438 non-null   object\n",
      " 3   Tags             5438 non-null   object\n",
      " 4   Leading Comment  5438 non-null   object\n",
      " 5   Other Comments   5438 non-null   object\n",
      " 6   Likes            5438 non-null   object\n",
      " 7   Views            5438 non-null   object\n",
      "dtypes: int64(1), object(7)\n",
      "memory usage: 382.4+ KB\n"
     ]
    }
   ],
   "source": [
    "df.info()"
   ]
  },
  {
   "cell_type": "code",
   "execution_count": 141,
   "metadata": {},
   "outputs": [
    {
     "data": {
      "text/plain": [
       "26    About the Get Help category [] Ask questions, ...\n",
       "27    Aren’t strings immutable? ['Python'] Would any...\n",
       "28    Ravenous Part 1 BusinessList Styling ['React.j...\n",
       "29    Tea Cozy project [] just started the tea cozy ...\n",
       "30    Chore Door innerHTML error ['JavaScript'] Hey!...\n",
       "Name: post, dtype: object"
      ]
     },
     "execution_count": 141,
     "metadata": {},
     "output_type": "execute_result"
    }
   ],
   "source": [
    "df['post'] = df['Topic Title'] + ' ' + df['Tags']+ ' '+ df['Leading Comment']\n",
    "\n",
    "df['post'].head()"
   ]
  },
  {
   "cell_type": "code",
   "execution_count": 142,
   "metadata": {},
   "outputs": [
    {
     "name": "stdout",
     "output_type": "stream",
     "text": [
      "813298\n"
     ]
    }
   ],
   "source": [
    "print(df['post'].apply(lambda x: len(x.split(' '))).sum())"
   ]
  },
  {
   "cell_type": "code",
   "execution_count": 143,
   "metadata": {},
   "outputs": [
    {
     "data": {
      "text/plain": [
       "array(['Get Help', 'Community', 'Projects', 'FAQ'], dtype=object)"
      ]
     },
     "execution_count": 143,
     "metadata": {},
     "output_type": "execute_result"
    }
   ],
   "source": [
    "df['Category'].unique()"
   ]
  },
  {
   "cell_type": "code",
   "execution_count": 149,
   "metadata": {},
   "outputs": [
    {
     "data": {
      "text/plain": [
       "Text(0, 0.5, 'no of posts')"
      ]
     },
     "execution_count": 149,
     "metadata": {},
     "output_type": "execute_result"
    },
    {
     "data": {
      "image/png": "[encoded data removed]",
      "text/plain": [
       "<Figure size 720x288 with 1 Axes>"
      ]
     },
     "metadata": {
      "needs_background": "light"
     },
     "output_type": "display_data"
    }
   ],
   "source": [
    "my_categories = [ 'Get Help',\n",
    "       'Community', 'Projects', 'FAQ']\n",
    "plt.figure(figsize=(10,4))\n",
    "df.Category.value_counts().plot(kind='bar');\n",
    "# Add title and axis names\n",
    "plt.title('Category wise no of posts')\n",
    "plt.xlabel('Category name')\n",
    "plt.ylabel('no of posts')"
   ]
  },
  {
   "cell_type": "markdown",
   "metadata": {},
   "source": [
    "# Text Pre-processing"
   ]
  },
  {
   "cell_type": "code",
   "execution_count": 146,
   "metadata": {},
   "outputs": [],
   "source": [
    "test_df = df.copy()"
   ]
  },
  {
   "cell_type": "code",
   "execution_count": 147,
   "metadata": {},
   "outputs": [],
   "source": [
    "REPLACE_BY_SPACE_RE = re.compile('[/(){}\\[\\]\\'\\“\\”\\’\\|@,;]')\n",
    "BAD_SYMBOLS_RE = re.compile('[^0-9a-z #+_]')\n",
    "#STOPWORDS = set(stopwords.words('english'))\n",
    "\n",
    "def clean_text(text):\n",
    "    \"\"\"\n",
    "        text: a string\n",
    "        \n",
    "        return: modified initial string\n",
    "    \"\"\"\n",
    "    text = BeautifulSoup(text, \"lxml\").text # HTML decoding\n",
    "    text = text.lower() # lowercase text\n",
    "    text = REPLACE_BY_SPACE_RE.sub(' ', text) # replace REPLACE_BY_SPACE_RE symbols by space in text\n",
    "    #text = BAD_SYMBOLS_RE.sub('', text) # delete symbols which are in BAD_SYMBOLS_RE from text\n",
    "    #text = ''.join(word for word in text if word not in punct)  # remove punctuation\n",
    "    #text = ' '.join(word for word in text.split() if word not in STOPWORDS) # delete stopwors from text\n",
    "    return text\n",
    "    \n",
    "test_df['post'] = test_df['post'].apply(clean_text)"
   ]
  },
  {
   "cell_type": "markdown",
   "metadata": {},
   "source": [
    "# Modeling the data"
   ]
  },
  {
   "cell_type": "code",
   "execution_count": 151,
   "metadata": {},
   "outputs": [],
   "source": [
    "X = test_df.post\n",
    "y = test_df.Category\n",
    "X_train, X_test, y_train, y_test = train_test_split(X, y, test_size=0.3, random_state = 42)"
   ]
  },
  {
   "cell_type": "code",
   "execution_count": 152,
   "metadata": {},
   "outputs": [
    {
     "data": {
      "text/plain": [
       "2900    u.s medical insurance project. feedback needed...\n",
       "2153    why is lua not part in game development?   sug...\n",
       "5313    can we sort numpy arrays in reverse order?   p...\n",
       "3933    capstone project: netflix data   skill path pr...\n",
       "1916     fixed  4. zip - lists and loops cheatsheet er...\n",
       "Name: post, dtype: object"
      ]
     },
     "execution_count": 152,
     "metadata": {},
     "output_type": "execute_result"
    }
   ],
   "source": [
    "X_train.head()"
   ]
  },
  {
   "cell_type": "code",
   "execution_count": 153,
   "metadata": {},
   "outputs": [
    {
     "data": {
      "text/plain": [
       "2900     Projects\n",
       "2153    Community\n",
       "5313          FAQ\n",
       "3933     Projects\n",
       "1916    Community\n",
       "Name: Category, dtype: object"
      ]
     },
     "execution_count": 153,
     "metadata": {},
     "output_type": "execute_result"
    }
   ],
   "source": [
    "y_train.head()"
   ]
  },
  {
   "cell_type": "markdown",
   "metadata": {},
   "source": [
    "# Naive Bayes Classifier for Multinomial Models"
   ]
  },
  {
   "cell_type": "markdown",
   "metadata": {},
   "source": [
    "### CountVectorizer + TF-IDFTransformer + MultinomialNB"
   ]
  },
  {
   "cell_type": "code",
   "execution_count": 154,
   "metadata": {},
   "outputs": [
    {
     "name": "stdout",
     "output_type": "stream",
     "text": [
      "accuracy 0.6397058823529411\n",
      "              precision    recall  f1-score   support\n",
      "\n",
      "    Get Help       0.69      0.89      0.78       521\n",
      "   Community       1.00      0.07      0.13       184\n",
      "    Projects       1.00      0.01      0.01       318\n",
      "         FAQ       0.60      0.93      0.73       609\n",
      "\n",
      "    accuracy                           0.64      1632\n",
      "   macro avg       0.82      0.47      0.41      1632\n",
      "weighted avg       0.75      0.64      0.54      1632\n",
      "\n"
     ]
    }
   ],
   "source": [
    "from sklearn.naive_bayes import MultinomialNB\n",
    "from sklearn.pipeline import Pipeline\n",
    "from sklearn.feature_extraction.text import TfidfTransformer\n",
    "\n",
    "nb = Pipeline([('vect', CountVectorizer()),\n",
    "               ('tfidf', TfidfTransformer()),\n",
    "               ('clf', MultinomialNB()),\n",
    "              ])\n",
    "nb.fit(X_train, y_train)\n",
    "\n",
    "\n",
    "from sklearn.metrics import classification_report\n",
    "y_pred = nb.predict(X_test)\n",
    "\n",
    "print('accuracy %s' % accuracy_score(y_pred, y_test))\n",
    "res1311 = accuracy_score(y_pred, y_test)\n",
    "print(classification_report(y_test, y_pred,target_names=my_categories))"
   ]
  },
  {
   "cell_type": "markdown",
   "metadata": {},
   "source": [
    "# Linear Support Vector Machine"
   ]
  },
  {
   "cell_type": "markdown",
   "metadata": {},
   "source": [
    "### CountVectorizer + TF-IDFTransformer + SGDClassifier"
   ]
  },
  {
   "cell_type": "code",
   "execution_count": 155,
   "metadata": {},
   "outputs": [
    {
     "name": "stdout",
     "output_type": "stream",
     "text": [
      "accuracy 0.7757352941176471\n",
      "              precision    recall  f1-score   support\n",
      "\n",
      "    Get Help       0.80      0.89      0.85       521\n",
      "   Community       0.78      0.96      0.86       184\n",
      "    Projects       0.83      0.19      0.31       318\n",
      "         FAQ       0.75      0.92      0.83       609\n",
      "\n",
      "    accuracy                           0.78      1632\n",
      "   macro avg       0.79      0.74      0.71      1632\n",
      "weighted avg       0.79      0.78      0.74      1632\n",
      "\n"
     ]
    }
   ],
   "source": [
    "from sklearn.linear_model import SGDClassifier\n",
    "\n",
    "sgd = Pipeline([('vect', CountVectorizer()),\n",
    "                ('tfidf', TfidfTransformer()),\n",
    "                ('clf', SGDClassifier(loss='hinge', penalty='l2',alpha=1e-3, random_state=42, max_iter=5, tol=None)),\n",
    "               ])\n",
    "sgd.fit(X_train, y_train)\n",
    "\n",
    "y_pred = sgd.predict(X_test)\n",
    "\n",
    "print('accuracy %s' % accuracy_score(y_pred, y_test))\n",
    "res1321 = accuracy_score(y_pred, y_test)\n",
    "print(classification_report(y_test, y_pred,target_names=my_categories))"
   ]
  },
  {
   "cell_type": "markdown",
   "metadata": {},
   "source": [
    "# Logistic Regression"
   ]
  },
  {
   "cell_type": "markdown",
   "metadata": {},
   "source": [
    "### CountVectorizer + TF-IDFTransformer + Logistic Regression\n"
   ]
  },
  {
   "cell_type": "code",
   "execution_count": 156,
   "metadata": {},
   "outputs": [
    {
     "name": "stderr",
     "output_type": "stream",
     "text": [
      "c:\\users\\hp\\appdata\\local\\programs\\python\\python38\\lib\\site-packages\\sklearn\\linear_model\\_logistic.py:762: ConvergenceWarning: lbfgs failed to converge (status=1):\n",
      "STOP: TOTAL NO. of ITERATIONS REACHED LIMIT.\n",
      "\n",
      "Increase the number of iterations (max_iter) or scale the data as shown in:\n",
      "    https://scikit-learn.org/stable/modules/preprocessing.html\n",
      "Please also refer to the documentation for alternative solver options:\n",
      "    https://scikit-learn.org/stable/modules/linear_model.html#logistic-regression\n",
      "  n_iter_i = _check_optimize_result(\n"
     ]
    },
    {
     "name": "stdout",
     "output_type": "stream",
     "text": [
      "accuracy 0.8082107843137255\n",
      "              precision    recall  f1-score   support\n",
      "\n",
      "    Get Help       0.83      0.87      0.85       521\n",
      "   Community       0.91      0.96      0.93       184\n",
      "    Projects       0.66      0.53      0.58       318\n",
      "         FAQ       0.82      0.86      0.84       609\n",
      "\n",
      "    accuracy                           0.81      1632\n",
      "   macro avg       0.80      0.80      0.80      1632\n",
      "weighted avg       0.80      0.81      0.80      1632\n",
      "\n"
     ]
    }
   ],
   "source": [
    "from sklearn.linear_model import LogisticRegression\n",
    "\n",
    "logreg = Pipeline([('vect', CountVectorizer()),\n",
    "                ('tfidf', TfidfTransformer()),\n",
    "                ('clf', LogisticRegression(n_jobs=1, C=1e5)),\n",
    "               ])\n",
    "logreg.fit(X_train, y_train)\n",
    "\n",
    "y_pred = logreg.predict (X_test)\n",
    "\n",
    "print('accuracy %s' % accuracy_score(y_pred, y_test))\n",
    "res1331 = accuracy_score(y_pred, y_test)\n",
    "print(classification_report(y_test, y_pred,target_names=my_categories))"
   ]
  },
  {
   "cell_type": "markdown",
   "metadata": {},
   "source": [
    "# Decision Tree"
   ]
  },
  {
   "cell_type": "markdown",
   "metadata": {},
   "source": [
    "### CountVectorizer + TF-IDFTransformer + DecisionTreeClassifier"
   ]
  },
  {
   "cell_type": "code",
   "execution_count": 157,
   "metadata": {},
   "outputs": [
    {
     "name": "stdout",
     "output_type": "stream",
     "text": [
      "accuracy 0.7696078431372549\n",
      "              precision    recall  f1-score   support\n",
      "\n",
      "    Get Help       0.78      0.83      0.80       521\n",
      "   Community       0.99      0.97      0.98       184\n",
      "    Projects       0.57      0.50      0.53       318\n",
      "         FAQ       0.79      0.80      0.79       609\n",
      "\n",
      "    accuracy                           0.77      1632\n",
      "   macro avg       0.78      0.77      0.78      1632\n",
      "weighted avg       0.76      0.77      0.77      1632\n",
      "\n"
     ]
    }
   ],
   "source": [
    "from sklearn.tree import DecisionTreeClassifier\n",
    "\n",
    "dtree = Pipeline([('vect', CountVectorizer()),\n",
    "                ('tfidf', TfidfTransformer()),\n",
    "                ('clf', DecisionTreeClassifier(random_state=0)),\n",
    "               ])\n",
    "dtree.fit(X_train, y_train)\n",
    "\n",
    "y_pred = dtree.predict (X_test)\n",
    "\n",
    "print('accuracy %s' % accuracy_score(y_pred, y_test))\n",
    "res1341 = accuracy_score(y_pred, y_test)\n",
    "print(classification_report(y_test, y_pred,target_names=my_categories))"
   ]
  },
  {
   "cell_type": "markdown",
   "metadata": {},
   "source": [
    "# Results"
   ]
  },
  {
   "cell_type": "markdown",
   "metadata": {},
   "source": [
    "### Results of the previously trained models"
   ]
  },
  {
   "cell_type": "code",
   "execution_count": 158,
   "metadata": {},
   "outputs": [
    {
     "data": {
      "text/html": [
       "<div>\n",
       "<style scoped>\n",
       "    .dataframe tbody tr th:only-of-type {\n",
       "        vertical-align: middle;\n",
       "    }\n",
       "\n",
       "    .dataframe tbody tr th {\n",
       "        vertical-align: top;\n",
       "    }\n",
       "\n",
       "    .dataframe thead th {\n",
       "        text-align: right;\n",
       "    }\n",
       "</style>\n",
       "<table border=\"1\" class=\"dataframe\">\n",
       "  <thead>\n",
       "    <tr style=\"text-align: right;\">\n",
       "      <th></th>\n",
       "      <th>Model</th>\n",
       "      <th>Accuracy</th>\n",
       "    </tr>\n",
       "  </thead>\n",
       "  <tbody>\n",
       "    <tr>\n",
       "      <th>0</th>\n",
       "      <td>Naive Bayes MultinomialNB</td>\n",
       "      <td>0.639706</td>\n",
       "    </tr>\n",
       "    <tr>\n",
       "      <th>3</th>\n",
       "      <td>Decision Tree</td>\n",
       "      <td>0.769608</td>\n",
       "    </tr>\n",
       "    <tr>\n",
       "      <th>1</th>\n",
       "      <td>Linear SVM</td>\n",
       "      <td>0.775735</td>\n",
       "    </tr>\n",
       "    <tr>\n",
       "      <th>2</th>\n",
       "      <td>Logistic Regression</td>\n",
       "      <td>0.808211</td>\n",
       "    </tr>\n",
       "  </tbody>\n",
       "</table>\n",
       "</div>"
      ],
      "text/plain": [
       "                       Model  Accuracy\n",
       "0  Naive Bayes MultinomialNB  0.639706\n",
       "3              Decision Tree  0.769608\n",
       "1                 Linear SVM  0.775735\n",
       "2        Logistic Regression  0.808211"
      ]
     },
     "execution_count": 158,
     "metadata": {},
     "output_type": "execute_result"
    }
   ],
   "source": [
    "import pandas as pd\n",
    "\n",
    "results = pd.DataFrame({'Model': ['Naive Bayes MultinomialNB', 'Linear SVM', 'Logistic Regression', 'Decision Tree'],\n",
    "                         'Accuracy': [res1311, res1321, res1331, res1341]})\n",
    "results.set_index('Model')\n",
    "results.sort_values(by='Accuracy')"
   ]
  },
  {
   "cell_type": "markdown",
   "metadata": {},
   "source": [
    "# Cross Validation with linear SVM"
   ]
  },
  {
   "cell_type": "code",
   "execution_count": 159,
   "metadata": {},
   "outputs": [],
   "source": [
    "from sklearn.linear_model import SGDClassifier\n",
    "from sklearn.model_selection import cross_val_score\n",
    "import numpy as np\n",
    "\n",
    "sgd = Pipeline([('vect', CountVectorizer()),\n",
    "                ('tfidf', TfidfTransformer()),\n",
    "                ('clf', SGDClassifier(loss='hinge', penalty='l2',alpha=1e-3, random_state=42, max_iter=5, tol=None)),\n",
    "               ])\n",
    "cv_res_sgd = cross_val_score(sgd, X_train, y_train, cv=10)\n",
    "mean_cv_res_sgd = np.mean(cv_res_sgd)"
   ]
  },
  {
   "cell_type": "code",
   "execution_count": 160,
   "metadata": {},
   "outputs": [
    {
     "name": "stdout",
     "output_type": "stream",
     "text": [
      "0.8016335129161487\n"
     ]
    }
   ],
   "source": [
    "print(mean_cv_res_sgd)"
   ]
  },
  {
   "cell_type": "markdown",
   "metadata": {},
   "source": [
    "# Strategy 2"
   ]
  },
  {
   "cell_type": "markdown",
   "metadata": {},
   "source": [
    "* Remove stop words (+ what was done in Strategy 1)"
   ]
  },
  {
   "cell_type": "code",
   "execution_count": 161,
   "metadata": {},
   "outputs": [],
   "source": [
    "test_df2 = test_df.copy()"
   ]
  },
  {
   "cell_type": "code",
   "execution_count": 162,
   "metadata": {},
   "outputs": [],
   "source": [
    "REPLACE_BY_SPACE_RE = re.compile('[/(){}\\[\\]\\'\\“\\”\\’\\|@,;]')\n",
    "BAD_SYMBOLS_RE = re.compile('[^0-9a-z #+_]')\n",
    "STOPWORDS = set(stopwords.words('english'))\n",
    "\n",
    "def clean_text(text):\n",
    "    \"\"\"\n",
    "        text: a string\n",
    "        \n",
    "        return: modified initial string\n",
    "    \"\"\"\n",
    "    text = BeautifulSoup(text, \"lxml\").text # HTML decoding\n",
    "    text = text.lower() # lowercase text\n",
    "    text = REPLACE_BY_SPACE_RE.sub(' ', text) # replace REPLACE_BY_SPACE_RE symbols by space in text\n",
    "    #text = BAD_SYMBOLS_RE.sub('', text) # delete symbols which are in BAD_SYMBOLS_RE from text\n",
    "    #text = ''.join(word for word in text if word not in punct)  # remove punctuation\n",
    "    text = ' '.join(word for word in text.split() if word not in STOPWORDS) # delete stopwors from text\n",
    "    return text\n",
    "    \n",
    "test_df2['post'] = test_df2['post'].apply(clean_text)"
   ]
  },
  {
   "cell_type": "markdown",
   "metadata": {},
   "source": [
    "# Modeling the data"
   ]
  },
  {
   "cell_type": "code",
   "execution_count": 164,
   "metadata": {},
   "outputs": [],
   "source": [
    "X = test_df2.post\n",
    "y = test_df2.Category\n",
    "X_train, X_test, y_train, y_test = train_test_split(X, y, test_size=0.3, random_state = 42)"
   ]
  },
  {
   "cell_type": "code",
   "execution_count": 165,
   "metadata": {},
   "outputs": [
    {
     "data": {
      "text/plain": [
       "2900    u.s medical insurance project. feedback needed...\n",
       "2153    lua part game development? suggestions feature...\n",
       "5313    sort numpy arrays reverse order? python faq qu...\n",
       "3933    capstone project: netflix data skill path proj...\n",
       "1916    fixed 4. zip - lists loops cheatsheet error? b...\n",
       "Name: post, dtype: object"
      ]
     },
     "execution_count": 165,
     "metadata": {},
     "output_type": "execute_result"
    }
   ],
   "source": [
    "X_train.head()"
   ]
  },
  {
   "cell_type": "code",
   "execution_count": 166,
   "metadata": {},
   "outputs": [
    {
     "data": {
      "text/plain": [
       "2900     Projects\n",
       "2153    Community\n",
       "5313          FAQ\n",
       "3933     Projects\n",
       "1916    Community\n",
       "Name: Category, dtype: object"
      ]
     },
     "execution_count": 166,
     "metadata": {},
     "output_type": "execute_result"
    }
   ],
   "source": [
    "y_train.head()"
   ]
  },
  {
   "cell_type": "markdown",
   "metadata": {},
   "source": [
    "# Naive Bayes Classifier for Multinomial Models"
   ]
  },
  {
   "cell_type": "markdown",
   "metadata": {},
   "source": [
    "### CountVectorizer + TF-IDFTransformer + MultinomialNB"
   ]
  },
  {
   "cell_type": "code",
   "execution_count": 167,
   "metadata": {},
   "outputs": [
    {
     "name": "stdout",
     "output_type": "stream",
     "text": [
      "accuracy 0.6501225490196079\n",
      "              precision    recall  f1-score   support\n",
      "\n",
      "    Get Help       0.74      0.86      0.80       521\n",
      "   Community       1.00      0.17      0.29       184\n",
      "    Projects       0.89      0.03      0.05       318\n",
      "         FAQ       0.58      0.94      0.72       609\n",
      "\n",
      "    accuracy                           0.65      1632\n",
      "   macro avg       0.80      0.50      0.46      1632\n",
      "weighted avg       0.74      0.65      0.56      1632\n",
      "\n"
     ]
    }
   ],
   "source": [
    "from sklearn.naive_bayes import MultinomialNB\n",
    "from sklearn.pipeline import Pipeline\n",
    "from sklearn.feature_extraction.text import TfidfTransformer\n",
    "\n",
    "nb = Pipeline([('vect', CountVectorizer()),\n",
    "               ('tfidf', TfidfTransformer()),\n",
    "               ('clf', MultinomialNB()),\n",
    "              ])\n",
    "nb.fit(X_train, y_train)\n",
    "\n",
    "\n",
    "from sklearn.metrics import classification_report\n",
    "y_pred = nb.predict(X_test)\n",
    "\n",
    "print('accuracy %s' % accuracy_score(y_pred, y_test))\n",
    "res2311 = accuracy_score(y_pred, y_test)\n",
    "print(classification_report(y_test, y_pred,target_names=my_categories))"
   ]
  },
  {
   "cell_type": "markdown",
   "metadata": {},
   "source": [
    "# Linear Support Vector Machine"
   ]
  },
  {
   "cell_type": "markdown",
   "metadata": {},
   "source": [
    "### CountVectorizer + TF-IDFTransformer + SGDClassifier"
   ]
  },
  {
   "cell_type": "code",
   "execution_count": 168,
   "metadata": {},
   "outputs": [
    {
     "name": "stdout",
     "output_type": "stream",
     "text": [
      "accuracy 0.7806372549019608\n",
      "              precision    recall  f1-score   support\n",
      "\n",
      "    Get Help       0.81      0.90      0.85       521\n",
      "   Community       0.83      0.96      0.89       184\n",
      "    Projects       0.82      0.19      0.31       318\n",
      "         FAQ       0.74      0.93      0.83       609\n",
      "\n",
      "    accuracy                           0.78      1632\n",
      "   macro avg       0.80      0.75      0.72      1632\n",
      "weighted avg       0.79      0.78      0.74      1632\n",
      "\n"
     ]
    }
   ],
   "source": [
    "from sklearn.linear_model import SGDClassifier\n",
    "\n",
    "sgd = Pipeline([('vect', CountVectorizer()),\n",
    "                ('tfidf', TfidfTransformer()),\n",
    "                ('clf', SGDClassifier(loss='hinge', penalty='l2',alpha=1e-3, random_state=42, max_iter=5, tol=None)),\n",
    "               ])\n",
    "sgd.fit(X_train, y_train)\n",
    "\n",
    "y_pred = sgd.predict(X_test)\n",
    "\n",
    "print('accuracy %s' % accuracy_score(y_pred, y_test))\n",
    "res2321 = accuracy_score(y_pred, y_test)\n",
    "print(classification_report(y_test, y_pred,target_names=my_categories))"
   ]
  },
  {
   "cell_type": "markdown",
   "metadata": {},
   "source": [
    "# Logistic Regression"
   ]
  },
  {
   "cell_type": "markdown",
   "metadata": {},
   "source": [
    "### CountVectorizer + TF-IDFTransformer + Logistic Regression"
   ]
  },
  {
   "cell_type": "code",
   "execution_count": 169,
   "metadata": {},
   "outputs": [
    {
     "name": "stdout",
     "output_type": "stream",
     "text": [
      "accuracy 0.7996323529411765\n",
      "              precision    recall  f1-score   support\n",
      "\n",
      "    Get Help       0.83      0.86      0.84       521\n",
      "   Community       0.91      0.97      0.94       184\n",
      "    Projects       0.63      0.48      0.55       318\n",
      "         FAQ       0.81      0.86      0.83       609\n",
      "\n",
      "    accuracy                           0.80      1632\n",
      "   macro avg       0.79      0.79      0.79      1632\n",
      "weighted avg       0.79      0.80      0.79      1632\n",
      "\n"
     ]
    },
    {
     "name": "stderr",
     "output_type": "stream",
     "text": [
      "c:\\users\\hp\\appdata\\local\\programs\\python\\python38\\lib\\site-packages\\sklearn\\linear_model\\_logistic.py:762: ConvergenceWarning: lbfgs failed to converge (status=1):\n",
      "STOP: TOTAL NO. of ITERATIONS REACHED LIMIT.\n",
      "\n",
      "Increase the number of iterations (max_iter) or scale the data as shown in:\n",
      "    https://scikit-learn.org/stable/modules/preprocessing.html\n",
      "Please also refer to the documentation for alternative solver options:\n",
      "    https://scikit-learn.org/stable/modules/linear_model.html#logistic-regression\n",
      "  n_iter_i = _check_optimize_result(\n"
     ]
    }
   ],
   "source": [
    "from sklearn.linear_model import LogisticRegression\n",
    "\n",
    "logreg = Pipeline([('vect', CountVectorizer()),\n",
    "                ('tfidf', TfidfTransformer()),\n",
    "                ('clf', LogisticRegression(n_jobs=1, C=1e5)),\n",
    "               ])\n",
    "logreg.fit(X_train, y_train)\n",
    "\n",
    "y_pred = logreg.predict (X_test)\n",
    "\n",
    "print('accuracy %s' % accuracy_score(y_pred, y_test))\n",
    "res2331 = accuracy_score(y_pred, y_test)\n",
    "print(classification_report(y_test, y_pred,target_names=my_categories))"
   ]
  },
  {
   "cell_type": "markdown",
   "metadata": {},
   "source": [
    "# Decision Tree"
   ]
  },
  {
   "cell_type": "markdown",
   "metadata": {},
   "source": [
    "### CountVectorizer + TF-IDFTransformer + DecisionTreeClassifier"
   ]
  },
  {
   "cell_type": "code",
   "execution_count": 170,
   "metadata": {},
   "outputs": [
    {
     "name": "stdout",
     "output_type": "stream",
     "text": [
      "accuracy 0.772671568627451\n",
      "              precision    recall  f1-score   support\n",
      "\n",
      "    Get Help       0.80      0.82      0.81       521\n",
      "   Community       0.95      0.96      0.96       184\n",
      "    Projects       0.58      0.50      0.54       318\n",
      "         FAQ       0.78      0.82      0.80       609\n",
      "\n",
      "    accuracy                           0.77      1632\n",
      "   macro avg       0.78      0.77      0.78      1632\n",
      "weighted avg       0.77      0.77      0.77      1632\n",
      "\n"
     ]
    }
   ],
   "source": [
    "from sklearn.tree import DecisionTreeClassifier\n",
    "\n",
    "dtree = Pipeline([('vect', CountVectorizer()),\n",
    "                ('tfidf', TfidfTransformer()),\n",
    "                ('clf', DecisionTreeClassifier(random_state=0)),\n",
    "               ])\n",
    "dtree.fit(X_train, y_train)\n",
    "\n",
    "y_pred = dtree.predict (X_test)\n",
    "\n",
    "print('accuracy %s' % accuracy_score(y_pred, y_test))\n",
    "res2341 = accuracy_score(y_pred, y_test)\n",
    "print(classification_report(y_test, y_pred,target_names=my_categories))"
   ]
  },
  {
   "cell_type": "code",
   "execution_count": 171,
   "metadata": {},
   "outputs": [
    {
     "data": {
      "image/png": "[encoded data removed]",
      "text/plain": [
       "<Figure size 720x720 with 2 Axes>"
      ]
     },
     "metadata": {
      "needs_background": "light"
     },
     "output_type": "display_data"
    }
   ],
   "source": [
    "from sklearn.metrics import confusion_matrix\n",
    "import seaborn as sns\n",
    "\n",
    "conf_mat = confusion_matrix(y_test, y_pred)\n",
    "fig, ax = plt.subplots(figsize=(10,10))\n",
    "sns.heatmap(conf_mat, annot=True, fmt='d',\n",
    "            xticklabels=my_categories, yticklabels=my_categories)\n",
    "plt.ylabel('Actual')\n",
    "plt.xlabel('Predicted')\n",
    "plt.show()"
   ]
  },
  {
   "cell_type": "markdown",
   "metadata": {},
   "source": [
    "# Results"
   ]
  },
  {
   "cell_type": "markdown",
   "metadata": {},
   "source": [
    "### Results of the previously trained models"
   ]
  },
  {
   "cell_type": "code",
   "execution_count": 172,
   "metadata": {
    "scrolled": true
   },
   "outputs": [
    {
     "data": {
      "text/html": [
       "<div>\n",
       "<style scoped>\n",
       "    .dataframe tbody tr th:only-of-type {\n",
       "        vertical-align: middle;\n",
       "    }\n",
       "\n",
       "    .dataframe tbody tr th {\n",
       "        vertical-align: top;\n",
       "    }\n",
       "\n",
       "    .dataframe thead th {\n",
       "        text-align: right;\n",
       "    }\n",
       "</style>\n",
       "<table border=\"1\" class=\"dataframe\">\n",
       "  <thead>\n",
       "    <tr style=\"text-align: right;\">\n",
       "      <th></th>\n",
       "      <th>Model</th>\n",
       "      <th>Accuracy</th>\n",
       "    </tr>\n",
       "  </thead>\n",
       "  <tbody>\n",
       "    <tr>\n",
       "      <th>0</th>\n",
       "      <td>Naive Bayes MultinomialNB</td>\n",
       "      <td>0.650123</td>\n",
       "    </tr>\n",
       "    <tr>\n",
       "      <th>3</th>\n",
       "      <td>Decision Tree</td>\n",
       "      <td>0.772672</td>\n",
       "    </tr>\n",
       "    <tr>\n",
       "      <th>1</th>\n",
       "      <td>Linear SVM</td>\n",
       "      <td>0.780637</td>\n",
       "    </tr>\n",
       "    <tr>\n",
       "      <th>2</th>\n",
       "      <td>Logistic Regression</td>\n",
       "      <td>0.799632</td>\n",
       "    </tr>\n",
       "  </tbody>\n",
       "</table>\n",
       "</div>"
      ],
      "text/plain": [
       "                       Model  Accuracy\n",
       "0  Naive Bayes MultinomialNB  0.650123\n",
       "3              Decision Tree  0.772672\n",
       "1                 Linear SVM  0.780637\n",
       "2        Logistic Regression  0.799632"
      ]
     },
     "execution_count": 172,
     "metadata": {},
     "output_type": "execute_result"
    }
   ],
   "source": [
    "import pandas as pd\n",
    "\n",
    "results = pd.DataFrame({'Model': ['Naive Bayes MultinomialNB', 'Linear SVM', 'Logistic Regression', 'Decision Tree'],\n",
    "                         'Accuracy': [res2311, res2321, res2331, res2341]})\n",
    "results.set_index('Model')\n",
    "results.sort_values(by='Accuracy')"
   ]
  },
  {
   "cell_type": "markdown",
   "metadata": {},
   "source": [
    "#### So after removing the stop words the accuracy of the maximum accurate machine learning model slightly decreases."
   ]
  },
  {
   "cell_type": "markdown",
   "metadata": {},
   "source": [
    "# Cross Validation with linear SVM"
   ]
  },
  {
   "cell_type": "code",
   "execution_count": 173,
   "metadata": {},
   "outputs": [],
   "source": [
    "from sklearn.linear_model import SGDClassifier\n",
    "from sklearn.model_selection import cross_val_score\n",
    "import numpy as np\n",
    "\n",
    "sgd = Pipeline([('vect', CountVectorizer()),\n",
    "                ('tfidf', TfidfTransformer()),\n",
    "                ('clf', SGDClassifier(loss='hinge', penalty='l2',alpha=1e-3, random_state=42, max_iter=5, tol=None)),\n",
    "               ])\n",
    "cv_res_sgd2 = cross_val_score(sgd, X_train, y_train, cv=10)\n",
    "mean_cv_res_sgd2 = np.mean(cv_res_sgd2)"
   ]
  },
  {
   "cell_type": "code",
   "execution_count": 174,
   "metadata": {},
   "outputs": [
    {
     "name": "stdout",
     "output_type": "stream",
     "text": [
      "0.8005836441497445\n"
     ]
    }
   ],
   "source": [
    "print(mean_cv_res_sgd2)"
   ]
  },
  {
   "cell_type": "markdown",
   "metadata": {},
   "source": [
    "#  Strategy 3"
   ]
  },
  {
   "cell_type": "markdown",
   "metadata": {},
   "source": [
    "* text.replace(r'\\n', ' ') & Remove digits and words containing digits (+ what was done in Strategy 2)"
   ]
  },
  {
   "cell_type": "code",
   "execution_count": 175,
   "metadata": {
    "scrolled": true
   },
   "outputs": [],
   "source": [
    "test_df3 = test_df2.copy()"
   ]
  },
  {
   "cell_type": "code",
   "execution_count": 176,
   "metadata": {},
   "outputs": [],
   "source": [
    "REPLACE_BY_SPACE_RE = re.compile('[/(){}\\[\\]\\'\\“\\”\\’\\|@,;]')\n",
    "BAD_SYMBOLS_RE = re.compile('[^0-9a-z #+_]')\n",
    "STOPWORDS = set(stopwords.words('english'))\n",
    "DIGITS_RE=re.compile('\\w*\\d\\w*')\n",
    "\n",
    "def clean_text(text):\n",
    "    \"\"\"\n",
    "        text: a string\n",
    "        \n",
    "        return: modified initial string\n",
    "    \"\"\"\n",
    "    text = BeautifulSoup(text, \"lxml\").text # HTML decoding\n",
    "    text = text.lower() # lowercase text\n",
    "    text = REPLACE_BY_SPACE_RE.sub(' ', text) # replace REPLACE_BY_SPACE_RE symbols by space in text\n",
    "    text = text.replace(r'\\n', ' ')\n",
    "    #text = BAD_SYMBOLS_RE.sub('', text) # delete symbols which are in BAD_SYMBOLS_RE from text\n",
    "    #text = ''.join(word for word in text if word not in punct)  # remove punctuation\n",
    "    text = ' '.join(word for word in text.split() if word not in STOPWORDS) # delete stopwors from text\n",
    "    text = DIGITS_RE.sub('', text)\n",
    "    return text\n",
    "    \n",
    "test_df3['post'] = test_df3['post'].apply(clean_text)"
   ]
  },
  {
   "cell_type": "markdown",
   "metadata": {},
   "source": [
    "# Random Forest"
   ]
  },
  {
   "cell_type": "code",
   "execution_count": 178,
   "metadata": {},
   "outputs": [],
   "source": [
    "from sklearn.ensemble import RandomForestClassifier\n",
    "from sklearn.model_selection import cross_val_score\n",
    "import numpy as np\n",
    "\n",
    "rf = Pipeline([('vect', CountVectorizer()),\n",
    "                ('tfidf', TfidfTransformer()),\n",
    "                ('clf', RandomForestClassifier(n_estimators=500, max_depth=500, random_state=0)),\n",
    "               ])\n",
    "\n",
    "cv_res_rf = cross_val_score(rf, X_train, y_train, cv=10)\n",
    "mean_cv_res_rf = np.mean(cv_res_rf)"
   ]
  },
  {
   "cell_type": "code",
   "execution_count": 179,
   "metadata": {},
   "outputs": [
    {
     "name": "stdout",
     "output_type": "stream",
     "text": [
      "0.8292146705346042\n"
     ]
    }
   ],
   "source": [
    "print(mean_cv_res_rf)#max_depth =500, n_estimators=500"
   ]
  },
  {
   "cell_type": "code",
   "execution_count": 180,
   "metadata": {},
   "outputs": [],
   "source": [
    "from sklearn.ensemble import RandomForestClassifier\n",
    "from sklearn.model_selection import cross_val_score\n",
    "import numpy as np\n",
    "\n",
    "rf = Pipeline([('vect', TfidfVectorizer()),\n",
    "                ('tfidf', TfidfTransformer()),\n",
    "                ('clf', RandomForestClassifier(n_estimators=200, max_depth=100, random_state=0)),\n",
    "               ])\n",
    "\n",
    "cv_res_rf_tfidf = cross_val_score(rf, X_train, y_train, cv=10)\n",
    "mean_cv_res_rf_tfidf = np.mean(cv_res_rf_tfidf)"
   ]
  },
  {
   "cell_type": "code",
   "execution_count": 181,
   "metadata": {},
   "outputs": [
    {
     "data": {
      "text/plain": [
       "0.8234300317723442"
      ]
     },
     "execution_count": 181,
     "metadata": {},
     "output_type": "execute_result"
    }
   ],
   "source": [
    "mean_cv_res_rf_tfidf# max_depth = 100, n_estimators=200"
   ]
  },
  {
   "cell_type": "markdown",
   "metadata": {},
   "source": [
    "#### Using TF-IDF as a vectorizer and transformer is slighly better than using CountVectorizer as a Vectorizer."
   ]
  },
  {
   "cell_type": "code",
   "execution_count": 182,
   "metadata": {},
   "outputs": [],
   "source": [
    "# from sklearn.linear_model import SGDClassifier\n",
    "from sklearn.model_selection import cross_val_score\n",
    "import numpy as np\n",
    "\n",
    "sgd = Pipeline([('vect', TfidfVectorizer()),\n",
    "                ('tfidf', TfidfTransformer()),\n",
    "                ('clf', SGDClassifier(loss='hinge', penalty='l2',alpha=1e-3, random_state=42, max_iter=100, tol=None)),\n",
    "               ])\n",
    "cv_res_sgd_tfidf = cross_val_score(sgd, X_train, y_train, cv=10)\n",
    "mean_cv_res_sgd_tfidf = np.mean(cv_res_sgd_tfidf)"
   ]
  },
  {
   "cell_type": "code",
   "execution_count": 183,
   "metadata": {},
   "outputs": [
    {
     "data": {
      "text/plain": [
       "0.7887567343555739"
      ]
     },
     "execution_count": 183,
     "metadata": {},
     "output_type": "execute_result"
    }
   ],
   "source": [
    "mean_cv_res_sgd_tfidf #100 in max_iter"
   ]
  },
  {
   "cell_type": "markdown",
   "metadata": {},
   "source": [
    "# XGBoost"
   ]
  },
  {
   "cell_type": "code",
   "execution_count": 184,
   "metadata": {
    "scrolled": true
   },
   "outputs": [
    {
     "name": "stdout",
     "output_type": "stream",
     "text": [
      "Requirement already satisfied: xgboost in c:\\users\\hp\\appdata\\local\\programs\\python\\python38\\lib\\site-packages (1.3.1)\n",
      "Requirement already satisfied: numpy in c:\\users\\hp\\appdata\\local\\programs\\python\\python38\\lib\\site-packages (from xgboost) (1.19.4)\n",
      "Requirement already satisfied: scipy in c:\\users\\hp\\appdata\\local\\programs\\python\\python38\\lib\\site-packages (from xgboost) (1.5.4)\n",
      "Requirement already satisfied: numpy in c:\\users\\hp\\appdata\\local\\programs\\python\\python38\\lib\\site-packages (from xgboost) (1.19.4)\n",
      "Note: you may need to restart the kernel to use updated packages.\n"
     ]
    },
    {
     "name": "stderr",
     "output_type": "stream",
     "text": [
      "WARNING: You are using pip version 20.3.1; however, version 21.0.1 is available.\n",
      "You should consider upgrading via the 'c:\\users\\hp\\appdata\\local\\programs\\python\\python38\\python.exe -m pip install --upgrade pip' command.\n"
     ]
    }
   ],
   "source": [
    "pip install xgboost"
   ]
  },
  {
   "cell_type": "code",
   "execution_count": 185,
   "metadata": {},
   "outputs": [
    {
     "name": "stderr",
     "output_type": "stream",
     "text": [
      "c:\\users\\hp\\appdata\\local\\programs\\python\\python38\\lib\\site-packages\\xgboost\\sklearn.py:892: UserWarning: The use of label encoder in XGBClassifier is deprecated and will be removed in a future release. To remove this warning, do the following: 1) Pass option use_label_encoder=False when constructing XGBClassifier object; and 2) Encode your labels (y) as integers starting with 0, i.e. 0, 1, 2, ..., [num_class - 1].\n",
      "  warnings.warn(label_encoder_deprecation_msg, UserWarning)\n"
     ]
    },
    {
     "name": "stdout",
     "output_type": "stream",
     "text": [
      "[23:55:14] WARNING: C:/Users/Administrator/workspace/xgboost-win64_release_1.3.0/src/learner.cc:1061: Starting in XGBoost 1.3.0, the default evaluation metric used with the objective 'multi:softprob' was changed from 'merror' to 'mlogloss'. Explicitly set eval_metric if you'd like to restore the old behavior.\n",
      "[23:55:27] WARNING: C:/Users/Administrator/workspace/xgboost-win64_release_1.3.0/src/learner.cc:1061: Starting in XGBoost 1.3.0, the default evaluation metric used with the objective 'multi:softprob' was changed from 'merror' to 'mlogloss'. Explicitly set eval_metric if you'd like to restore the old behavior.\n",
      "[23:55:41] WARNING: C:/Users/Administrator/workspace/xgboost-win64_release_1.3.0/src/learner.cc:1061: Starting in XGBoost 1.3.0, the default evaluation metric used with the objective 'multi:softprob' was changed from 'merror' to 'mlogloss'. Explicitly set eval_metric if you'd like to restore the old behavior.\n",
      "[23:55:55] WARNING: C:/Users/Administrator/workspace/xgboost-win64_release_1.3.0/src/learner.cc:1061: Starting in XGBoost 1.3.0, the default evaluation metric used with the objective 'multi:softprob' was changed from 'merror' to 'mlogloss'. Explicitly set eval_metric if you'd like to restore the old behavior.\n",
      "[23:56:09] WARNING: C:/Users/Administrator/workspace/xgboost-win64_release_1.3.0/src/learner.cc:1061: Starting in XGBoost 1.3.0, the default evaluation metric used with the objective 'multi:softprob' was changed from 'merror' to 'mlogloss'. Explicitly set eval_metric if you'd like to restore the old behavior.\n",
      "[23:56:23] WARNING: C:/Users/Administrator/workspace/xgboost-win64_release_1.3.0/src/learner.cc:1061: Starting in XGBoost 1.3.0, the default evaluation metric used with the objective 'multi:softprob' was changed from 'merror' to 'mlogloss'. Explicitly set eval_metric if you'd like to restore the old behavior.\n",
      "[23:56:37] WARNING: C:/Users/Administrator/workspace/xgboost-win64_release_1.3.0/src/learner.cc:1061: Starting in XGBoost 1.3.0, the default evaluation metric used with the objective 'multi:softprob' was changed from 'merror' to 'mlogloss'. Explicitly set eval_metric if you'd like to restore the old behavior.\n",
      "[23:56:51] WARNING: C:/Users/Administrator/workspace/xgboost-win64_release_1.3.0/src/learner.cc:1061: Starting in XGBoost 1.3.0, the default evaluation metric used with the objective 'multi:softprob' was changed from 'merror' to 'mlogloss'. Explicitly set eval_metric if you'd like to restore the old behavior.\n",
      "[23:57:05] WARNING: C:/Users/Administrator/workspace/xgboost-win64_release_1.3.0/src/learner.cc:1061: Starting in XGBoost 1.3.0, the default evaluation metric used with the objective 'multi:softprob' was changed from 'merror' to 'mlogloss'. Explicitly set eval_metric if you'd like to restore the old behavior.\n",
      "[23:57:19] WARNING: C:/Users/Administrator/workspace/xgboost-win64_release_1.3.0/src/learner.cc:1061: Starting in XGBoost 1.3.0, the default evaluation metric used with the objective 'multi:softprob' was changed from 'merror' to 'mlogloss'. Explicitly set eval_metric if you'd like to restore the old behavior.\n"
     ]
    }
   ],
   "source": [
    "import xgboost as xgb\n",
    "\n",
    "xgb = Pipeline(steps=[('vect', TfidfVectorizer()),\n",
    "                      ('tfidf', TfidfTransformer()),\n",
    "                      ('xgboost', xgb.XGBClassifier(objective='multi:softmax'))])\n",
    "\n",
    "cv_res_xgb_tfidf = cross_val_score(xgb, X_train, y_train, cv=10)\n",
    "mean_cv_res_xgb_tfidf = np.mean(cv_res_xgb_tfidf)"
   ]
  },
  {
   "cell_type": "code",
   "execution_count": 186,
   "metadata": {},
   "outputs": [
    {
     "data": {
      "text/plain": [
       "0.8612819450200304"
      ]
     },
     "execution_count": 186,
     "metadata": {},
     "output_type": "execute_result"
    }
   ],
   "source": [
    "mean_cv_res_xgb_tfidf"
   ]
  },
  {
   "cell_type": "code",
   "execution_count": 187,
   "metadata": {},
   "outputs": [
    {
     "name": "stdout",
     "output_type": "stream",
     "text": [
      "[23:57:34] WARNING: C:/Users/Administrator/workspace/xgboost-win64_release_1.3.0/src/learner.cc:1061: Starting in XGBoost 1.3.0, the default evaluation metric used with the objective 'multi:softprob' was changed from 'merror' to 'mlogloss'. Explicitly set eval_metric if you'd like to restore the old behavior.\n"
     ]
    }
   ],
   "source": [
    "xgb.fit(X_train, y_train)\n",
    "\n",
    "y_pred = xgb.predict(X_test)"
   ]
  },
  {
   "cell_type": "code",
   "execution_count": 188,
   "metadata": {
    "scrolled": true
   },
   "outputs": [
    {
     "name": "stdout",
     "output_type": "stream",
     "text": [
      "accuracy 0.8535539215686274\n",
      "              precision    recall  f1-score   support\n",
      "\n",
      "    Get Help       0.87      0.91      0.89       521\n",
      "   Community       0.98      0.98      0.98       184\n",
      "    Projects       0.75      0.57      0.65       318\n",
      "         FAQ       0.84      0.92      0.88       609\n",
      "\n",
      "    accuracy                           0.85      1632\n",
      "   macro avg       0.86      0.84      0.85      1632\n",
      "weighted avg       0.85      0.85      0.85      1632\n",
      "\n"
     ]
    }
   ],
   "source": [
    "print('accuracy %s' % accuracy_score(y_pred, y_test))\n",
    "res_xgb = accuracy_score(y_pred, y_test)\n",
    "print(classification_report(y_test, y_pred,target_names=my_categories))"
   ]
  },
  {
   "cell_type": "code",
   "execution_count": 189,
   "metadata": {},
   "outputs": [
    {
     "data": {
      "image/png": "[encoded data removed]",
      "text/plain": [
       "<Figure size 720x720 with 2 Axes>"
      ]
     },
     "metadata": {
      "needs_background": "light"
     },
     "output_type": "display_data"
    }
   ],
   "source": [
    "conf_mat = confusion_matrix(y_test, y_pred)\n",
    "fig, ax = plt.subplots(figsize=(10,10))\n",
    "sns.heatmap(conf_mat, annot=True, fmt='d',\n",
    "            xticklabels=my_categories, yticklabels=my_categories)\n",
    "plt.ylabel('Actual')\n",
    "plt.xlabel('Predicted')\n",
    "plt.show()\n"
   ]
  },
  {
   "cell_type": "code",
   "execution_count": 190,
   "metadata": {},
   "outputs": [],
   "source": [
    "import lightgbm as lgbm\n",
    "\n",
    "tfidf_vec = TfidfVectorizer(dtype=np.float32, sublinear_tf=True, use_idf=True, smooth_idf=True)\n",
    "X_data_tfidf = tfidf_vec.fit_transform(test_df3['post'])\n",
    "X_train_tfidf = tfidf_vec.transform(X_train)\n",
    "X_test_tfidf = tfidf_vec.transform(X_test)\n",
    "\n",
    "clf_LGBM = lgbm.LGBMClassifier(objective='multiclass', verbose=-1, learning_rate=0.5, max_depth=20, num_leaves=50, n_estimators=120, max_bin=2000,)\n",
    "clf_LGBM.fit(X_train_tfidf, y_train, verbose=-1)\n",
    "predicted_LGBM = clf_LGBM.predict(X_test_tfidf)"
   ]
  },
  {
   "cell_type": "code",
   "execution_count": 191,
   "metadata": {},
   "outputs": [],
   "source": [
    "cv_res_lgbm_tfidf = cross_val_score(clf_LGBM, X_train_tfidf, y_train, cv=10)\n",
    "mean_cv_res_lgbm_tfidf = np.mean(cv_res_lgbm_tfidf)"
   ]
  },
  {
   "cell_type": "code",
   "execution_count": 192,
   "metadata": {},
   "outputs": [
    {
     "data": {
      "text/plain": [
       "0.8649627020306673"
      ]
     },
     "execution_count": 192,
     "metadata": {},
     "output_type": "execute_result"
    }
   ],
   "source": [
    "mean_cv_res_lgbm_tfidf"
   ]
  },
  {
   "cell_type": "code",
   "execution_count": 193,
   "metadata": {
    "scrolled": true
   },
   "outputs": [
    {
     "name": "stdout",
     "output_type": "stream",
     "text": [
      "accuracy 0.8566176470588235\n",
      "              precision    recall  f1-score   support\n",
      "\n",
      "    Get Help       0.88      0.90      0.89       521\n",
      "   Community       0.99      0.98      0.99       184\n",
      "    Projects       0.73      0.59      0.66       318\n",
      "         FAQ       0.85      0.92      0.88       609\n",
      "\n",
      "    accuracy                           0.86      1632\n",
      "   macro avg       0.86      0.85      0.85      1632\n",
      "weighted avg       0.85      0.86      0.85      1632\n",
      "\n"
     ]
    }
   ],
   "source": [
    "print('accuracy %s' % accuracy_score(predicted_LGBM, y_test))\n",
    "res_lgbm = accuracy_score(predicted_LGBM, y_test)\n",
    "print(classification_report(y_test, predicted_LGBM,target_names=my_categories))"
   ]
  },
  {
   "cell_type": "markdown",
   "metadata": {},
   "source": [
    "#### Got maximum accuracy of 85.66 % after training Lightgbm."
   ]
  },
  {
   "cell_type": "code",
   "execution_count": 194,
   "metadata": {},
   "outputs": [
    {
     "data": {
      "image/png": "[encoded data removed]",
      "text/plain": [
       "<Figure size 720x720 with 2 Axes>"
      ]
     },
     "metadata": {
      "needs_background": "light"
     },
     "output_type": "display_data"
    }
   ],
   "source": [
    "conf_mat = confusion_matrix(y_test, predicted_LGBM)\n",
    "fig, ax = plt.subplots(figsize=(10,10))\n",
    "sns.heatmap(conf_mat, annot=True, fmt='d',\n",
    "            xticklabels=my_categories, yticklabels=my_categories)\n",
    "plt.ylabel('Actual')\n",
    "plt.xlabel('Predicted')\n",
    "plt.show()"
   ]
  },
  {
   "cell_type": "code",
   "execution_count": 120,
   "metadata": {},
   "outputs": [],
   "source": [
    "data = pd.read_csv('Codeacademy_Webscrapper_20210107154307.csv')"
   ]
  },
  {
   "cell_type": "code",
   "execution_count": 121,
   "metadata": {},
   "outputs": [],
   "source": [
    "STOPWORDS = set(stopwords.words('english'))\n",
    "STOPWORDSv2 = [word.upper() for word in STOPWORDS]"
   ]
  },
  {
   "cell_type": "code",
   "execution_count": 122,
   "metadata": {},
   "outputs": [
    {
     "data": {
      "text/plain": [
       "['BY',\n",
       " 'FOR',\n",
       " 'I',\n",
       " 'TO',\n",
       " 'JUST',\n",
       " 'IN',\n",
       " 'VE',\n",
       " 'AT',\n",
       " 'NO',\n",
       " \"SHE'S\",\n",
       " \"YOU'VE\",\n",
       " 'YOUR',\n",
       " 'WHY',\n",
       " 'ABOVE',\n",
       " 'THE',\n",
       " 'OURS',\n",
       " 'MY',\n",
       " 'MA',\n",
       " \"THAT'LL\",\n",
       " 'DID',\n",
       " 'SAME',\n",
       " 'ABOUT',\n",
       " \"DON'T\",\n",
       " 'WHOM',\n",
       " 'CAN',\n",
       " \"MUSTN'T\",\n",
       " 'THEY',\n",
       " 'HAVEN',\n",
       " 'HE',\n",
       " 'HIM',\n",
       " 'THIS',\n",
       " 'RE',\n",
       " 'ANY',\n",
       " 'DON',\n",
       " 'THAT',\n",
       " 'AS',\n",
       " 'WITH',\n",
       " 'WOULDN',\n",
       " 'WHERE',\n",
       " 'AFTER',\n",
       " \"YOU'RE\",\n",
       " \"YOU'D\",\n",
       " 'SUCH',\n",
       " 'BUT',\n",
       " 'AND',\n",
       " 'TOO',\n",
       " 'HIS',\n",
       " 'BEING',\n",
       " 'WHO',\n",
       " 'MIGHTN',\n",
       " 'MOST',\n",
       " 'SHOULD',\n",
       " 'AREN',\n",
       " \"YOU'LL\",\n",
       " 'OWN',\n",
       " 'AGAINST',\n",
       " 'ONLY',\n",
       " 'YOURS',\n",
       " 'IT',\n",
       " \"NEEDN'T\",\n",
       " \"WASN'T\",\n",
       " 'IF',\n",
       " 'FROM',\n",
       " 'HAVE',\n",
       " 'THEN',\n",
       " \"SHAN'T\",\n",
       " \"IT'S\",\n",
       " 'OUR',\n",
       " 'WE',\n",
       " 'THESE',\n",
       " 'THROUGH',\n",
       " 'Y',\n",
       " \"WON'T\",\n",
       " 'ISN',\n",
       " 'WAS',\n",
       " 'BEFORE',\n",
       " \"HAVEN'T\",\n",
       " 'WHEN',\n",
       " 'SOME',\n",
       " 'HAVING',\n",
       " 'T',\n",
       " 'HERSELF',\n",
       " \"AREN'T\",\n",
       " 'ME',\n",
       " 'M',\n",
       " \"DOESN'T\",\n",
       " 'YOURSELVES',\n",
       " 'THEM',\n",
       " 'COULDN',\n",
       " 'LL',\n",
       " 'D',\n",
       " \"HASN'T\",\n",
       " 'VERY',\n",
       " 'YOU',\n",
       " 'INTO',\n",
       " 'HAD',\n",
       " 'HADN',\n",
       " 'DOWN',\n",
       " 'AIN',\n",
       " 'AGAIN',\n",
       " 'SHOULDN',\n",
       " 'MORE',\n",
       " 'WHICH',\n",
       " 'OR',\n",
       " 'MUSTN',\n",
       " 'AN',\n",
       " \"WOULDN'T\",\n",
       " 'THEIR',\n",
       " 'NOW',\n",
       " \"WEREN'T\",\n",
       " 'ITS',\n",
       " 'OFF',\n",
       " 'S',\n",
       " 'UNDER',\n",
       " 'DURING',\n",
       " 'SO',\n",
       " 'WILL',\n",
       " 'THAN',\n",
       " 'HERE',\n",
       " \"HADN'T\",\n",
       " 'THOSE',\n",
       " 'NOT',\n",
       " 'OURSELVES',\n",
       " 'BETWEEN',\n",
       " 'O',\n",
       " \"SHOULDN'T\",\n",
       " 'DIDN',\n",
       " 'OF',\n",
       " 'ITSELF',\n",
       " 'UP',\n",
       " 'MYSELF',\n",
       " 'ALL',\n",
       " 'HIMSELF',\n",
       " \"COULDN'T\",\n",
       " 'DOES',\n",
       " 'AM',\n",
       " 'WHAT',\n",
       " 'THEIRS',\n",
       " \"DIDN'T\",\n",
       " 'BEEN',\n",
       " \"MIGHTN'T\",\n",
       " 'YOURSELF',\n",
       " 'HER',\n",
       " 'BE',\n",
       " 'FURTHER',\n",
       " 'WEREN',\n",
       " 'SHAN',\n",
       " 'ON',\n",
       " 'OVER',\n",
       " 'THERE',\n",
       " 'ONCE',\n",
       " 'BELOW',\n",
       " 'WASN',\n",
       " 'NEEDN',\n",
       " \"ISN'T\",\n",
       " 'THEMSELVES',\n",
       " 'DOING',\n",
       " 'BOTH',\n",
       " 'NOR',\n",
       " \"SHOULD'VE\",\n",
       " 'SHE',\n",
       " 'HOW',\n",
       " 'A',\n",
       " 'IS',\n",
       " 'FEW',\n",
       " 'ARE',\n",
       " 'HAS',\n",
       " 'DOESN',\n",
       " 'HERS',\n",
       " 'WHILE',\n",
       " 'WON',\n",
       " 'WERE',\n",
       " 'UNTIL',\n",
       " 'OTHER',\n",
       " 'DO',\n",
       " 'OUT',\n",
       " 'HASN',\n",
       " 'EACH',\n",
       " 'BECAUSE']"
      ]
     },
     "execution_count": 122,
     "metadata": {},
     "output_type": "execute_result"
    }
   ],
   "source": [
    "STOPWORDSv2"
   ]
  },
  {
   "cell_type": "code",
   "execution_count": 123,
   "metadata": {},
   "outputs": [
    {
     "name": "stderr",
     "output_type": "stream",
     "text": [
      "c:\\users\\hp\\appdata\\local\\programs\\python\\python38\\lib\\site-packages\\bs4\\__init__.py:417: MarkupResemblesLocatorWarning: \"https://www.codecademy.com/paths/web-development/tracks/styling-a-website/modules/learn-css-selectors-visual-rules/lessons/css-setup-selectors/exercises/intro-to-css\" looks like a URL. Beautiful Soup is not an HTTP client. You should probably use an HTTP client like requests to get the document behind the URL, and feed that document to Beautiful Soup.\n",
      "  warnings.warn(\n"
     ]
    }
   ],
   "source": [
    "def clean_data(text):\n",
    "    \"\"\"\n",
    "        text: a string\n",
    "        \n",
    "        return: modified initial string\n",
    "    \"\"\"\n",
    "    text = BeautifulSoup(text, \"lxml\").text # HTML decoding\n",
    "    text = ' '.join(word for word in text.split() if word not in STOPWORDSv2) # delete stopwors from text\n",
    "    return text\n",
    "    \n",
    "data['Leading Comment'] = data['Leading Comment'].apply(clean_data)"
   ]
  },
  {
   "cell_type": "code",
   "execution_count": 124,
   "metadata": {},
   "outputs": [
    {
     "data": {
      "text/plain": [
       "0    Codecademy Discuss posts are parsed with Markd...\n",
       "1    Technical guides will teach you how to use the...\n",
       "2    Take a moment and read through each of these b...\n",
       "3    great topic is one that provides potential hel...\n",
       "4    With Codecademy Community forums, conversation...\n",
       "Name: Leading Comment, dtype: object"
      ]
     },
     "execution_count": 124,
     "metadata": {},
     "output_type": "execute_result"
    }
   ],
   "source": [
    "data['Leading Comment'].head()"
   ]
  },
  {
   "cell_type": "code",
   "execution_count": 125,
   "metadata": {},
   "outputs": [],
   "source": [
    "upcase_words = {}\n",
    "regex = r\"([A-Z]{3})\"\n",
    "\n",
    "for i, row in zip(range(500), data['Leading Comment'][:500]):\n",
    "    row = data['Leading Comment'].str.findall(regex)[i]\n",
    "    if len(row) != 0:\n",
    "        upcase_words[i] = row"
   ]
  },
  {
   "cell_type": "code",
   "execution_count": 126,
   "metadata": {},
   "outputs": [],
   "source": [
    "df_upword = pd.DataFrame(upcase_words.items(), columns=['Original Index', 'Upper Case Words'])"
   ]
  },
  {
   "cell_type": "code",
   "execution_count": 127,
   "metadata": {},
   "outputs": [
    {
     "data": {
      "text/html": [
       "<div>\n",
       "<style scoped>\n",
       "    .dataframe tbody tr th:only-of-type {\n",
       "        vertical-align: middle;\n",
       "    }\n",
       "\n",
       "    .dataframe tbody tr th {\n",
       "        vertical-align: top;\n",
       "    }\n",
       "\n",
       "    .dataframe thead th {\n",
       "        text-align: right;\n",
       "    }\n",
       "</style>\n",
       "<table border=\"1\" class=\"dataframe\">\n",
       "  <thead>\n",
       "    <tr style=\"text-align: right;\">\n",
       "      <th></th>\n",
       "      <th>Original Index</th>\n",
       "      <th>Upper Case Words</th>\n",
       "    </tr>\n",
       "  </thead>\n",
       "  <tbody>\n",
       "    <tr>\n",
       "      <th>0</th>\n",
       "      <td>0</td>\n",
       "      <td>[HTM]</td>\n",
       "    </tr>\n",
       "    <tr>\n",
       "      <th>1</th>\n",
       "      <td>3</td>\n",
       "      <td>[URL]</td>\n",
       "    </tr>\n",
       "    <tr>\n",
       "      <th>2</th>\n",
       "      <td>11</td>\n",
       "      <td>[HTM, HTM]</td>\n",
       "    </tr>\n",
       "    <tr>\n",
       "      <th>3</th>\n",
       "      <td>14</td>\n",
       "      <td>[HTM, BBC]</td>\n",
       "    </tr>\n",
       "    <tr>\n",
       "      <th>4</th>\n",
       "      <td>15</td>\n",
       "      <td>[FAQ, NOT, TOS]</td>\n",
       "    </tr>\n",
       "  </tbody>\n",
       "</table>\n",
       "</div>"
      ],
      "text/plain": [
       "   Original Index Upper Case Words\n",
       "0               0            [HTM]\n",
       "1               3            [URL]\n",
       "2              11       [HTM, HTM]\n",
       "3              14       [HTM, BBC]\n",
       "4              15  [FAQ, NOT, TOS]"
      ]
     },
     "execution_count": 127,
     "metadata": {},
     "output_type": "execute_result"
    }
   ],
   "source": [
    "df_upword.head()"
   ]
  },
  {
   "cell_type": "code",
   "execution_count": 128,
   "metadata": {},
   "outputs": [],
   "source": [
    "df_upword['Number of UpCase Words'] =  df_upword['Upper Case Words'].apply(lambda x: len(x))"
   ]
  },
  {
   "cell_type": "code",
   "execution_count": 129,
   "metadata": {},
   "outputs": [
    {
     "data": {
      "text/html": [
       "<div>\n",
       "<style scoped>\n",
       "    .dataframe tbody tr th:only-of-type {\n",
       "        vertical-align: middle;\n",
       "    }\n",
       "\n",
       "    .dataframe tbody tr th {\n",
       "        vertical-align: top;\n",
       "    }\n",
       "\n",
       "    .dataframe thead th {\n",
       "        text-align: right;\n",
       "    }\n",
       "</style>\n",
       "<table border=\"1\" class=\"dataframe\">\n",
       "  <thead>\n",
       "    <tr style=\"text-align: right;\">\n",
       "      <th></th>\n",
       "      <th>Original Index</th>\n",
       "      <th>Upper Case Words</th>\n",
       "      <th>Number of UpCase Words</th>\n",
       "    </tr>\n",
       "  </thead>\n",
       "  <tbody>\n",
       "    <tr>\n",
       "      <th>0</th>\n",
       "      <td>0</td>\n",
       "      <td>[HTM]</td>\n",
       "      <td>1</td>\n",
       "    </tr>\n",
       "    <tr>\n",
       "      <th>1</th>\n",
       "      <td>3</td>\n",
       "      <td>[URL]</td>\n",
       "      <td>1</td>\n",
       "    </tr>\n",
       "    <tr>\n",
       "      <th>2</th>\n",
       "      <td>11</td>\n",
       "      <td>[HTM, HTM]</td>\n",
       "      <td>2</td>\n",
       "    </tr>\n",
       "    <tr>\n",
       "      <th>3</th>\n",
       "      <td>14</td>\n",
       "      <td>[HTM, BBC]</td>\n",
       "      <td>2</td>\n",
       "    </tr>\n",
       "    <tr>\n",
       "      <th>4</th>\n",
       "      <td>15</td>\n",
       "      <td>[FAQ, NOT, TOS]</td>\n",
       "      <td>3</td>\n",
       "    </tr>\n",
       "  </tbody>\n",
       "</table>\n",
       "</div>"
      ],
      "text/plain": [
       "   Original Index Upper Case Words  Number of UpCase Words\n",
       "0               0            [HTM]                       1\n",
       "1               3            [URL]                       1\n",
       "2              11       [HTM, HTM]                       2\n",
       "3              14       [HTM, BBC]                       2\n",
       "4              15  [FAQ, NOT, TOS]                       3"
      ]
     },
     "execution_count": 129,
     "metadata": {},
     "output_type": "execute_result"
    }
   ],
   "source": [
    "df_upword.head()"
   ]
  },
  {
   "cell_type": "code",
   "execution_count": 130,
   "metadata": {},
   "outputs": [
    {
     "data": {
      "text/plain": [
       "77"
      ]
     },
     "execution_count": 130,
     "metadata": {},
     "output_type": "execute_result"
    }
   ],
   "source": [
    "df_upword['Number of UpCase Words'].values.max()"
   ]
  },
  {
   "cell_type": "code",
   "execution_count": 131,
   "metadata": {},
   "outputs": [
    {
     "data": {
      "text/plain": [
       "33    77\n",
       "Name: Number of UpCase Words, dtype: int64"
      ]
     },
     "execution_count": 131,
     "metadata": {},
     "output_type": "execute_result"
    }
   ],
   "source": [
    "df_upword['Number of UpCase Words'][df_upword['Number of UpCase Words'].values == 77]"
   ]
  },
  {
   "cell_type": "code",
   "execution_count": 132,
   "metadata": {},
   "outputs": [
    {
     "data": {
      "text/plain": [
       "77"
      ]
     },
     "execution_count": 132,
     "metadata": {},
     "output_type": "execute_result"
    }
   ],
   "source": [
    "df_upword['Number of UpCase Words'][33]"
   ]
  },
  {
   "cell_type": "code",
   "execution_count": 133,
   "metadata": {},
   "outputs": [
    {
     "data": {
      "text/plain": [
       "['CRE',\n",
       " 'ATE',\n",
       " 'TAB',\n",
       " 'DEC',\n",
       " 'IMA',\n",
       " 'NUL',\n",
       " 'DEF',\n",
       " 'AUL',\n",
       " 'PRI',\n",
       " 'MAR',\n",
       " 'KEY',\n",
       " 'VAR',\n",
       " 'CHA',\n",
       " 'NUL',\n",
       " 'DEC',\n",
       " 'IMA',\n",
       " 'NUL',\n",
       " 'DEF',\n",
       " 'AUL',\n",
       " 'DEC',\n",
       " 'IMA',\n",
       " 'NUL',\n",
       " 'UNI',\n",
       " 'QUE',\n",
       " 'CRE',\n",
       " 'ATE',\n",
       " 'TAB',\n",
       " 'VAR',\n",
       " 'CHA',\n",
       " 'UNI',\n",
       " 'QUE',\n",
       " 'NUL',\n",
       " 'PRI',\n",
       " 'MAR',\n",
       " 'KEY',\n",
       " 'VAR',\n",
       " 'CHA',\n",
       " 'NUL',\n",
       " 'VAR',\n",
       " 'CHA',\n",
       " 'NUL',\n",
       " 'VAR',\n",
       " 'CHA',\n",
       " 'VAR',\n",
       " 'CHA',\n",
       " 'DAT',\n",
       " 'NUL',\n",
       " 'VAR',\n",
       " 'CHA',\n",
       " 'NUL',\n",
       " 'DEC',\n",
       " 'IMA',\n",
       " 'NUL',\n",
       " 'DEC',\n",
       " 'IMA',\n",
       " 'DEC',\n",
       " 'IMA',\n",
       " 'NUL',\n",
       " 'DEF',\n",
       " 'AUL',\n",
       " 'DEC',\n",
       " 'IMA',\n",
       " 'NUL',\n",
       " 'DEF',\n",
       " 'AUL',\n",
       " 'FOR',\n",
       " 'EIG',\n",
       " 'KEY',\n",
       " 'REF',\n",
       " 'ERE',\n",
       " 'NCE',\n",
       " 'FOR',\n",
       " 'EIG',\n",
       " 'KEY',\n",
       " 'REF',\n",
       " 'ERE',\n",
       " 'NCE']"
      ]
     },
     "execution_count": 133,
     "metadata": {},
     "output_type": "execute_result"
    }
   ],
   "source": [
    "df_upword['Upper Case Words'][33]"
   ]
  },
  {
   "cell_type": "code",
   "execution_count": 134,
   "metadata": {},
   "outputs": [],
   "source": [
    "abb = {}\n",
    "for word in df_upword['Upper Case Words'][33]:\n",
    "    if word in abb.keys():\n",
    "        abb[word] += 1\n",
    "    else:\n",
    "        abb[word] = 1"
   ]
  },
  {
   "cell_type": "code",
   "execution_count": 135,
   "metadata": {},
   "outputs": [
    {
     "data": {
      "text/plain": [
       "{'CRE': 2,\n",
       " 'ATE': 2,\n",
       " 'TAB': 2,\n",
       " 'DEC': 7,\n",
       " 'IMA': 7,\n",
       " 'NUL': 12,\n",
       " 'DEF': 4,\n",
       " 'AUL': 4,\n",
       " 'PRI': 2,\n",
       " 'MAR': 2,\n",
       " 'KEY': 4,\n",
       " 'VAR': 7,\n",
       " 'CHA': 7,\n",
       " 'UNI': 2,\n",
       " 'QUE': 2,\n",
       " 'DAT': 1,\n",
       " 'FOR': 2,\n",
       " 'EIG': 2,\n",
       " 'REF': 2,\n",
       " 'ERE': 2,\n",
       " 'NCE': 2}"
      ]
     },
     "execution_count": 135,
     "metadata": {},
     "output_type": "execute_result"
    }
   ],
   "source": [
    "abb"
   ]
  },
  {
   "cell_type": "markdown",
   "metadata": {},
   "source": [
    "# The ones that looks legilible to me are: \n",
    "'CRE',\n",
    " 'ATE',\n",
    " 'TAB',\n",
    " **'DEC'**,\n",
    " **'IMA'**,\n",
    " **'NUL'**,\n",
    " 'DEF',\n",
    " 'AUL',\n",
    " 'PRI',\n",
    " 'MAR',\n",
    " 'KEY',\n",
    " **'VAR',\n",
    " 'CHA',**\n",
    " 'UNI',\n",
    " 'QUE',\n",
    " 'DAT',\n",
    " 'FOR',\n",
    " 'EIG',\n",
    " 'REF',\n",
    " 'ERE',\n",
    " 'NCE'}\n",
    "**The ones that looks leg**"
   ]
  },
  {
   "cell_type": "code",
   "execution_count": null,
   "metadata": {},
   "outputs": [],
   "source": []
  }
 ],
 "metadata": {
  "kernelspec": {
   "display_name": "Python 3",
   "language": "python",
   "name": "python3"
  },
  "language_info": {
   "codemirror_mode": {
    "name": "ipython",
    "version": 3
   },
   "file_extension": ".py",
   "mimetype": "text/x-python",
   "name": "python",
   "nbconvert_exporter": "python",
   "pygments_lexer": "ipython3",
   "version": "3.8.5"
  }
 },
 "nbformat": 4,
 "nbformat_minor": 4
}
