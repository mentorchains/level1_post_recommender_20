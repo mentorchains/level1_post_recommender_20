{
 "cells": [
  {
   "cell_type": "markdown",
   "metadata": {},
   "source": [
    "# Getting the data"
   ]
  },
  {
   "cell_type": "code",
   "execution_count": 1,
   "metadata": {
    "scrolled": true
   },
   "outputs": [
    {
     "data": {
      "text/html": [
       "<div>\n",
       "<style scoped>\n",
       "    .dataframe tbody tr th:only-of-type {\n",
       "        vertical-align: middle;\n",
       "    }\n",
       "\n",
       "    .dataframe tbody tr th {\n",
       "        vertical-align: top;\n",
       "    }\n",
       "\n",
       "    .dataframe thead th {\n",
       "        text-align: right;\n",
       "    }\n",
       "</style>\n",
       "<table border=\"1\" class=\"dataframe\">\n",
       "  <thead>\n",
       "    <tr style=\"text-align: right;\">\n",
       "      <th></th>\n",
       "      <th>Unnamed: 0</th>\n",
       "      <th>Topic Title</th>\n",
       "      <th>Category</th>\n",
       "      <th>Tags</th>\n",
       "      <th>Leading Comment</th>\n",
       "      <th>Other Comments</th>\n",
       "      <th>Likes</th>\n",
       "      <th>Views</th>\n",
       "    </tr>\n",
       "  </thead>\n",
       "  <tbody>\n",
       "    <tr>\n",
       "      <th>0</th>\n",
       "      <td>0</td>\n",
       "      <td>[How to] Format code in posts</td>\n",
       "      <td>Getting Started</td>\n",
       "      <td>[]</td>\n",
       "      <td>Codecademy Discuss posts are parsed with Markd...</td>\n",
       "      <td>[]</td>\n",
       "      <td>21</td>\n",
       "      <td>13.9k</td>\n",
       "    </tr>\n",
       "    <tr>\n",
       "      <th>1</th>\n",
       "      <td>1</td>\n",
       "      <td>Guide: A list of how-to’s for giving and recei...</td>\n",
       "      <td>Getting Started</td>\n",
       "      <td>[]</td>\n",
       "      <td>Technical guides will teach you how to use the...</td>\n",
       "      <td>[]</td>\n",
       "      <td>0</td>\n",
       "      <td>0</td>\n",
       "    </tr>\n",
       "    <tr>\n",
       "      <th>2</th>\n",
       "      <td>2</td>\n",
       "      <td>Guide: Learn about our community forums</td>\n",
       "      <td>Getting Started</td>\n",
       "      <td>[]</td>\n",
       "      <td>Take a moment and read through each of these b...</td>\n",
       "      <td>[]</td>\n",
       "      <td>0</td>\n",
       "      <td>0</td>\n",
       "    </tr>\n",
       "    <tr>\n",
       "      <th>3</th>\n",
       "      <td>3</td>\n",
       "      <td>[How-to] Create a topic that everyone will read</td>\n",
       "      <td>Getting Started</td>\n",
       "      <td>[]</td>\n",
       "      <td>A great topic is one that provides potential h...</td>\n",
       "      <td>[]</td>\n",
       "      <td>0</td>\n",
       "      <td>0</td>\n",
       "    </tr>\n",
       "    <tr>\n",
       "      <th>4</th>\n",
       "      <td>4</td>\n",
       "      <td>[Learn More] How the forum is organized</td>\n",
       "      <td>Getting Started</td>\n",
       "      <td>[]</td>\n",
       "      <td>With Codecademy Community forums, conversation...</td>\n",
       "      <td>[]</td>\n",
       "      <td>0</td>\n",
       "      <td>0</td>\n",
       "    </tr>\n",
       "  </tbody>\n",
       "</table>\n",
       "</div>"
      ],
      "text/plain": [
       "   Unnamed: 0                                        Topic Title  \\\n",
       "0           0                      [How to] Format code in posts   \n",
       "1           1  Guide: A list of how-to’s for giving and recei...   \n",
       "2           2            Guide: Learn about our community forums   \n",
       "3           3    [How-to] Create a topic that everyone will read   \n",
       "4           4            [Learn More] How the forum is organized   \n",
       "\n",
       "          Category Tags                                    Leading Comment  \\\n",
       "0  Getting Started   []  Codecademy Discuss posts are parsed with Markd...   \n",
       "1  Getting Started   []  Technical guides will teach you how to use the...   \n",
       "2  Getting Started   []  Take a moment and read through each of these b...   \n",
       "3  Getting Started   []  A great topic is one that provides potential h...   \n",
       "4  Getting Started   []  With Codecademy Community forums, conversation...   \n",
       "\n",
       "  Other Comments Likes  Views  \n",
       "0             []    21  13.9k  \n",
       "1             []     0      0  \n",
       "2             []     0      0  \n",
       "3             []     0      0  \n",
       "4             []     0      0  "
      ]
     },
     "execution_count": 1,
     "metadata": {},
     "output_type": "execute_result"
    }
   ],
   "source": [
    "import pandas as pd\n",
    "\n",
    "data = pd.read_csv('Codeacademy_Webscrapper_20210107154307.csv')\n",
    "data.head()"
   ]
  },
  {
   "cell_type": "markdown",
   "metadata": {},
   "source": [
    "# Explore the data"
   ]
  },
  {
   "cell_type": "code",
   "execution_count": 4,
   "metadata": {},
   "outputs": [],
   "source": [
    "import logging\n",
    "import pandas as pd\n",
    "import numpy as np\n",
    "from numpy import random\n",
    "import gensim\n",
    "import nltk\n",
    "from sklearn.model_selection import train_test_split\n",
    "from sklearn.feature_extraction.text import CountVectorizer, TfidfVectorizer\n",
    "from sklearn.metrics import accuracy_score, confusion_matrix\n",
    "import matplotlib.pyplot as plt\n",
    "from nltk.corpus import stopwords\n",
    "import re\n",
    "from bs4 import BeautifulSoup\n",
    "%matplotlib inline"
   ]
  },
  {
   "cell_type": "code",
   "execution_count": 5,
   "metadata": {},
   "outputs": [],
   "source": [
    "df = data.copy()"
   ]
  },
  {
   "cell_type": "code",
   "execution_count": 6,
   "metadata": {},
   "outputs": [],
   "source": [
    "df['text'] = df['Topic Title'] + ' ' + df['Tags'] + ' ' + df['Leading Comment'] + ' ' + df['Other Comments']"
   ]
  },
  {
   "cell_type": "code",
   "execution_count": 7,
   "metadata": {},
   "outputs": [
    {
     "data": {
      "text/plain": [
       "array(['Getting Started', 'Get Help', 'Community', 'Projects', 'FAQ'],\n",
       "      dtype=object)"
      ]
     },
     "execution_count": 7,
     "metadata": {},
     "output_type": "execute_result"
    }
   ],
   "source": [
    "df['Category'].unique()"
   ]
  },
  {
   "cell_type": "code",
   "execution_count": 8,
   "metadata": {},
   "outputs": [
    {
     "data": {
      "text/plain": [
       "Text(0, 0.5, 'no of posts')"
      ]
     },
     "execution_count": 8,
     "metadata": {},
     "output_type": "execute_result"
    },
    {
     "data": {
      "image/png": "[encoded data removed]",
      "text/plain": [
       "<Figure size 720x288 with 1 Axes>"
      ]
     },
     "metadata": {
      "needs_background": "light"
     },
     "output_type": "display_data"
    }
   ],
   "source": [
    "my_categories = ['Getting Started', 'Get Help',\n",
    "       'Community', 'Projects', 'FAQ']\n",
    "plt.figure(figsize=(10,4))\n",
    "df.Category.value_counts().plot(kind='bar');\n",
    "# Add title and axis names\n",
    "plt.title('Category wise no of posts')\n",
    "plt.xlabel('Category name')\n",
    "plt.ylabel('no of posts')"
   ]
  },
  {
   "cell_type": "code",
   "execution_count": 9,
   "metadata": {},
   "outputs": [],
   "source": [
    "REPLACE_BY_SPACE_RE = re.compile('[/(){}\\[\\]\\'\\“\\”\\’\\|@,;]')\n",
    "BAD_SYMBOLS_RE = re.compile('[^0-9a-z #+_]')\n",
    "STOPWORDS = set(stopwords.words('english'))\n",
    "DIGITS_RE=re.compile('\\w*\\d\\w*')\n",
    "\n",
    "def clean_text(text):\n",
    "    \"\"\"\n",
    "        text: a string\n",
    "        \n",
    "        return: modified initial string\n",
    "    \"\"\"\n",
    "    text = BeautifulSoup(text, \"lxml\").text # HTML decoding\n",
    "    text = text.lower() # lowercase text\n",
    "    text = REPLACE_BY_SPACE_RE.sub(' ', text) # replace REPLACE_BY_SPACE_RE symbols by space in text\n",
    "    text = text.replace(r'\\n', ' ')\n",
    "    text = BAD_SYMBOLS_RE.sub('', text) # delete symbols which are in BAD_SYMBOLS_RE from text\n",
    "    #text = ''.join(word for word in text if word not in punct)  # remove punctuation\n",
    "    text = ' '.join(word for word in text.split() if word not in STOPWORDS) # delete stopwors from text\n",
    "    text = DIGITS_RE.sub('', text)\n",
    "    return text"
   ]
  },
  {
   "cell_type": "code",
   "execution_count": 10,
   "metadata": {},
   "outputs": [],
   "source": [
    "df['text']=df['text'].apply(clean_text)"
   ]
  },
  {
   "cell_type": "code",
   "execution_count": 12,
   "metadata": {
    "scrolled": true
   },
   "outputs": [],
   "source": [
    "df_x = df['text']\n",
    "df_y = df['Category']"
   ]
  },
  {
   "cell_type": "markdown",
   "metadata": {},
   "source": [
    "# Building the Machine Learning model & pipeline"
   ]
  },
  {
   "cell_type": "markdown",
   "metadata": {},
   "source": [
    "### Converting to Doc2Vec"
   ]
  },
  {
   "cell_type": "code",
   "execution_count": 13,
   "metadata": {},
   "outputs": [],
   "source": [
    "from gensim.models.doc2vec import TaggedDocument, Doc2Vec\n",
    "from sklearn.base import BaseEstimator\n",
    "from sklearn import utils as skl_utils\n",
    "from tqdm import tqdm\n",
    "\n",
    "import multiprocessing\n",
    "import numpy as np\n",
    "\n",
    "class Doc2VecTransformer(BaseEstimator):\n",
    "\n",
    "    def __init__(self, vector_size=100, learning_rate=0.02, epochs=20):\n",
    "        self.learning_rate = learning_rate\n",
    "        self.epochs = epochs\n",
    "        self._model = None\n",
    "        self.vector_size = vector_size\n",
    "        self.workers = multiprocessing.cpu_count() - 1\n",
    "\n",
    "    def fit(self, df_x, df_y=None):\n",
    "        tagged_x = [TaggedDocument(clean_text(row).split(), [index]) for index, row in enumerate(df_x)]\n",
    "        model = Doc2Vec(documents=tagged_x, vector_size=self.vector_size, workers=self.workers)\n",
    "\n",
    "        for epoch in range(self.epochs):\n",
    "            model.train(skl_utils.shuffle([x for x in tqdm(tagged_x)]), total_examples=len(tagged_x), epochs=1)\n",
    "            model.alpha -= self.learning_rate\n",
    "            model.min_alpha = model.alpha\n",
    "\n",
    "        self._model = model\n",
    "        return self\n",
    "\n",
    "    def transform(self, df_x):\n",
    "        return np.asmatrix(np.array([self._model.infer_vector(clean_text(row).split())\n",
    "                                     for index, row in enumerate(df_x)]))"
   ]
  },
  {
   "cell_type": "code",
   "execution_count": 14,
   "metadata": {},
   "outputs": [
    {
     "name": "stderr",
     "output_type": "stream",
     "text": [
      "100%|██████████████████████████████████████████████████████████████████████████████████████| 5464/5464 [00:00<?, ?it/s]\n",
      "100%|██████████████████████████████████████████████████████████████████████████| 5464/5464 [00:00<00:00, 519333.70it/s]\n",
      "100%|█████████████████████████████████████████████████████████████████████████| 5464/5464 [00:00<00:00, 1369445.90it/s]\n",
      "100%|█████████████████████████████████████████████████████████████████████████| 5464/5464 [00:00<00:00, 1794509.20it/s]\n",
      "100%|█████████████████████████████████████████████████████████████████████████| 5464/5464 [00:00<00:00, 1825673.31it/s]\n",
      "100%|█████████████████████████████████████████████████████████████████████████| 5464/5464 [00:00<00:00, 1438739.22it/s]\n",
      "100%|██████████████████████████████████████████████████████████████████████████| 5464/5464 [00:00<00:00, 812568.33it/s]\n",
      "100%|██████████████████████████████████████████████████████████████████████████| 5464/5464 [00:00<00:00, 321475.64it/s]\n",
      "100%|██████████████████████████████████████████████████████████████████████████| 5464/5464 [00:00<00:00, 301949.66it/s]\n",
      "100%|██████████████████████████████████████████████████████████████████████████| 5464/5464 [00:00<00:00, 444908.41it/s]\n",
      "100%|█████████████████████████████████████████████████████████████████████████| 5464/5464 [00:00<00:00, 1825382.48it/s]\n",
      "100%|█████████████████████████████████████████████████████████████████████████| 5464/5464 [00:00<00:00, 1825673.31it/s]\n",
      "100%|█████████████████████████████████████████████████████████████████████████| 5464/5464 [00:00<00:00, 1825382.48it/s]\n",
      "100%|██████████████████████████████████████████████████████████████████████████| 5464/5464 [00:00<00:00, 676396.82it/s]\n",
      "100%|██████████████████████████████████████████████████████████████████████████| 5464/5464 [00:00<00:00, 566596.05it/s]\n",
      "100%|██████████████████████████████████████████████████████████████████████████| 5464/5464 [00:00<00:00, 390506.88it/s]\n",
      "100%|██████████████████████████████████████████████████████████████████████████| 5464/5464 [00:00<00:00, 982621.32it/s]\n",
      "100%|█████████████████████████████████████████████████████████████████████████| 5464/5464 [00:00<00:00, 1811244.53it/s]\n",
      "100%|██████████████████████████████████████████████████████████████████████████| 5464/5464 [00:00<00:00, 307413.51it/s]\n",
      "100%|██████████████████████████████████████████████████████████████████████████| 5464/5464 [00:00<00:00, 555768.67it/s]\n"
     ]
    },
    {
     "data": {
      "text/plain": [
       "matrix([[-6.2930962e-04, -2.3707829e-03,  1.6738396e-03, ...,\n",
       "         -4.5934645e-03,  1.5115562e-03, -2.7000592e-03],\n",
       "        [-1.0662147e-02,  2.5298707e-02, -4.0407889e-02, ...,\n",
       "          9.1680907e-02,  8.0702871e-02, -6.2301934e-02],\n",
       "        [ 6.0381699e-02,  2.0130815e-01, -7.5689055e-02, ...,\n",
       "          6.0963985e-03,  6.7084402e-02, -2.4092151e-02],\n",
       "        ...,\n",
       "        [-4.0309830e-03,  8.9003635e-04,  6.9659454e-04, ...,\n",
       "          2.0869114e-03, -2.5795263e-03,  1.0334391e-03],\n",
       "        [-2.0284226e+00, -2.7045131e+00, -2.3194513e+00, ...,\n",
       "          1.3746829e+00,  5.5559807e-02, -1.7046621e+00],\n",
       "        [ 1.3878864e-01, -6.4833090e-03,  3.4833288e-01, ...,\n",
       "         -7.0903070e-02,  1.4584921e-01,  1.4997584e-01]], dtype=float32)"
      ]
     },
     "execution_count": 14,
     "metadata": {},
     "output_type": "execute_result"
    }
   ],
   "source": [
    "doc2vec_trf = Doc2VecTransformer()\n",
    "doc2vec_features = doc2vec_trf.fit(df_x).transform(df_x)\n",
    "doc2vec_features"
   ]
  },
  {
   "cell_type": "markdown",
   "metadata": {},
   "source": [
    "# Pipeline with Doc2Vec & LogisticRegression"
   ]
  },
  {
   "cell_type": "code",
   "execution_count": 15,
   "metadata": {},
   "outputs": [
    {
     "name": "stderr",
     "output_type": "stream",
     "text": [
      "100%|██████████████████████████████████████████████████████████████████████████| 4371/4371 [00:00<00:00, 255987.36it/s]\n",
      "100%|██████████████████████████████████████████████████████████████████████████| 4371/4371 [00:00<00:00, 718896.67it/s]\n",
      "100%|█████████████████████████████████████████████████████████████████████████| 4371/4371 [00:00<00:00, 1463386.24it/s]\n",
      "100%|█████████████████████████████████████████████████████████████████████████| 4371/4371 [00:00<00:00, 2189312.49it/s]\n",
      "100%|█████████████████████████████████████████████████████████████████████████| 4371/4371 [00:00<00:00, 2190882.26it/s]\n",
      "100%|█████████████████████████████████████████████████████████████████████████| 4371/4371 [00:00<00:00, 1428161.00it/s]\n",
      "100%|██████████████████████████████████████████████████████████████████████████| 4371/4371 [00:00<00:00, 463395.16it/s]\n",
      "100%|██████████████████████████████████████████████████████████████████████████| 4371/4371 [00:00<00:00, 880688.99it/s]\n",
      "100%|█████████████████████████████████████████████████████████████████████████| 4371/4371 [00:00<00:00, 1460704.55it/s]\n",
      "100%|█████████████████████████████████████████████████████████████████████████| 4371/4371 [00:00<00:00, 2190882.26it/s]\n",
      "100%|██████████████████████████████████████████████████████████████████████████| 4371/4371 [00:00<00:00, 519415.88it/s]\n",
      "100%|██████████████████████████████████████████████████████████████████████████| 4371/4371 [00:00<00:00, 591072.73it/s]\n",
      "100%|█████████████████████████████████████████████████████████████████████████| 4371/4371 [00:00<00:00, 1095179.38it/s]\n",
      "100%|██████████████████████████████████████████████████████████████████████████| 4371/4371 [00:00<00:00, 497255.22it/s]\n",
      "100%|█████████████████████████████████████████████████████████████████████████| 4371/4371 [00:00<00:00, 2190620.48it/s]\n",
      "100%|█████████████████████████████████████████████████████████████████████████| 4371/4371 [00:00<00:00, 1467251.12it/s]\n",
      "100%|█████████████████████████████████████████████████████████████████████████| 4371/4371 [00:00<00:00, 1460122.87it/s]\n",
      "100%|█████████████████████████████████████████████████████████████████████████| 4371/4371 [00:00<00:00, 1460704.55it/s]\n",
      "100%|██████████████████████████████████████████████████████████████████████████████████████| 4371/4371 [00:00<?, ?it/s]\n",
      "100%|██████████████████████████████████████████████████████████████████████████| 4371/4371 [00:00<00:00, 661446.14it/s]\n",
      "c:\\users\\hp\\appdata\\local\\programs\\python\\python38\\lib\\site-packages\\sklearn\\linear_model\\_sag.py:329: ConvergenceWarning: The max_iter was reached which means the coef_ did not converge\n",
      "  warnings.warn(\"The max_iter was reached which means \"\n",
      "100%|█████████████████████████████████████████████████████████████████████████| 4371/4371 [00:00<00:00, 1460355.49it/s]\n",
      "100%|█████████████████████████████████████████████████████████████████████████| 4371/4371 [00:00<00:00, 2189573.96it/s]\n",
      "100%|█████████████████████████████████████████████████████████████████████████| 4371/4371 [00:00<00:00, 1460588.18it/s]\n",
      "100%|█████████████████████████████████████████████████████████████████████████| 4371/4371 [00:00<00:00, 1459309.30it/s]\n",
      "100%|█████████████████████████████████████████████████████████████████████████| 4371/4371 [00:00<00:00, 2191144.11it/s]\n",
      "100%|█████████████████████████████████████████████████████████████████████████| 4371/4371 [00:00<00:00, 2194028.58it/s]\n",
      "100%|█████████████████████████████████████████████████████████████████████████| 4371/4371 [00:00<00:00, 1460122.87it/s]\n",
      "100%|█████████████████████████████████████████████████████████████████████████| 4371/4371 [00:00<00:00, 1460820.94it/s]\n",
      "100%|█████████████████████████████████████████████████████████████████████████| 4371/4371 [00:00<00:00, 1460937.35it/s]\n",
      "100%|█████████████████████████████████████████████████████████████████████████| 4371/4371 [00:00<00:00, 2190358.76it/s]\n",
      "100%|█████████████████████████████████████████████████████████████████████████| 4371/4371 [00:00<00:00, 1461053.78it/s]\n",
      "100%|█████████████████████████████████████████████████████████████████████████| 4371/4371 [00:00<00:00, 2190620.48it/s]\n",
      "100%|█████████████████████████████████████████████████████████████████████████| 4371/4371 [00:00<00:00, 2189835.50it/s]\n",
      "100%|█████████████████████████████████████████████████████████████████████████| 4371/4371 [00:00<00:00, 1460820.94it/s]\n",
      "100%|█████████████████████████████████████████████████████████████████████████| 4371/4371 [00:00<00:00, 2190358.76it/s]\n",
      "100%|█████████████████████████████████████████████████████████████████████████| 4371/4371 [00:00<00:00, 1461170.22it/s]\n",
      "100%|█████████████████████████████████████████████████████████████████████████| 4371/4371 [00:00<00:00, 2190097.10it/s]\n",
      "100%|█████████████████████████████████████████████████████████████████████████| 4371/4371 [00:00<00:00, 1460937.35it/s]\n",
      "100%|█████████████████████████████████████████████████████████████████████████| 4371/4371 [00:00<00:00, 1460937.35it/s]\n",
      "100%|█████████████████████████████████████████████████████████████████████████| 4371/4371 [00:00<00:00, 1095506.59it/s]\n",
      "c:\\users\\hp\\appdata\\local\\programs\\python\\python38\\lib\\site-packages\\sklearn\\linear_model\\_sag.py:329: ConvergenceWarning: The max_iter was reached which means the coef_ did not converge\n",
      "  warnings.warn(\"The max_iter was reached which means \"\n",
      "100%|█████████████████████████████████████████████████████████████████████████| 4371/4371 [00:00<00:00, 1460471.82it/s]\n",
      "100%|█████████████████████████████████████████████████████████████████████████| 4371/4371 [00:00<00:00, 2191930.03it/s]\n",
      "100%|██████████████████████████████████████████████████████████████████████████| 4371/4371 [00:00<00:00, 924383.74it/s]\n",
      "100%|██████████████████████████████████████████████████████████████████████████| 4371/4371 [00:00<00:00, 893087.63it/s]\n",
      "100%|██████████████████████████████████████████████████████████████████████████| 4371/4371 [00:00<00:00, 502971.27it/s]\n",
      "100%|██████████████████████████████████████████████████████████████████████████| 4371/4371 [00:00<00:00, 286619.08it/s]\n",
      "100%|██████████████████████████████████████████████████████████████████████████| 4371/4371 [00:00<00:00, 406476.35it/s]\n",
      "100%|██████████████████████████████████████████████████████████████████████████| 4371/4371 [00:00<00:00, 248240.46it/s]\n",
      "100%|██████████████████████████████████████████████████████████████████████████| 4371/4371 [00:00<00:00, 279488.12it/s]\n",
      "100%|██████████████████████████████████████████████████████████████████████████| 4371/4371 [00:00<00:00, 327100.04it/s]\n",
      "100%|█████████████████████████████████████████████████████████████████████████| 4371/4371 [00:00<00:00, 2193241.15it/s]\n",
      "100%|██████████████████████████████████████████████████████████████████████████████████████| 4371/4371 [00:00<?, ?it/s]\n",
      "100%|██████████████████████████████████████████████████████████████████████████| 4371/4371 [00:00<00:00, 267526.20it/s]\n",
      "100%|██████████████████████████████████████████████████████████████████████████| 4371/4371 [00:00<00:00, 257979.35it/s]\n",
      "100%|██████████████████████████████████████████████████████████████████████████| 4371/4371 [00:00<00:00, 505578.92it/s]\n",
      "100%|██████████████████████████████████████████████████████████████████████████| 4371/4371 [00:00<00:00, 289721.75it/s]\n",
      "100%|█████████████████████████████████████████████████████████████████████████| 4371/4371 [00:00<00:00, 1263146.12it/s]\n",
      "100%|██████████████████████████████████████████████████████████████████████████████████████| 4371/4371 [00:00<?, ?it/s]\n",
      "100%|█████████████████████████████████████████████████████████████████████████| 4371/4371 [00:00<00:00, 1611577.25it/s]\n",
      "100%|██████████████████████████████████████████████████████████████████████████| 4371/4371 [00:00<00:00, 746014.36it/s]\n",
      "c:\\users\\hp\\appdata\\local\\programs\\python\\python38\\lib\\site-packages\\sklearn\\linear_model\\_sag.py:329: ConvergenceWarning: The max_iter was reached which means the coef_ did not converge\n",
      "  warnings.warn(\"The max_iter was reached which means \"\n",
      "100%|██████████████████████████████████████████████████████████████████████████| 4371/4371 [00:00<00:00, 457223.80it/s]\n",
      "100%|██████████████████████████████████████████████████████████████████████████| 4371/4371 [00:00<00:00, 690754.03it/s]\n",
      "100%|█████████████████████████████████████████████████████████████████████████| 4371/4371 [00:00<00:00, 1789662.51it/s]\n",
      "100%|█████████████████████████████████████████████████████████████████████████| 4371/4371 [00:00<00:00, 1124673.50it/s]\n",
      "100%|██████████████████████████████████████████████████████████████████████████| 4371/4371 [00:00<00:00, 279816.58it/s]\n",
      "100%|█████████████████████████████████████████████████████████████████████████| 4371/4371 [00:00<00:00, 1461053.78it/s]\n",
      "100%|█████████████████████████████████████████████████████████████████████████| 4371/4371 [00:00<00:00, 2191406.02it/s]\n",
      "100%|█████████████████████████████████████████████████████████████████████████| 4371/4371 [00:00<00:00, 1460704.55it/s]\n",
      "100%|██████████████████████████████████████████████████████████████████████████| 4371/4371 [00:00<00:00, 730672.46it/s]\n",
      "100%|██████████████████████████████████████████████████████████████████████████| 4371/4371 [00:00<00:00, 782972.57it/s]\n",
      "100%|██████████████████████████████████████████████████████████████████████████| 4371/4371 [00:00<00:00, 558380.37it/s]\n",
      "100%|█████████████████████████████████████████████████████████████████████████| 4371/4371 [00:00<00:00, 2190097.10it/s]\n",
      "100%|██████████████████████████████████████████████████████████████████████████| 4371/4371 [00:00<00:00, 488094.11it/s]\n",
      "100%|█████████████████████████████████████████████████████████████████████████| 4371/4371 [00:00<00:00, 1585925.85it/s]\n",
      "100%|██████████████████████████████████████████████████████████████████████████| 4371/4371 [00:00<00:00, 354980.11it/s]\n",
      "100%|█████████████████████████████████████████████████████████████████████████| 4371/4371 [00:00<00:00, 1460704.55it/s]\n",
      "100%|█████████████████████████████████████████████████████████████████████████| 4371/4371 [00:00<00:00, 1095572.06it/s]\n",
      "100%|█████████████████████████████████████████████████████████████████████████| 4371/4371 [00:00<00:00, 1029440.33it/s]\n",
      "100%|█████████████████████████████████████████████████████████████████████████| 4371/4371 [00:00<00:00, 1600043.88it/s]\n",
      "100%|██████████████████████████████████████████████████████████████████████████| 4371/4371 [00:00<00:00, 433298.74it/s]\n",
      "c:\\users\\hp\\appdata\\local\\programs\\python\\python38\\lib\\site-packages\\sklearn\\linear_model\\_sag.py:329: ConvergenceWarning: The max_iter was reached which means the coef_ did not converge\n",
      "  warnings.warn(\"The max_iter was reached which means \"\n",
      "100%|█████████████████████████████████████████████████████████████████████████| 4372/4372 [00:00<00:00, 1461504.51it/s]\n",
      "100%|█████████████████████████████████████████████████████████████████████████| 4372/4372 [00:00<00:00, 1461504.51it/s]\n",
      "100%|█████████████████████████████████████████████████████████████████████████| 4372/4372 [00:00<00:00, 1096150.22it/s]\n",
      "100%|██████████████████████████████████████████████████████████████████████████| 4372/4372 [00:00<00:00, 690547.81it/s]\n",
      "100%|█████████████████████████████████████████████████████████████████████████| 4372/4372 [00:00<00:00, 1333927.19it/s]\n",
      "100%|█████████████████████████████████████████████████████████████████████████| 4372/4372 [00:00<00:00, 1377826.82it/s]\n",
      "100%|██████████████████████████████████████████████████████████████████████████| 4372/4372 [00:00<00:00, 315913.19it/s]\n",
      "100%|██████████████████████████████████████████████████████████████████████████████████████| 4372/4372 [00:00<?, ?it/s]\n",
      "100%|██████████████████████████████████████████████████████████████████████████| 4372/4372 [00:00<00:00, 415920.00it/s]\n",
      "100%|██████████████████████████████████████████████████████████████████████████| 4372/4372 [00:00<00:00, 279846.43it/s]\n",
      "100%|██████████████████████████████████████████████████████████████████████████| 4372/4372 [00:00<00:00, 517832.86it/s]\n",
      "100%|██████████████████████████████████████████████████████████████████████████| 4372/4372 [00:00<00:00, 368755.97it/s]\n",
      "100%|██████████████████████████████████████████████████████████████████████████| 4372/4372 [00:00<00:00, 369797.07it/s]\n",
      "100%|██████████████████████████████████████████████████████████████████████████| 4372/4372 [00:00<00:00, 362982.19it/s]\n",
      "100%|██████████████████████████████████████████████████████████████████████████| 4372/4372 [00:00<00:00, 463348.93it/s]\n",
      "100%|█████████████████████████████████████████████████████████████████████████| 4372/4372 [00:00<00:00, 1460922.33it/s]\n",
      "100%|██████████████████████████████████████████████████████████████████████████| 4372/4372 [00:00<00:00, 876637.21it/s]\n",
      "100%|██████████████████████████████████████████████████████████████████████████| 4372/4372 [00:00<00:00, 317016.41it/s]\n",
      "100%|██████████████████████████████████████████████████████████████████████████| 4372/4372 [00:00<00:00, 592947.59it/s]\n",
      "100%|██████████████████████████████████████████████████████████████████████████| 4372/4372 [00:00<00:00, 651907.18it/s]\n",
      "c:\\users\\hp\\appdata\\local\\programs\\python\\python38\\lib\\site-packages\\sklearn\\linear_model\\_sag.py:329: ConvergenceWarning: The max_iter was reached which means the coef_ did not converge\n",
      "  warnings.warn(\"The max_iter was reached which means \"\n"
     ]
    },
    {
     "name": "stdout",
     "output_type": "stream",
     "text": [
      "Accuracy for Logistic Regression:  0.3803092607301207\n"
     ]
    }
   ],
   "source": [
    "from sklearn.pipeline import Pipeline\n",
    "from sklearn.linear_model import LogisticRegression\n",
    "from sklearn.model_selection import cross_val_score\n",
    "\n",
    "pl_log_reg = Pipeline(steps=[('doc2vec',Doc2VecTransformer()),\n",
    "                             ('log_reg', LogisticRegression(multi_class='multinomial', solver='saga', max_iter=100))])\n",
    "scores = cross_val_score(pl_log_reg, df_x, df_y, cv=5,scoring='accuracy')\n",
    "print('Accuracy for Logistic Regression: ', scores.mean())"
   ]
  },
  {
   "cell_type": "markdown",
   "metadata": {},
   "source": [
    "# Pipeline with Doc2Vec & RandomForest"
   ]
  },
  {
   "cell_type": "code",
   "execution_count": 16,
   "metadata": {},
   "outputs": [
    {
     "name": "stderr",
     "output_type": "stream",
     "text": [
      "100%|██████████████████████████████████████████████████████████████████████████████████████| 4371/4371 [00:00<?, ?it/s]\n",
      "100%|██████████████████████████████████████████████████████████████████████████| 4371/4371 [00:00<00:00, 812358.33it/s]\n",
      "100%|██████████████████████████████████████████████████████████████████████████| 4371/4371 [00:00<00:00, 874972.69it/s]\n",
      "100%|██████████████████████████████████████████████████████████████████████████| 4371/4371 [00:00<00:00, 279795.23it/s]\n",
      "100%|██████████████████████████████████████████████████████████████████████████████████████| 4371/4371 [00:00<?, ?it/s]\n",
      "100%|██████████████████████████████████████████████████████████████████████████████████████| 4371/4371 [00:00<?, ?it/s]\n",
      "100%|██████████████████████████████████████████████████████████████████████████| 4371/4371 [00:00<00:00, 380351.09it/s]\n",
      "100%|██████████████████████████████████████████████████████████████████████████| 4371/4371 [00:00<00:00, 626180.16it/s]\n",
      "100%|█████████████████████████████████████████████████████████████████████████| 4371/4371 [00:00<00:00, 1461286.69it/s]\n",
      "100%|██████████████████████████████████████████████████████████████████████████| 4371/4371 [00:00<00:00, 451726.08it/s]\n",
      "100%|█████████████████████████████████████████████████████████████████████████| 4371/4371 [00:00<00:00, 2191668.00it/s]\n",
      "100%|██████████████████████████████████████████████████████████████████████████| 4371/4371 [00:00<00:00, 776472.95it/s]\n",
      "100%|██████████████████████████████████████████████████████████████████████████| 4371/4371 [00:00<00:00, 565232.09it/s]\n",
      "100%|██████████████████████████████████████████████████████████████████████████| 4371/4371 [00:00<00:00, 335688.70it/s]\n",
      "100%|██████████████████████████████████████████████████████████████████████████| 4371/4371 [00:00<00:00, 876478.60it/s]\n",
      "100%|█████████████████████████████████████████████████████████████████████████| 4371/4371 [00:00<00:00, 1321890.75it/s]\n",
      "100%|██████████████████████████████████████████████████████████████████████████| 4371/4371 [00:00<00:00, 292906.37it/s]\n",
      "100%|█████████████████████████████████████████████████████████████████████████| 4371/4371 [00:00<00:00, 2190097.10it/s]\n",
      "100%|█████████████████████████████████████████████████████████████████████████| 4371/4371 [00:00<00:00, 2190097.10it/s]\n",
      "100%|█████████████████████████████████████████████████████████████████████████| 4371/4371 [00:00<00:00, 1460471.82it/s]\n",
      "100%|██████████████████████████████████████████████████████████████████████████████████████| 4371/4371 [00:00<?, ?it/s]\n",
      "100%|██████████████████████████████████████████████████████████████████████████| 4371/4371 [00:00<00:00, 256055.29it/s]\n",
      "100%|██████████████████████████████████████████████████████████████████████████| 4371/4371 [00:00<00:00, 418702.39it/s]\n",
      "100%|██████████████████████████████████████████████████████████████████████████| 4371/4371 [00:00<00:00, 886866.43it/s]\n",
      "100%|██████████████████████████████████████████████████████████████████████████| 4371/4371 [00:00<00:00, 362755.55it/s]\n",
      "100%|██████████████████████████████████████████████████████████████████████████| 4371/4371 [00:00<00:00, 274841.51it/s]\n",
      "100%|█████████████████████████████████████████████████████████████████████████| 4371/4371 [00:00<00:00, 1460355.49it/s]\n",
      "100%|██████████████████████████████████████████████████████████████████████████████████████| 4371/4371 [00:00<?, ?it/s]\n",
      "100%|██████████████████████████████████████████████████████████████████████████| 4371/4371 [00:00<00:00, 540120.28it/s]\n",
      "100%|██████████████████████████████████████████████████████████████████████████| 4371/4371 [00:00<00:00, 273451.80it/s]\n",
      "100%|█████████████████████████████████████████████████████████████████████████| 4371/4371 [00:00<00:00, 1460122.87it/s]\n",
      "100%|█████████████████████████████████████████████████████████████████████████| 4371/4371 [00:00<00:00, 1459541.66it/s]\n",
      "100%|██████████████████████████████████████████████████████████████████████████| 4371/4371 [00:00<00:00, 976214.21it/s]\n",
      "100%|█████████████████████████████████████████████████████████████████████████| 4371/4371 [00:00<00:00, 2189835.50it/s]\n",
      "100%|██████████████████████████████████████████████████████████████████████████| 4371/4371 [00:00<00:00, 325000.94it/s]\n",
      "100%|█████████████████████████████████████████████████████████████████████████| 4371/4371 [00:00<00:00, 2191406.02it/s]\n",
      "100%|██████████████████████████████████████████████████████████████████████████| 4371/4371 [00:00<00:00, 266615.81it/s]\n",
      "100%|██████████████████████████████████████████████████████████████████████████| 4371/4371 [00:00<00:00, 415787.15it/s]\n",
      "100%|█████████████████████████████████████████████████████████████████████████| 4371/4371 [00:00<00:00, 1460122.87it/s]\n",
      "100%|█████████████████████████████████████████████████████████████████████████| 4371/4371 [00:00<00:00, 1096227.15it/s]\n",
      "100%|█████████████████████████████████████████████████████████████████████████| 4371/4371 [00:00<00:00, 1461403.17it/s]\n",
      "100%|██████████████████████████████████████████████████████████████████████████████████████| 4371/4371 [00:00<?, ?it/s]\n",
      "100%|██████████████████████████████████████████████████████████████████████████| 4371/4371 [00:00<00:00, 575758.52it/s]\n",
      "100%|██████████████████████████████████████████████████████████████████████████| 4371/4371 [00:00<00:00, 563754.70it/s]\n",
      "100%|██████████████████████████████████████████████████████████████████████████████████████| 4371/4371 [00:00<?, ?it/s]\n",
      "100%|██████████████████████████████████████████████████████████████████████████| 4371/4371 [00:00<00:00, 917215.47it/s]\n",
      "100%|██████████████████████████████████████████████████████████████████████████| 4371/4371 [00:00<00:00, 250068.92it/s]\n",
      "100%|██████████████████████████████████████████████████████████████████████████| 4371/4371 [00:00<00:00, 920670.05it/s]\n",
      "100%|██████████████████████████████████████████████████████████████████████████████████████| 4371/4371 [00:00<?, ?it/s]\n",
      "100%|██████████████████████████████████████████████████████████████████████████| 4371/4371 [00:00<00:00, 459896.22it/s]\n",
      "100%|█████████████████████████████████████████████████████████████████████████| 4371/4371 [00:00<00:00, 1862951.20it/s]\n",
      "100%|██████████████████████████████████████████████████████████████████████████| 4371/4371 [00:00<00:00, 514157.19it/s]\n",
      "100%|██████████████████████████████████████████████████████████████████████████████████████| 4371/4371 [00:00<?, ?it/s]\n",
      "100%|██████████████████████████████████████████████████████████████████████████| 4371/4371 [00:00<00:00, 377982.86it/s]\n",
      "100%|█████████████████████████████████████████████████████████████████████████| 4371/4371 [00:00<00:00, 1027824.34it/s]\n",
      "100%|█████████████████████████████████████████████████████████████████████████| 4371/4371 [00:00<00:00, 1460588.18it/s]\n",
      "100%|██████████████████████████████████████████████████████████████████████████| 4371/4371 [00:00<00:00, 638212.87it/s]\n",
      "100%|█████████████████████████████████████████████████████████████████████████| 4371/4371 [00:00<00:00, 2191144.11it/s]\n",
      "100%|█████████████████████████████████████████████████████████████████████████| 4371/4371 [00:00<00:00, 1460820.94it/s]\n",
      "100%|█████████████████████████████████████████████████████████████████████████| 4371/4371 [00:00<00:00, 1460471.82it/s]\n",
      "100%|██████████████████████████████████████████████████████████████████████████| 4371/4371 [00:00<00:00, 279833.67it/s]\n",
      "100%|██████████████████████████████████████████████████████████████████████████| 4371/4371 [00:00<00:00, 330359.54it/s]\n",
      "100%|██████████████████████████████████████████████████████████████████████████| 4371/4371 [00:00<00:00, 526244.41it/s]\n",
      "100%|██████████████████████████████████████████████████████████████████████████| 4371/4371 [00:00<00:00, 646289.80it/s]\n",
      "100%|██████████████████████████████████████████████████████████████████████████| 4371/4371 [00:00<00:00, 391871.21it/s]\n",
      "100%|██████████████████████████████████████████████████████████████████████████| 4371/4371 [00:00<00:00, 771376.40it/s]\n",
      "100%|█████████████████████████████████████████████████████████████████████████| 4371/4371 [00:00<00:00, 1422840.73it/s]\n",
      "100%|█████████████████████████████████████████████████████████████████████████| 4371/4371 [00:00<00:00, 1132874.18it/s]\n",
      "100%|██████████████████████████████████████████████████████████████████████████| 4371/4371 [00:00<00:00, 290451.57it/s]\n",
      "100%|█████████████████████████████████████████████████████████████████████████| 4371/4371 [00:00<00:00, 1469839.08it/s]\n",
      "100%|██████████████████████████████████████████████████████████████████████████| 4371/4371 [00:00<00:00, 294430.48it/s]\n",
      "100%|██████████████████████████████████████████████████████████████████████████| 4371/4371 [00:00<00:00, 449621.16it/s]\n",
      "100%|██████████████████████████████████████████████████████████████████████████| 4371/4371 [00:00<00:00, 302834.58it/s]\n",
      "100%|██████████████████████████████████████████████████████████████████████████| 4371/4371 [00:00<00:00, 620794.49it/s]\n",
      "100%|██████████████████████████████████████████████████████████████████████████| 4371/4371 [00:00<00:00, 544305.65it/s]\n",
      "100%|█████████████████████████████████████████████████████████████████████████| 4371/4371 [00:00<00:00, 2190620.48it/s]\n",
      "100%|█████████████████████████████████████████████████████████████████████████| 4371/4371 [00:00<00:00, 1460937.35it/s]\n",
      "100%|██████████████████████████████████████████████████████████████████████████| 4371/4371 [00:00<00:00, 724035.50it/s]\n",
      "100%|██████████████████████████████████████████████████████████████████████████| 4371/4371 [00:00<00:00, 463008.96it/s]\n",
      "100%|██████████████████████████████████████████████████████████████████████████| 4371/4371 [00:00<00:00, 606059.60it/s]\n",
      "100%|██████████████████████████████████████████████████████████████████████████| 4372/4372 [00:00<00:00, 324482.81it/s]\n",
      "100%|█████████████████████████████████████████████████████████████████████████| 4372/4372 [00:00<00:00, 1461155.15it/s]\n",
      "100%|██████████████████████████████████████████████████████████████████████████| 4372/4372 [00:00<00:00, 878737.64it/s]\n",
      "100%|██████████████████████████████████████████████████████████████████████████| 4372/4372 [00:00<00:00, 267747.59it/s]\n",
      "100%|██████████████████████████████████████████████████████████████████████████| 4372/4372 [00:00<00:00, 250546.48it/s]\n",
      "100%|█████████████████████████████████████████████████████████████████████████| 4372/4372 [00:00<00:00, 1461621.00it/s]\n",
      "100%|██████████████████████████████████████████████████████████████████████████| 4372/4372 [00:00<00:00, 318447.78it/s]\n",
      "100%|█████████████████████████████████████████████████████████████████████████| 4372/4372 [00:00<00:00, 1461388.04it/s]\n",
      "100%|██████████████████████████████████████████████████████████████████████████| 4372/4372 [00:00<00:00, 417045.65it/s]\n",
      "100%|█████████████████████████████████████████████████████████████████████████| 4372/4372 [00:00<00:00, 2193480.51it/s]\n",
      "100%|██████████████████████████████████████████████████████████████████████████| 4372/4372 [00:00<00:00, 279889.14it/s]\n",
      "100%|██████████████████████████████████████████████████████████████████████████████████████| 4372/4372 [00:00<?, ?it/s]\n",
      "100%|██████████████████████████████████████████████████████████████████████████| 4372/4372 [00:00<00:00, 480769.15it/s]\n",
      "100%|█████████████████████████████████████████████████████████████████████████| 4372/4372 [00:00<00:00, 2193742.92it/s]\n",
      "100%|██████████████████████████████████████████████████████████████████████████| 4372/4372 [00:00<00:00, 343688.45it/s]\n",
      "100%|██████████████████████████████████████████████████████████████████████████| 4372/4372 [00:00<00:00, 723001.90it/s]\n",
      "100%|██████████████████████████████████████████████████████████████████████████| 4372/4372 [00:00<00:00, 567460.84it/s]\n",
      "100%|██████████████████████████████████████████████████████████████████████████| 4372/4372 [00:00<00:00, 336875.80it/s]\n",
      "100%|█████████████████████████████████████████████████████████████████████████| 4372/4372 [00:00<00:00, 1461504.51it/s]\n",
      "100%|██████████████████████████████████████████████████████████████████████████| 4372/4372 [00:00<00:00, 589421.65it/s]\n"
     ]
    },
    {
     "name": "stdout",
     "output_type": "stream",
     "text": [
      "Accuracy for RandomForest :  0.3696900690038842\n"
     ]
    }
   ],
   "source": [
    "from sklearn.ensemble import RandomForestClassifier\n",
    "\n",
    "pl_random_forest = Pipeline(steps=[('doc2vec',Doc2VecTransformer()),\n",
    "                                   ('random_forest', RandomForestClassifier())])\n",
    "scores = cross_val_score(pl_random_forest, df_x, df_y, cv=5,scoring='accuracy')\n",
    "print('Accuracy for RandomForest : ', scores.mean())"
   ]
  },
  {
   "cell_type": "markdown",
   "metadata": {},
   "source": [
    "# Pipeline with Doc2Vec & XGBoost"
   ]
  },
  {
   "cell_type": "code",
   "execution_count": 17,
   "metadata": {},
   "outputs": [
    {
     "name": "stderr",
     "output_type": "stream",
     "text": [
      "100%|█████████████████████████████████████████████████████████████████████████| 4371/4371 [00:00<00:00, 2191406.02it/s]\n",
      "100%|██████████████████████████████████████████████████████████████████████████| 4371/4371 [00:00<00:00, 546724.21it/s]\n",
      "100%|█████████████████████████████████████████████████████████████████████████| 4371/4371 [00:00<00:00, 1082696.67it/s]\n",
      "100%|██████████████████████████████████████████████████████████████████████████| 4371/4371 [00:00<00:00, 311208.67it/s]\n",
      "100%|██████████████████████████████████████████████████████████████████████████| 4371/4371 [00:00<00:00, 279816.58it/s]\n",
      "100%|█████████████████████████████████████████████████████████████████████████| 4371/4371 [00:00<00:00, 1461170.22it/s]\n",
      "100%|█████████████████████████████████████████████████████████████████████████| 4371/4371 [00:00<00:00, 1461403.17it/s]\n",
      "100%|█████████████████████████████████████████████████████████████████████████| 4371/4371 [00:00<00:00, 1459541.66it/s]\n",
      "100%|██████████████████████████████████████████████████████████████████████████| 4371/4371 [00:00<00:00, 556363.89it/s]\n",
      "100%|██████████████████████████████████████████████████████████████████████████████████████| 4371/4371 [00:00<?, ?it/s]\n",
      "100%|██████████████████████████████████████████████████████████████████████████| 4371/4371 [00:00<00:00, 348946.55it/s]\n",
      "100%|██████████████████████████████████████████████████████████████████████████| 4371/4371 [00:00<00:00, 263020.28it/s]\n",
      "100%|██████████████████████████████████████████████████████████████████████████| 4371/4371 [00:00<00:00, 519946.19it/s]\n",
      "100%|█████████████████████████████████████████████████████████████████████████| 4371/4371 [00:00<00:00, 1071120.75it/s]\n",
      "100%|█████████████████████████████████████████████████████████████████████████| 4371/4371 [00:00<00:00, 2190097.10it/s]\n",
      "100%|██████████████████████████████████████████████████████████████████████████| 4371/4371 [00:00<00:00, 442544.78it/s]\n",
      "100%|██████████████████████████████████████████████████████████████████████████| 4371/4371 [00:00<00:00, 310876.21it/s]\n",
      "100%|██████████████████████████████████████████████████████████████████████████| 4371/4371 [00:00<00:00, 352807.77it/s]\n",
      "100%|██████████████████████████████████████████████████████████████████████████| 4371/4371 [00:00<00:00, 283964.29it/s]\n",
      "100%|█████████████████████████████████████████████████████████████████████████| 4371/4371 [00:00<00:00, 2191406.02it/s]\n",
      "c:\\users\\hp\\appdata\\local\\programs\\python\\python38\\lib\\site-packages\\xgboost\\sklearn.py:892: UserWarning: The use of label encoder in XGBClassifier is deprecated and will be removed in a future release. To remove this warning, do the following: 1) Pass option use_label_encoder=False when constructing XGBClassifier object; and 2) Encode your labels (y) as integers starting with 0, i.e. 0, 1, 2, ..., [num_class - 1].\n",
      "  warnings.warn(label_encoder_deprecation_msg, UserWarning)\n"
     ]
    },
    {
     "name": "stdout",
     "output_type": "stream",
     "text": [
      "[13:11:24] WARNING: C:/Users/Administrator/workspace/xgboost-win64_release_1.3.0/src/learner.cc:1061: Starting in XGBoost 1.3.0, the default evaluation metric used with the objective 'multi:softprob' was changed from 'merror' to 'mlogloss'. Explicitly set eval_metric if you'd like to restore the old behavior.\n"
     ]
    },
    {
     "name": "stderr",
     "output_type": "stream",
     "text": [
      "100%|██████████████████████████████████████████████████████████████████████████████████████| 4371/4371 [00:00<?, ?it/s]\n",
      "100%|█████████████████████████████████████████████████████████████████████████| 4371/4371 [00:00<00:00, 1460006.59it/s]\n",
      "100%|██████████████████████████████████████████████████████████████████████████████████████| 4371/4371 [00:00<?, ?it/s]\n",
      "100%|██████████████████████████████████████████████████████████████████████████| 4371/4371 [00:00<00:00, 327269.37it/s]\n",
      "100%|██████████████████████████████████████████████████████████████████████████| 4371/4371 [00:00<00:00, 454582.27it/s]\n",
      "100%|██████████████████████████████████████████████████████████████████████████████████████| 4371/4371 [00:00<?, ?it/s]\n",
      "100%|█████████████████████████████████████████████████████████████████████████| 4371/4371 [00:00<00:00, 1460355.49it/s]\n",
      "100%|█████████████████████████████████████████████████████████████████████████| 4371/4371 [00:00<00:00, 1096161.60it/s]\n",
      "100%|██████████████████████████████████████████████████████████████████████████████████████| 4371/4371 [00:00<?, ?it/s]\n",
      "100%|██████████████████████████████████████████████████████████████████████████████████████| 4371/4371 [00:00<?, ?it/s]\n",
      "100%|██████████████████████████████████████████████████████████████████████████| 4371/4371 [00:00<00:00, 294180.08it/s]\n",
      "100%|█████████████████████████████████████████████████████████████████████████| 4371/4371 [00:00<00:00, 1460820.94it/s]\n",
      "100%|██████████████████████████████████████████████████████████████████████████████████████| 4371/4371 [00:00<?, ?it/s]\n",
      "100%|██████████████████████████████████████████████████████████████████████████| 4371/4371 [00:00<00:00, 968376.44it/s]\n",
      "100%|██████████████████████████████████████████████████████████████████████████| 4371/4371 [00:00<00:00, 333800.10it/s]\n",
      "100%|██████████████████████████████████████████████████████████████████████████████████████| 4371/4371 [00:00<?, ?it/s]\n",
      "100%|██████████████████████████████████████████████████████████████████████████| 4371/4371 [00:00<00:00, 676805.33it/s]\n",
      "100%|█████████████████████████████████████████████████████████████████████████| 4371/4371 [00:00<00:00, 1042849.99it/s]\n",
      "100%|█████████████████████████████████████████████████████████████████████████| 4371/4371 [00:00<00:00, 1460820.94it/s]\n",
      "100%|██████████████████████████████████████████████████████████████████████████| 4371/4371 [00:00<00:00, 470193.19it/s]\n"
     ]
    },
    {
     "name": "stdout",
     "output_type": "stream",
     "text": [
      "[13:14:01] WARNING: C:/Users/Administrator/workspace/xgboost-win64_release_1.3.0/src/learner.cc:1061: Starting in XGBoost 1.3.0, the default evaluation metric used with the objective 'multi:softprob' was changed from 'merror' to 'mlogloss'. Explicitly set eval_metric if you'd like to restore the old behavior.\n"
     ]
    },
    {
     "name": "stderr",
     "output_type": "stream",
     "text": [
      "100%|██████████████████████████████████████████████████████████████████████████████████████| 4371/4371 [00:00<?, ?it/s]\n",
      "100%|██████████████████████████████████████████████████████████████████████████| 4371/4371 [00:00<00:00, 311849.20it/s]\n",
      "100%|█████████████████████████████████████████████████████████████████████████| 4371/4371 [00:00<00:00, 1460820.94it/s]\n",
      "100%|██████████████████████████████████████████████████████████████████████████| 4371/4371 [00:00<00:00, 357792.79it/s]\n",
      "100%|██████████████████████████████████████████████████████████████████████████| 4371/4371 [00:00<00:00, 489162.00it/s]\n",
      "100%|█████████████████████████████████████████████████████████████████████████| 4371/4371 [00:00<00:00, 1100702.62it/s]\n",
      "100%|██████████████████████████████████████████████████████████████████████████████████████| 4371/4371 [00:00<?, ?it/s]\n",
      "100%|██████████████████████████████████████████████████████████████████████████████████████| 4371/4371 [00:00<?, ?it/s]\n",
      "100%|██████████████████████████████████████████████████████████████████████████| 4371/4371 [00:00<00:00, 291518.43it/s]\n",
      "100%|██████████████████████████████████████████████████████████████████████████| 4371/4371 [00:00<00:00, 724149.89it/s]\n",
      "100%|██████████████████████████████████████████████████████████████████████████| 4371/4371 [00:00<00:00, 262241.49it/s]\n",
      "100%|██████████████████████████████████████████████████████████████████████████| 4371/4371 [00:00<00:00, 454740.12it/s]\n",
      "100%|█████████████████████████████████████████████████████████████████████████| 4371/4371 [00:00<00:00, 1333040.27it/s]\n",
      "100%|█████████████████████████████████████████████████████████████████████████| 4371/4371 [00:00<00:00, 1460704.55it/s]\n",
      "100%|██████████████████████████████████████████████████████████████████████████| 4371/4371 [00:00<00:00, 334585.95it/s]\n",
      "100%|██████████████████████████████████████████████████████████████████████████| 4371/4371 [00:00<00:00, 282285.33it/s]\n",
      "100%|█████████████████████████████████████████████████████████████████████████| 4371/4371 [00:00<00:00, 2191406.02it/s]\n",
      "100%|█████████████████████████████████████████████████████████████████████████| 4371/4371 [00:00<00:00, 1056796.33it/s]\n",
      "100%|██████████████████████████████████████████████████████████████████████████| 4371/4371 [00:00<00:00, 260297.92it/s]\n",
      "100%|██████████████████████████████████████████████████████████████████████████| 4371/4371 [00:00<00:00, 357764.87it/s]\n"
     ]
    },
    {
     "name": "stdout",
     "output_type": "stream",
     "text": [
      "[13:16:30] WARNING: C:/Users/Administrator/workspace/xgboost-win64_release_1.3.0/src/learner.cc:1061: Starting in XGBoost 1.3.0, the default evaluation metric used with the objective 'multi:softprob' was changed from 'merror' to 'mlogloss'. Explicitly set eval_metric if you'd like to restore the old behavior.\n"
     ]
    },
    {
     "name": "stderr",
     "output_type": "stream",
     "text": [
      "100%|█████████████████████████████████████████████████████████████████████████| 4371/4371 [00:00<00:00, 2191144.11it/s]\n",
      "100%|██████████████████████████████████████████████████████████████████████████| 4371/4371 [00:00<00:00, 242145.27it/s]\n",
      "100%|██████████████████████████████████████████████████████████████████████████| 4371/4371 [00:00<00:00, 341969.05it/s]\n",
      "100%|██████████████████████████████████████████████████████████████████████████| 4371/4371 [00:00<00:00, 263122.21it/s]\n",
      "100%|██████████████████████████████████████████████████████████████████████████| 4371/4371 [00:00<00:00, 492790.98it/s]\n",
      "100%|██████████████████████████████████████████████████████████████████████████| 4371/4371 [00:00<00:00, 399880.10it/s]\n",
      "100%|█████████████████████████████████████████████████████████████████████████| 4371/4371 [00:00<00:00, 1116726.73it/s]\n",
      "100%|██████████████████████████████████████████████████████████████████████████| 4371/4371 [00:00<00:00, 258335.60it/s]\n",
      "100%|██████████████████████████████████████████████████████████████████████████| 4371/4371 [00:00<00:00, 327690.54it/s]\n",
      "100%|██████████████████████████████████████████████████████████████████████████| 4371/4371 [00:00<00:00, 297184.35it/s]\n",
      "100%|██████████████████████████████████████████████████████████████████████████████████████| 4371/4371 [00:00<?, ?it/s]\n",
      "100%|█████████████████████████████████████████████████████████████████████████| 4371/4371 [00:00<00:00, 1460704.55it/s]\n",
      "100%|██████████████████████████████████████████████████████████████████████████| 4371/4371 [00:00<00:00, 480092.77it/s]\n",
      "100%|█████████████████████████████████████████████████████████████████████████| 4371/4371 [00:00<00:00, 1372150.50it/s]\n",
      "100%|██████████████████████████████████████████████████████████████████████████████████████| 4371/4371 [00:00<?, ?it/s]\n",
      "100%|█████████████████████████████████████████████████████████████████████████| 4371/4371 [00:00<00:00, 1056979.12it/s]\n",
      "100%|██████████████████████████████████████████████████████████████████████████| 4371/4371 [00:00<00:00, 419555.18it/s]\n",
      "100%|██████████████████████████████████████████████████████████████████████████| 4371/4371 [00:00<00:00, 774602.96it/s]\n",
      "100%|█████████████████████████████████████████████████████████████████████████| 4371/4371 [00:00<00:00, 1113268.33it/s]\n",
      "100%|██████████████████████████████████████████████████████████████████████████| 4371/4371 [00:00<00:00, 964048.10it/s]\n"
     ]
    },
    {
     "name": "stdout",
     "output_type": "stream",
     "text": [
      "[13:18:51] WARNING: C:/Users/Administrator/workspace/xgboost-win64_release_1.3.0/src/learner.cc:1061: Starting in XGBoost 1.3.0, the default evaluation metric used with the objective 'multi:softprob' was changed from 'merror' to 'mlogloss'. Explicitly set eval_metric if you'd like to restore the old behavior.\n"
     ]
    },
    {
     "name": "stderr",
     "output_type": "stream",
     "text": [
      "100%|██████████████████████████████████████████████████████████████████████████| 4372/4372 [00:00<00:00, 346310.69it/s]\n",
      "100%|██████████████████████████████████████████████████████████████████████████| 4372/4372 [00:00<00:00, 301841.87it/s]\n",
      "100%|██████████████████████████████████████████████████████████████████████████| 4372/4372 [00:00<00:00, 602137.55it/s]\n",
      "100%|██████████████████████████████████████████████████████████████████████████| 4372/4372 [00:00<00:00, 266742.75it/s]\n",
      "100%|██████████████████████████████████████████████████████████████████████████| 4372/4372 [00:00<00:00, 426929.99it/s]\n",
      "100%|█████████████████████████████████████████████████████████████████████████| 4372/4372 [00:00<00:00, 1153156.65it/s]\n",
      "100%|██████████████████████████████████████████████████████████████████████████████████████| 4372/4372 [00:00<?, ?it/s]\n",
      "100%|██████████████████████████████████████████████████████████████████████████| 4372/4372 [00:00<00:00, 752739.92it/s]\n",
      "100%|██████████████████████████████████████████████████████████████████████████| 4372/4372 [00:00<00:00, 399292.26it/s]\n",
      "100%|██████████████████████████████████████████████████████████████████████████| 4372/4372 [00:00<00:00, 333518.19it/s]\n",
      "100%|█████████████████████████████████████████████████████████████████████████| 4372/4372 [00:00<00:00, 1002651.71it/s]\n",
      "100%|██████████████████████████████████████████████████████████████████████████████████████| 4372/4372 [00:00<?, ?it/s]\n",
      "100%|██████████████████████████████████████████████████████████████████████████████████████| 4372/4372 [00:00<?, ?it/s]\n",
      "100%|██████████████████████████████████████████████████████████████████████████| 4372/4372 [00:00<00:00, 275627.49it/s]\n",
      "100%|██████████████████████████████████████████████████████████████████████████| 4372/4372 [00:00<00:00, 287376.54it/s]\n",
      "100%|██████████████████████████████████████████████████████████████████████████| 4372/4372 [00:00<00:00, 845084.89it/s]\n",
      "100%|██████████████████████████████████████████████████████████████████████████| 4372/4372 [00:00<00:00, 257831.57it/s]\n",
      "100%|██████████████████████████████████████████████████████████████████████████| 4372/4372 [00:00<00:00, 345469.05it/s]\n",
      "100%|██████████████████████████████████████████████████████████████████████████| 4372/4372 [00:00<00:00, 796347.64it/s]\n",
      "100%|██████████████████████████████████████████████████████████████████████████| 4372/4372 [00:00<00:00, 356497.09it/s]\n"
     ]
    },
    {
     "name": "stdout",
     "output_type": "stream",
     "text": [
      "[13:21:17] WARNING: C:/Users/Administrator/workspace/xgboost-win64_release_1.3.0/src/learner.cc:1061: Starting in XGBoost 1.3.0, the default evaluation metric used with the objective 'multi:softprob' was changed from 'merror' to 'mlogloss'. Explicitly set eval_metric if you'd like to restore the old behavior.\n",
      "Accuracy for XGBoost Classifier :  0.35926391388422496\n"
     ]
    }
   ],
   "source": [
    "import xgboost as xgb\n",
    "\n",
    "pl_xgb = Pipeline(steps=[('doc2vec',Doc2VecTransformer()),\n",
    "                         ('xgboost', xgb.XGBClassifier(objective='multi:softmax'))])\n",
    "scores = cross_val_score(pl_xgb, df_x, df_y, cv=5)\n",
    "print('Accuracy for XGBoost Classifier : ', scores.mean())"
   ]
  },
  {
   "cell_type": "markdown",
   "metadata": {},
   "source": [
    "# Converting to Tf-Idf"
   ]
  },
  {
   "cell_type": "code",
   "execution_count": 18,
   "metadata": {},
   "outputs": [],
   "source": [
    "from sklearn.feature_extraction.text import TfidfVectorizer\n",
    "\n",
    "class Text2TfIdfTransformer(BaseEstimator):\n",
    "\n",
    "    def __init__(self):\n",
    "        self._model = TfidfVectorizer()\n",
    "        pass\n",
    "\n",
    "    def fit(self, df_x, df_y=None):\n",
    "        df_x = df_x.apply(lambda x : clean_text(x))\n",
    "        self._model.fit(df_x)\n",
    "        return self\n",
    "\n",
    "    def transform(self, df_x):\n",
    "        return self._model.transform(df_x)"
   ]
  },
  {
   "cell_type": "code",
   "execution_count": 19,
   "metadata": {},
   "outputs": [],
   "source": [
    "tfidf_transformer = Text2TfIdfTransformer()\n",
    "tfidf_vectors = tfidf_transformer.fit(df_x).transform(df_x)"
   ]
  },
  {
   "cell_type": "code",
   "execution_count": 20,
   "metadata": {},
   "outputs": [
    {
     "data": {
      "text/plain": [
       "(5464, 69212)"
      ]
     },
     "execution_count": 20,
     "metadata": {},
     "output_type": "execute_result"
    }
   ],
   "source": [
    "tfidf_vectors.shape"
   ]
  },
  {
   "cell_type": "code",
   "execution_count": 21,
   "metadata": {},
   "outputs": [
    {
     "name": "stdout",
     "output_type": "stream",
     "text": [
      "  (0, 67929)\t0.23222040259045426\n",
      "  (0, 65664)\t0.0790845894371439\n",
      "  (0, 65658)\t0.07968834520817862\n",
      "  (0, 64441)\t0.059468921546222735\n",
      "  (0, 64275)\t0.13361652410402836\n",
      "  (0, 62507)\t0.09575271459688627\n",
      "  (0, 60848)\t0.05698147771559075\n",
      "  (0, 59034)\t0.09796852614884413\n",
      "  (0, 56787)\t0.11714696134475283\n",
      "  (0, 55302)\t0.08908632180575494\n",
      "  (0, 55264)\t0.07758421408282494\n",
      "  (0, 54473)\t0.11563423855253376\n",
      "  (0, 54056)\t0.05495711609700316\n",
      "  (0, 53772)\t0.06141508707128537\n",
      "  (0, 53729)\t0.04663556302642435\n",
      "  (0, 52577)\t0.05906088713008324\n",
      "  (0, 52478)\t0.08189692566982813\n",
      "  (0, 52372)\t0.04977274219783472\n",
      "  (0, 50780)\t0.10444491401523984\n",
      "  (0, 46196)\t0.1774135528352178\n",
      "  (0, 46193)\t0.13361652410402836\n",
      "  (0, 45751)\t0.0836626396689611\n",
      "  (0, 45709)\t0.07287523514044394\n",
      "  (0, 45553)\t0.10444491401523984\n",
      "  (0, 45256)\t0.19580867671604288\n",
      "  :\t:\n",
      "  (5463, 22185)\t0.07028071623030181\n",
      "  (5463, 22044)\t0.013544665255058451\n",
      "  (5463, 21106)\t0.019214013401944414\n",
      "  (5463, 20824)\t0.10866988097120382\n",
      "  (5463, 20321)\t0.03607283124813417\n",
      "  (5463, 20087)\t0.06616492343563442\n",
      "  (5463, 19868)\t0.03226432487552243\n",
      "  (5463, 19594)\t0.11047448026094188\n",
      "  (5463, 18628)\t0.10513655318711346\n",
      "  (5463, 15281)\t0.1095508443094932\n",
      "  (5463, 13526)\t0.06239808771206929\n",
      "  (5463, 11593)\t0.07216163690538115\n",
      "  (5463, 11371)\t0.07963240693829912\n",
      "  (5463, 10169)\t0.10062734772203207\n",
      "  (5463, 10009)\t0.07892065704831773\n",
      "  (5463, 9715)\t0.2272317433367403\n",
      "  (5463, 9111)\t0.05290819843667592\n",
      "  (5463, 8052)\t0.13091080871921307\n",
      "  (5463, 6309)\t0.07733204309006246\n",
      "  (5463, 3492)\t0.1449839754247877\n",
      "  (5463, 3482)\t0.051342813364114795\n",
      "  (5463, 2601)\t0.032583913770387024\n",
      "  (5463, 501)\t0.05523724013047094\n",
      "  (5463, 499)\t0.10741599950606395\n",
      "  (5463, 59)\t0.16346834669782886\n"
     ]
    }
   ],
   "source": [
    "print(tfidf_vectors)"
   ]
  },
  {
   "cell_type": "markdown",
   "metadata": {},
   "source": [
    "# Pipeline with Tf-Idf & LogisticRegression"
   ]
  },
  {
   "cell_type": "code",
   "execution_count": 22,
   "metadata": {},
   "outputs": [
    {
     "name": "stdout",
     "output_type": "stream",
     "text": [
      "Accuracy for Tf-Idf & Logistic Regression:  0.7529171651770005\n"
     ]
    }
   ],
   "source": [
    "pl_log_reg_tf_idf = Pipeline(steps=[('tfidf',Text2TfIdfTransformer()),\n",
    "                                    ('log_reg', LogisticRegression(multi_class='multinomial', solver='saga', max_iter=100))])\n",
    "scores = cross_val_score(pl_log_reg_tf_idf, df_x, df_y, cv=5,scoring='accuracy')\n",
    "print('Accuracy for Tf-Idf & Logistic Regression: ', scores.mean())"
   ]
  },
  {
   "cell_type": "markdown",
   "metadata": {},
   "source": [
    "# Pipeline with Tf-Idf & RandomForest"
   ]
  },
  {
   "cell_type": "code",
   "execution_count": 23,
   "metadata": {},
   "outputs": [
    {
     "name": "stdout",
     "output_type": "stream",
     "text": [
      "Accuracy for Tf-Idf & RandomForest :  0.7649997151369521\n"
     ]
    }
   ],
   "source": [
    "pl_random_forest_tf_idf = Pipeline(steps=[('tfidf',Text2TfIdfTransformer()),\n",
    "                                          ('random_forest', RandomForestClassifier())])\n",
    "scores = cross_val_score(pl_random_forest_tf_idf, df_x, df_y, cv=5,scoring='accuracy')\n",
    "print('Accuracy for Tf-Idf & RandomForest : ', scores.mean())"
   ]
  },
  {
   "cell_type": "markdown",
   "metadata": {},
   "source": [
    "# Pipeline with Tf-Idf & XGBoost"
   ]
  },
  {
   "cell_type": "code",
   "execution_count": 24,
   "metadata": {},
   "outputs": [
    {
     "name": "stderr",
     "output_type": "stream",
     "text": [
      "c:\\users\\hp\\appdata\\local\\programs\\python\\python38\\lib\\site-packages\\xgboost\\sklearn.py:892: UserWarning: The use of label encoder in XGBClassifier is deprecated and will be removed in a future release. To remove this warning, do the following: 1) Pass option use_label_encoder=False when constructing XGBClassifier object; and 2) Encode your labels (y) as integers starting with 0, i.e. 0, 1, 2, ..., [num_class - 1].\n",
      "  warnings.warn(label_encoder_deprecation_msg, UserWarning)\n"
     ]
    },
    {
     "name": "stdout",
     "output_type": "stream",
     "text": [
      "[14:17:47] WARNING: C:/Users/Administrator/workspace/xgboost-win64_release_1.3.0/src/learner.cc:1061: Starting in XGBoost 1.3.0, the default evaluation metric used with the objective 'multi:softprob' was changed from 'merror' to 'mlogloss'. Explicitly set eval_metric if you'd like to restore the old behavior.\n",
      "[14:18:31] WARNING: C:/Users/Administrator/workspace/xgboost-win64_release_1.3.0/src/learner.cc:1061: Starting in XGBoost 1.3.0, the default evaluation metric used with the objective 'multi:softprob' was changed from 'merror' to 'mlogloss'. Explicitly set eval_metric if you'd like to restore the old behavior.\n",
      "[14:19:21] WARNING: C:/Users/Administrator/workspace/xgboost-win64_release_1.3.0/src/learner.cc:1061: Starting in XGBoost 1.3.0, the default evaluation metric used with the objective 'multi:softprob' was changed from 'merror' to 'mlogloss'. Explicitly set eval_metric if you'd like to restore the old behavior.\n",
      "[14:20:14] WARNING: C:/Users/Administrator/workspace/xgboost-win64_release_1.3.0/src/learner.cc:1061: Starting in XGBoost 1.3.0, the default evaluation metric used with the objective 'multi:softprob' was changed from 'merror' to 'mlogloss'. Explicitly set eval_metric if you'd like to restore the old behavior.\n",
      "[14:21:11] WARNING: C:/Users/Administrator/workspace/xgboost-win64_release_1.3.0/src/learner.cc:1061: Starting in XGBoost 1.3.0, the default evaluation metric used with the objective 'multi:softprob' was changed from 'merror' to 'mlogloss'. Explicitly set eval_metric if you'd like to restore the old behavior.\n",
      "Accuracy for Tf-Idf & XGBoost Classifier :  0.8339918696734798\n"
     ]
    }
   ],
   "source": [
    "pl_xgb_tf_idf = Pipeline(steps=[('tfidf',Text2TfIdfTransformer()),\n",
    "                         ('xgboost', xgb.XGBClassifier(objective='multi:softmax'))])\n",
    "scores = cross_val_score(pl_xgb_tf_idf, df_x, df_y, cv=5)\n",
    "print('Accuracy for Tf-Idf & XGBoost Classifier : ', scores.mean())"
   ]
  },
  {
   "cell_type": "markdown",
   "metadata": {},
   "source": [
    "### Best accuracy: 83.39% by pipeline with Tf-Idf & XGBoost"
   ]
  },
  {
   "cell_type": "code",
   "execution_count": null,
   "metadata": {},
   "outputs": [],
   "source": []
  }
 ],
 "metadata": {
  "kernelspec": {
   "display_name": "Python 3",
   "language": "python",
   "name": "python3"
  },
  "language_info": {
   "codemirror_mode": {
    "name": "ipython",
    "version": 3
   },
   "file_extension": ".py",
   "mimetype": "text/x-python",
   "name": "python",
   "nbconvert_exporter": "python",
   "pygments_lexer": "ipython3",
   "version": "3.8.5"
  }
 },
 "nbformat": 4,
 "nbformat_minor": 4
}
