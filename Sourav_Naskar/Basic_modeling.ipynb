{
 "cells": [
  {
   "cell_type": "markdown",
   "metadata": {},
   "source": [
    "# Loading the data"
   ]
  },
  {
   "cell_type": "code",
   "execution_count": 1,
   "metadata": {},
   "outputs": [
    {
     "data": {
      "text/html": [
       "<div>\n",
       "<style scoped>\n",
       "    .dataframe tbody tr th:only-of-type {\n",
       "        vertical-align: middle;\n",
       "    }\n",
       "\n",
       "    .dataframe tbody tr th {\n",
       "        vertical-align: top;\n",
       "    }\n",
       "\n",
       "    .dataframe thead th {\n",
       "        text-align: right;\n",
       "    }\n",
       "</style>\n",
       "<table border=\"1\" class=\"dataframe\">\n",
       "  <thead>\n",
       "    <tr style=\"text-align: right;\">\n",
       "      <th></th>\n",
       "      <th>Unnamed: 0</th>\n",
       "      <th>Topic Title</th>\n",
       "      <th>Category</th>\n",
       "      <th>Tags</th>\n",
       "      <th>Leading Comment</th>\n",
       "      <th>Other Comments</th>\n",
       "      <th>Likes</th>\n",
       "      <th>Views</th>\n",
       "    </tr>\n",
       "  </thead>\n",
       "  <tbody>\n",
       "    <tr>\n",
       "      <th>0</th>\n",
       "      <td>0</td>\n",
       "      <td>[How to] Format code in posts</td>\n",
       "      <td>Getting Started</td>\n",
       "      <td>[]</td>\n",
       "      <td>Codecademy Discuss posts are parsed with Markd...</td>\n",
       "      <td>[]</td>\n",
       "      <td>21</td>\n",
       "      <td>13.9k</td>\n",
       "    </tr>\n",
       "    <tr>\n",
       "      <th>1</th>\n",
       "      <td>1</td>\n",
       "      <td>Guide: A list of how-to’s for giving and recei...</td>\n",
       "      <td>Getting Started</td>\n",
       "      <td>[]</td>\n",
       "      <td>Technical guides will teach you how to use the...</td>\n",
       "      <td>[]</td>\n",
       "      <td>0</td>\n",
       "      <td>0</td>\n",
       "    </tr>\n",
       "    <tr>\n",
       "      <th>2</th>\n",
       "      <td>2</td>\n",
       "      <td>Guide: Learn about our community forums</td>\n",
       "      <td>Getting Started</td>\n",
       "      <td>[]</td>\n",
       "      <td>Take a moment and read through each of these b...</td>\n",
       "      <td>[]</td>\n",
       "      <td>0</td>\n",
       "      <td>0</td>\n",
       "    </tr>\n",
       "    <tr>\n",
       "      <th>3</th>\n",
       "      <td>3</td>\n",
       "      <td>[How-to] Create a topic that everyone will read</td>\n",
       "      <td>Getting Started</td>\n",
       "      <td>[]</td>\n",
       "      <td>A great topic is one that provides potential h...</td>\n",
       "      <td>[]</td>\n",
       "      <td>0</td>\n",
       "      <td>0</td>\n",
       "    </tr>\n",
       "    <tr>\n",
       "      <th>4</th>\n",
       "      <td>4</td>\n",
       "      <td>[Learn More] How the forum is organized</td>\n",
       "      <td>Getting Started</td>\n",
       "      <td>[]</td>\n",
       "      <td>With Codecademy Community forums, conversation...</td>\n",
       "      <td>[]</td>\n",
       "      <td>0</td>\n",
       "      <td>0</td>\n",
       "    </tr>\n",
       "  </tbody>\n",
       "</table>\n",
       "</div>"
      ],
      "text/plain": [
       "   Unnamed: 0                                        Topic Title  \\\n",
       "0           0                      [How to] Format code in posts   \n",
       "1           1  Guide: A list of how-to’s for giving and recei...   \n",
       "2           2            Guide: Learn about our community forums   \n",
       "3           3    [How-to] Create a topic that everyone will read   \n",
       "4           4            [Learn More] How the forum is organized   \n",
       "\n",
       "          Category Tags                                    Leading Comment  \\\n",
       "0  Getting Started   []  Codecademy Discuss posts are parsed with Markd...   \n",
       "1  Getting Started   []  Technical guides will teach you how to use the...   \n",
       "2  Getting Started   []  Take a moment and read through each of these b...   \n",
       "3  Getting Started   []  A great topic is one that provides potential h...   \n",
       "4  Getting Started   []  With Codecademy Community forums, conversation...   \n",
       "\n",
       "  Other Comments Likes  Views  \n",
       "0             []    21  13.9k  \n",
       "1             []     0      0  \n",
       "2             []     0      0  \n",
       "3             []     0      0  \n",
       "4             []     0      0  "
      ]
     },
     "execution_count": 1,
     "metadata": {},
     "output_type": "execute_result"
    }
   ],
   "source": [
    "import pandas as pd\n",
    "\n",
    "data = pd.read_csv('Codeacademy_Webscrapper_20210107154307.csv')\n",
    "data.head()"
   ]
  },
  {
   "cell_type": "code",
   "execution_count": 2,
   "metadata": {},
   "outputs": [
    {
     "data": {
      "text/plain": [
       "Index(['Unnamed: 0', 'Topic Title', 'Category', 'Tags', 'Leading Comment',\n",
       "       'Other Comments', 'Likes', 'Views'],\n",
       "      dtype='object')"
      ]
     },
     "execution_count": 2,
     "metadata": {},
     "output_type": "execute_result"
    }
   ],
   "source": [
    "data.columns"
   ]
  },
  {
   "cell_type": "code",
   "execution_count": 3,
   "metadata": {},
   "outputs": [
    {
     "data": {
      "text/html": [
       "<div>\n",
       "<style scoped>\n",
       "    .dataframe tbody tr th:only-of-type {\n",
       "        vertical-align: middle;\n",
       "    }\n",
       "\n",
       "    .dataframe tbody tr th {\n",
       "        vertical-align: top;\n",
       "    }\n",
       "\n",
       "    .dataframe thead th {\n",
       "        text-align: right;\n",
       "    }\n",
       "</style>\n",
       "<table border=\"1\" class=\"dataframe\">\n",
       "  <thead>\n",
       "    <tr style=\"text-align: right;\">\n",
       "      <th></th>\n",
       "      <th>Topic Title</th>\n",
       "      <th>Category</th>\n",
       "      <th>Tags</th>\n",
       "      <th>Leading Comment</th>\n",
       "      <th>Other Comments</th>\n",
       "    </tr>\n",
       "  </thead>\n",
       "  <tbody>\n",
       "    <tr>\n",
       "      <th>0</th>\n",
       "      <td>[How to] Format code in posts</td>\n",
       "      <td>Getting Started</td>\n",
       "      <td>[]</td>\n",
       "      <td>Codecademy Discuss posts are parsed with Markd...</td>\n",
       "      <td>[]</td>\n",
       "    </tr>\n",
       "    <tr>\n",
       "      <th>1</th>\n",
       "      <td>Guide: A list of how-to’s for giving and recei...</td>\n",
       "      <td>Getting Started</td>\n",
       "      <td>[]</td>\n",
       "      <td>Technical guides will teach you how to use the...</td>\n",
       "      <td>[]</td>\n",
       "    </tr>\n",
       "    <tr>\n",
       "      <th>2</th>\n",
       "      <td>Guide: Learn about our community forums</td>\n",
       "      <td>Getting Started</td>\n",
       "      <td>[]</td>\n",
       "      <td>Take a moment and read through each of these b...</td>\n",
       "      <td>[]</td>\n",
       "    </tr>\n",
       "    <tr>\n",
       "      <th>3</th>\n",
       "      <td>[How-to] Create a topic that everyone will read</td>\n",
       "      <td>Getting Started</td>\n",
       "      <td>[]</td>\n",
       "      <td>A great topic is one that provides potential h...</td>\n",
       "      <td>[]</td>\n",
       "    </tr>\n",
       "    <tr>\n",
       "      <th>4</th>\n",
       "      <td>[Learn More] How the forum is organized</td>\n",
       "      <td>Getting Started</td>\n",
       "      <td>[]</td>\n",
       "      <td>With Codecademy Community forums, conversation...</td>\n",
       "      <td>[]</td>\n",
       "    </tr>\n",
       "    <tr>\n",
       "      <th>...</th>\n",
       "      <td>...</td>\n",
       "      <td>...</td>\n",
       "      <td>...</td>\n",
       "      <td>...</td>\n",
       "      <td>...</td>\n",
       "    </tr>\n",
       "    <tr>\n",
       "      <th>5459</th>\n",
       "      <td>Why does it ask me not to use compute_bill?</td>\n",
       "      <td>FAQ</td>\n",
       "      <td>['Python FAQ']</td>\n",
       "      <td>Question\\nWhy does it ask me not to use comput...</td>\n",
       "      <td>['Question\\nWhy does it ask me not to use comp...</td>\n",
       "    </tr>\n",
       "    <tr>\n",
       "      <th>5460</th>\n",
       "      <td>FAQ: Learn Python - Battleship - A Real Win</td>\n",
       "      <td>FAQ</td>\n",
       "      <td>['Python FAQ']</td>\n",
       "      <td>\\nCommunity FAQs on Codecademy Python Exercise...</td>\n",
       "      <td>['\\nCommunity FAQs on Codecademy Python Exerci...</td>\n",
       "    </tr>\n",
       "    <tr>\n",
       "      <th>5461</th>\n",
       "      <td>How should I indent the code to create my_tria...</td>\n",
       "      <td>FAQ</td>\n",
       "      <td>['Python FAQ']</td>\n",
       "      <td>Question\\nHow should I indent the code to crea...</td>\n",
       "      <td>[]</td>\n",
       "    </tr>\n",
       "    <tr>\n",
       "      <th>5462</th>\n",
       "      <td>FAQ: Learn Python - Battleship - Not Again!</td>\n",
       "      <td>FAQ</td>\n",
       "      <td>['Python FAQ']</td>\n",
       "      <td>\\nCommunity FAQs on Codecademy Python Exercise...</td>\n",
       "      <td>['\\nCommunity FAQs on Codecademy Python Exerci...</td>\n",
       "    </tr>\n",
       "    <tr>\n",
       "      <th>5463</th>\n",
       "      <td>Why is my Triangle class not accepted?</td>\n",
       "      <td>FAQ</td>\n",
       "      <td>['Python FAQ']</td>\n",
       "      <td>Question\\nWhy is my Triangle class not accepte...</td>\n",
       "      <td>['Question\\nWhy is my Triangle class not accep...</td>\n",
       "    </tr>\n",
       "  </tbody>\n",
       "</table>\n",
       "<p>5464 rows × 5 columns</p>\n",
       "</div>"
      ],
      "text/plain": [
       "                                            Topic Title         Category  \\\n",
       "0                         [How to] Format code in posts  Getting Started   \n",
       "1     Guide: A list of how-to’s for giving and recei...  Getting Started   \n",
       "2               Guide: Learn about our community forums  Getting Started   \n",
       "3       [How-to] Create a topic that everyone will read  Getting Started   \n",
       "4               [Learn More] How the forum is organized  Getting Started   \n",
       "...                                                 ...              ...   \n",
       "5459        Why does it ask me not to use compute_bill?              FAQ   \n",
       "5460        FAQ: Learn Python - Battleship - A Real Win              FAQ   \n",
       "5461  How should I indent the code to create my_tria...              FAQ   \n",
       "5462        FAQ: Learn Python - Battleship - Not Again!              FAQ   \n",
       "5463             Why is my Triangle class not accepted?              FAQ   \n",
       "\n",
       "                Tags                                    Leading Comment  \\\n",
       "0                 []  Codecademy Discuss posts are parsed with Markd...   \n",
       "1                 []  Technical guides will teach you how to use the...   \n",
       "2                 []  Take a moment and read through each of these b...   \n",
       "3                 []  A great topic is one that provides potential h...   \n",
       "4                 []  With Codecademy Community forums, conversation...   \n",
       "...              ...                                                ...   \n",
       "5459  ['Python FAQ']  Question\\nWhy does it ask me not to use comput...   \n",
       "5460  ['Python FAQ']  \\nCommunity FAQs on Codecademy Python Exercise...   \n",
       "5461  ['Python FAQ']  Question\\nHow should I indent the code to crea...   \n",
       "5462  ['Python FAQ']  \\nCommunity FAQs on Codecademy Python Exercise...   \n",
       "5463  ['Python FAQ']  Question\\nWhy is my Triangle class not accepte...   \n",
       "\n",
       "                                         Other Comments  \n",
       "0                                                    []  \n",
       "1                                                    []  \n",
       "2                                                    []  \n",
       "3                                                    []  \n",
       "4                                                    []  \n",
       "...                                                 ...  \n",
       "5459  ['Question\\nWhy does it ask me not to use comp...  \n",
       "5460  ['\\nCommunity FAQs on Codecademy Python Exerci...  \n",
       "5461                                                 []  \n",
       "5462  ['\\nCommunity FAQs on Codecademy Python Exerci...  \n",
       "5463  ['Question\\nWhy is my Triangle class not accep...  \n",
       "\n",
       "[5464 rows x 5 columns]"
      ]
     },
     "execution_count": 3,
     "metadata": {},
     "output_type": "execute_result"
    }
   ],
   "source": [
    "data.drop(columns= ['Unnamed: 0', 'Likes', 'Views'], inplace=True)\n",
    "data"
   ]
  },
  {
   "cell_type": "markdown",
   "metadata": {},
   "source": [
    "# Strategy 1"
   ]
  },
  {
   "cell_type": "markdown",
   "metadata": {},
   "source": [
    "* Lower case all the words\n",
    "\n",
    "* Replaced by space these [/(){}[]\\'\\“\\”\\’|@,;]\n",
    "\n",
    "* Removed these [^0-9a-z #+_]\n"
   ]
  },
  {
   "cell_type": "markdown",
   "metadata": {},
   "source": [
    "# Explore the data"
   ]
  },
  {
   "cell_type": "code",
   "execution_count": 4,
   "metadata": {},
   "outputs": [],
   "source": [
    "import logging\n",
    "import pandas as pd\n",
    "import numpy as np\n",
    "from numpy import random\n",
    "import gensim\n",
    "import nltk\n",
    "from sklearn.model_selection import train_test_split\n",
    "from sklearn.feature_extraction.text import CountVectorizer, TfidfVectorizer\n",
    "from sklearn.metrics import accuracy_score, confusion_matrix\n",
    "import matplotlib.pyplot as plt\n",
    "from nltk.corpus import stopwords\n",
    "import re\n",
    "from bs4 import BeautifulSoup\n",
    "%matplotlib inline"
   ]
  },
  {
   "cell_type": "code",
   "execution_count": 5,
   "metadata": {},
   "outputs": [],
   "source": [
    "df = data.copy()"
   ]
  },
  {
   "cell_type": "code",
   "execution_count": 6,
   "metadata": {},
   "outputs": [
    {
     "name": "stdout",
     "output_type": "stream",
     "text": [
      "<class 'pandas.core.frame.DataFrame'>\n",
      "RangeIndex: 5464 entries, 0 to 5463\n",
      "Data columns (total 5 columns):\n",
      " #   Column           Non-Null Count  Dtype \n",
      "---  ------           --------------  ----- \n",
      " 0   Topic Title      5464 non-null   object\n",
      " 1   Category         5464 non-null   object\n",
      " 2   Tags             5464 non-null   object\n",
      " 3   Leading Comment  5464 non-null   object\n",
      " 4   Other Comments   5464 non-null   object\n",
      "dtypes: object(5)\n",
      "memory usage: 213.6+ KB\n"
     ]
    }
   ],
   "source": [
    "df.info()"
   ]
  },
  {
   "cell_type": "code",
   "execution_count": 7,
   "metadata": {},
   "outputs": [
    {
     "data": {
      "text/plain": [
       "0    [How to] Format code in posts [] Codecademy Di...\n",
       "1    Guide: A list of how-to’s for giving and recei...\n",
       "2    Guide: Learn about our community forums [] Tak...\n",
       "3    [How-to] Create a topic that everyone will rea...\n",
       "4    [Learn More] How the forum is organized [] Wit...\n",
       "Name: post, dtype: object"
      ]
     },
     "execution_count": 7,
     "metadata": {},
     "output_type": "execute_result"
    }
   ],
   "source": [
    "df['post'] = df['Topic Title'] + ' ' + df['Tags'] + ' ' + df['Leading Comment'] + ' ' + df['Other Comments']\n",
    "\n",
    "df['post'].head()"
   ]
  },
  {
   "cell_type": "code",
   "execution_count": 8,
   "metadata": {},
   "outputs": [
    {
     "name": "stdout",
     "output_type": "stream",
     "text": [
      "13091057\n"
     ]
    }
   ],
   "source": [
    "print(df['post'].apply(lambda x: len(x.split(' '))).sum())"
   ]
  },
  {
   "cell_type": "code",
   "execution_count": 9,
   "metadata": {},
   "outputs": [
    {
     "data": {
      "text/plain": [
       "array(['Getting Started', 'Get Help', 'Community', 'Projects', 'FAQ'],\n",
       "      dtype=object)"
      ]
     },
     "execution_count": 9,
     "metadata": {},
     "output_type": "execute_result"
    }
   ],
   "source": [
    "df['Category'].unique()"
   ]
  },
  {
   "cell_type": "code",
   "execution_count": 10,
   "metadata": {},
   "outputs": [
    {
     "data": {
      "text/plain": [
       "Text(0, 0.5, 'no of posts')"
      ]
     },
     "execution_count": 10,
     "metadata": {},
     "output_type": "execute_result"
    },
    {
     "data": {
      "image/png": "[encoded data removed]",
      "text/plain": [
       "<Figure size 720x288 with 1 Axes>"
      ]
     },
     "metadata": {
      "needs_background": "light"
     },
     "output_type": "display_data"
    }
   ],
   "source": [
    "my_categories = ['Getting Started', 'Get Help',\n",
    "       'Community', 'Projects', 'FAQ']\n",
    "plt.figure(figsize=(10,4))\n",
    "df.Category.value_counts().plot(kind='bar');\n",
    "# Add title and axis names\n",
    "plt.title('Category wise no of posts')\n",
    "plt.xlabel('Category name')\n",
    "plt.ylabel('no of posts')"
   ]
  },
  {
   "cell_type": "markdown",
   "metadata": {},
   "source": [
    "####  Data is imbalanced. Need to work on this."
   ]
  },
  {
   "cell_type": "code",
   "execution_count": 12,
   "metadata": {},
   "outputs": [
    {
     "name": "stdout",
     "output_type": "stream",
     "text": [
      "Guide: A list of how-to’s for giving and receiving code-help [] Technical guides will teach you how to use the forums. These guides cover how the forums are organized, how to use the features of the forums, and quick tips for posting!\n",
      "\n",
      "[Learn More] How the forum is organized 41\n",
      "[How to] Format code in posts 17\n",
      "[How-to] Find and read topics to learn more 12\n",
      "[How-to] Search for previous answers 6\n",
      "[How-to] Reply to a post 4\n",
      "[How-to] Create a topic that everyone will read 15\n",
      "[How-to] See who’s online right now 8\n",
      "[How to] Manage your preferences 3\n",
      " []\n",
      "Category: Getting Started\n"
     ]
    }
   ],
   "source": [
    "def print_plot(index):\n",
    "    example = df[df.index == index][['post', 'Category']].values[0]\n",
    "    if len(example) > 0:\n",
    "        print(example[0])\n",
    "        print('Category:', example[1])\n",
    "print_plot(1)"
   ]
  },
  {
   "cell_type": "markdown",
   "metadata": {},
   "source": [
    "# Text Pre-processing"
   ]
  },
  {
   "cell_type": "code",
   "execution_count": 13,
   "metadata": {},
   "outputs": [],
   "source": [
    "test_df = df.copy()"
   ]
  },
  {
   "cell_type": "code",
   "execution_count": 14,
   "metadata": {},
   "outputs": [],
   "source": [
    "REPLACE_BY_SPACE_RE = re.compile('[/(){}\\[\\]\\'\\“\\”\\’\\|@,;]')\n",
    "BAD_SYMBOLS_RE = re.compile('[^0-9a-z #+_]')\n",
    "#STOPWORDS = set(stopwords.words('english'))\n",
    "\n",
    "def clean_text(text):\n",
    "    \"\"\"\n",
    "        text: a string\n",
    "        \n",
    "        return: modified initial string\n",
    "    \"\"\"\n",
    "    text = BeautifulSoup(text, \"lxml\").text # HTML decoding\n",
    "    text = text.lower() # lowercase text\n",
    "    text = REPLACE_BY_SPACE_RE.sub(' ', text) # replace REPLACE_BY_SPACE_RE symbols by space in text\n",
    "    #text = BAD_SYMBOLS_RE.sub('', text) # delete symbols which are in BAD_SYMBOLS_RE from text\n",
    "    #text = ''.join(word for word in text if word not in punct)  # remove punctuation\n",
    "    #text = ' '.join(word for word in text.split() if word not in STOPWORDS) # delete stopwors from text\n",
    "    return text\n",
    "    \n",
    "test_df['post'] = test_df['post'].apply(clean_text)"
   ]
  },
  {
   "cell_type": "code",
   "execution_count": 15,
   "metadata": {},
   "outputs": [
    {
     "name": "stdout",
     "output_type": "stream",
     "text": [
      "guide: a list of how-to s for giving and receiving code-help    technical guides will teach you how to use the forums. these guides cover how the forums are organized  how to use the features of the forums  and quick tips for posting!\n",
      "\n",
      " learn more  how the forum is organized 41\n",
      " how to  format code in posts 17\n",
      " how-to  find and read topics to learn more 12\n",
      " how-to  search for previous answers 6\n",
      " how-to  reply to a post 4\n",
      " how-to  create a topic that everyone will read 15\n",
      " how-to  see who s online right now 8\n",
      " how to  manage your preferences 3\n",
      "   \n",
      "Category: Getting Started\n"
     ]
    }
   ],
   "source": [
    "def test_print_plot(index):\n",
    "    example = test_df[test_df.index == index][['post', 'Category']].values[0]\n",
    "    if len(example) > 0:\n",
    "        print(example[0])\n",
    "        print('Category:', example[1])\n",
    "test_print_plot(1)"
   ]
  },
  {
   "cell_type": "code",
   "execution_count": 16,
   "metadata": {},
   "outputs": [
    {
     "data": {
      "text/plain": [
       "15332524"
      ]
     },
     "execution_count": 16,
     "metadata": {},
     "output_type": "execute_result"
    }
   ],
   "source": [
    "test_df['post'].apply(lambda x: len(x.split(' '))).sum()"
   ]
  },
  {
   "cell_type": "code",
   "execution_count": 18,
   "metadata": {},
   "outputs": [
    {
     "data": {
      "text/plain": [
       "2241467"
      ]
     },
     "execution_count": 18,
     "metadata": {},
     "output_type": "execute_result"
    }
   ],
   "source": [
    "15332524-13091057"
   ]
  },
  {
   "cell_type": "markdown",
   "metadata": {},
   "source": [
    "#### I lost 2241467 info."
   ]
  },
  {
   "cell_type": "markdown",
   "metadata": {},
   "source": [
    "# Modeling the data"
   ]
  },
  {
   "cell_type": "code",
   "execution_count": 19,
   "metadata": {},
   "outputs": [],
   "source": [
    "X = test_df.post\n",
    "y = test_df.Category\n",
    "X_train, X_test, y_train, y_test = train_test_split(X, y, test_size=0.3, random_state = 42)"
   ]
  },
  {
   "cell_type": "code",
   "execution_count": 20,
   "metadata": {},
   "outputs": [
    {
     "data": {
      "text/plain": [
       "4998    what else can i make with what i ve learned so...\n",
       "1623     video  how to get a job as a developer   tips...\n",
       "5161    how does this update the text on every change?...\n",
       "4320    visualizing the orion constellation    hi  the...\n",
       "2678    reference error:undefined    hi all \\ni ve bee...\n",
       "Name: post, dtype: object"
      ]
     },
     "execution_count": 20,
     "metadata": {},
     "output_type": "execute_result"
    }
   ],
   "source": [
    "X_train.head()"
   ]
  },
  {
   "cell_type": "code",
   "execution_count": 21,
   "metadata": {},
   "outputs": [
    {
     "data": {
      "text/plain": [
       "4998          FAQ\n",
       "1623    Community\n",
       "5161          FAQ\n",
       "4320     Projects\n",
       "2678    Community\n",
       "Name: Category, dtype: object"
      ]
     },
     "execution_count": 21,
     "metadata": {},
     "output_type": "execute_result"
    }
   ],
   "source": [
    "y_train.head()"
   ]
  },
  {
   "cell_type": "markdown",
   "metadata": {},
   "source": [
    "# Naive Bayes Classifier for Multinomial Models"
   ]
  },
  {
   "cell_type": "markdown",
   "metadata": {},
   "source": [
    "### CountVectorizer + TF-IDFTransformer + MultinomialNB"
   ]
  },
  {
   "cell_type": "code",
   "execution_count": 22,
   "metadata": {},
   "outputs": [
    {
     "name": "stdout",
     "output_type": "stream",
     "text": [
      "accuracy 0.6195121951219512\n",
      "                 precision    recall  f1-score   support\n",
      "\n",
      "Getting Started       0.67      0.89      0.76       534\n",
      "       Get Help       0.00      0.00      0.00       177\n",
      "      Community       1.00      0.01      0.01       318\n",
      "       Projects       0.00      0.00      0.00         6\n",
      "            FAQ       0.58      0.89      0.70       605\n",
      "\n",
      "       accuracy                           0.62      1640\n",
      "      macro avg       0.45      0.36      0.30      1640\n",
      "   weighted avg       0.63      0.62      0.51      1640\n",
      "\n"
     ]
    },
    {
     "name": "stderr",
     "output_type": "stream",
     "text": [
      "c:\\users\\hp\\appdata\\local\\programs\\python\\python38\\lib\\site-packages\\sklearn\\metrics\\_classification.py:1221: UndefinedMetricWarning: Precision and F-score are ill-defined and being set to 0.0 in labels with no predicted samples. Use `zero_division` parameter to control this behavior.\n",
      "  _warn_prf(average, modifier, msg_start, len(result))\n"
     ]
    }
   ],
   "source": [
    "from sklearn.naive_bayes import MultinomialNB\n",
    "from sklearn.pipeline import Pipeline\n",
    "from sklearn.feature_extraction.text import TfidfTransformer\n",
    "\n",
    "nb = Pipeline([('vect', CountVectorizer()),\n",
    "               ('tfidf', TfidfTransformer()),\n",
    "               ('clf', MultinomialNB()),\n",
    "              ])\n",
    "nb.fit(X_train, y_train)\n",
    "\n",
    "\n",
    "from sklearn.metrics import classification_report\n",
    "y_pred = nb.predict(X_test)\n",
    "\n",
    "print('accuracy %s' % accuracy_score(y_pred, y_test))\n",
    "res1311 = accuracy_score(y_pred, y_test)\n",
    "print(classification_report(y_test, y_pred,target_names=my_categories))"
   ]
  },
  {
   "cell_type": "markdown",
   "metadata": {},
   "source": [
    "# Linear Support Vector Machine"
   ]
  },
  {
   "cell_type": "markdown",
   "metadata": {},
   "source": [
    "### CountVectorizer + TF-IDFTransformer + SGDClassifier"
   ]
  },
  {
   "cell_type": "code",
   "execution_count": 23,
   "metadata": {},
   "outputs": [
    {
     "name": "stdout",
     "output_type": "stream",
     "text": [
      "accuracy 0.7341463414634146\n",
      "                 precision    recall  f1-score   support\n",
      "\n",
      "Getting Started       0.77      0.87      0.81       534\n",
      "       Get Help       0.73      0.86      0.79       177\n",
      "      Community       0.90      0.11      0.20       318\n",
      "       Projects       0.00      0.00      0.00         6\n",
      "            FAQ       0.70      0.91      0.80       605\n",
      "\n",
      "       accuracy                           0.73      1640\n",
      "      macro avg       0.62      0.55      0.52      1640\n",
      "   weighted avg       0.76      0.73      0.68      1640\n",
      "\n"
     ]
    }
   ],
   "source": [
    "from sklearn.linear_model import SGDClassifier\n",
    "\n",
    "sgd = Pipeline([('vect', CountVectorizer()),\n",
    "                ('tfidf', TfidfTransformer()),\n",
    "                ('clf', SGDClassifier(loss='hinge', penalty='l2',alpha=1e-3, random_state=42, max_iter=5, tol=None)),\n",
    "               ])\n",
    "sgd.fit(X_train, y_train)\n",
    "\n",
    "y_pred = sgd.predict(X_test)\n",
    "\n",
    "print('accuracy %s' % accuracy_score(y_pred, y_test))\n",
    "res1321 = accuracy_score(y_pred, y_test)\n",
    "print(classification_report(y_test, y_pred,target_names=my_categories))"
   ]
  },
  {
   "cell_type": "markdown",
   "metadata": {},
   "source": [
    "# Logistic Regression"
   ]
  },
  {
   "cell_type": "markdown",
   "metadata": {},
   "source": [
    "### CountVectorizer + TF-IDFTransformer + Logistic Regression\n"
   ]
  },
  {
   "cell_type": "code",
   "execution_count": 24,
   "metadata": {},
   "outputs": [
    {
     "name": "stderr",
     "output_type": "stream",
     "text": [
      "c:\\users\\hp\\appdata\\local\\programs\\python\\python38\\lib\\site-packages\\sklearn\\linear_model\\_logistic.py:762: ConvergenceWarning: lbfgs failed to converge (status=1):\n",
      "STOP: TOTAL NO. of ITERATIONS REACHED LIMIT.\n",
      "\n",
      "Increase the number of iterations (max_iter) or scale the data as shown in:\n",
      "    https://scikit-learn.org/stable/modules/preprocessing.html\n",
      "Please also refer to the documentation for alternative solver options:\n",
      "    https://scikit-learn.org/stable/modules/linear_model.html#logistic-regression\n",
      "  n_iter_i = _check_optimize_result(\n"
     ]
    },
    {
     "name": "stdout",
     "output_type": "stream",
     "text": [
      "accuracy 0.7634146341463415\n",
      "                 precision    recall  f1-score   support\n",
      "\n",
      "Getting Started       0.79      0.83      0.81       534\n",
      "       Get Help       0.85      0.82      0.84       177\n",
      "      Community       0.60      0.48      0.54       318\n",
      "       Projects       0.00      0.00      0.00         6\n",
      "            FAQ       0.78      0.84      0.81       605\n",
      "\n",
      "       accuracy                           0.76      1640\n",
      "      macro avg       0.61      0.60      0.60      1640\n",
      "   weighted avg       0.75      0.76      0.76      1640\n",
      "\n"
     ]
    },
    {
     "name": "stderr",
     "output_type": "stream",
     "text": [
      "c:\\users\\hp\\appdata\\local\\programs\\python\\python38\\lib\\site-packages\\sklearn\\metrics\\_classification.py:1221: UndefinedMetricWarning: Precision and F-score are ill-defined and being set to 0.0 in labels with no predicted samples. Use `zero_division` parameter to control this behavior.\n",
      "  _warn_prf(average, modifier, msg_start, len(result))\n"
     ]
    }
   ],
   "source": [
    "from sklearn.linear_model import LogisticRegression\n",
    "\n",
    "logreg = Pipeline([('vect', CountVectorizer()),\n",
    "                ('tfidf', TfidfTransformer()),\n",
    "                ('clf', LogisticRegression(n_jobs=1, C=1e5)),\n",
    "               ])\n",
    "logreg.fit(X_train, y_train)\n",
    "\n",
    "y_pred = logreg.predict (X_test)\n",
    "\n",
    "print('accuracy %s' % accuracy_score(y_pred, y_test))\n",
    "res1331 = accuracy_score(y_pred, y_test)\n",
    "print(classification_report(y_test, y_pred,target_names=my_categories))"
   ]
  },
  {
   "cell_type": "markdown",
   "metadata": {},
   "source": [
    "# Decision Tree"
   ]
  },
  {
   "cell_type": "markdown",
   "metadata": {},
   "source": [
    "### CountVectorizer + TF-IDFTransformer + DecisionTreeClassifier"
   ]
  },
  {
   "cell_type": "code",
   "execution_count": 25,
   "metadata": {},
   "outputs": [
    {
     "name": "stdout",
     "output_type": "stream",
     "text": [
      "accuracy 0.7292682926829268\n",
      "                 precision    recall  f1-score   support\n",
      "\n",
      "Getting Started       0.76      0.77      0.76       534\n",
      "       Get Help       0.97      0.95      0.96       177\n",
      "      Community       0.48      0.41      0.44       318\n",
      "       Projects       0.00      0.00      0.00         6\n",
      "            FAQ       0.75      0.81      0.78       605\n",
      "\n",
      "       accuracy                           0.73      1640\n",
      "      macro avg       0.59      0.59      0.59      1640\n",
      "   weighted avg       0.72      0.73      0.72      1640\n",
      "\n"
     ]
    }
   ],
   "source": [
    "from sklearn.tree import DecisionTreeClassifier\n",
    "\n",
    "dtree = Pipeline([('vect', CountVectorizer()),\n",
    "                ('tfidf', TfidfTransformer()),\n",
    "                ('clf', DecisionTreeClassifier(random_state=0)),\n",
    "               ])\n",
    "dtree.fit(X_train, y_train)\n",
    "\n",
    "y_pred = dtree.predict (X_test)\n",
    "\n",
    "print('accuracy %s' % accuracy_score(y_pred, y_test))\n",
    "res1341 = accuracy_score(y_pred, y_test)\n",
    "print(classification_report(y_test, y_pred,target_names=my_categories))"
   ]
  },
  {
   "cell_type": "markdown",
   "metadata": {},
   "source": [
    "# Results"
   ]
  },
  {
   "cell_type": "markdown",
   "metadata": {},
   "source": [
    "### Results of the previously trained models"
   ]
  },
  {
   "cell_type": "code",
   "execution_count": 26,
   "metadata": {},
   "outputs": [
    {
     "data": {
      "text/html": [
       "<div>\n",
       "<style scoped>\n",
       "    .dataframe tbody tr th:only-of-type {\n",
       "        vertical-align: middle;\n",
       "    }\n",
       "\n",
       "    .dataframe tbody tr th {\n",
       "        vertical-align: top;\n",
       "    }\n",
       "\n",
       "    .dataframe thead th {\n",
       "        text-align: right;\n",
       "    }\n",
       "</style>\n",
       "<table border=\"1\" class=\"dataframe\">\n",
       "  <thead>\n",
       "    <tr style=\"text-align: right;\">\n",
       "      <th></th>\n",
       "      <th>Model</th>\n",
       "      <th>Accuracy</th>\n",
       "    </tr>\n",
       "  </thead>\n",
       "  <tbody>\n",
       "    <tr>\n",
       "      <th>0</th>\n",
       "      <td>Naive Bayes MultinomialNB</td>\n",
       "      <td>0.619512</td>\n",
       "    </tr>\n",
       "    <tr>\n",
       "      <th>3</th>\n",
       "      <td>Decision Tree</td>\n",
       "      <td>0.729268</td>\n",
       "    </tr>\n",
       "    <tr>\n",
       "      <th>1</th>\n",
       "      <td>Linear SVM</td>\n",
       "      <td>0.734146</td>\n",
       "    </tr>\n",
       "    <tr>\n",
       "      <th>2</th>\n",
       "      <td>Logistic Regression</td>\n",
       "      <td>0.763415</td>\n",
       "    </tr>\n",
       "  </tbody>\n",
       "</table>\n",
       "</div>"
      ],
      "text/plain": [
       "                       Model  Accuracy\n",
       "0  Naive Bayes MultinomialNB  0.619512\n",
       "3              Decision Tree  0.729268\n",
       "1                 Linear SVM  0.734146\n",
       "2        Logistic Regression  0.763415"
      ]
     },
     "execution_count": 26,
     "metadata": {},
     "output_type": "execute_result"
    }
   ],
   "source": [
    "import pandas as pd\n",
    "\n",
    "results = pd.DataFrame({'Model': ['Naive Bayes MultinomialNB', 'Linear SVM', 'Logistic Regression', 'Decision Tree'],\n",
    "                         'Accuracy': [res1311, res1321, res1331, res1341]})\n",
    "results.set_index('Model')\n",
    "results.sort_values(by='Accuracy')"
   ]
  },
  {
   "cell_type": "markdown",
   "metadata": {},
   "source": [
    "# Cross Validation with linear SVM"
   ]
  },
  {
   "cell_type": "code",
   "execution_count": 27,
   "metadata": {},
   "outputs": [],
   "source": [
    "from sklearn.linear_model import SGDClassifier\n",
    "from sklearn.model_selection import cross_val_score\n",
    "import numpy as np\n",
    "\n",
    "sgd = Pipeline([('vect', CountVectorizer()),\n",
    "                ('tfidf', TfidfTransformer()),\n",
    "                ('clf', SGDClassifier(loss='hinge', penalty='l2',alpha=1e-3, random_state=42, max_iter=5, tol=None)),\n",
    "               ])\n",
    "cv_res_sgd = cross_val_score(sgd, X_train, y_train, cv=10)\n",
    "mean_cv_res_sgd = np.mean(cv_res_sgd)"
   ]
  },
  {
   "cell_type": "code",
   "execution_count": 28,
   "metadata": {},
   "outputs": [
    {
     "name": "stdout",
     "output_type": "stream",
     "text": [
      "0.7583742293549136\n"
     ]
    }
   ],
   "source": [
    "print(mean_cv_res_sgd)"
   ]
  },
  {
   "cell_type": "markdown",
   "metadata": {},
   "source": [
    "# Strategy 2"
   ]
  },
  {
   "cell_type": "markdown",
   "metadata": {},
   "source": [
    "* Remove stop words (+ what was done in Strategy 1)"
   ]
  },
  {
   "cell_type": "code",
   "execution_count": 30,
   "metadata": {},
   "outputs": [],
   "source": [
    "test_df2 = test_df.copy()"
   ]
  },
  {
   "cell_type": "code",
   "execution_count": 31,
   "metadata": {},
   "outputs": [],
   "source": [
    "REPLACE_BY_SPACE_RE = re.compile('[/(){}\\[\\]\\'\\“\\”\\’\\|@,;]')\n",
    "BAD_SYMBOLS_RE = re.compile('[^0-9a-z #+_]')\n",
    "STOPWORDS = set(stopwords.words('english'))\n",
    "\n",
    "def clean_text(text):\n",
    "    \"\"\"\n",
    "        text: a string\n",
    "        \n",
    "        return: modified initial string\n",
    "    \"\"\"\n",
    "    text = BeautifulSoup(text, \"lxml\").text # HTML decoding\n",
    "    text = text.lower() # lowercase text\n",
    "    text = REPLACE_BY_SPACE_RE.sub(' ', text) # replace REPLACE_BY_SPACE_RE symbols by space in text\n",
    "    #text = BAD_SYMBOLS_RE.sub('', text) # delete symbols which are in BAD_SYMBOLS_RE from text\n",
    "    #text = ''.join(word for word in text if word not in punct)  # remove punctuation\n",
    "    text = ' '.join(word for word in text.split() if word not in STOPWORDS) # delete stopwors from text\n",
    "    return text\n",
    "    \n",
    "test_df2['post'] = test_df2['post'].apply(clean_text)"
   ]
  },
  {
   "cell_type": "code",
   "execution_count": 32,
   "metadata": {},
   "outputs": [
    {
     "name": "stdout",
     "output_type": "stream",
     "text": [
      "guide: list how-to giving receiving code-help technical guides teach use forums. guides cover forums organized use features forums quick tips posting! learn forum organized 41 format code posts 17 how-to find read topics learn 12 how-to search previous answers 6 how-to reply post 4 how-to create topic everyone read 15 how-to see online right 8 manage preferences 3\n",
      "Category: Getting Started\n"
     ]
    }
   ],
   "source": [
    "def test_print_plot(index):\n",
    "    example = test_df2[test_df2.index == index][['post', 'Category']].values[0]\n",
    "    if len(example) > 0:\n",
    "        print(example[0])\n",
    "        print('Category:', example[1])\n",
    "test_print_plot(1)"
   ]
  },
  {
   "cell_type": "markdown",
   "metadata": {},
   "source": [
    "# Modeling the data"
   ]
  },
  {
   "cell_type": "code",
   "execution_count": 33,
   "metadata": {},
   "outputs": [],
   "source": [
    "X = test_df2.post\n",
    "y = test_df2.Category\n",
    "X_train, X_test, y_train, y_test = train_test_split(X, y, test_size=0.3, random_state = 42)"
   ]
  },
  {
   "cell_type": "code",
   "execution_count": 34,
   "metadata": {},
   "outputs": [
    {
     "data": {
      "text/plain": [
       "4998    else make learned far? python faq question els...\n",
       "1623    video get job developer tips resources want ge...\n",
       "5161    update text every change? react.js faq questio...\n",
       "4320    visualizing orion constellation hi results fir...\n",
       "2678    reference error:undefined hi stuck error day l...\n",
       "Name: post, dtype: object"
      ]
     },
     "execution_count": 34,
     "metadata": {},
     "output_type": "execute_result"
    }
   ],
   "source": [
    "X_train.head()"
   ]
  },
  {
   "cell_type": "code",
   "execution_count": 35,
   "metadata": {},
   "outputs": [
    {
     "data": {
      "text/plain": [
       "4998          FAQ\n",
       "1623    Community\n",
       "5161          FAQ\n",
       "4320     Projects\n",
       "2678    Community\n",
       "Name: Category, dtype: object"
      ]
     },
     "execution_count": 35,
     "metadata": {},
     "output_type": "execute_result"
    }
   ],
   "source": [
    "y_train.head()"
   ]
  },
  {
   "cell_type": "markdown",
   "metadata": {},
   "source": [
    "# Naive Bayes Classifier for Multinomial Models"
   ]
  },
  {
   "cell_type": "markdown",
   "metadata": {},
   "source": [
    "### CountVectorizer + TF-IDFTransformer + MultinomialNB"
   ]
  },
  {
   "cell_type": "code",
   "execution_count": 36,
   "metadata": {},
   "outputs": [
    {
     "name": "stdout",
     "output_type": "stream",
     "text": [
      "accuracy 0.6268292682926829\n",
      "                 precision    recall  f1-score   support\n",
      "\n",
      "Getting Started       0.70      0.87      0.78       534\n",
      "       Get Help       1.00      0.01      0.02       177\n",
      "      Community       1.00      0.01      0.02       318\n",
      "       Projects       0.00      0.00      0.00         6\n",
      "            FAQ       0.57      0.92      0.70       605\n",
      "\n",
      "       accuracy                           0.63      1640\n",
      "      macro avg       0.66      0.36      0.31      1640\n",
      "   weighted avg       0.74      0.63      0.52      1640\n",
      "\n"
     ]
    },
    {
     "name": "stderr",
     "output_type": "stream",
     "text": [
      "c:\\users\\hp\\appdata\\local\\programs\\python\\python38\\lib\\site-packages\\sklearn\\metrics\\_classification.py:1221: UndefinedMetricWarning: Precision and F-score are ill-defined and being set to 0.0 in labels with no predicted samples. Use `zero_division` parameter to control this behavior.\n",
      "  _warn_prf(average, modifier, msg_start, len(result))\n"
     ]
    }
   ],
   "source": [
    "from sklearn.naive_bayes import MultinomialNB\n",
    "from sklearn.pipeline import Pipeline\n",
    "from sklearn.feature_extraction.text import TfidfTransformer\n",
    "\n",
    "nb = Pipeline([('vect', CountVectorizer()),\n",
    "               ('tfidf', TfidfTransformer()),\n",
    "               ('clf', MultinomialNB()),\n",
    "              ])\n",
    "nb.fit(X_train, y_train)\n",
    "\n",
    "\n",
    "from sklearn.metrics import classification_report\n",
    "y_pred = nb.predict(X_test)\n",
    "\n",
    "print('accuracy %s' % accuracy_score(y_pred, y_test))\n",
    "res2311 = accuracy_score(y_pred, y_test)\n",
    "print(classification_report(y_test, y_pred,target_names=my_categories))"
   ]
  },
  {
   "cell_type": "markdown",
   "metadata": {},
   "source": [
    "# Linear Support Vector Machine"
   ]
  },
  {
   "cell_type": "markdown",
   "metadata": {},
   "source": [
    "### CountVectorizer + TF-IDFTransformer + SGDClassifier"
   ]
  },
  {
   "cell_type": "code",
   "execution_count": 37,
   "metadata": {},
   "outputs": [
    {
     "name": "stdout",
     "output_type": "stream",
     "text": [
      "accuracy 0.7414634146341463\n",
      "                 precision    recall  f1-score   support\n",
      "\n",
      "Getting Started       0.77      0.89      0.82       534\n",
      "       Get Help       0.75      0.83      0.79       177\n",
      "      Community       0.80      0.13      0.22       318\n",
      "       Projects       0.00      0.00      0.00         6\n",
      "            FAQ       0.71      0.92      0.80       605\n",
      "\n",
      "       accuracy                           0.74      1640\n",
      "      macro avg       0.61      0.55      0.53      1640\n",
      "   weighted avg       0.75      0.74      0.69      1640\n",
      "\n"
     ]
    }
   ],
   "source": [
    "from sklearn.linear_model import SGDClassifier\n",
    "\n",
    "sgd = Pipeline([('vect', CountVectorizer()),\n",
    "                ('tfidf', TfidfTransformer()),\n",
    "                ('clf', SGDClassifier(loss='hinge', penalty='l2',alpha=1e-3, random_state=42, max_iter=5, tol=None)),\n",
    "               ])\n",
    "sgd.fit(X_train, y_train)\n",
    "\n",
    "y_pred = sgd.predict(X_test)\n",
    "\n",
    "print('accuracy %s' % accuracy_score(y_pred, y_test))\n",
    "res2321 = accuracy_score(y_pred, y_test)\n",
    "print(classification_report(y_test, y_pred,target_names=my_categories))"
   ]
  },
  {
   "cell_type": "markdown",
   "metadata": {},
   "source": [
    "# Logistic Regression"
   ]
  },
  {
   "cell_type": "markdown",
   "metadata": {},
   "source": [
    "### CountVectorizer + TF-IDFTransformer + Logistic Regression"
   ]
  },
  {
   "cell_type": "code",
   "execution_count": 38,
   "metadata": {},
   "outputs": [
    {
     "name": "stderr",
     "output_type": "stream",
     "text": [
      "c:\\users\\hp\\appdata\\local\\programs\\python\\python38\\lib\\site-packages\\sklearn\\linear_model\\_logistic.py:762: ConvergenceWarning: lbfgs failed to converge (status=1):\n",
      "STOP: TOTAL NO. of ITERATIONS REACHED LIMIT.\n",
      "\n",
      "Increase the number of iterations (max_iter) or scale the data as shown in:\n",
      "    https://scikit-learn.org/stable/modules/preprocessing.html\n",
      "Please also refer to the documentation for alternative solver options:\n",
      "    https://scikit-learn.org/stable/modules/linear_model.html#logistic-regression\n",
      "  n_iter_i = _check_optimize_result(\n"
     ]
    },
    {
     "name": "stdout",
     "output_type": "stream",
     "text": [
      "accuracy 0.7579268292682927\n",
      "                 precision    recall  f1-score   support\n",
      "\n",
      "Getting Started       0.79      0.83      0.81       534\n",
      "       Get Help       0.81      0.79      0.80       177\n",
      "      Community       0.60      0.46      0.52       318\n",
      "       Projects       0.50      0.33      0.40         6\n",
      "            FAQ       0.78      0.85      0.81       605\n",
      "\n",
      "       accuracy                           0.76      1640\n",
      "      macro avg       0.70      0.65      0.67      1640\n",
      "   weighted avg       0.75      0.76      0.75      1640\n",
      "\n"
     ]
    }
   ],
   "source": [
    "from sklearn.linear_model import LogisticRegression\n",
    "\n",
    "logreg = Pipeline([('vect', CountVectorizer()),\n",
    "                ('tfidf', TfidfTransformer()),\n",
    "                ('clf', LogisticRegression(n_jobs=1, C=1e5)),\n",
    "               ])\n",
    "logreg.fit(X_train, y_train)\n",
    "\n",
    "y_pred = logreg.predict (X_test)\n",
    "\n",
    "print('accuracy %s' % accuracy_score(y_pred, y_test))\n",
    "res2331 = accuracy_score(y_pred, y_test)\n",
    "print(classification_report(y_test, y_pred,target_names=my_categories))"
   ]
  },
  {
   "cell_type": "markdown",
   "metadata": {},
   "source": [
    "# Decision Tree"
   ]
  },
  {
   "cell_type": "markdown",
   "metadata": {},
   "source": [
    "### CountVectorizer + TF-IDFTransformer + DecisionTreeClassifier"
   ]
  },
  {
   "cell_type": "code",
   "execution_count": 39,
   "metadata": {},
   "outputs": [
    {
     "name": "stdout",
     "output_type": "stream",
     "text": [
      "accuracy 0.7225609756097561\n",
      "                 precision    recall  f1-score   support\n",
      "\n",
      "Getting Started       0.75      0.75      0.75       534\n",
      "       Get Help       0.98      0.95      0.96       177\n",
      "      Community       0.46      0.39      0.42       318\n",
      "       Projects       0.11      0.17      0.13         6\n",
      "            FAQ       0.75      0.81      0.78       605\n",
      "\n",
      "       accuracy                           0.72      1640\n",
      "      macro avg       0.61      0.61      0.61      1640\n",
      "   weighted avg       0.72      0.72      0.72      1640\n",
      "\n"
     ]
    }
   ],
   "source": [
    "from sklearn.tree import DecisionTreeClassifier\n",
    "\n",
    "dtree = Pipeline([('vect', CountVectorizer()),\n",
    "                ('tfidf', TfidfTransformer()),\n",
    "                ('clf', DecisionTreeClassifier(random_state=0)),\n",
    "               ])\n",
    "dtree.fit(X_train, y_train)\n",
    "\n",
    "y_pred = dtree.predict (X_test)\n",
    "\n",
    "print('accuracy %s' % accuracy_score(y_pred, y_test))\n",
    "res2341 = accuracy_score(y_pred, y_test)\n",
    "print(classification_report(y_test, y_pred,target_names=my_categories))"
   ]
  },
  {
   "cell_type": "code",
   "execution_count": 40,
   "metadata": {},
   "outputs": [
    {
     "data": {
      "image/png": "[encoded data removed]",
      "text/plain": [
       "<Figure size 720x720 with 2 Axes>"
      ]
     },
     "metadata": {
      "needs_background": "light"
     },
     "output_type": "display_data"
    }
   ],
   "source": [
    "from sklearn.metrics import confusion_matrix\n",
    "import seaborn as sns\n",
    "\n",
    "conf_mat = confusion_matrix(y_test, y_pred)\n",
    "fig, ax = plt.subplots(figsize=(10,10))\n",
    "sns.heatmap(conf_mat, annot=True, fmt='d',\n",
    "            xticklabels=my_categories, yticklabels=my_categories)\n",
    "plt.ylabel('Actual')\n",
    "plt.xlabel('Predicted')\n",
    "plt.show()"
   ]
  },
  {
   "cell_type": "markdown",
   "metadata": {},
   "source": [
    "# Results"
   ]
  },
  {
   "cell_type": "markdown",
   "metadata": {},
   "source": [
    "### Results of the previously trained models"
   ]
  },
  {
   "cell_type": "code",
   "execution_count": 41,
   "metadata": {
    "scrolled": true
   },
   "outputs": [
    {
     "data": {
      "text/html": [
       "<div>\n",
       "<style scoped>\n",
       "    .dataframe tbody tr th:only-of-type {\n",
       "        vertical-align: middle;\n",
       "    }\n",
       "\n",
       "    .dataframe tbody tr th {\n",
       "        vertical-align: top;\n",
       "    }\n",
       "\n",
       "    .dataframe thead th {\n",
       "        text-align: right;\n",
       "    }\n",
       "</style>\n",
       "<table border=\"1\" class=\"dataframe\">\n",
       "  <thead>\n",
       "    <tr style=\"text-align: right;\">\n",
       "      <th></th>\n",
       "      <th>Model</th>\n",
       "      <th>Accuracy</th>\n",
       "    </tr>\n",
       "  </thead>\n",
       "  <tbody>\n",
       "    <tr>\n",
       "      <th>0</th>\n",
       "      <td>Naive Bayes MultinomialNB</td>\n",
       "      <td>0.626829</td>\n",
       "    </tr>\n",
       "    <tr>\n",
       "      <th>3</th>\n",
       "      <td>Decision Tree</td>\n",
       "      <td>0.722561</td>\n",
       "    </tr>\n",
       "    <tr>\n",
       "      <th>1</th>\n",
       "      <td>Linear SVM</td>\n",
       "      <td>0.741463</td>\n",
       "    </tr>\n",
       "    <tr>\n",
       "      <th>2</th>\n",
       "      <td>Logistic Regression</td>\n",
       "      <td>0.757927</td>\n",
       "    </tr>\n",
       "  </tbody>\n",
       "</table>\n",
       "</div>"
      ],
      "text/plain": [
       "                       Model  Accuracy\n",
       "0  Naive Bayes MultinomialNB  0.626829\n",
       "3              Decision Tree  0.722561\n",
       "1                 Linear SVM  0.741463\n",
       "2        Logistic Regression  0.757927"
      ]
     },
     "execution_count": 41,
     "metadata": {},
     "output_type": "execute_result"
    }
   ],
   "source": [
    "import pandas as pd\n",
    "\n",
    "results = pd.DataFrame({'Model': ['Naive Bayes MultinomialNB', 'Linear SVM', 'Logistic Regression', 'Decision Tree'],\n",
    "                         'Accuracy': [res2311, res2321, res2331, res2341]})\n",
    "results.set_index('Model')\n",
    "results.sort_values(by='Accuracy')"
   ]
  },
  {
   "cell_type": "markdown",
   "metadata": {},
   "source": [
    "#### So after removing the stop words the accuracy of the maximum accurate machine learning model decreases by 0.006"
   ]
  },
  {
   "cell_type": "markdown",
   "metadata": {},
   "source": [
    "# Cross Validation with linear SVM"
   ]
  },
  {
   "cell_type": "code",
   "execution_count": 42,
   "metadata": {},
   "outputs": [],
   "source": [
    "from sklearn.linear_model import SGDClassifier\n",
    "from sklearn.model_selection import cross_val_score\n",
    "import numpy as np\n",
    "\n",
    "sgd = Pipeline([('vect', CountVectorizer()),\n",
    "                ('tfidf', TfidfTransformer()),\n",
    "                ('clf', SGDClassifier(loss='hinge', penalty='l2',alpha=1e-3, random_state=42, max_iter=5, tol=None)),\n",
    "               ])\n",
    "cv_res_sgd2 = cross_val_score(sgd, X_train, y_train, cv=10)\n",
    "mean_cv_res_sgd2 = np.mean(cv_res_sgd2)"
   ]
  },
  {
   "cell_type": "code",
   "execution_count": 43,
   "metadata": {},
   "outputs": [
    {
     "name": "stdout",
     "output_type": "stream",
     "text": [
      "0.7588943720694982\n"
     ]
    }
   ],
   "source": [
    "print(mean_cv_res_sgd2)"
   ]
  },
  {
   "cell_type": "markdown",
   "metadata": {},
   "source": [
    "#  Strategy 3"
   ]
  },
  {
   "cell_type": "markdown",
   "metadata": {},
   "source": [
    "* text.replace(r'\\n', ' ') & Remove digits and words containing digits (+ what was done in Strategy 2)"
   ]
  },
  {
   "cell_type": "code",
   "execution_count": 44,
   "metadata": {},
   "outputs": [],
   "source": [
    "test_df3 = test_df2.copy()"
   ]
  },
  {
   "cell_type": "code",
   "execution_count": 45,
   "metadata": {},
   "outputs": [],
   "source": [
    "REPLACE_BY_SPACE_RE = re.compile('[/(){}\\[\\]\\'\\“\\”\\’\\|@,;]')\n",
    "BAD_SYMBOLS_RE = re.compile('[^0-9a-z #+_]')\n",
    "STOPWORDS = set(stopwords.words('english'))\n",
    "DIGITS_RE=re.compile('\\w*\\d\\w*')\n",
    "\n",
    "def clean_text(text):\n",
    "    \"\"\"\n",
    "        text: a string\n",
    "        \n",
    "        return: modified initial string\n",
    "    \"\"\"\n",
    "    text = BeautifulSoup(text, \"lxml\").text # HTML decoding\n",
    "    text = text.lower() # lowercase text\n",
    "    text = REPLACE_BY_SPACE_RE.sub(' ', text) # replace REPLACE_BY_SPACE_RE symbols by space in text\n",
    "    text = text.replace(r'\\n', ' ')\n",
    "    #text = BAD_SYMBOLS_RE.sub('', text) # delete symbols which are in BAD_SYMBOLS_RE from text\n",
    "    #text = ''.join(word for word in text if word not in punct)  # remove punctuation\n",
    "    text = ' '.join(word for word in text.split() if word not in STOPWORDS) # delete stopwors from text\n",
    "    text = DIGITS_RE.sub('', text)\n",
    "    return text\n",
    "    \n",
    "test_df3['post'] = test_df3['post'].apply(clean_text)"
   ]
  },
  {
   "cell_type": "code",
   "execution_count": 46,
   "metadata": {},
   "outputs": [
    {
     "name": "stdout",
     "output_type": "stream",
     "text": [
      "guide: list how-to giving receiving code-help technical guides teach use forums. guides cover forums organized use features forums quick tips posting! learn forum organized  format code posts  how-to find read topics learn  how-to search previous answers  how-to reply post  how-to create topic everyone read  how-to see online right  manage preferences \n",
      "Category: Getting Started\n"
     ]
    }
   ],
   "source": [
    "def test_print_plot(index):\n",
    "    example = test_df3[test_df3.index == index][['post', 'Category']].values[0]\n",
    "    if len(example) > 0:\n",
    "        print(example[0])\n",
    "        print('Category:', example[1])\n",
    "test_print_plot(1)"
   ]
  },
  {
   "cell_type": "markdown",
   "metadata": {},
   "source": [
    "# Cross Validation with linear SVM"
   ]
  },
  {
   "cell_type": "code",
   "execution_count": 47,
   "metadata": {},
   "outputs": [],
   "source": [
    "X = test_df3.post\n",
    "y = test_df3.Category\n",
    "X_train, X_test, y_train, y_test = train_test_split(X, y, test_size=0.3, random_state = 42)"
   ]
  },
  {
   "cell_type": "code",
   "execution_count": 48,
   "metadata": {},
   "outputs": [],
   "source": [
    "from sklearn.linear_model import SGDClassifier\n",
    "from sklearn.model_selection import cross_val_score\n",
    "import numpy as np\n",
    "\n",
    "sgd = Pipeline([('vect', CountVectorizer()),\n",
    "                ('tfidf', TfidfTransformer()),\n",
    "                ('clf', SGDClassifier(loss='hinge', penalty='l2',alpha=1e-3, random_state=42, max_iter=5, tol=None)),\n",
    "               ])\n",
    "cv_res_sgd3 = cross_val_score(sgd, X_train, y_train, cv=10)\n",
    "mean_cv_res_sgd3 = np.mean(cv_res_sgd3)"
   ]
  },
  {
   "cell_type": "code",
   "execution_count": 49,
   "metadata": {},
   "outputs": [
    {
     "name": "stdout",
     "output_type": "stream",
     "text": [
      "0.7536662884639044\n"
     ]
    }
   ],
   "source": [
    "print(mean_cv_res_sgd3)"
   ]
  },
  {
   "cell_type": "markdown",
   "metadata": {},
   "source": [
    "# Random Forest"
   ]
  },
  {
   "cell_type": "code",
   "execution_count": 50,
   "metadata": {},
   "outputs": [],
   "source": [
    "from sklearn.ensemble import RandomForestClassifier\n",
    "from sklearn.model_selection import cross_val_score\n",
    "import numpy as np\n",
    "\n",
    "rf = Pipeline([('vect', CountVectorizer()),\n",
    "                ('tfidf', TfidfTransformer()),\n",
    "                ('clf', RandomForestClassifier(n_estimators=500, max_depth=500, random_state=0)),\n",
    "               ])\n",
    "\n",
    "cv_res_rf = cross_val_score(rf, X_train, y_train, cv=10)\n",
    "mean_cv_res_rf = np.mean(cv_res_rf)"
   ]
  },
  {
   "cell_type": "code",
   "execution_count": 51,
   "metadata": {},
   "outputs": [
    {
     "name": "stdout",
     "output_type": "stream",
     "text": [
      "0.7905403742840348\n"
     ]
    }
   ],
   "source": [
    "print(mean_cv_res_rf)#max_depth = 10, n_estimators=300"
   ]
  },
  {
   "cell_type": "code",
   "execution_count": 57,
   "metadata": {},
   "outputs": [],
   "source": [
    "from sklearn.ensemble import RandomForestClassifier\n",
    "from sklearn.model_selection import cross_val_score\n",
    "import numpy as np\n",
    "\n",
    "rf = Pipeline([('vect', TfidfVectorizer()),\n",
    "                ('tfidf', TfidfTransformer()),\n",
    "                ('clf', RandomForestClassifier(n_estimators=200, max_depth=100, random_state=0)),\n",
    "               ])\n",
    "\n",
    "cv_res_rf_tfidf = cross_val_score(rf, X_train, y_train, cv=10)\n",
    "mean_cv_res_rf_tfidf = np.mean(cv_res_rf_tfidf)"
   ]
  },
  {
   "cell_type": "code",
   "execution_count": 58,
   "metadata": {},
   "outputs": [
    {
     "data": {
      "text/plain": [
       "0.7811238090030483"
      ]
     },
     "execution_count": 58,
     "metadata": {},
     "output_type": "execute_result"
    }
   ],
   "source": [
    "mean_cv_res_rf_tfidf# max_depth = 500, n_estimators=500"
   ]
  },
  {
   "cell_type": "code",
   "execution_count": 63,
   "metadata": {},
   "outputs": [],
   "source": [
    "# from sklearn.linear_model import SGDClassifier\n",
    "from sklearn.model_selection import cross_val_score\n",
    "import numpy as np\n",
    "\n",
    "sgd = Pipeline([('vect', TfidfVectorizer()),\n",
    "                ('tfidf', TfidfTransformer()),\n",
    "                ('clf', SGDClassifier(loss='hinge', penalty='l2',alpha=1e-3, random_state=42, max_iter=100, tol=None)),\n",
    "               ])\n",
    "cv_res_sgd_tfidf = cross_val_score(sgd, X_train, y_train, cv=10)\n",
    "mean_cv_res_sgd_tfidf = np.mean(cv_res_sgd_tfidf)"
   ]
  },
  {
   "cell_type": "code",
   "execution_count": 64,
   "metadata": {},
   "outputs": [
    {
     "data": {
      "text/plain": [
       "0.7426797260536138"
      ]
     },
     "execution_count": 64,
     "metadata": {},
     "output_type": "execute_result"
    }
   ],
   "source": [
    "mean_cv_res_sgd_tfidf #10 in max_iter"
   ]
  },
  {
   "cell_type": "markdown",
   "metadata": {},
   "source": [
    "# XGBoost"
   ]
  },
  {
   "cell_type": "code",
   "execution_count": 69,
   "metadata": {
    "scrolled": true
   },
   "outputs": [
    {
     "name": "stdout",
     "output_type": "stream",
     "text": [
      "Requirement already satisfied: xgboost in c:\\users\\hp\\appdata\\local\\programs\\python\\python38\\lib\\site-packages (1.3.1)Note: you may need to restart the kernel to use updated packages.\n"
     ]
    },
    {
     "name": "stderr",
     "output_type": "stream",
     "text": [
      "WARNING: You are using pip version 20.3.1; however, version 20.3.3 is available.\n",
      "You should consider upgrading via the 'c:\\users\\hp\\appdata\\local\\programs\\python\\python38\\python.exe -m pip install --upgrade pip' command.\n"
     ]
    },
    {
     "name": "stdout",
     "output_type": "stream",
     "text": [
      "\n",
      "Requirement already satisfied: scipy in c:\\users\\hp\\appdata\\local\\programs\\python\\python38\\lib\\site-packages (from xgboost) (1.5.4)\n",
      "Requirement already satisfied: numpy in c:\\users\\hp\\appdata\\local\\programs\\python\\python38\\lib\\site-packages (from xgboost) (1.19.4)\n",
      "Requirement already satisfied: numpy in c:\\users\\hp\\appdata\\local\\programs\\python\\python38\\lib\\site-packages (from xgboost) (1.19.4)\n"
     ]
    }
   ],
   "source": [
    "pip install xgboost"
   ]
  },
  {
   "cell_type": "code",
   "execution_count": 70,
   "metadata": {},
   "outputs": [
    {
     "name": "stderr",
     "output_type": "stream",
     "text": [
      "c:\\users\\hp\\appdata\\local\\programs\\python\\python38\\lib\\site-packages\\xgboost\\sklearn.py:892: UserWarning: The use of label encoder in XGBClassifier is deprecated and will be removed in a future release. To remove this warning, do the following: 1) Pass option use_label_encoder=False when constructing XGBClassifier object; and 2) Encode your labels (y) as integers starting with 0, i.e. 0, 1, 2, ..., [num_class - 1].\n",
      "  warnings.warn(label_encoder_deprecation_msg, UserWarning)\n"
     ]
    },
    {
     "name": "stdout",
     "output_type": "stream",
     "text": [
      "[00:12:22] WARNING: C:/Users/Administrator/workspace/xgboost-win64_release_1.3.0/src/learner.cc:1061: Starting in XGBoost 1.3.0, the default evaluation metric used with the objective 'multi:softprob' was changed from 'merror' to 'mlogloss'. Explicitly set eval_metric if you'd like to restore the old behavior.\n",
      "[00:12:51] WARNING: C:/Users/Administrator/workspace/xgboost-win64_release_1.3.0/src/learner.cc:1061: Starting in XGBoost 1.3.0, the default evaluation metric used with the objective 'multi:softprob' was changed from 'merror' to 'mlogloss'. Explicitly set eval_metric if you'd like to restore the old behavior.\n",
      "[00:13:21] WARNING: C:/Users/Administrator/workspace/xgboost-win64_release_1.3.0/src/learner.cc:1061: Starting in XGBoost 1.3.0, the default evaluation metric used with the objective 'multi:softprob' was changed from 'merror' to 'mlogloss'. Explicitly set eval_metric if you'd like to restore the old behavior.\n",
      "[00:13:51] WARNING: C:/Users/Administrator/workspace/xgboost-win64_release_1.3.0/src/learner.cc:1061: Starting in XGBoost 1.3.0, the default evaluation metric used with the objective 'multi:softprob' was changed from 'merror' to 'mlogloss'. Explicitly set eval_metric if you'd like to restore the old behavior.\n",
      "[00:14:25] WARNING: C:/Users/Administrator/workspace/xgboost-win64_release_1.3.0/src/learner.cc:1061: Starting in XGBoost 1.3.0, the default evaluation metric used with the objective 'multi:softprob' was changed from 'merror' to 'mlogloss'. Explicitly set eval_metric if you'd like to restore the old behavior.\n",
      "[00:14:57] WARNING: C:/Users/Administrator/workspace/xgboost-win64_release_1.3.0/src/learner.cc:1061: Starting in XGBoost 1.3.0, the default evaluation metric used with the objective 'multi:softprob' was changed from 'merror' to 'mlogloss'. Explicitly set eval_metric if you'd like to restore the old behavior.\n",
      "[00:15:29] WARNING: C:/Users/Administrator/workspace/xgboost-win64_release_1.3.0/src/learner.cc:1061: Starting in XGBoost 1.3.0, the default evaluation metric used with the objective 'multi:softprob' was changed from 'merror' to 'mlogloss'. Explicitly set eval_metric if you'd like to restore the old behavior.\n",
      "[00:16:01] WARNING: C:/Users/Administrator/workspace/xgboost-win64_release_1.3.0/src/learner.cc:1061: Starting in XGBoost 1.3.0, the default evaluation metric used with the objective 'multi:softprob' was changed from 'merror' to 'mlogloss'. Explicitly set eval_metric if you'd like to restore the old behavior.\n",
      "[00:16:34] WARNING: C:/Users/Administrator/workspace/xgboost-win64_release_1.3.0/src/learner.cc:1061: Starting in XGBoost 1.3.0, the default evaluation metric used with the objective 'multi:softprob' was changed from 'merror' to 'mlogloss'. Explicitly set eval_metric if you'd like to restore the old behavior.\n",
      "[00:17:07] WARNING: C:/Users/Administrator/workspace/xgboost-win64_release_1.3.0/src/learner.cc:1061: Starting in XGBoost 1.3.0, the default evaluation metric used with the objective 'multi:softprob' was changed from 'merror' to 'mlogloss'. Explicitly set eval_metric if you'd like to restore the old behavior.\n"
     ]
    }
   ],
   "source": [
    "import xgboost as xgb\n",
    "\n",
    "xgb = Pipeline(steps=[('vect', TfidfVectorizer()),\n",
    "                      ('tfidf', TfidfTransformer()),\n",
    "                      ('xgboost', xgb.XGBClassifier(objective='multi:softmax'))])\n",
    "\n",
    "cv_res_xgb_tfidf = cross_val_score(xgb, X_train, y_train, cv=10)\n",
    "mean_cv_res_xgb_tfidf = np.mean(cv_res_xgb_tfidf)"
   ]
  },
  {
   "cell_type": "code",
   "execution_count": 72,
   "metadata": {},
   "outputs": [
    {
     "data": {
      "text/plain": [
       "0.8551255587604063"
      ]
     },
     "execution_count": 72,
     "metadata": {},
     "output_type": "execute_result"
    }
   ],
   "source": [
    "mean_cv_res_xgb_tfidf"
   ]
  },
  {
   "cell_type": "code",
   "execution_count": null,
   "metadata": {},
   "outputs": [],
   "source": [
    "# xgb.fit(X_train, y_train)\n",
    "\n",
    "y_pred = xgb.predict(X_test)"
   ]
  },
  {
   "cell_type": "code",
   "execution_count": 77,
   "metadata": {
    "scrolled": false
   },
   "outputs": [
    {
     "name": "stdout",
     "output_type": "stream",
     "text": [
      "accuracy 0.8384146341463414\n",
      "                 precision    recall  f1-score   support\n",
      "\n",
      "Getting Started       0.85      0.90      0.88       534\n",
      "       Get Help       0.98      0.98      0.98       177\n",
      "      Community       0.77      0.50      0.60       318\n",
      "       Projects       0.00      0.00      0.00         6\n",
      "            FAQ       0.81      0.93      0.87       605\n",
      "\n",
      "       accuracy                           0.84      1640\n",
      "      macro avg       0.68      0.66      0.67      1640\n",
      "   weighted avg       0.83      0.84      0.83      1640\n",
      "\n"
     ]
    },
    {
     "name": "stderr",
     "output_type": "stream",
     "text": [
      "c:\\users\\hp\\appdata\\local\\programs\\python\\python38\\lib\\site-packages\\sklearn\\metrics\\_classification.py:1221: UndefinedMetricWarning: Precision and F-score are ill-defined and being set to 0.0 in labels with no predicted samples. Use `zero_division` parameter to control this behavior.\n",
      "  _warn_prf(average, modifier, msg_start, len(result))\n"
     ]
    }
   ],
   "source": [
    "print('accuracy %s' % accuracy_score(y_pred, y_test))\n",
    "res_xgb = accuracy_score(y_pred, y_test)\n",
    "print(classification_report(y_test, y_pred,target_names=my_categories))"
   ]
  },
  {
   "cell_type": "markdown",
   "metadata": {},
   "source": [
    "### So I got  max accuracy of 83.85 after training xgboost model"
   ]
  },
  {
   "cell_type": "code",
   "execution_count": 76,
   "metadata": {
    "scrolled": true
   },
   "outputs": [
    {
     "data": {
      "image/png": "[encoded data removed]",
      "text/plain": [
       "<Figure size 720x720 with 2 Axes>"
      ]
     },
     "metadata": {
      "needs_background": "light"
     },
     "output_type": "display_data"
    }
   ],
   "source": [
    "conf_mat = confusion_matrix(y_test, y_pred)\n",
    "fig, ax = plt.subplots(figsize=(10,10))\n",
    "sns.heatmap(conf_mat, annot=True, fmt='d',\n",
    "            xticklabels=my_categories, yticklabels=my_categories)\n",
    "plt.ylabel('Actual')\n",
    "plt.xlabel('Predicted')\n",
    "plt.show()\n"
   ]
  },
  {
   "cell_type": "markdown",
   "metadata": {},
   "source": [
    "## We can see that:\n",
    "\n",
    "* **Some posts (16 posts) from FAQ got misclassified as Getting started.**\n",
    "* **Some posts (28 posts) from FAQ got misclassified as Community.**\n",
    "* **61 posts from Community got misclassified as Getting started.**\n",
    "* **97 posts from Community got misclassified as FAQ.**\n"
   ]
  },
  {
   "cell_type": "code",
   "execution_count": 78,
   "metadata": {},
   "outputs": [],
   "source": [
    "import lightgbm as lgbm\n",
    "\n",
    "tfidf_vec = TfidfVectorizer(dtype=np.float32, sublinear_tf=True, use_idf=True, smooth_idf=True)\n",
    "X_data_tfidf = tfidf_vec.fit_transform(test_df3['post'])\n",
    "X_train_tfidf = tfidf_vec.transform(X_train)\n",
    "X_test_tfidf = tfidf_vec.transform(X_test)\n",
    "\n",
    "clf_LGBM = lgbm.LGBMClassifier(objective='multiclass', verbose=-1, learning_rate=0.5, max_depth=20, num_leaves=50, n_estimators=120, max_bin=2000,)\n",
    "clf_LGBM.fit(X_train_tfidf, y_train, verbose=-1)\n",
    "predicted_LGBM = clf_LGBM.predict(X_test_tfidf)"
   ]
  },
  {
   "cell_type": "code",
   "execution_count": 79,
   "metadata": {},
   "outputs": [],
   "source": [
    "cv_res_lgbm_tfidf = cross_val_score(clf_LGBM, X_train_tfidf, y_train, cv=10)\n",
    "mean_cv_res_lgbm_tfidf = np.mean(cv_res_lgbm_tfidf)"
   ]
  },
  {
   "cell_type": "code",
   "execution_count": 80,
   "metadata": {},
   "outputs": [
    {
     "data": {
      "text/plain": [
       "0.5513957048924856"
      ]
     },
     "execution_count": 80,
     "metadata": {},
     "output_type": "execute_result"
    }
   ],
   "source": [
    "mean_cv_res_lgbm_tfidf"
   ]
  },
  {
   "cell_type": "code",
   "execution_count": 81,
   "metadata": {
    "scrolled": true
   },
   "outputs": [
    {
     "name": "stdout",
     "output_type": "stream",
     "text": [
      "accuracy 0.4945121951219512\n",
      "                 precision    recall  f1-score   support\n",
      "\n",
      "Getting Started       0.42      0.57      0.48       534\n",
      "       Get Help       0.53      0.76      0.62       177\n",
      "      Community       0.27      0.11      0.16       318\n",
      "       Projects       0.00      0.00      0.00         6\n",
      "            FAQ       0.64      0.56      0.60       605\n",
      "\n",
      "       accuracy                           0.49      1640\n",
      "      macro avg       0.37      0.40      0.37      1640\n",
      "   weighted avg       0.48      0.49      0.47      1640\n",
      "\n"
     ]
    }
   ],
   "source": [
    "print('accuracy %s' % accuracy_score(predicted_LGBM, y_test))\n",
    "res_lgbm = accuracy_score(predicted_LGBM, y_test)\n",
    "print(classification_report(y_test, predicted_LGBM,target_names=my_categories))"
   ]
  },
  {
   "cell_type": "markdown",
   "metadata": {},
   "source": [
    "###  after using tf-idf accuracy has decresed a lot."
   ]
  },
  {
   "cell_type": "code",
   "execution_count": 82,
   "metadata": {},
   "outputs": [
    {
     "data": {
      "image/png": "[encoded data removed]",
      "text/plain": [
       "<Figure size 720x720 with 2 Axes>"
      ]
     },
     "metadata": {
      "needs_background": "light"
     },
     "output_type": "display_data"
    }
   ],
   "source": [
    "conf_mat = confusion_matrix(y_test, predicted_LGBM)\n",
    "fig, ax = plt.subplots(figsize=(10,10))\n",
    "sns.heatmap(conf_mat, annot=True, fmt='d',\n",
    "            xticklabels=my_categories, yticklabels=my_categories)\n",
    "plt.ylabel('Actual')\n",
    "plt.xlabel('Predicted')\n",
    "plt.show()"
   ]
  },
  {
   "cell_type": "code",
   "execution_count": 83,
   "metadata": {},
   "outputs": [],
   "source": [
    "data = pd.read_csv('Codeacademy_Webscrapper_20210107154307.csv')"
   ]
  },
  {
   "cell_type": "code",
   "execution_count": 84,
   "metadata": {},
   "outputs": [],
   "source": [
    "STOPWORDS = set(stopwords.words('english'))\n",
    "STOPWORDSv2 = [word.upper() for word in STOPWORDS]"
   ]
  },
  {
   "cell_type": "code",
   "execution_count": 85,
   "metadata": {},
   "outputs": [
    {
     "data": {
      "text/plain": [
       "['YOURS',\n",
       " 'WOULDN',\n",
       " 'HERE',\n",
       " 'WASN',\n",
       " \"WOULDN'T\",\n",
       " 'NOR',\n",
       " \"WASN'T\",\n",
       " 'EACH',\n",
       " 'BELOW',\n",
       " 'ANY',\n",
       " 'ONLY',\n",
       " 'THAN',\n",
       " 'MORE',\n",
       " 'DOESN',\n",
       " 'O',\n",
       " 'OFF',\n",
       " 'S',\n",
       " 'AFTER',\n",
       " 'WHERE',\n",
       " 'WHY',\n",
       " 'SAME',\n",
       " 'AS',\n",
       " 'HADN',\n",
       " 'ITSELF',\n",
       " 'MA',\n",
       " 'HAVEN',\n",
       " 'OR',\n",
       " \"SHE'S\",\n",
       " 'WHAT',\n",
       " 'CAN',\n",
       " 'SO',\n",
       " 'IT',\n",
       " 'FOR',\n",
       " 'THEIR',\n",
       " 'BOTH',\n",
       " 'COULDN',\n",
       " 'THEY',\n",
       " 'TOO',\n",
       " 'UP',\n",
       " 'HIMSELF',\n",
       " 'DOWN',\n",
       " 'ON',\n",
       " \"DON'T\",\n",
       " 'AGAIN',\n",
       " \"COULDN'T\",\n",
       " 'ME',\n",
       " 'AREN',\n",
       " 'MUSTN',\n",
       " 'HASN',\n",
       " \"SHOULDN'T\",\n",
       " 'OURS',\n",
       " 'THEM',\n",
       " 'HER',\n",
       " 'THERE',\n",
       " 'RE',\n",
       " 'SHAN',\n",
       " 'INTO',\n",
       " \"HAVEN'T\",\n",
       " \"SHAN'T\",\n",
       " 'ONCE',\n",
       " 'MY',\n",
       " 'AN',\n",
       " \"IT'S\",\n",
       " \"WON'T\",\n",
       " 'IF',\n",
       " 'OF',\n",
       " 'WE',\n",
       " 'HAS',\n",
       " 'TO',\n",
       " 'BEFORE',\n",
       " 'HIM',\n",
       " \"YOU'RE\",\n",
       " 'FURTHER',\n",
       " \"SHOULD'VE\",\n",
       " 'JUST',\n",
       " 'MOST',\n",
       " 'DURING',\n",
       " 'YOURSELF',\n",
       " 'I',\n",
       " 'AGAINST',\n",
       " 'ABOVE',\n",
       " 'WHICH',\n",
       " 'THEMSELVES',\n",
       " \"MIGHTN'T\",\n",
       " 'WITH',\n",
       " 'SHOULD',\n",
       " 'THE',\n",
       " 'BEING',\n",
       " 'Y',\n",
       " 'VERY',\n",
       " 'IS',\n",
       " 'HE',\n",
       " 'AM',\n",
       " 'T',\n",
       " 'ITS',\n",
       " 'UNTIL',\n",
       " \"YOU'LL\",\n",
       " 'THAT',\n",
       " \"YOU'VE\",\n",
       " 'MYSELF',\n",
       " 'DOING',\n",
       " 'OVER',\n",
       " \"ISN'T\",\n",
       " 'OWN',\n",
       " 'THESE',\n",
       " 'BECAUSE',\n",
       " 'WON',\n",
       " 'WERE',\n",
       " 'HOW',\n",
       " 'ARE',\n",
       " 'FROM',\n",
       " 'NOT',\n",
       " 'THOSE',\n",
       " 'HAD',\n",
       " 'BETWEEN',\n",
       " 'HAVE',\n",
       " 'VE',\n",
       " \"HASN'T\",\n",
       " 'BEEN',\n",
       " 'THEN',\n",
       " 'DIDN',\n",
       " 'NO',\n",
       " 'HIS',\n",
       " 'WHO',\n",
       " 'BE',\n",
       " 'NEEDN',\n",
       " 'HERS',\n",
       " 'WILL',\n",
       " 'DOES',\n",
       " \"DIDN'T\",\n",
       " \"THAT'LL\",\n",
       " 'AIN',\n",
       " 'ABOUT',\n",
       " 'HERSELF',\n",
       " 'ISN',\n",
       " 'FEW',\n",
       " 'WAS',\n",
       " 'DID',\n",
       " 'NOW',\n",
       " 'THEIRS',\n",
       " 'BY',\n",
       " 'M',\n",
       " \"AREN'T\",\n",
       " 'IN',\n",
       " 'THIS',\n",
       " 'SHE',\n",
       " 'SOME',\n",
       " 'OTHER',\n",
       " 'WEREN',\n",
       " 'SHOULDN',\n",
       " 'DO',\n",
       " 'WHOM',\n",
       " 'YOUR',\n",
       " 'BUT',\n",
       " \"WEREN'T\",\n",
       " 'ALL',\n",
       " 'YOURSELVES',\n",
       " \"YOU'D\",\n",
       " \"HADN'T\",\n",
       " 'YOU',\n",
       " 'AND',\n",
       " 'SUCH',\n",
       " 'MIGHTN',\n",
       " 'OUT',\n",
       " 'WHEN',\n",
       " \"DOESN'T\",\n",
       " 'AT',\n",
       " 'HAVING',\n",
       " 'D',\n",
       " 'OUR',\n",
       " 'WHILE',\n",
       " 'THROUGH',\n",
       " \"NEEDN'T\",\n",
       " 'OURSELVES',\n",
       " 'A',\n",
       " \"MUSTN'T\",\n",
       " 'DON',\n",
       " 'UNDER',\n",
       " 'LL']"
      ]
     },
     "execution_count": 85,
     "metadata": {},
     "output_type": "execute_result"
    }
   ],
   "source": [
    "STOPWORDSv2"
   ]
  },
  {
   "cell_type": "code",
   "execution_count": 86,
   "metadata": {},
   "outputs": [
    {
     "name": "stderr",
     "output_type": "stream",
     "text": [
      "c:\\users\\hp\\appdata\\local\\programs\\python\\python38\\lib\\site-packages\\bs4\\__init__.py:417: MarkupResemblesLocatorWarning: \"https://www.codecademy.com/paths/web-development/tracks/styling-a-website/modules/learn-css-selectors-visual-rules/lessons/css-setup-selectors/exercises/intro-to-css\" looks like a URL. Beautiful Soup is not an HTTP client. You should probably use an HTTP client like requests to get the document behind the URL, and feed that document to Beautiful Soup.\n",
      "  warnings.warn(\n"
     ]
    }
   ],
   "source": [
    "def clean_data(text):\n",
    "    \"\"\"\n",
    "        text: a string\n",
    "        \n",
    "        return: modified initial string\n",
    "    \"\"\"\n",
    "    text = BeautifulSoup(text, \"lxml\").text # HTML decoding\n",
    "    text = ' '.join(word for word in text.split() if word not in STOPWORDSv2) # delete stopwors from text\n",
    "    return text\n",
    "    \n",
    "data['Leading Comment'] = data['Leading Comment'].apply(clean_data)"
   ]
  },
  {
   "cell_type": "code",
   "execution_count": 87,
   "metadata": {},
   "outputs": [
    {
     "data": {
      "text/plain": [
       "0    Codecademy Discuss posts are parsed with Markd...\n",
       "1    Technical guides will teach you how to use the...\n",
       "2    Take a moment and read through each of these b...\n",
       "3    great topic is one that provides potential hel...\n",
       "4    With Codecademy Community forums, conversation...\n",
       "Name: Leading Comment, dtype: object"
      ]
     },
     "execution_count": 87,
     "metadata": {},
     "output_type": "execute_result"
    }
   ],
   "source": [
    "data['Leading Comment'].head()"
   ]
  },
  {
   "cell_type": "code",
   "execution_count": 88,
   "metadata": {},
   "outputs": [],
   "source": [
    "upcase_words = {}\n",
    "regex = r\"([A-Z]{3})\"\n",
    "\n",
    "for i, row in zip(range(500), data['Leading Comment'][:500]):\n",
    "    row = data['Leading Comment'].str.findall(regex)[i]\n",
    "    if len(row) != 0:\n",
    "        upcase_words[i] = row"
   ]
  },
  {
   "cell_type": "code",
   "execution_count": 89,
   "metadata": {},
   "outputs": [],
   "source": [
    "df_upword = pd.DataFrame(upcase_words.items(), columns=['Original Index', 'Upper Case Words'])"
   ]
  },
  {
   "cell_type": "code",
   "execution_count": 90,
   "metadata": {},
   "outputs": [
    {
     "data": {
      "text/html": [
       "<div>\n",
       "<style scoped>\n",
       "    .dataframe tbody tr th:only-of-type {\n",
       "        vertical-align: middle;\n",
       "    }\n",
       "\n",
       "    .dataframe tbody tr th {\n",
       "        vertical-align: top;\n",
       "    }\n",
       "\n",
       "    .dataframe thead th {\n",
       "        text-align: right;\n",
       "    }\n",
       "</style>\n",
       "<table border=\"1\" class=\"dataframe\">\n",
       "  <thead>\n",
       "    <tr style=\"text-align: right;\">\n",
       "      <th></th>\n",
       "      <th>Original Index</th>\n",
       "      <th>Upper Case Words</th>\n",
       "    </tr>\n",
       "  </thead>\n",
       "  <tbody>\n",
       "    <tr>\n",
       "      <th>0</th>\n",
       "      <td>0</td>\n",
       "      <td>[HTM]</td>\n",
       "    </tr>\n",
       "    <tr>\n",
       "      <th>1</th>\n",
       "      <td>3</td>\n",
       "      <td>[URL]</td>\n",
       "    </tr>\n",
       "    <tr>\n",
       "      <th>2</th>\n",
       "      <td>11</td>\n",
       "      <td>[HTM, HTM]</td>\n",
       "    </tr>\n",
       "    <tr>\n",
       "      <th>3</th>\n",
       "      <td>14</td>\n",
       "      <td>[HTM, BBC]</td>\n",
       "    </tr>\n",
       "    <tr>\n",
       "      <th>4</th>\n",
       "      <td>15</td>\n",
       "      <td>[FAQ, NOT, TOS]</td>\n",
       "    </tr>\n",
       "  </tbody>\n",
       "</table>\n",
       "</div>"
      ],
      "text/plain": [
       "   Original Index Upper Case Words\n",
       "0               0            [HTM]\n",
       "1               3            [URL]\n",
       "2              11       [HTM, HTM]\n",
       "3              14       [HTM, BBC]\n",
       "4              15  [FAQ, NOT, TOS]"
      ]
     },
     "execution_count": 90,
     "metadata": {},
     "output_type": "execute_result"
    }
   ],
   "source": [
    "df_upword.head()"
   ]
  },
  {
   "cell_type": "code",
   "execution_count": 91,
   "metadata": {},
   "outputs": [],
   "source": [
    "df_upword['Number of UpCase Words'] =  df_upword['Upper Case Words'].apply(lambda x: len(x))"
   ]
  },
  {
   "cell_type": "code",
   "execution_count": 92,
   "metadata": {},
   "outputs": [
    {
     "data": {
      "text/html": [
       "<div>\n",
       "<style scoped>\n",
       "    .dataframe tbody tr th:only-of-type {\n",
       "        vertical-align: middle;\n",
       "    }\n",
       "\n",
       "    .dataframe tbody tr th {\n",
       "        vertical-align: top;\n",
       "    }\n",
       "\n",
       "    .dataframe thead th {\n",
       "        text-align: right;\n",
       "    }\n",
       "</style>\n",
       "<table border=\"1\" class=\"dataframe\">\n",
       "  <thead>\n",
       "    <tr style=\"text-align: right;\">\n",
       "      <th></th>\n",
       "      <th>Original Index</th>\n",
       "      <th>Upper Case Words</th>\n",
       "      <th>Number of UpCase Words</th>\n",
       "    </tr>\n",
       "  </thead>\n",
       "  <tbody>\n",
       "    <tr>\n",
       "      <th>0</th>\n",
       "      <td>0</td>\n",
       "      <td>[HTM]</td>\n",
       "      <td>1</td>\n",
       "    </tr>\n",
       "    <tr>\n",
       "      <th>1</th>\n",
       "      <td>3</td>\n",
       "      <td>[URL]</td>\n",
       "      <td>1</td>\n",
       "    </tr>\n",
       "    <tr>\n",
       "      <th>2</th>\n",
       "      <td>11</td>\n",
       "      <td>[HTM, HTM]</td>\n",
       "      <td>2</td>\n",
       "    </tr>\n",
       "    <tr>\n",
       "      <th>3</th>\n",
       "      <td>14</td>\n",
       "      <td>[HTM, BBC]</td>\n",
       "      <td>2</td>\n",
       "    </tr>\n",
       "    <tr>\n",
       "      <th>4</th>\n",
       "      <td>15</td>\n",
       "      <td>[FAQ, NOT, TOS]</td>\n",
       "      <td>3</td>\n",
       "    </tr>\n",
       "  </tbody>\n",
       "</table>\n",
       "</div>"
      ],
      "text/plain": [
       "   Original Index Upper Case Words  Number of UpCase Words\n",
       "0               0            [HTM]                       1\n",
       "1               3            [URL]                       1\n",
       "2              11       [HTM, HTM]                       2\n",
       "3              14       [HTM, BBC]                       2\n",
       "4              15  [FAQ, NOT, TOS]                       3"
      ]
     },
     "execution_count": 92,
     "metadata": {},
     "output_type": "execute_result"
    }
   ],
   "source": [
    "df_upword.head()"
   ]
  },
  {
   "cell_type": "code",
   "execution_count": 93,
   "metadata": {},
   "outputs": [
    {
     "data": {
      "text/plain": [
       "77"
      ]
     },
     "execution_count": 93,
     "metadata": {},
     "output_type": "execute_result"
    }
   ],
   "source": [
    "df_upword['Number of UpCase Words'].values.max()"
   ]
  },
  {
   "cell_type": "code",
   "execution_count": 94,
   "metadata": {},
   "outputs": [
    {
     "data": {
      "text/plain": [
       "33    77\n",
       "Name: Number of UpCase Words, dtype: int64"
      ]
     },
     "execution_count": 94,
     "metadata": {},
     "output_type": "execute_result"
    }
   ],
   "source": [
    "df_upword['Number of UpCase Words'][df_upword['Number of UpCase Words'].values == 77]"
   ]
  },
  {
   "cell_type": "code",
   "execution_count": 95,
   "metadata": {},
   "outputs": [
    {
     "data": {
      "text/plain": [
       "77"
      ]
     },
     "execution_count": 95,
     "metadata": {},
     "output_type": "execute_result"
    }
   ],
   "source": [
    "df_upword['Number of UpCase Words'][33]"
   ]
  },
  {
   "cell_type": "code",
   "execution_count": 96,
   "metadata": {},
   "outputs": [
    {
     "data": {
      "text/plain": [
       "['CRE',\n",
       " 'ATE',\n",
       " 'TAB',\n",
       " 'DEC',\n",
       " 'IMA',\n",
       " 'NUL',\n",
       " 'DEF',\n",
       " 'AUL',\n",
       " 'PRI',\n",
       " 'MAR',\n",
       " 'KEY',\n",
       " 'VAR',\n",
       " 'CHA',\n",
       " 'NUL',\n",
       " 'DEC',\n",
       " 'IMA',\n",
       " 'NUL',\n",
       " 'DEF',\n",
       " 'AUL',\n",
       " 'DEC',\n",
       " 'IMA',\n",
       " 'NUL',\n",
       " 'UNI',\n",
       " 'QUE',\n",
       " 'CRE',\n",
       " 'ATE',\n",
       " 'TAB',\n",
       " 'VAR',\n",
       " 'CHA',\n",
       " 'UNI',\n",
       " 'QUE',\n",
       " 'NUL',\n",
       " 'PRI',\n",
       " 'MAR',\n",
       " 'KEY',\n",
       " 'VAR',\n",
       " 'CHA',\n",
       " 'NUL',\n",
       " 'VAR',\n",
       " 'CHA',\n",
       " 'NUL',\n",
       " 'VAR',\n",
       " 'CHA',\n",
       " 'VAR',\n",
       " 'CHA',\n",
       " 'DAT',\n",
       " 'NUL',\n",
       " 'VAR',\n",
       " 'CHA',\n",
       " 'NUL',\n",
       " 'DEC',\n",
       " 'IMA',\n",
       " 'NUL',\n",
       " 'DEC',\n",
       " 'IMA',\n",
       " 'DEC',\n",
       " 'IMA',\n",
       " 'NUL',\n",
       " 'DEF',\n",
       " 'AUL',\n",
       " 'DEC',\n",
       " 'IMA',\n",
       " 'NUL',\n",
       " 'DEF',\n",
       " 'AUL',\n",
       " 'FOR',\n",
       " 'EIG',\n",
       " 'KEY',\n",
       " 'REF',\n",
       " 'ERE',\n",
       " 'NCE',\n",
       " 'FOR',\n",
       " 'EIG',\n",
       " 'KEY',\n",
       " 'REF',\n",
       " 'ERE',\n",
       " 'NCE']"
      ]
     },
     "execution_count": 96,
     "metadata": {},
     "output_type": "execute_result"
    }
   ],
   "source": [
    "df_upword['Upper Case Words'][33]"
   ]
  },
  {
   "cell_type": "code",
   "execution_count": 97,
   "metadata": {},
   "outputs": [],
   "source": [
    "abb = {}\n",
    "for word in df_upword['Upper Case Words'][33]:\n",
    "    if word in abb.keys():\n",
    "        abb[word] += 1\n",
    "    else:\n",
    "        abb[word] = 1"
   ]
  },
  {
   "cell_type": "code",
   "execution_count": 98,
   "metadata": {},
   "outputs": [
    {
     "data": {
      "text/plain": [
       "{'CRE': 2,\n",
       " 'ATE': 2,\n",
       " 'TAB': 2,\n",
       " 'DEC': 7,\n",
       " 'IMA': 7,\n",
       " 'NUL': 12,\n",
       " 'DEF': 4,\n",
       " 'AUL': 4,\n",
       " 'PRI': 2,\n",
       " 'MAR': 2,\n",
       " 'KEY': 4,\n",
       " 'VAR': 7,\n",
       " 'CHA': 7,\n",
       " 'UNI': 2,\n",
       " 'QUE': 2,\n",
       " 'DAT': 1,\n",
       " 'FOR': 2,\n",
       " 'EIG': 2,\n",
       " 'REF': 2,\n",
       " 'ERE': 2,\n",
       " 'NCE': 2}"
      ]
     },
     "execution_count": 98,
     "metadata": {},
     "output_type": "execute_result"
    }
   ],
   "source": [
    "abb"
   ]
  },
  {
   "cell_type": "markdown",
   "metadata": {},
   "source": [
    "# The ones that looks legilible to me are: \n",
    "'CRE',\n",
    " 'ATE',\n",
    " 'TAB',\n",
    " **'DEC'**,\n",
    " **'IMA'**,\n",
    " **'NUL'**,\n",
    " 'DEF',\n",
    " 'AUL',\n",
    " 'PRI',\n",
    " 'MAR',\n",
    " 'KEY',\n",
    " **'VAR',\n",
    " 'CHA',**\n",
    " 'UNI',\n",
    " 'QUE',\n",
    " 'DAT',\n",
    " 'FOR',\n",
    " 'EIG',\n",
    " 'REF',\n",
    " 'ERE',\n",
    " 'NCE'}\n",
    "**The ones that looks leg**"
   ]
  },
  {
   "cell_type": "code",
   "execution_count": null,
   "metadata": {},
   "outputs": [],
   "source": []
  }
 ],
 "metadata": {
  "kernelspec": {
   "display_name": "Python 3",
   "language": "python",
   "name": "python3"
  },
  "language_info": {
   "codemirror_mode": {
    "name": "ipython",
    "version": 3
   },
   "file_extension": ".py",
   "mimetype": "text/x-python",
   "name": "python",
   "nbconvert_exporter": "python",
   "pygments_lexer": "ipython3",
   "version": "3.8.5"
  }
 },
 "nbformat": 4,
 "nbformat_minor": 4
}
